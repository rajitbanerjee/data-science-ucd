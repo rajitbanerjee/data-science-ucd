{
 "cells": [
  {
   "cell_type": "markdown",
   "id": "3bf882d1",
   "metadata": {},
   "source": [
    "# Assignment 2: Adult Census Income\n",
    "\n",
    "**Module:** COMP47490 Machine Learning, Autumn 2021  \n",
    "**Student:** Rajit Banerjee, 18202817  \n",
    "**Data:** `../data/US_Census_18202817.csv` (source of sample: https://archive.ics.uci.edu/ml/datasets/adult)"
   ]
  },
  {
   "cell_type": "markdown",
   "id": "7bb04259",
   "metadata": {},
   "source": [
    "**Problem statement**: \n",
    "- Given a sample of the [Adult Census Income dataset](https://archive.ics.uci.edu/ml/datasets/adult), the objective is to use the ensemble learning functionality to identify the extent to which classification performance can be improved through the combination of multiple models.\n",
    "- The data contains 14 attributes including age, race, sex, marital status etc, and the goal is to predict whether the individual earns over $50K per year."
   ]
  },
  {
   "cell_type": "markdown",
   "id": "2646e35b",
   "metadata": {},
   "source": [
    "Import all required packages."
   ]
  },
  {
   "cell_type": "code",
   "execution_count": 1,
   "id": "f1b42dc5",
   "metadata": {},
   "outputs": [],
   "source": [
    "import pandas as pd\n",
    "import numpy as np\n",
    "import seaborn as sns\n",
    "import matplotlib.pyplot as plt\n",
    "\n",
    "# **scikit-learn: version 1.0.1**\n",
    "from sklearn.model_selection import train_test_split, GridSearchCV, StratifiedKFold, cross_val_score\n",
    "from sklearn.tree import DecisionTreeClassifier\n",
    "from sklearn.neural_network import MLPClassifier\n",
    "from sklearn.neighbors import KNeighborsClassifier\n",
    "from sklearn.dummy import DummyClassifier\n",
    "from sklearn.metrics import ConfusionMatrixDisplay, RocCurveDisplay\n",
    "from sklearn.ensemble import BaggingClassifier\n",
    "\n",
    "# **imbalanced-learn: version 0.8.1**\n",
    "from imblearn.over_sampling import SMOTE\n",
    "\n",
    "%matplotlib inline"
   ]
  },
  {
   "cell_type": "markdown",
   "id": "dc454bda",
   "metadata": {},
   "source": [
    "## 1A: Data Preparation"
   ]
  },
  {
   "cell_type": "markdown",
   "id": "d9facec4",
   "metadata": {},
   "source": [
    "### 1. Load and explore data"
   ]
  },
  {
   "cell_type": "code",
   "execution_count": 2,
   "id": "9f7954be",
   "metadata": {},
   "outputs": [
    {
     "name": "stdout",
     "output_type": "stream",
     "text": [
      "CPU times: user 4.69 ms, sys: 1.29 ms, total: 5.97 ms\n",
      "Wall time: 6.97 ms\n"
     ]
    },
    {
     "data": {
      "text/html": [
       "<div>\n",
       "<style scoped>\n",
       "    .dataframe tbody tr th:only-of-type {\n",
       "        vertical-align: middle;\n",
       "    }\n",
       "\n",
       "    .dataframe tbody tr th {\n",
       "        vertical-align: top;\n",
       "    }\n",
       "\n",
       "    .dataframe thead th {\n",
       "        text-align: right;\n",
       "    }\n",
       "</style>\n",
       "<table border=\"1\" class=\"dataframe\">\n",
       "  <thead>\n",
       "    <tr style=\"text-align: right;\">\n",
       "      <th></th>\n",
       "      <th>age</th>\n",
       "      <th>workclass</th>\n",
       "      <th>fnlwgt</th>\n",
       "      <th>education</th>\n",
       "      <th>education-num</th>\n",
       "      <th>marital-status</th>\n",
       "      <th>occupation</th>\n",
       "      <th>relationship</th>\n",
       "      <th>race</th>\n",
       "      <th>sex</th>\n",
       "      <th>capital-gain</th>\n",
       "      <th>capital-loss</th>\n",
       "      <th>hours-per-week</th>\n",
       "      <th>native-country</th>\n",
       "      <th>Income-category</th>\n",
       "    </tr>\n",
       "  </thead>\n",
       "  <tbody>\n",
       "    <tr>\n",
       "      <th>0</th>\n",
       "      <td>60</td>\n",
       "      <td>Private</td>\n",
       "      <td>225014</td>\n",
       "      <td>HS-grad</td>\n",
       "      <td>9</td>\n",
       "      <td>Divorced</td>\n",
       "      <td>Other-service</td>\n",
       "      <td>Not-in-family</td>\n",
       "      <td>White</td>\n",
       "      <td>Female</td>\n",
       "      <td>0</td>\n",
       "      <td>0</td>\n",
       "      <td>40</td>\n",
       "      <td>United-States</td>\n",
       "      <td>&lt;=50K</td>\n",
       "    </tr>\n",
       "    <tr>\n",
       "      <th>1</th>\n",
       "      <td>34</td>\n",
       "      <td>Private</td>\n",
       "      <td>196164</td>\n",
       "      <td>HS-grad</td>\n",
       "      <td>9</td>\n",
       "      <td>Never-married</td>\n",
       "      <td>Other-service</td>\n",
       "      <td>Not-in-family</td>\n",
       "      <td>White</td>\n",
       "      <td>Female</td>\n",
       "      <td>0</td>\n",
       "      <td>0</td>\n",
       "      <td>35</td>\n",
       "      <td>United-States</td>\n",
       "      <td>&lt;=50K</td>\n",
       "    </tr>\n",
       "    <tr>\n",
       "      <th>2</th>\n",
       "      <td>25</td>\n",
       "      <td>Private</td>\n",
       "      <td>184698</td>\n",
       "      <td>10th</td>\n",
       "      <td>6</td>\n",
       "      <td>Never-married</td>\n",
       "      <td>Machine-op-inspct</td>\n",
       "      <td>Not-in-family</td>\n",
       "      <td>White</td>\n",
       "      <td>Male</td>\n",
       "      <td>0</td>\n",
       "      <td>0</td>\n",
       "      <td>40</td>\n",
       "      <td>Dominican-Republic</td>\n",
       "      <td>&lt;=50K</td>\n",
       "    </tr>\n",
       "    <tr>\n",
       "      <th>3</th>\n",
       "      <td>29</td>\n",
       "      <td>Federal-gov</td>\n",
       "      <td>41013</td>\n",
       "      <td>Prof-school</td>\n",
       "      <td>15</td>\n",
       "      <td>Never-married</td>\n",
       "      <td>Prof-specialty</td>\n",
       "      <td>Not-in-family</td>\n",
       "      <td>White</td>\n",
       "      <td>Female</td>\n",
       "      <td>0</td>\n",
       "      <td>0</td>\n",
       "      <td>55</td>\n",
       "      <td>United-States</td>\n",
       "      <td>&lt;=50K</td>\n",
       "    </tr>\n",
       "    <tr>\n",
       "      <th>4</th>\n",
       "      <td>27</td>\n",
       "      <td>Private</td>\n",
       "      <td>193898</td>\n",
       "      <td>Bachelors</td>\n",
       "      <td>13</td>\n",
       "      <td>Married-civ-spouse</td>\n",
       "      <td>Sales</td>\n",
       "      <td>Husband</td>\n",
       "      <td>White</td>\n",
       "      <td>Male</td>\n",
       "      <td>0</td>\n",
       "      <td>0</td>\n",
       "      <td>45</td>\n",
       "      <td>United-States</td>\n",
       "      <td>&gt;50K</td>\n",
       "    </tr>\n",
       "  </tbody>\n",
       "</table>\n",
       "</div>"
      ],
      "text/plain": [
       "   age     workclass   fnlwgt     education   education-num  \\\n",
       "0   60       Private   225014       HS-grad               9   \n",
       "1   34       Private   196164       HS-grad               9   \n",
       "2   25       Private   184698          10th               6   \n",
       "3   29   Federal-gov    41013   Prof-school              15   \n",
       "4   27       Private   193898     Bachelors              13   \n",
       "\n",
       "        marital-status          occupation    relationship    race      sex  \\\n",
       "0             Divorced       Other-service   Not-in-family   White   Female   \n",
       "1        Never-married       Other-service   Not-in-family   White   Female   \n",
       "2        Never-married   Machine-op-inspct   Not-in-family   White     Male   \n",
       "3        Never-married      Prof-specialty   Not-in-family   White   Female   \n",
       "4   Married-civ-spouse               Sales         Husband   White     Male   \n",
       "\n",
       "    capital-gain   capital-loss   hours-per-week       native-country  \\\n",
       "0              0              0               40        United-States   \n",
       "1              0              0               35        United-States   \n",
       "2              0              0               40   Dominican-Republic   \n",
       "3              0              0               55        United-States   \n",
       "4              0              0               45        United-States   \n",
       "\n",
       "   Income-category  \n",
       "0            <=50K  \n",
       "1            <=50K  \n",
       "2            <=50K  \n",
       "3            <=50K  \n",
       "4             >50K  "
      ]
     },
     "execution_count": 2,
     "metadata": {},
     "output_type": "execute_result"
    }
   ],
   "source": [
    "%%time\n",
    "df = pd.read_csv(\"../data/US_Census_18202817.csv\")\n",
    "df_raw = df.copy()\n",
    "df.head()"
   ]
  },
  {
   "cell_type": "code",
   "execution_count": 3,
   "id": "b36b7ceb",
   "metadata": {},
   "outputs": [
    {
     "data": {
      "text/plain": [
       "(5000, 15)"
      ]
     },
     "execution_count": 3,
     "metadata": {},
     "output_type": "execute_result"
    }
   ],
   "source": [
    "df.shape"
   ]
  },
  {
   "cell_type": "markdown",
   "id": "d97761ad",
   "metadata": {},
   "source": [
    "The dataset has 5000 observations, 14 predictor features and 1 target."
   ]
  },
  {
   "cell_type": "markdown",
   "id": "4b2eae94",
   "metadata": {},
   "source": [
    "Descriptive statistics for numerical features:"
   ]
  },
  {
   "cell_type": "code",
   "execution_count": 4,
   "id": "932687d6",
   "metadata": {},
   "outputs": [
    {
     "data": {
      "text/html": [
       "<div>\n",
       "<style scoped>\n",
       "    .dataframe tbody tr th:only-of-type {\n",
       "        vertical-align: middle;\n",
       "    }\n",
       "\n",
       "    .dataframe tbody tr th {\n",
       "        vertical-align: top;\n",
       "    }\n",
       "\n",
       "    .dataframe thead th {\n",
       "        text-align: right;\n",
       "    }\n",
       "</style>\n",
       "<table border=\"1\" class=\"dataframe\">\n",
       "  <thead>\n",
       "    <tr style=\"text-align: right;\">\n",
       "      <th></th>\n",
       "      <th>count</th>\n",
       "      <th>mean</th>\n",
       "      <th>std</th>\n",
       "      <th>min</th>\n",
       "      <th>25%</th>\n",
       "      <th>50%</th>\n",
       "      <th>75%</th>\n",
       "      <th>max</th>\n",
       "    </tr>\n",
       "  </thead>\n",
       "  <tbody>\n",
       "    <tr>\n",
       "      <th>age</th>\n",
       "      <td>5000.0</td>\n",
       "      <td>38.5146</td>\n",
       "      <td>13.499475</td>\n",
       "      <td>17.0</td>\n",
       "      <td>28.00</td>\n",
       "      <td>37.0</td>\n",
       "      <td>47.25</td>\n",
       "      <td>90.0</td>\n",
       "    </tr>\n",
       "    <tr>\n",
       "      <th>fnlwgt</th>\n",
       "      <td>5000.0</td>\n",
       "      <td>190610.7524</td>\n",
       "      <td>111696.961238</td>\n",
       "      <td>18827.0</td>\n",
       "      <td>117358.75</td>\n",
       "      <td>177948.0</td>\n",
       "      <td>239581.25</td>\n",
       "      <td>1484705.0</td>\n",
       "    </tr>\n",
       "    <tr>\n",
       "      <th>education-num</th>\n",
       "      <td>5000.0</td>\n",
       "      <td>10.0304</td>\n",
       "      <td>2.584107</td>\n",
       "      <td>1.0</td>\n",
       "      <td>9.00</td>\n",
       "      <td>10.0</td>\n",
       "      <td>12.00</td>\n",
       "      <td>16.0</td>\n",
       "    </tr>\n",
       "    <tr>\n",
       "      <th>capital-gain</th>\n",
       "      <td>5000.0</td>\n",
       "      <td>1097.0114</td>\n",
       "      <td>7713.004802</td>\n",
       "      <td>0.0</td>\n",
       "      <td>0.00</td>\n",
       "      <td>0.0</td>\n",
       "      <td>0.00</td>\n",
       "      <td>99999.0</td>\n",
       "    </tr>\n",
       "    <tr>\n",
       "      <th>capital-loss</th>\n",
       "      <td>5000.0</td>\n",
       "      <td>85.6324</td>\n",
       "      <td>400.497188</td>\n",
       "      <td>0.0</td>\n",
       "      <td>0.00</td>\n",
       "      <td>0.0</td>\n",
       "      <td>0.00</td>\n",
       "      <td>3900.0</td>\n",
       "    </tr>\n",
       "    <tr>\n",
       "      <th>hours-per-week</th>\n",
       "      <td>5000.0</td>\n",
       "      <td>40.5162</td>\n",
       "      <td>12.674978</td>\n",
       "      <td>1.0</td>\n",
       "      <td>40.00</td>\n",
       "      <td>40.0</td>\n",
       "      <td>45.00</td>\n",
       "      <td>99.0</td>\n",
       "    </tr>\n",
       "  </tbody>\n",
       "</table>\n",
       "</div>"
      ],
      "text/plain": [
       "                  count         mean            std      min        25%  \\\n",
       "age              5000.0      38.5146      13.499475     17.0      28.00   \n",
       " fnlwgt          5000.0  190610.7524  111696.961238  18827.0  117358.75   \n",
       " education-num   5000.0      10.0304       2.584107      1.0       9.00   \n",
       " capital-gain    5000.0    1097.0114    7713.004802      0.0       0.00   \n",
       " capital-loss    5000.0      85.6324     400.497188      0.0       0.00   \n",
       " hours-per-week  5000.0      40.5162      12.674978      1.0      40.00   \n",
       "\n",
       "                      50%        75%        max  \n",
       "age                  37.0      47.25       90.0  \n",
       " fnlwgt          177948.0  239581.25  1484705.0  \n",
       " education-num       10.0      12.00       16.0  \n",
       " capital-gain         0.0       0.00    99999.0  \n",
       " capital-loss         0.0       0.00     3900.0  \n",
       " hours-per-week      40.0      45.00       99.0  "
      ]
     },
     "execution_count": 4,
     "metadata": {},
     "output_type": "execute_result"
    }
   ],
   "source": [
    "df.describe().T"
   ]
  },
  {
   "cell_type": "code",
   "execution_count": 5,
   "id": "34ad6e80",
   "metadata": {},
   "outputs": [
    {
     "name": "stdout",
     "output_type": "stream",
     "text": [
      "<class 'pandas.core.frame.DataFrame'>\n",
      "RangeIndex: 5000 entries, 0 to 4999\n",
      "Data columns (total 15 columns):\n",
      " #   Column            Non-Null Count  Dtype \n",
      "---  ------            --------------  ----- \n",
      " 0   age               5000 non-null   int64 \n",
      " 1    workclass        5000 non-null   object\n",
      " 2    fnlwgt           5000 non-null   int64 \n",
      " 3    education        5000 non-null   object\n",
      " 4    education-num    5000 non-null   int64 \n",
      " 5    marital-status   5000 non-null   object\n",
      " 6    occupation       5000 non-null   object\n",
      " 7    relationship     5000 non-null   object\n",
      " 8    race             5000 non-null   object\n",
      " 9    sex              5000 non-null   object\n",
      " 10   capital-gain     5000 non-null   int64 \n",
      " 11   capital-loss     5000 non-null   int64 \n",
      " 12   hours-per-week   5000 non-null   int64 \n",
      " 13   native-country   5000 non-null   object\n",
      " 14   Income-category  5000 non-null   object\n",
      "dtypes: int64(6), object(9)\n",
      "memory usage: 586.1+ KB\n"
     ]
    }
   ],
   "source": [
    "df.info()"
   ]
  },
  {
   "cell_type": "markdown",
   "id": "b30c794d",
   "metadata": {},
   "source": [
    "Preliminary inspection suggests that no missing values exist."
   ]
  },
  {
   "cell_type": "markdown",
   "id": "6b2eeec7",
   "metadata": {},
   "source": [
    "The UCI Machine Learning Repository provides some information about the various attributes:\n",
    "\n",
    "Listing of attributes: \n",
    "\n",
    "- `age`: continuous.  \n",
    "- `workclass`: Private, Self-emp-not-inc, Self-emp-inc, Federal-gov, Local-gov, State-gov, Without-pay, Never-worked.  \n",
    "- `fnlwgt`: continuous.   \n",
    "- `education`: Bachelors, Some-college, 11th, HS-grad, Prof-school, Assoc-acdm, Assoc-voc, 9th, 7th-8th, 12th, Masters, 1st-4th, 10th, Doctorate, 5th-6th, Preschool.  \n",
    "- `education-num`: continuous.   \n",
    "- `marital-status`: Married-civ-spouse, Divorced, Never-married, Separated, Widowed, Married-spouse-absent, Married-AF-spouse.   \n",
    "- `occupation`: Tech-support, Craft-repair, Other-service, Sales, Exec-managerial, Prof-specialty, Handlers-cleaners, Machine-op-inspct, Adm-clerical, Farming-fishing, Transport-moving, Priv-house-serv, Protective-serv, Armed-Forces.  \n",
    "- `relationship`: Wife, Own-child, Husband, Not-in-family, Other-relative, Unmarried. \n",
    "- `race`: White, Asian-Pac-Islander, Amer-Indian-Eskimo, Other, Black. \n",
    "- `sex`: Female, Male.  \n",
    "- `capital-gain`: continuous.   \n",
    "- `capital-loss`: continuous.   \n",
    "- `hours-per-week`: continuous.   \n",
    "- `native-country`: United-States, Cambodia, England, Puerto-Rico, Canada, Germany, Outlying-US(Guam-USVI-etc), India, Japan, Greece, South, China, Cuba, Iran, Honduras, Philippines, Italy, Poland, Jamaica, Vietnam, Mexico, Portugal, Ireland, France, Dominican-Republic, Laos, Ecuador, Taiwan, Haiti, Columbia, Hungary, Guatemala, Nicaragua, Scotland, Thailand, Yugoslavia, El-Salvador, Trinadad&Tobago, Peru, Hong, Holand-Netherlands.\n",
    "- `Income-category`: `>50K, <=50K`. "
   ]
  },
  {
   "cell_type": "markdown",
   "id": "d80ffca0",
   "metadata": {},
   "source": [
    "### 2. Trim white space\n",
    "\n",
    "Clean the column names to remove extra white space."
   ]
  },
  {
   "cell_type": "code",
   "execution_count": 6,
   "id": "0208a45d",
   "metadata": {
    "scrolled": true
   },
   "outputs": [
    {
     "data": {
      "text/plain": [
       "Index(['age', 'workclass', 'fnlwgt', 'education', 'education-num',\n",
       "       'marital-status', 'occupation', 'relationship', 'race', 'sex',\n",
       "       'capital-gain', 'capital-loss', 'hours-per-week', 'native-country',\n",
       "       'Income-category'],\n",
       "      dtype='object')"
      ]
     },
     "execution_count": 6,
     "metadata": {},
     "output_type": "execute_result"
    }
   ],
   "source": [
    "df.columns = df.columns.str.strip()\n",
    "df.columns"
   ]
  },
  {
   "cell_type": "markdown",
   "id": "a4763a78",
   "metadata": {},
   "source": [
    "Remove leading or trailing white space from all string (object) type attributes."
   ]
  },
  {
   "cell_type": "code",
   "execution_count": 7,
   "id": "09016689",
   "metadata": {},
   "outputs": [],
   "source": [
    "for col in df.select_dtypes([\"object\"]):\n",
    "    df[col] = df[col].str.strip()"
   ]
  },
  {
   "cell_type": "markdown",
   "id": "b092f7ab",
   "metadata": {},
   "source": [
    "### 3. Check for duplicates"
   ]
  },
  {
   "cell_type": "code",
   "execution_count": 8,
   "id": "aabb7809",
   "metadata": {},
   "outputs": [
    {
     "data": {
      "text/html": [
       "<div>\n",
       "<style scoped>\n",
       "    .dataframe tbody tr th:only-of-type {\n",
       "        vertical-align: middle;\n",
       "    }\n",
       "\n",
       "    .dataframe tbody tr th {\n",
       "        vertical-align: top;\n",
       "    }\n",
       "\n",
       "    .dataframe thead th {\n",
       "        text-align: right;\n",
       "    }\n",
       "</style>\n",
       "<table border=\"1\" class=\"dataframe\">\n",
       "  <thead>\n",
       "    <tr style=\"text-align: right;\">\n",
       "      <th></th>\n",
       "      <th>age</th>\n",
       "      <th>workclass</th>\n",
       "      <th>fnlwgt</th>\n",
       "      <th>education</th>\n",
       "      <th>education-num</th>\n",
       "      <th>marital-status</th>\n",
       "      <th>occupation</th>\n",
       "      <th>relationship</th>\n",
       "      <th>race</th>\n",
       "      <th>sex</th>\n",
       "      <th>capital-gain</th>\n",
       "      <th>capital-loss</th>\n",
       "      <th>hours-per-week</th>\n",
       "      <th>native-country</th>\n",
       "      <th>Income-category</th>\n",
       "    </tr>\n",
       "  </thead>\n",
       "  <tbody>\n",
       "  </tbody>\n",
       "</table>\n",
       "</div>"
      ],
      "text/plain": [
       "Empty DataFrame\n",
       "Columns: [age, workclass, fnlwgt, education, education-num, marital-status, occupation, relationship, race, sex, capital-gain, capital-loss, hours-per-week, native-country, Income-category]\n",
       "Index: []"
      ]
     },
     "execution_count": 8,
     "metadata": {},
     "output_type": "execute_result"
    }
   ],
   "source": [
    "# Check rows\n",
    "df[df.duplicated(keep=False)]"
   ]
  },
  {
   "cell_type": "code",
   "execution_count": 9,
   "id": "fac5a41c",
   "metadata": {},
   "outputs": [
    {
     "data": {
      "text/html": [
       "<div>\n",
       "<style scoped>\n",
       "    .dataframe tbody tr th:only-of-type {\n",
       "        vertical-align: middle;\n",
       "    }\n",
       "\n",
       "    .dataframe tbody tr th {\n",
       "        vertical-align: top;\n",
       "    }\n",
       "\n",
       "    .dataframe thead th {\n",
       "        text-align: right;\n",
       "    }\n",
       "</style>\n",
       "<table border=\"1\" class=\"dataframe\">\n",
       "  <thead>\n",
       "    <tr style=\"text-align: right;\">\n",
       "      <th></th>\n",
       "      <th>0</th>\n",
       "      <th>1</th>\n",
       "      <th>2</th>\n",
       "      <th>3</th>\n",
       "      <th>4</th>\n",
       "      <th>5</th>\n",
       "      <th>6</th>\n",
       "      <th>7</th>\n",
       "      <th>8</th>\n",
       "      <th>9</th>\n",
       "      <th>...</th>\n",
       "      <th>4990</th>\n",
       "      <th>4991</th>\n",
       "      <th>4992</th>\n",
       "      <th>4993</th>\n",
       "      <th>4994</th>\n",
       "      <th>4995</th>\n",
       "      <th>4996</th>\n",
       "      <th>4997</th>\n",
       "      <th>4998</th>\n",
       "      <th>4999</th>\n",
       "    </tr>\n",
       "  </thead>\n",
       "  <tbody>\n",
       "  </tbody>\n",
       "</table>\n",
       "<p>0 rows × 5000 columns</p>\n",
       "</div>"
      ],
      "text/plain": [
       "Empty DataFrame\n",
       "Columns: [0, 1, 2, 3, 4, 5, 6, 7, 8, 9, 10, 11, 12, 13, 14, 15, 16, 17, 18, 19, 20, 21, 22, 23, 24, 25, 26, 27, 28, 29, 30, 31, 32, 33, 34, 35, 36, 37, 38, 39, 40, 41, 42, 43, 44, 45, 46, 47, 48, 49, 50, 51, 52, 53, 54, 55, 56, 57, 58, 59, 60, 61, 62, 63, 64, 65, 66, 67, 68, 69, 70, 71, 72, 73, 74, 75, 76, 77, 78, 79, 80, 81, 82, 83, 84, 85, 86, 87, 88, 89, 90, 91, 92, 93, 94, 95, 96, 97, 98, 99, ...]\n",
       "Index: []\n",
       "\n",
       "[0 rows x 5000 columns]"
      ]
     },
     "execution_count": 9,
     "metadata": {},
     "output_type": "execute_result"
    }
   ],
   "source": [
    "# Check columns\n",
    "dfT = df.T  # transpose dataframe and perform same check as done for rows\n",
    "dfT[dfT.duplicated(keep=False)]"
   ]
  },
  {
   "cell_type": "markdown",
   "id": "bad91384",
   "metadata": {},
   "source": [
    "No rows or columns in the dataset are duplicated."
   ]
  },
  {
   "cell_type": "markdown",
   "id": "d00da1da",
   "metadata": {},
   "source": [
    "### 4. Check for constant columns"
   ]
  },
  {
   "cell_type": "code",
   "execution_count": 10,
   "id": "9e65fedf",
   "metadata": {},
   "outputs": [
    {
     "data": {
      "text/html": [
       "<div>\n",
       "<style scoped>\n",
       "    .dataframe tbody tr th:only-of-type {\n",
       "        vertical-align: middle;\n",
       "    }\n",
       "\n",
       "    .dataframe tbody tr th {\n",
       "        vertical-align: top;\n",
       "    }\n",
       "\n",
       "    .dataframe thead th {\n",
       "        text-align: right;\n",
       "    }\n",
       "</style>\n",
       "<table border=\"1\" class=\"dataframe\">\n",
       "  <thead>\n",
       "    <tr style=\"text-align: right;\">\n",
       "      <th></th>\n",
       "      <th>count</th>\n",
       "      <th>unique</th>\n",
       "      <th>top</th>\n",
       "      <th>freq</th>\n",
       "    </tr>\n",
       "  </thead>\n",
       "  <tbody>\n",
       "    <tr>\n",
       "      <th>workclass</th>\n",
       "      <td>5000</td>\n",
       "      <td>9</td>\n",
       "      <td>Private</td>\n",
       "      <td>3448</td>\n",
       "    </tr>\n",
       "    <tr>\n",
       "      <th>education</th>\n",
       "      <td>5000</td>\n",
       "      <td>16</td>\n",
       "      <td>HS-grad</td>\n",
       "      <td>1634</td>\n",
       "    </tr>\n",
       "    <tr>\n",
       "      <th>marital-status</th>\n",
       "      <td>5000</td>\n",
       "      <td>7</td>\n",
       "      <td>Married-civ-spouse</td>\n",
       "      <td>2331</td>\n",
       "    </tr>\n",
       "    <tr>\n",
       "      <th>occupation</th>\n",
       "      <td>5000</td>\n",
       "      <td>15</td>\n",
       "      <td>Craft-repair</td>\n",
       "      <td>652</td>\n",
       "    </tr>\n",
       "    <tr>\n",
       "      <th>relationship</th>\n",
       "      <td>5000</td>\n",
       "      <td>6</td>\n",
       "      <td>Husband</td>\n",
       "      <td>2084</td>\n",
       "    </tr>\n",
       "    <tr>\n",
       "      <th>race</th>\n",
       "      <td>5000</td>\n",
       "      <td>5</td>\n",
       "      <td>White</td>\n",
       "      <td>4266</td>\n",
       "    </tr>\n",
       "    <tr>\n",
       "      <th>sex</th>\n",
       "      <td>5000</td>\n",
       "      <td>2</td>\n",
       "      <td>Male</td>\n",
       "      <td>3381</td>\n",
       "    </tr>\n",
       "    <tr>\n",
       "      <th>native-country</th>\n",
       "      <td>5000</td>\n",
       "      <td>38</td>\n",
       "      <td>United-States</td>\n",
       "      <td>4487</td>\n",
       "    </tr>\n",
       "    <tr>\n",
       "      <th>Income-category</th>\n",
       "      <td>5000</td>\n",
       "      <td>2</td>\n",
       "      <td>&lt;=50K</td>\n",
       "      <td>3818</td>\n",
       "    </tr>\n",
       "  </tbody>\n",
       "</table>\n",
       "</div>"
      ],
      "text/plain": [
       "                count unique                 top  freq\n",
       "workclass        5000      9             Private  3448\n",
       "education        5000     16             HS-grad  1634\n",
       "marital-status   5000      7  Married-civ-spouse  2331\n",
       "occupation       5000     15        Craft-repair   652\n",
       "relationship     5000      6             Husband  2084\n",
       "race             5000      5               White  4266\n",
       "sex              5000      2                Male  3381\n",
       "native-country   5000     38       United-States  4487\n",
       "Income-category  5000      2               <=50K  3818"
      ]
     },
     "execution_count": 10,
     "metadata": {},
     "output_type": "execute_result"
    }
   ],
   "source": [
    "df.select_dtypes([\"object\"]).describe().T"
   ]
  },
  {
   "cell_type": "code",
   "execution_count": 11,
   "id": "a4fb73f5",
   "metadata": {},
   "outputs": [
    {
     "data": {
      "text/plain": [
       "age                  70\n",
       "workclass             9\n",
       "fnlwgt             4580\n",
       "education            16\n",
       "education-num        16\n",
       "marital-status        7\n",
       "occupation           15\n",
       "relationship          6\n",
       "race                  5\n",
       "sex                   2\n",
       "capital-gain         83\n",
       "capital-loss         56\n",
       "hours-per-week       78\n",
       "native-country       38\n",
       "Income-category       2\n",
       "dtype: int64"
      ]
     },
     "execution_count": 11,
     "metadata": {},
     "output_type": "execute_result"
    }
   ],
   "source": [
    "df.nunique()"
   ]
  },
  {
   "cell_type": "markdown",
   "id": "9b704af0",
   "metadata": {},
   "source": [
    "All categorical attributes have cardinality > 1, hence there are no constant columns in the dataset."
   ]
  },
  {
   "cell_type": "markdown",
   "id": "312cfe72",
   "metadata": {},
   "source": [
    "### 5. Data visualisation"
   ]
  },
  {
   "cell_type": "markdown",
   "id": "48a41998",
   "metadata": {},
   "source": [
    "A visual inspection of the distribution of variables will allow us to understand the dataset and spot any unusual observations."
   ]
  },
  {
   "cell_type": "markdown",
   "id": "321d9e68",
   "metadata": {},
   "source": [
    "**Bar charts** for object/string-valued (essentially categorical) variables:"
   ]
  },
  {
   "cell_type": "code",
   "execution_count": 12,
   "id": "aae6dada",
   "metadata": {
    "scrolled": false
   },
   "outputs": [
    {
     "data": {
      "image/png": "[encoded data removed]",
      "text/plain": [
       "<Figure size 720x216 with 1 Axes>"
      ]
     },
     "metadata": {
      "needs_background": "light"
     },
     "output_type": "display_data"
    },
    {
     "data": {
      "image/png": "[encoded data removed]",
      "text/plain": [
       "<Figure size 720x288 with 1 Axes>"
      ]
     },
     "metadata": {
      "needs_background": "light"
     },
     "output_type": "display_data"
    },
    {
     "data": {
      "image/png": "[encoded data removed]",
      "text/plain": [
       "<Figure size 720x216 with 1 Axes>"
      ]
     },
     "metadata": {
      "needs_background": "light"
     },
     "output_type": "display_data"
    },
    {
     "data": {
      "image/png": "[encoded data removed]",
      "text/plain": [
       "<Figure size 720x270 with 1 Axes>"
      ]
     },
     "metadata": {
      "needs_background": "light"
     },
     "output_type": "display_data"
    },
    {
     "data": {
      "image/png": "[encoded data removed]",
      "text/plain": [
       "<Figure size 720x216 with 1 Axes>"
      ]
     },
     "metadata": {
      "needs_background": "light"
     },
     "output_type": "display_data"
    },
    {
     "data": {
      "image/png": "[encoded data removed]",
      "text/plain": [
       "<Figure size 720x216 with 1 Axes>"
      ]
     },
     "metadata": {
      "needs_background": "light"
     },
     "output_type": "display_data"
    },
    {
     "data": {
      "image/png": "[encoded data removed]",
      "text/plain": [
       "<Figure size 720x216 with 1 Axes>"
      ]
     },
     "metadata": {
      "needs_background": "light"
     },
     "output_type": "display_data"
    },
    {
     "data": {
      "image/png": "[encoded data removed]",
      "text/plain": [
       "<Figure size 720x684 with 1 Axes>"
      ]
     },
     "metadata": {
      "needs_background": "light"
     },
     "output_type": "display_data"
    },
    {
     "data": {
      "image/png": "[encoded data removed]",
      "text/plain": [
       "<Figure size 720x216 with 1 Axes>"
      ]
     },
     "metadata": {
      "needs_background": "light"
     },
     "output_type": "display_data"
    }
   ],
   "source": [
    "for col in df.select_dtypes([\"object\"]).columns:\n",
    "    counts = df[col].value_counts(dropna=False)\n",
    "    n = len(counts)  \n",
    "    counts.plot(kind=\"barh\", title=col, figsize=(10, max(3, n/4)), fontsize=12, color=\"#820003\")\n",
    "    plt.show()"
   ]
  },
  {
   "cell_type": "markdown",
   "id": "0f129b99",
   "metadata": {},
   "source": [
    "Insights from bar charts:\n",
    "\n",
    "- Missing/unknown values exist in `workclass`, `occupation` and `native-country`, but they were hidden as `?` symbols (instead of nulls). \n",
    "- For the following attributes, generalisation would be appropriate (such as combining all minority groups) since the vast majority of observations belong to one group (dominant):\n",
    "    - `workclass` (dominant: `Private`)\n",
    "    - `race` (dominant: `White`)\n",
    "    - `native-country` (dominant: `United-States`)"
   ]
  },
  {
   "cell_type": "markdown",
   "id": "2110f775",
   "metadata": {},
   "source": [
    "**Histograms** for numerical variables:"
   ]
  },
  {
   "cell_type": "code",
   "execution_count": 13,
   "id": "6526f6dd",
   "metadata": {},
   "outputs": [
    {
     "data": {
      "image/png": "[encoded data removed]",
      "text/plain": [
       "<Figure size 1440x1800 with 8 Axes>"
      ]
     },
     "metadata": {
      "needs_background": "light"
     },
     "output_type": "display_data"
    }
   ],
   "source": [
    "df.hist(figsize=(20, 25), layout=(4, 2), color=\"#008080\");"
   ]
  },
  {
   "cell_type": "markdown",
   "id": "41972256",
   "metadata": {},
   "source": [
    "Insights from histograms:\n",
    "\n",
    "- As age increases beyond 40-45, the number of the observations drops rapidly.\n",
    "- The distributions for `capital-gain` and `capital-loss` are extremely right skewed.\n",
    "- The majority of `hours-per-week` observations lie between 30-40 hours."
   ]
  },
  {
   "cell_type": "code",
   "execution_count": 14,
   "id": "dfd16d8e",
   "metadata": {
    "scrolled": true
   },
   "outputs": [
    {
     "data": {
      "text/plain": [
       "Index(['age', 'workclass', 'fnlwgt', 'education', 'education-num',\n",
       "       'marital-status', 'occupation', 'relationship', 'race', 'sex',\n",
       "       'capital-gain', 'capital-loss', 'hours-per-week', 'native-country',\n",
       "       'Income-category'],\n",
       "      dtype='object')"
      ]
     },
     "execution_count": 14,
     "metadata": {},
     "output_type": "execute_result"
    }
   ],
   "source": [
    "df.columns"
   ]
  },
  {
   "cell_type": "markdown",
   "id": "867c1ab9",
   "metadata": {},
   "source": [
    "### 6. Feature correlations"
   ]
  },
  {
   "cell_type": "code",
   "execution_count": 15,
   "id": "d9a178ec",
   "metadata": {},
   "outputs": [
    {
     "data": {
      "image/png": "[encoded data removed]",
      "text/plain": [
       "<Figure size 648x504 with 2 Axes>"
      ]
     },
     "metadata": {
      "needs_background": "light"
     },
     "output_type": "display_data"
    }
   ],
   "source": [
    "# Convert target class to a binary variable\n",
    "df[\"Income-category\"] = df[\"Income-category\"].map({\">50K\": 1, \"<=50K\": 0})\n",
    "\n",
    "plt.figure(figsize=(9, 7))\n",
    "sns.heatmap(data=df.corr(), annot=True, fmt = \".2f\")\n",
    "plt.show()"
   ]
  },
  {
   "cell_type": "markdown",
   "id": "4bc58339",
   "metadata": {},
   "source": [
    "- The above heatmap shows that none of the features have a particularly high linear correlation with the target `Income-category`.\n",
    "- The `fnlwgt` attribute's negligible correlation score with the target stands out above."
   ]
  },
  {
   "cell_type": "markdown",
   "id": "87a39a1f",
   "metadata": {},
   "source": [
    "### 7. Data quality and encoding plan\n",
    "\n",
    "Any data types that need to be changed are expressed in the format `old_type -> new_type`.\n",
    "\n",
    "| No. | Feature | Data type | Plan of action |\n",
    "| --- | --- | --- | --- |\n",
    "| 01 | `age` | `int64` | Group into intervals. Apply ordinal encoding. |\n",
    "| 02 | `workclass` | `object -> uint8` | Replace `?` with NaN. One dominant group exists: convert to binary variable, 1 if Private, else 0. |\n",
    "| 03 | `fnlwgt` | `int64` | This is the number of people the census believes the entry represents. Too many distinct values and no linear correlation with target. **Drop** column. |\n",
    "| 04 | `education` | `object -> int64` | Regroup levels of education. Apply ordinal encoding. |\n",
    "| 05 | `education-num` | `int64` | Required information is already presented as (and regrouped with) `education`. **Drop** column.  |\n",
    "| 06 | `marital-status` | `object -> uint8` | Apply one-hot encoding.  |\n",
    "| 07 | `occupation` | `object -> uint8` | Replace `?` with NaN. Apply one-hot encoding. |\n",
    "| 08 | `relationship` | `object -> uint8` | Apply one-hot encoding. |\n",
    "| 09 | `race` | `object -> uint8` | One dominant group exists: convert to binary variable, 1 if White, else 0. |\n",
    "| 10 | `sex` | `object -> uint8` | Binary encode as 1 if Male, else 0. |\n",
    "| 11 | `capital-gain` | `int64` | Highly skewed distribution. Explore further. |\n",
    "| 12 | `capital-loss` | `int64` | Highly skewed distribution. Explore further. |\n",
    "| 13 | `hours-per-week` | `int64` | Usual hours per week are around 30-40. Data can be grouped into 3 buckets: less than 30, 30 to 40, over 40. Then, apply ordinal encoding. |\n",
    "| 14 | `native-country` | `object -> uint8` | Replace `?` with NaN. One dominant group exists: convert to binary variable, 1 if United-States, else 0. |"
   ]
  },
  {
   "cell_type": "markdown",
   "id": "d1fb5076",
   "metadata": {},
   "source": [
    "### 8. Deal with redundancy and unknowns\n",
    "\n",
    "We can drop the `fnlwgt` attribute, as explained in the plan table. Moreover, although we initially thought that no values were missing, they were essentially hidden as `?`, which can now be converted to `NaN`."
   ]
  },
  {
   "cell_type": "code",
   "execution_count": 16,
   "id": "e3c8f1e4",
   "metadata": {},
   "outputs": [],
   "source": [
    "df.drop(columns=\"fnlwgt\", inplace=True)"
   ]
  },
  {
   "cell_type": "code",
   "execution_count": 17,
   "id": "a1f32ce9",
   "metadata": {},
   "outputs": [
    {
     "data": {
      "text/plain": [
       "age                  0\n",
       "workclass          281\n",
       "education            0\n",
       "education-num        0\n",
       "marital-status       0\n",
       "occupation         283\n",
       "relationship         0\n",
       "race                 0\n",
       "sex                  0\n",
       "capital-gain         0\n",
       "capital-loss         0\n",
       "hours-per-week       0\n",
       "native-country      86\n",
       "Income-category      0\n",
       "dtype: int64"
      ]
     },
     "execution_count": 17,
     "metadata": {},
     "output_type": "execute_result"
    }
   ],
   "source": [
    "df[df == \"?\"] = np.nan\n",
    "df.isnull().sum()"
   ]
  },
  {
   "cell_type": "markdown",
   "id": "59420827",
   "metadata": {},
   "source": [
    "The missing values in 3 attributes now need to be handled before proceeding further. Since the data is skewed, we can use the modal value in each column to replace unknowns."
   ]
  },
  {
   "cell_type": "code",
   "execution_count": 18,
   "id": "30353068",
   "metadata": {},
   "outputs": [],
   "source": [
    "for col in [\"workclass\", \"occupation\", \"native-country\"]:\n",
    "    df[col].fillna(df[col].mode()[0], inplace=True)"
   ]
  },
  {
   "cell_type": "code",
   "execution_count": 19,
   "id": "380a7c34",
   "metadata": {},
   "outputs": [
    {
     "data": {
      "text/plain": [
       "Private             3729\n",
       "Self-emp-not-inc     402\n",
       "Local-gov            324\n",
       "State-gov            215\n",
       "Self-emp-inc         179\n",
       "Federal-gov          148\n",
       "Never-worked           2\n",
       "Without-pay            1\n",
       "Name: workclass, dtype: int64"
      ]
     },
     "execution_count": 19,
     "metadata": {},
     "output_type": "execute_result"
    }
   ],
   "source": [
    "df[\"workclass\"].value_counts()"
   ]
  },
  {
   "cell_type": "code",
   "execution_count": 20,
   "id": "73acc254",
   "metadata": {},
   "outputs": [
    {
     "data": {
      "text/plain": [
       "Craft-repair         935\n",
       "Prof-specialty       632\n",
       "Exec-managerial      574\n",
       "Sales                573\n",
       "Adm-clerical         559\n",
       "Other-service        475\n",
       "Machine-op-inspct    332\n",
       "Transport-moving     262\n",
       "Handlers-cleaners    225\n",
       "Farming-fishing      157\n",
       "Tech-support         139\n",
       "Protective-serv      108\n",
       "Priv-house-serv       28\n",
       "Armed-Forces           1\n",
       "Name: occupation, dtype: int64"
      ]
     },
     "execution_count": 20,
     "metadata": {},
     "output_type": "execute_result"
    }
   ],
   "source": [
    "df[\"occupation\"].value_counts()"
   ]
  },
  {
   "cell_type": "code",
   "execution_count": 21,
   "id": "cda3e285",
   "metadata": {},
   "outputs": [
    {
     "data": {
      "text/plain": [
       "United-States    4573\n",
       "Mexico            103\n",
       "Philippines        26\n",
       "Germany            22\n",
       "England            20\n",
       "Jamaica            16\n",
       "Cuba               16\n",
       "South              16\n",
       "Vietnam            15\n",
       "Canada             14\n",
       "Name: native-country, dtype: int64"
      ]
     },
     "execution_count": 21,
     "metadata": {},
     "output_type": "execute_result"
    }
   ],
   "source": [
    "df[\"native-country\"].value_counts().head(10) # display only top 10"
   ]
  },
  {
   "cell_type": "code",
   "execution_count": 22,
   "id": "8f89beca",
   "metadata": {},
   "outputs": [
    {
     "data": {
      "text/plain": [
       "0"
      ]
     },
     "execution_count": 22,
     "metadata": {},
     "output_type": "execute_result"
    }
   ],
   "source": [
    "# Verification\n",
    "df.isnull().sum().sum()"
   ]
  },
  {
   "cell_type": "markdown",
   "id": "02dad71b",
   "metadata": {},
   "source": [
    "### 9. Deal with `age` and `hours-per-week` (binning and ordinal encoding)\n",
    "\n",
    "Numerical variables `age` and `hours-per-week` can be binned and ordinal encoded as described in the quality/encoding plan."
   ]
  },
  {
   "cell_type": "code",
   "execution_count": 23,
   "id": "7ed3fbfb",
   "metadata": {},
   "outputs": [
    {
     "data": {
      "text/plain": [
       "(16.927, 41.333]    3052\n",
       "(41.333, 65.667]    1773\n",
       "(65.667, 90.0]       175\n",
       "Name: age, dtype: int64"
      ]
     },
     "execution_count": 23,
     "metadata": {},
     "output_type": "execute_result"
    }
   ],
   "source": [
    "# Binning\n",
    "df[\"age\"] = pd.cut(df[\"age\"], bins=3)\n",
    "df[\"age\"].value_counts()"
   ]
  },
  {
   "cell_type": "markdown",
   "id": "5763ee1d",
   "metadata": {},
   "source": [
    "The ages have been binned into 3 equal-width intervals as shown above. The majority of observations are in the 17-41 (approx.) age group."
   ]
  },
  {
   "cell_type": "code",
   "execution_count": 24,
   "id": "fc7eb31f",
   "metadata": {},
   "outputs": [
    {
     "data": {
      "text/plain": [
       "0    3052\n",
       "1    1773\n",
       "2     175\n",
       "Name: age, dtype: int64"
      ]
     },
     "execution_count": 24,
     "metadata": {},
     "output_type": "execute_result"
    }
   ],
   "source": [
    "# Ordinal encoding\n",
    "df[\"age\"] = df[\"age\"].astype(\"category\").cat.codes\n",
    "df[\"age\"].value_counts()"
   ]
  },
  {
   "cell_type": "code",
   "execution_count": 25,
   "id": "1c536e66",
   "metadata": {},
   "outputs": [
    {
     "data": {
      "text/plain": [
       "1    2868\n",
       "2    1485\n",
       "0     647\n",
       "Name: hours-per-week, dtype: int64"
      ]
     },
     "execution_count": 25,
     "metadata": {},
     "output_type": "execute_result"
    }
   ],
   "source": [
    "# 3 groups: less than 30 hours, 30-40 hours, over 40 hours\n",
    "def bin_and_encode_hrs(hrs: int) -> int:\n",
    "    if hrs < 30:\n",
    "        return 0\n",
    "    elif hrs > 40:\n",
    "        return 2\n",
    "    else:\n",
    "        return 1\n",
    "\n",
    "\n",
    "df[\"hours-per-week\"] = df[\"hours-per-week\"].apply(bin_and_encode_hrs)\n",
    "df[\"hours-per-week\"].value_counts()"
   ]
  },
  {
   "cell_type": "markdown",
   "id": "62448721",
   "metadata": {},
   "source": [
    "The majority of `hours-per-week` observations are in the 30-40 hours group (code: `1`)."
   ]
  },
  {
   "cell_type": "markdown",
   "id": "807744f9",
   "metadata": {},
   "source": [
    "### 10. Deal with `education` (regroup and encode)\n",
    "\n",
    "We use the pre-encoded `education-num` to regroup and encode `education`."
   ]
  },
  {
   "cell_type": "code",
   "execution_count": 26,
   "id": "3d366af8",
   "metadata": {},
   "outputs": [
    {
     "data": {
      "text/plain": [
       "9     1634\n",
       "10    1106\n",
       "13     805\n",
       "14     245\n",
       "7      202\n",
       "11     201\n",
       "12     169\n",
       "6      144\n",
       "4      100\n",
       "15      94\n",
       "5       73\n",
       "8       72\n",
       "16      62\n",
       "3       53\n",
       "2       32\n",
       "1        8\n",
       "Name: education-num, dtype: int64"
      ]
     },
     "execution_count": 26,
     "metadata": {},
     "output_type": "execute_result"
    }
   ],
   "source": [
    "df[\"education-num\"].value_counts()"
   ]
  },
  {
   "cell_type": "code",
   "execution_count": 27,
   "id": "e8a26664",
   "metadata": {},
   "outputs": [
    {
     "data": {
      "text/plain": [
       "HS-grad         1634\n",
       "Some-college    1106\n",
       "Bachelors        805\n",
       "Masters          245\n",
       "11th             202\n",
       "Assoc-voc        201\n",
       "Assoc-acdm       169\n",
       "10th             144\n",
       "7th-8th          100\n",
       "Prof-school       94\n",
       "9th               73\n",
       "12th              72\n",
       "Doctorate         62\n",
       "5th-6th           53\n",
       "1st-4th           32\n",
       "Preschool          8\n",
       "Name: education, dtype: int64"
      ]
     },
     "execution_count": 27,
     "metadata": {},
     "output_type": "execute_result"
    }
   ],
   "source": [
    "df[\"education\"].value_counts()"
   ]
  },
  {
   "cell_type": "markdown",
   "id": "c8c5e65b",
   "metadata": {},
   "source": [
    "All levels from `Preschool` to `12th` can grouped into one category: adults who didn't complete school-level education (`HS-grad` is not included)."
   ]
  },
  {
   "cell_type": "code",
   "execution_count": 28,
   "id": "915191cd",
   "metadata": {},
   "outputs": [],
   "source": [
    "def encode_ed(row: int) -> int:\n",
    "    ed = row[\"education-num\"]\n",
    "    # 1: Preschool, 8: 12th\n",
    "    if 1 <= ed <= 8:\n",
    "        return 0\n",
    "    else:\n",
    "        return ed - 8\n",
    "\n",
    "    \n",
    "df[\"education\"] = df.apply(lambda row: encode_ed(row), axis=1)"
   ]
  },
  {
   "cell_type": "markdown",
   "id": "16384a96",
   "metadata": {},
   "source": [
    "The new encoding is as follows:\n",
    "\n",
    "- 0: Preschool to 12th\n",
    "- 1: HS-grad\n",
    "- 2: Some-college\n",
    "- 3: Assoc-voc\n",
    "- 4: Assoc-acdm \n",
    "- 5: Bachelors\n",
    "- 6: Masters\n",
    "- 7: Prof-school\n",
    "- 8: Doctorate"
   ]
  },
  {
   "cell_type": "markdown",
   "id": "b5aab450",
   "metadata": {},
   "source": [
    "Since `education-num` is no longer necessary, we can drop it."
   ]
  },
  {
   "cell_type": "code",
   "execution_count": 29,
   "id": "83810f0b",
   "metadata": {},
   "outputs": [],
   "source": [
    "df.drop(columns=\"education-num\", inplace=True)"
   ]
  },
  {
   "cell_type": "code",
   "execution_count": 30,
   "id": "e35cd8b9",
   "metadata": {},
   "outputs": [
    {
     "data": {
      "text/plain": [
       "1    1634\n",
       "2    1106\n",
       "5     805\n",
       "0     684\n",
       "6     245\n",
       "3     201\n",
       "4     169\n",
       "7      94\n",
       "8      62\n",
       "Name: education, dtype: int64"
      ]
     },
     "execution_count": 30,
     "metadata": {},
     "output_type": "execute_result"
    }
   ],
   "source": [
    "df[\"education\"].value_counts()"
   ]
  },
  {
   "cell_type": "markdown",
   "id": "1ce87bbe",
   "metadata": {},
   "source": [
    "### 11. Deal with `workclass`, `race`, `native-country`,  `sex` (convert to binary)\n",
    "\n",
    "- In the given dataset, there are only 2 distinct values for `sex`, which can thus be binarised.\n",
    "- The vast majority of `native-country` instances are `United-States`, which is expected since the data comes from the US Census. Hence, this variable can also be binarised by putting all non-US countries in a group. Similarly, `Private` in `workclass` and `White` in `race` are dominant (1), allowing all other groups to be combined as 0."
   ]
  },
  {
   "cell_type": "code",
   "execution_count": 31,
   "id": "727b1382",
   "metadata": {},
   "outputs": [
    {
     "name": "stdout",
     "output_type": "stream",
     "text": [
      "--------------------------------------\n",
      "1    3729\n",
      "0    1271\n",
      "Name: workclass, dtype: int64\n",
      "--------------------------------------\n",
      "1    4266\n",
      "0     734\n",
      "Name: race, dtype: int64\n",
      "--------------------------------------\n",
      "1    3381\n",
      "0    1619\n",
      "Name: sex, dtype: int64\n",
      "--------------------------------------\n",
      "1    4573\n",
      "0     427\n",
      "Name: native-country, dtype: int64\n",
      "--------------------------------------\n",
      "0    3818\n",
      "1    1182\n",
      "Name: Income-category, dtype: int64\n"
     ]
    }
   ],
   "source": [
    "def binarise(col: str, dominant: str) -> None:\n",
    "    df[col] = df[col].apply(lambda x: 1 if x == dominant else 0)\n",
    "\n",
    "\n",
    "binarise(\"workclass\", \"Private\")\n",
    "binarise(\"race\", \"White\")\n",
    "binarise(\"native-country\", \"United-States\")\n",
    "binarise(\"sex\", \"Male\")\n",
    "\n",
    "# Binary variables only need enough space for uint8\n",
    "bin_vars = [\"workclass\", \"race\", \"sex\", \"native-country\",  \"Income-category\"]\n",
    "for col in bin_vars:\n",
    "    df[col] = df[col].astype(\"uint8\")\n",
    "\n",
    "# Display value counts\n",
    "for col in bin_vars:\n",
    "    print(f\"{'-' * 38}\\n{df[col].value_counts(dropna=False)}\")"
   ]
  },
  {
   "cell_type": "markdown",
   "id": "2e9ed761",
   "metadata": {},
   "source": [
    "### 12. Deal with `marital-status`, `occupation`, `relationship` (one-hot encoding)\n",
    "\n",
    "The following variables are categorical in nature (unordered) and need to be one-hot encoded. We can directly change the data type from object to binary (1/0, uint8) by applying one-hot encoding."
   ]
  },
  {
   "cell_type": "code",
   "execution_count": 32,
   "id": "36f15f60",
   "metadata": {
    "scrolled": true
   },
   "outputs": [
    {
     "data": {
      "text/html": [
       "<div>\n",
       "<style scoped>\n",
       "    .dataframe tbody tr th:only-of-type {\n",
       "        vertical-align: middle;\n",
       "    }\n",
       "\n",
       "    .dataframe tbody tr th {\n",
       "        vertical-align: top;\n",
       "    }\n",
       "\n",
       "    .dataframe thead th {\n",
       "        text-align: right;\n",
       "    }\n",
       "</style>\n",
       "<table border=\"1\" class=\"dataframe\">\n",
       "  <thead>\n",
       "    <tr style=\"text-align: right;\">\n",
       "      <th></th>\n",
       "      <th>age</th>\n",
       "      <th>workclass</th>\n",
       "      <th>education</th>\n",
       "      <th>race</th>\n",
       "      <th>sex</th>\n",
       "      <th>capital-gain</th>\n",
       "      <th>capital-loss</th>\n",
       "      <th>hours-per-week</th>\n",
       "      <th>native-country</th>\n",
       "      <th>Income-category</th>\n",
       "      <th>...</th>\n",
       "      <th>occupation_Protective-serv</th>\n",
       "      <th>occupation_Sales</th>\n",
       "      <th>occupation_Tech-support</th>\n",
       "      <th>occupation_Transport-moving</th>\n",
       "      <th>relationship_Husband</th>\n",
       "      <th>relationship_Not-in-family</th>\n",
       "      <th>relationship_Other-relative</th>\n",
       "      <th>relationship_Own-child</th>\n",
       "      <th>relationship_Unmarried</th>\n",
       "      <th>relationship_Wife</th>\n",
       "    </tr>\n",
       "  </thead>\n",
       "  <tbody>\n",
       "    <tr>\n",
       "      <th>0</th>\n",
       "      <td>1</td>\n",
       "      <td>1</td>\n",
       "      <td>1</td>\n",
       "      <td>1</td>\n",
       "      <td>0</td>\n",
       "      <td>0</td>\n",
       "      <td>0</td>\n",
       "      <td>1</td>\n",
       "      <td>1</td>\n",
       "      <td>0</td>\n",
       "      <td>...</td>\n",
       "      <td>0</td>\n",
       "      <td>0</td>\n",
       "      <td>0</td>\n",
       "      <td>0</td>\n",
       "      <td>0</td>\n",
       "      <td>1</td>\n",
       "      <td>0</td>\n",
       "      <td>0</td>\n",
       "      <td>0</td>\n",
       "      <td>0</td>\n",
       "    </tr>\n",
       "    <tr>\n",
       "      <th>1</th>\n",
       "      <td>0</td>\n",
       "      <td>1</td>\n",
       "      <td>1</td>\n",
       "      <td>1</td>\n",
       "      <td>0</td>\n",
       "      <td>0</td>\n",
       "      <td>0</td>\n",
       "      <td>1</td>\n",
       "      <td>1</td>\n",
       "      <td>0</td>\n",
       "      <td>...</td>\n",
       "      <td>0</td>\n",
       "      <td>0</td>\n",
       "      <td>0</td>\n",
       "      <td>0</td>\n",
       "      <td>0</td>\n",
       "      <td>1</td>\n",
       "      <td>0</td>\n",
       "      <td>0</td>\n",
       "      <td>0</td>\n",
       "      <td>0</td>\n",
       "    </tr>\n",
       "    <tr>\n",
       "      <th>2</th>\n",
       "      <td>0</td>\n",
       "      <td>1</td>\n",
       "      <td>0</td>\n",
       "      <td>1</td>\n",
       "      <td>1</td>\n",
       "      <td>0</td>\n",
       "      <td>0</td>\n",
       "      <td>1</td>\n",
       "      <td>0</td>\n",
       "      <td>0</td>\n",
       "      <td>...</td>\n",
       "      <td>0</td>\n",
       "      <td>0</td>\n",
       "      <td>0</td>\n",
       "      <td>0</td>\n",
       "      <td>0</td>\n",
       "      <td>1</td>\n",
       "      <td>0</td>\n",
       "      <td>0</td>\n",
       "      <td>0</td>\n",
       "      <td>0</td>\n",
       "    </tr>\n",
       "    <tr>\n",
       "      <th>3</th>\n",
       "      <td>0</td>\n",
       "      <td>0</td>\n",
       "      <td>7</td>\n",
       "      <td>1</td>\n",
       "      <td>0</td>\n",
       "      <td>0</td>\n",
       "      <td>0</td>\n",
       "      <td>2</td>\n",
       "      <td>1</td>\n",
       "      <td>0</td>\n",
       "      <td>...</td>\n",
       "      <td>0</td>\n",
       "      <td>0</td>\n",
       "      <td>0</td>\n",
       "      <td>0</td>\n",
       "      <td>0</td>\n",
       "      <td>1</td>\n",
       "      <td>0</td>\n",
       "      <td>0</td>\n",
       "      <td>0</td>\n",
       "      <td>0</td>\n",
       "    </tr>\n",
       "    <tr>\n",
       "      <th>4</th>\n",
       "      <td>0</td>\n",
       "      <td>1</td>\n",
       "      <td>5</td>\n",
       "      <td>1</td>\n",
       "      <td>1</td>\n",
       "      <td>0</td>\n",
       "      <td>0</td>\n",
       "      <td>2</td>\n",
       "      <td>1</td>\n",
       "      <td>1</td>\n",
       "      <td>...</td>\n",
       "      <td>0</td>\n",
       "      <td>1</td>\n",
       "      <td>0</td>\n",
       "      <td>0</td>\n",
       "      <td>1</td>\n",
       "      <td>0</td>\n",
       "      <td>0</td>\n",
       "      <td>0</td>\n",
       "      <td>0</td>\n",
       "      <td>0</td>\n",
       "    </tr>\n",
       "  </tbody>\n",
       "</table>\n",
       "<p>5 rows × 37 columns</p>\n",
       "</div>"
      ],
      "text/plain": [
       "   age  workclass  education  race  sex  capital-gain  capital-loss  \\\n",
       "0    1          1          1     1    0             0             0   \n",
       "1    0          1          1     1    0             0             0   \n",
       "2    0          1          0     1    1             0             0   \n",
       "3    0          0          7     1    0             0             0   \n",
       "4    0          1          5     1    1             0             0   \n",
       "\n",
       "   hours-per-week  native-country  Income-category  ...  \\\n",
       "0               1               1                0  ...   \n",
       "1               1               1                0  ...   \n",
       "2               1               0                0  ...   \n",
       "3               2               1                0  ...   \n",
       "4               2               1                1  ...   \n",
       "\n",
       "   occupation_Protective-serv  occupation_Sales  occupation_Tech-support  \\\n",
       "0                           0                 0                        0   \n",
       "1                           0                 0                        0   \n",
       "2                           0                 0                        0   \n",
       "3                           0                 0                        0   \n",
       "4                           0                 1                        0   \n",
       "\n",
       "   occupation_Transport-moving  relationship_Husband  \\\n",
       "0                            0                     0   \n",
       "1                            0                     0   \n",
       "2                            0                     0   \n",
       "3                            0                     0   \n",
       "4                            0                     1   \n",
       "\n",
       "   relationship_Not-in-family  relationship_Other-relative  \\\n",
       "0                           1                            0   \n",
       "1                           1                            0   \n",
       "2                           1                            0   \n",
       "3                           1                            0   \n",
       "4                           0                            0   \n",
       "\n",
       "   relationship_Own-child  relationship_Unmarried  relationship_Wife  \n",
       "0                       0                       0                  0  \n",
       "1                       0                       0                  0  \n",
       "2                       0                       0                  0  \n",
       "3                       0                       0                  0  \n",
       "4                       0                       0                  0  \n",
       "\n",
       "[5 rows x 37 columns]"
      ]
     },
     "execution_count": 32,
     "metadata": {},
     "output_type": "execute_result"
    }
   ],
   "source": [
    "categorical_vars = [\"marital-status\", \"occupation\", \"relationship\"]\n",
    "df = pd.concat([df.drop(columns=categorical_vars), \n",
    "                pd.get_dummies(df[categorical_vars], prefix=categorical_vars)],\n",
    "              axis=1)\n",
    "    \n",
    "df.head()"
   ]
  },
  {
   "cell_type": "markdown",
   "id": "9a2af912",
   "metadata": {},
   "source": [
    "### 13. Deal with `capital-gain` and `capital-loss`"
   ]
  },
  {
   "cell_type": "code",
   "execution_count": 33,
   "id": "6a3b2ca5",
   "metadata": {},
   "outputs": [
    {
     "data": {
      "text/plain": [
       "0        4601\n",
       "15024      51\n",
       "7688       37\n",
       "7298       35\n",
       "99999      27\n",
       "5178       17\n",
       "3103       13\n",
       "4386       12\n",
       "4064        9\n",
       "6849        9\n",
       "Name: capital-gain, dtype: int64"
      ]
     },
     "execution_count": 33,
     "metadata": {},
     "output_type": "execute_result"
    }
   ],
   "source": [
    "df[\"capital-gain\"].value_counts().head(10)"
   ]
  },
  {
   "cell_type": "code",
   "execution_count": 34,
   "id": "cbc35f69",
   "metadata": {},
   "outputs": [
    {
     "data": {
      "text/plain": [
       "0       4774\n",
       "1977      33\n",
       "1902      29\n",
       "1887      27\n",
       "1485      14\n",
       "1602       9\n",
       "1876       7\n",
       "1848       7\n",
       "1980       5\n",
       "2179       4\n",
       "Name: capital-loss, dtype: int64"
      ]
     },
     "execution_count": 34,
     "metadata": {},
     "output_type": "execute_result"
    }
   ],
   "source": [
    "df[\"capital-loss\"].value_counts().head(10)"
   ]
  },
  {
   "cell_type": "markdown",
   "id": "c74d84cd",
   "metadata": {},
   "source": [
    "We notice that the vast majority of observations show no capital gain or loss. Since the two variables convey similar information, we can drop them after constructing a new feature called `capital-diff` to store the difference between capital gain and loss."
   ]
  },
  {
   "cell_type": "code",
   "execution_count": 35,
   "id": "cae32d3f",
   "metadata": {},
   "outputs": [],
   "source": [
    "df[\"capital-diff\"] = df[\"capital-gain\"] - df[\"capital-loss\"]\n",
    "df.drop(columns=[\"capital-gain\", \"capital-loss\"], inplace=True)"
   ]
  },
  {
   "cell_type": "markdown",
   "id": "1a6a3af7",
   "metadata": {},
   "source": [
    "Then, we can encode all net losses as -1, no difference as 0, and net gains as 1."
   ]
  },
  {
   "cell_type": "code",
   "execution_count": 36,
   "id": "5aec65e4",
   "metadata": {},
   "outputs": [
    {
     "data": {
      "text/plain": [
       " 0    4375\n",
       " 1     399\n",
       "-1     226\n",
       "Name: capital-diff, dtype: int64"
      ]
     },
     "execution_count": 36,
     "metadata": {},
     "output_type": "execute_result"
    }
   ],
   "source": [
    "def encode_diff(val: int) -> int:\n",
    "    if val > 0:\n",
    "        return 1\n",
    "    elif val < 0:\n",
    "        return -1\n",
    "    else:\n",
    "        return 0\n",
    "    \n",
    "    \n",
    "df[\"capital-diff\"] = df[\"capital-diff\"].apply(encode_diff).astype(\"int8\")\n",
    "df[\"capital-diff\"].value_counts()"
   ]
  },
  {
   "cell_type": "markdown",
   "id": "3ba4d638",
   "metadata": {},
   "source": [
    "### 14. Inspect clean and encoded dataset"
   ]
  },
  {
   "cell_type": "code",
   "execution_count": 37,
   "id": "15b3d48b",
   "metadata": {},
   "outputs": [
    {
     "data": {
      "text/html": [
       "<div>\n",
       "<style scoped>\n",
       "    .dataframe tbody tr th:only-of-type {\n",
       "        vertical-align: middle;\n",
       "    }\n",
       "\n",
       "    .dataframe tbody tr th {\n",
       "        vertical-align: top;\n",
       "    }\n",
       "\n",
       "    .dataframe thead th {\n",
       "        text-align: right;\n",
       "    }\n",
       "</style>\n",
       "<table border=\"1\" class=\"dataframe\">\n",
       "  <thead>\n",
       "    <tr style=\"text-align: right;\">\n",
       "      <th></th>\n",
       "      <th>age</th>\n",
       "      <th>workclass</th>\n",
       "      <th>education</th>\n",
       "      <th>race</th>\n",
       "      <th>sex</th>\n",
       "      <th>hours-per-week</th>\n",
       "      <th>native-country</th>\n",
       "      <th>Income-category</th>\n",
       "      <th>marital-status_Divorced</th>\n",
       "      <th>marital-status_Married-AF-spouse</th>\n",
       "      <th>...</th>\n",
       "      <th>occupation_Sales</th>\n",
       "      <th>occupation_Tech-support</th>\n",
       "      <th>occupation_Transport-moving</th>\n",
       "      <th>relationship_Husband</th>\n",
       "      <th>relationship_Not-in-family</th>\n",
       "      <th>relationship_Other-relative</th>\n",
       "      <th>relationship_Own-child</th>\n",
       "      <th>relationship_Unmarried</th>\n",
       "      <th>relationship_Wife</th>\n",
       "      <th>capital-diff</th>\n",
       "    </tr>\n",
       "  </thead>\n",
       "  <tbody>\n",
       "    <tr>\n",
       "      <th>0</th>\n",
       "      <td>1</td>\n",
       "      <td>1</td>\n",
       "      <td>1</td>\n",
       "      <td>1</td>\n",
       "      <td>0</td>\n",
       "      <td>1</td>\n",
       "      <td>1</td>\n",
       "      <td>0</td>\n",
       "      <td>1</td>\n",
       "      <td>0</td>\n",
       "      <td>...</td>\n",
       "      <td>0</td>\n",
       "      <td>0</td>\n",
       "      <td>0</td>\n",
       "      <td>0</td>\n",
       "      <td>1</td>\n",
       "      <td>0</td>\n",
       "      <td>0</td>\n",
       "      <td>0</td>\n",
       "      <td>0</td>\n",
       "      <td>0</td>\n",
       "    </tr>\n",
       "    <tr>\n",
       "      <th>1</th>\n",
       "      <td>0</td>\n",
       "      <td>1</td>\n",
       "      <td>1</td>\n",
       "      <td>1</td>\n",
       "      <td>0</td>\n",
       "      <td>1</td>\n",
       "      <td>1</td>\n",
       "      <td>0</td>\n",
       "      <td>0</td>\n",
       "      <td>0</td>\n",
       "      <td>...</td>\n",
       "      <td>0</td>\n",
       "      <td>0</td>\n",
       "      <td>0</td>\n",
       "      <td>0</td>\n",
       "      <td>1</td>\n",
       "      <td>0</td>\n",
       "      <td>0</td>\n",
       "      <td>0</td>\n",
       "      <td>0</td>\n",
       "      <td>0</td>\n",
       "    </tr>\n",
       "    <tr>\n",
       "      <th>2</th>\n",
       "      <td>0</td>\n",
       "      <td>1</td>\n",
       "      <td>0</td>\n",
       "      <td>1</td>\n",
       "      <td>1</td>\n",
       "      <td>1</td>\n",
       "      <td>0</td>\n",
       "      <td>0</td>\n",
       "      <td>0</td>\n",
       "      <td>0</td>\n",
       "      <td>...</td>\n",
       "      <td>0</td>\n",
       "      <td>0</td>\n",
       "      <td>0</td>\n",
       "      <td>0</td>\n",
       "      <td>1</td>\n",
       "      <td>0</td>\n",
       "      <td>0</td>\n",
       "      <td>0</td>\n",
       "      <td>0</td>\n",
       "      <td>0</td>\n",
       "    </tr>\n",
       "    <tr>\n",
       "      <th>3</th>\n",
       "      <td>0</td>\n",
       "      <td>0</td>\n",
       "      <td>7</td>\n",
       "      <td>1</td>\n",
       "      <td>0</td>\n",
       "      <td>2</td>\n",
       "      <td>1</td>\n",
       "      <td>0</td>\n",
       "      <td>0</td>\n",
       "      <td>0</td>\n",
       "      <td>...</td>\n",
       "      <td>0</td>\n",
       "      <td>0</td>\n",
       "      <td>0</td>\n",
       "      <td>0</td>\n",
       "      <td>1</td>\n",
       "      <td>0</td>\n",
       "      <td>0</td>\n",
       "      <td>0</td>\n",
       "      <td>0</td>\n",
       "      <td>0</td>\n",
       "    </tr>\n",
       "    <tr>\n",
       "      <th>4</th>\n",
       "      <td>0</td>\n",
       "      <td>1</td>\n",
       "      <td>5</td>\n",
       "      <td>1</td>\n",
       "      <td>1</td>\n",
       "      <td>2</td>\n",
       "      <td>1</td>\n",
       "      <td>1</td>\n",
       "      <td>0</td>\n",
       "      <td>0</td>\n",
       "      <td>...</td>\n",
       "      <td>1</td>\n",
       "      <td>0</td>\n",
       "      <td>0</td>\n",
       "      <td>1</td>\n",
       "      <td>0</td>\n",
       "      <td>0</td>\n",
       "      <td>0</td>\n",
       "      <td>0</td>\n",
       "      <td>0</td>\n",
       "      <td>0</td>\n",
       "    </tr>\n",
       "  </tbody>\n",
       "</table>\n",
       "<p>5 rows × 36 columns</p>\n",
       "</div>"
      ],
      "text/plain": [
       "   age  workclass  education  race  sex  hours-per-week  native-country  \\\n",
       "0    1          1          1     1    0               1               1   \n",
       "1    0          1          1     1    0               1               1   \n",
       "2    0          1          0     1    1               1               0   \n",
       "3    0          0          7     1    0               2               1   \n",
       "4    0          1          5     1    1               2               1   \n",
       "\n",
       "   Income-category  marital-status_Divorced  marital-status_Married-AF-spouse  \\\n",
       "0                0                        1                                 0   \n",
       "1                0                        0                                 0   \n",
       "2                0                        0                                 0   \n",
       "3                0                        0                                 0   \n",
       "4                1                        0                                 0   \n",
       "\n",
       "   ...  occupation_Sales  occupation_Tech-support  \\\n",
       "0  ...                 0                        0   \n",
       "1  ...                 0                        0   \n",
       "2  ...                 0                        0   \n",
       "3  ...                 0                        0   \n",
       "4  ...                 1                        0   \n",
       "\n",
       "   occupation_Transport-moving  relationship_Husband  \\\n",
       "0                            0                     0   \n",
       "1                            0                     0   \n",
       "2                            0                     0   \n",
       "3                            0                     0   \n",
       "4                            0                     1   \n",
       "\n",
       "   relationship_Not-in-family  relationship_Other-relative  \\\n",
       "0                           1                            0   \n",
       "1                           1                            0   \n",
       "2                           1                            0   \n",
       "3                           1                            0   \n",
       "4                           0                            0   \n",
       "\n",
       "   relationship_Own-child  relationship_Unmarried  relationship_Wife  \\\n",
       "0                       0                       0                  0   \n",
       "1                       0                       0                  0   \n",
       "2                       0                       0                  0   \n",
       "3                       0                       0                  0   \n",
       "4                       0                       0                  0   \n",
       "\n",
       "   capital-diff  \n",
       "0             0  \n",
       "1             0  \n",
       "2             0  \n",
       "3             0  \n",
       "4             0  \n",
       "\n",
       "[5 rows x 36 columns]"
      ]
     },
     "execution_count": 37,
     "metadata": {},
     "output_type": "execute_result"
    }
   ],
   "source": [
    "df.head()"
   ]
  },
  {
   "cell_type": "code",
   "execution_count": 38,
   "id": "6c3b96b6",
   "metadata": {},
   "outputs": [
    {
     "name": "stdout",
     "output_type": "stream",
     "text": [
      "<class 'pandas.core.frame.DataFrame'>\n",
      "RangeIndex: 5000 entries, 0 to 4999\n",
      "Data columns (total 36 columns):\n",
      " #   Column                             Non-Null Count  Dtype\n",
      "---  ------                             --------------  -----\n",
      " 0   age                                5000 non-null   int8 \n",
      " 1   workclass                          5000 non-null   uint8\n",
      " 2   education                          5000 non-null   int64\n",
      " 3   race                               5000 non-null   uint8\n",
      " 4   sex                                5000 non-null   uint8\n",
      " 5   hours-per-week                     5000 non-null   int64\n",
      " 6   native-country                     5000 non-null   uint8\n",
      " 7   Income-category                    5000 non-null   uint8\n",
      " 8   marital-status_Divorced            5000 non-null   uint8\n",
      " 9   marital-status_Married-AF-spouse   5000 non-null   uint8\n",
      " 10  marital-status_Married-civ-spouse  5000 non-null   uint8\n",
      " 11  marital-status_Married-spouse-abs  5000 non-null   uint8\n",
      " 12  marital-status_Never-married       5000 non-null   uint8\n",
      " 13  marital-status_Separated           5000 non-null   uint8\n",
      " 14  marital-status_Widowed             5000 non-null   uint8\n",
      " 15  occupation_Adm-clerical            5000 non-null   uint8\n",
      " 16  occupation_Armed-Forces            5000 non-null   uint8\n",
      " 17  occupation_Craft-repair            5000 non-null   uint8\n",
      " 18  occupation_Exec-managerial         5000 non-null   uint8\n",
      " 19  occupation_Farming-fishing         5000 non-null   uint8\n",
      " 20  occupation_Handlers-cleaners       5000 non-null   uint8\n",
      " 21  occupation_Machine-op-inspct       5000 non-null   uint8\n",
      " 22  occupation_Other-service           5000 non-null   uint8\n",
      " 23  occupation_Priv-house-serv         5000 non-null   uint8\n",
      " 24  occupation_Prof-specialty          5000 non-null   uint8\n",
      " 25  occupation_Protective-serv         5000 non-null   uint8\n",
      " 26  occupation_Sales                   5000 non-null   uint8\n",
      " 27  occupation_Tech-support            5000 non-null   uint8\n",
      " 28  occupation_Transport-moving        5000 non-null   uint8\n",
      " 29  relationship_Husband               5000 non-null   uint8\n",
      " 30  relationship_Not-in-family         5000 non-null   uint8\n",
      " 31  relationship_Other-relative        5000 non-null   uint8\n",
      " 32  relationship_Own-child             5000 non-null   uint8\n",
      " 33  relationship_Unmarried             5000 non-null   uint8\n",
      " 34  relationship_Wife                  5000 non-null   uint8\n",
      " 35  capital-diff                       5000 non-null   int8 \n",
      "dtypes: int64(2), int8(2), uint8(32)\n",
      "memory usage: 244.3 KB\n"
     ]
    }
   ],
   "source": [
    "df.info()"
   ]
  },
  {
   "cell_type": "markdown",
   "id": "e0046e40",
   "metadata": {},
   "source": [
    "At this point, we are comfortable with the degree of cleanliness of our dataset.\n",
    "We have:\n",
    "- 5000 observations (none dropped)\n",
    "- 35 predictor features (after feature engineering and encoding)\n",
    "- 1 target variable"
   ]
  },
  {
   "cell_type": "markdown",
   "id": "9e17e53d",
   "metadata": {},
   "source": [
    "### 15. Evaluation measure selection\n",
    "\n",
    "To avoid data peeking, we must split the dataset into train and test sets, and only use the training data for feature selection and model fitting. The test set will only be used for evaluation, and not during model training."
   ]
  },
  {
   "cell_type": "code",
   "execution_count": 39,
   "id": "1754ed4f",
   "metadata": {},
   "outputs": [],
   "source": [
    "X = df.drop(\"Income-category\", axis=1)\n",
    "y = df[\"Income-category\"]"
   ]
  },
  {
   "cell_type": "markdown",
   "id": "a5f12612",
   "metadata": {},
   "source": [
    "- 30% of the observations are set aside for testing.\n",
    "- Integer-valued `random_state` ensures reproducible results."
   ]
  },
  {
   "cell_type": "code",
   "execution_count": 40,
   "id": "54da5a9f",
   "metadata": {},
   "outputs": [
    {
     "data": {
      "text/plain": [
       "((3500, 35), (1500, 35))"
      ]
     },
     "execution_count": 40,
     "metadata": {},
     "output_type": "execute_result"
    }
   ],
   "source": [
    "X_train, X_test, y_train, y_test = train_test_split(X, y, test_size=0.3, random_state=0, stratify=y) \n",
    "X_train.shape, X_test.shape"
   ]
  },
  {
   "cell_type": "code",
   "execution_count": 41,
   "id": "1d532719",
   "metadata": {},
   "outputs": [
    {
     "data": {
      "text/plain": [
       "0    76.36\n",
       "1    23.64\n",
       "Name: Income-category, dtype: float64"
      ]
     },
     "execution_count": 41,
     "metadata": {},
     "output_type": "execute_result"
    }
   ],
   "source": [
    "def get_perc(y):\n",
    "    vc = y.value_counts()\n",
    "    return vc/sum(vc) * 100\n",
    "    \n",
    "get_perc(y)"
   ]
  },
  {
   "cell_type": "markdown",
   "id": "aef7461e",
   "metadata": {},
   "source": [
    "Due to the 3:1 class imbalance, we set `stratify=y` to maintain the imbalance when doing the split above. "
   ]
  },
  {
   "cell_type": "code",
   "execution_count": 42,
   "id": "22b33024",
   "metadata": {},
   "outputs": [
    {
     "data": {
      "text/plain": [
       "0    76.371429\n",
       "1    23.628571\n",
       "Name: Income-category, dtype: float64"
      ]
     },
     "execution_count": 42,
     "metadata": {},
     "output_type": "execute_result"
    }
   ],
   "source": [
    "get_perc(y_train)"
   ]
  },
  {
   "cell_type": "markdown",
   "id": "029b29b5",
   "metadata": {},
   "source": [
    "One way to deal with class imbalance is to resample the training data. The method adopted here is over-sampling of the minority class using the SMOTE algorithm [Ref: N. V. Chawla, K. W. Bowyer, L. O.Hall, W. P. Kegelmeyer, “SMOTE: synthetic minority over-sampling technique,” Journal of artificial intelligence research, 321-357, 2002]. Until the data is balanced, SMOTE randomly chooses a point from the minority class, finds its k-nearest neighbours, then places a new point on the line connecting the chosen point and a chosen neighbour."
   ]
  },
  {
   "cell_type": "code",
   "execution_count": 43,
   "id": "0d1a5fed",
   "metadata": {},
   "outputs": [
    {
     "data": {
      "text/plain": [
       "(5346, 35)"
      ]
     },
     "execution_count": 43,
     "metadata": {},
     "output_type": "execute_result"
    }
   ],
   "source": [
    "X_train_bal, y_train_bal = SMOTE(random_state=0).fit_resample(X_train, y_train)\n",
    "X_train_bal.shape"
   ]
  },
  {
   "cell_type": "code",
   "execution_count": 44,
   "id": "d27dc0a5",
   "metadata": {},
   "outputs": [
    {
     "data": {
      "text/plain": [
       "1    50.0\n",
       "0    50.0\n",
       "Name: Income-category, dtype: float64"
      ]
     },
     "execution_count": 44,
     "metadata": {},
     "output_type": "execute_result"
    }
   ],
   "source": [
    "get_perc(y_train_bal)"
   ]
  },
  {
   "cell_type": "markdown",
   "id": "25f3f682",
   "metadata": {},
   "source": [
    "- Since the training dataset is now perfectly balanced, we can use **classification accuracy** as the primary metric to compare models.\n",
    "- ROC (receiver operating characteristic) curves plot the True Positive rate against the False Positive rate, and are a good measure of a classifier's skill (compared to a dummy classifier). ROC is a graphical plot that illustrates the diagnostic ability of a binary classifier system as its discrimination threshold is varied. The area under this curve (AUC) can also be used to quantitatively compare classifiers. "
   ]
  },
  {
   "cell_type": "code",
   "execution_count": 45,
   "id": "dacc9bc2",
   "metadata": {},
   "outputs": [],
   "source": [
    "# defining the metric to be used for evaluation from here on\n",
    "metric = \"accuracy\""
   ]
  },
  {
   "cell_type": "markdown",
   "id": "8b691970",
   "metadata": {},
   "source": [
    "## 1B: Basic Classifiers\n",
    "\n",
    "### 1. Hyperparameter tuning\n",
    "\n",
    "The \"best\" arguments (called hyperparameters) used when training classifiers can be found using a systematic trial and error approach. All searches use a stratified 5-fold **cross-validation** where in each of 5 experiments, 4 \"folds\" are used for training and 1 for testing. This is preferable to a naive hold-out strategy as it increases the generalisation capabilities of a model by reducing the chances of overfitting.\n",
    "\n",
    "During the entire process of tuning hyperparameters, no access to the testing data set is granted. Model parameters are optimised solely using the training set (which has been upsampled)."
   ]
  },
  {
   "cell_type": "code",
   "execution_count": 46,
   "id": "261e6c2f",
   "metadata": {},
   "outputs": [],
   "source": [
    "def grid_search(clf, param_grid):\n",
    "    # n_jobs=-1 forces the algorithm to use all available CPUs and generally provides a speed-up\n",
    "    grid = GridSearchCV(clf, param_grid, scoring=metric, cv=5, verbose=1, n_jobs=-1)\n",
    "    grid.fit(X_train_bal, y_train_bal)\n",
    "    best = grid.best_estimator_\n",
    "\n",
    "    print(f\"\\nBest: {best}\")\n",
    "    print(f\"Average {metric}: {grid.best_score_:.3f}\\n\")\n",
    "    return best"
   ]
  },
  {
   "cell_type": "markdown",
   "id": "6b31ec42",
   "metadata": {},
   "source": [
    "#### i. Decision Tree\n",
    "\n",
    "- `criterion` is the quality measure for a node split.\n",
    "- `max_depth` refers to the maximum depth of the tree (*constraint*: at most 3).\n",
    "- `min_samples_leaf` is minimum number of samples required to be at a leaf node."
   ]
  },
  {
   "cell_type": "code",
   "execution_count": 47,
   "id": "a4a73498",
   "metadata": {},
   "outputs": [
    {
     "name": "stdout",
     "output_type": "stream",
     "text": [
      "Fitting 5 folds for each of 60 candidates, totalling 300 fits\n",
      "\n",
      "Best: DecisionTreeClassifier(max_depth=3, random_state=0)\n",
      "Average accuracy: 0.772\n",
      "\n",
      "CPU times: user 360 ms, sys: 160 ms, total: 519 ms\n",
      "Wall time: 1.32 s\n"
     ]
    }
   ],
   "source": [
    "%%time\n",
    "dt = DecisionTreeClassifier(random_state=0)\n",
    "dt_best = grid_search(dt, {\n",
    "    \"criterion\": [\"gini\", \"entropy\"], \n",
    "    \"max_depth\": range(1, 4), # depth <= 3\n",
    "    \"min_samples_leaf\": range(1, 11),\n",
    "})"
   ]
  },
  {
   "cell_type": "markdown",
   "id": "d3460f23",
   "metadata": {},
   "source": [
    "#### ii. Neural Network (Multi-Layer Perceptron or MLP)\n",
    "\n",
    "- `hidden_layer_sizes` is a tuple controlling the number of nodes/neurons in the neural network's hidden layers (*constraint*: at most 10 nodes are allowed in total).\n",
    "- `activation` function used for hidden layers is a key part of neural networks, and is data-dependent.\n",
    "\n",
    "ADAM (adaptive moment estimation) is the default solver used for weight optimisation, and generally works well when thousands of training examples are available.\n",
    "The number of epochs is set at 200 by default."
   ]
  },
  {
   "cell_type": "code",
   "execution_count": 48,
   "id": "479c6b70",
   "metadata": {
    "scrolled": false
   },
   "outputs": [
    {
     "name": "stdout",
     "output_type": "stream",
     "text": [
      "Fitting 5 folds for each of 15 candidates, totalling 75 fits\n"
     ]
    },
    {
     "name": "stderr",
     "output_type": "stream",
     "text": [
      "/Users/rajitbanerjee/.local/share/conda/envs/comp47490-m1/lib/python3.8/site-packages/sklearn/neural_network/_multilayer_perceptron.py:692: ConvergenceWarning: Stochastic Optimizer: Maximum iterations (200) reached and the optimization hasn't converged yet.\n",
      "  warnings.warn(\n",
      "/Users/rajitbanerjee/.local/share/conda/envs/comp47490-m1/lib/python3.8/site-packages/sklearn/neural_network/_multilayer_perceptron.py:692: ConvergenceWarning: Stochastic Optimizer: Maximum iterations (200) reached and the optimization hasn't converged yet.\n",
      "  warnings.warn(\n",
      "/Users/rajitbanerjee/.local/share/conda/envs/comp47490-m1/lib/python3.8/site-packages/sklearn/neural_network/_multilayer_perceptron.py:692: ConvergenceWarning: Stochastic Optimizer: Maximum iterations (200) reached and the optimization hasn't converged yet.\n",
      "  warnings.warn(\n",
      "/Users/rajitbanerjee/.local/share/conda/envs/comp47490-m1/lib/python3.8/site-packages/sklearn/neural_network/_multilayer_perceptron.py:692: ConvergenceWarning: Stochastic Optimizer: Maximum iterations (200) reached and the optimization hasn't converged yet.\n",
      "  warnings.warn(\n",
      "/Users/rajitbanerjee/.local/share/conda/envs/comp47490-m1/lib/python3.8/site-packages/sklearn/neural_network/_multilayer_perceptron.py:692: ConvergenceWarning: Stochastic Optimizer: Maximum iterations (200) reached and the optimization hasn't converged yet.\n",
      "  warnings.warn(\n",
      "/Users/rajitbanerjee/.local/share/conda/envs/comp47490-m1/lib/python3.8/site-packages/sklearn/neural_network/_multilayer_perceptron.py:692: ConvergenceWarning: Stochastic Optimizer: Maximum iterations (200) reached and the optimization hasn't converged yet.\n",
      "  warnings.warn(\n",
      "/Users/rajitbanerjee/.local/share/conda/envs/comp47490-m1/lib/python3.8/site-packages/sklearn/neural_network/_multilayer_perceptron.py:692: ConvergenceWarning: Stochastic Optimizer: Maximum iterations (200) reached and the optimization hasn't converged yet.\n",
      "  warnings.warn(\n",
      "/Users/rajitbanerjee/.local/share/conda/envs/comp47490-m1/lib/python3.8/site-packages/sklearn/neural_network/_multilayer_perceptron.py:692: ConvergenceWarning: Stochastic Optimizer: Maximum iterations (200) reached and the optimization hasn't converged yet.\n",
      "  warnings.warn(\n",
      "/Users/rajitbanerjee/.local/share/conda/envs/comp47490-m1/lib/python3.8/site-packages/sklearn/neural_network/_multilayer_perceptron.py:692: ConvergenceWarning: Stochastic Optimizer: Maximum iterations (200) reached and the optimization hasn't converged yet.\n",
      "  warnings.warn(\n",
      "/Users/rajitbanerjee/.local/share/conda/envs/comp47490-m1/lib/python3.8/site-packages/sklearn/neural_network/_multilayer_perceptron.py:692: ConvergenceWarning: Stochastic Optimizer: Maximum iterations (200) reached and the optimization hasn't converged yet.\n",
      "  warnings.warn(\n",
      "/Users/rajitbanerjee/.local/share/conda/envs/comp47490-m1/lib/python3.8/site-packages/sklearn/neural_network/_multilayer_perceptron.py:692: ConvergenceWarning: Stochastic Optimizer: Maximum iterations (200) reached and the optimization hasn't converged yet.\n",
      "  warnings.warn(\n",
      "/Users/rajitbanerjee/.local/share/conda/envs/comp47490-m1/lib/python3.8/site-packages/sklearn/neural_network/_multilayer_perceptron.py:692: ConvergenceWarning: Stochastic Optimizer: Maximum iterations (200) reached and the optimization hasn't converged yet.\n",
      "  warnings.warn(\n",
      "/Users/rajitbanerjee/.local/share/conda/envs/comp47490-m1/lib/python3.8/site-packages/sklearn/neural_network/_multilayer_perceptron.py:692: ConvergenceWarning: Stochastic Optimizer: Maximum iterations (200) reached and the optimization hasn't converged yet.\n",
      "  warnings.warn(\n",
      "/Users/rajitbanerjee/.local/share/conda/envs/comp47490-m1/lib/python3.8/site-packages/sklearn/neural_network/_multilayer_perceptron.py:692: ConvergenceWarning: Stochastic Optimizer: Maximum iterations (200) reached and the optimization hasn't converged yet.\n",
      "  warnings.warn(\n",
      "/Users/rajitbanerjee/.local/share/conda/envs/comp47490-m1/lib/python3.8/site-packages/sklearn/neural_network/_multilayer_perceptron.py:692: ConvergenceWarning: Stochastic Optimizer: Maximum iterations (200) reached and the optimization hasn't converged yet.\n",
      "  warnings.warn(\n",
      "/Users/rajitbanerjee/.local/share/conda/envs/comp47490-m1/lib/python3.8/site-packages/sklearn/neural_network/_multilayer_perceptron.py:692: ConvergenceWarning: Stochastic Optimizer: Maximum iterations (200) reached and the optimization hasn't converged yet.\n",
      "  warnings.warn(\n",
      "/Users/rajitbanerjee/.local/share/conda/envs/comp47490-m1/lib/python3.8/site-packages/sklearn/neural_network/_multilayer_perceptron.py:692: ConvergenceWarning: Stochastic Optimizer: Maximum iterations (200) reached and the optimization hasn't converged yet.\n",
      "  warnings.warn(\n",
      "/Users/rajitbanerjee/.local/share/conda/envs/comp47490-m1/lib/python3.8/site-packages/sklearn/neural_network/_multilayer_perceptron.py:692: ConvergenceWarning: Stochastic Optimizer: Maximum iterations (200) reached and the optimization hasn't converged yet.\n",
      "  warnings.warn(\n",
      "/Users/rajitbanerjee/.local/share/conda/envs/comp47490-m1/lib/python3.8/site-packages/sklearn/neural_network/_multilayer_perceptron.py:692: ConvergenceWarning: Stochastic Optimizer: Maximum iterations (200) reached and the optimization hasn't converged yet.\n",
      "  warnings.warn(\n",
      "/Users/rajitbanerjee/.local/share/conda/envs/comp47490-m1/lib/python3.8/site-packages/sklearn/neural_network/_multilayer_perceptron.py:692: ConvergenceWarning: Stochastic Optimizer: Maximum iterations (200) reached and the optimization hasn't converged yet.\n",
      "  warnings.warn(\n",
      "/Users/rajitbanerjee/.local/share/conda/envs/comp47490-m1/lib/python3.8/site-packages/sklearn/neural_network/_multilayer_perceptron.py:692: ConvergenceWarning: Stochastic Optimizer: Maximum iterations (200) reached and the optimization hasn't converged yet.\n",
      "  warnings.warn(\n",
      "/Users/rajitbanerjee/.local/share/conda/envs/comp47490-m1/lib/python3.8/site-packages/sklearn/neural_network/_multilayer_perceptron.py:692: ConvergenceWarning: Stochastic Optimizer: Maximum iterations (200) reached and the optimization hasn't converged yet.\n",
      "  warnings.warn(\n",
      "/Users/rajitbanerjee/.local/share/conda/envs/comp47490-m1/lib/python3.8/site-packages/sklearn/neural_network/_multilayer_perceptron.py:692: ConvergenceWarning: Stochastic Optimizer: Maximum iterations (200) reached and the optimization hasn't converged yet.\n",
      "  warnings.warn(\n",
      "/Users/rajitbanerjee/.local/share/conda/envs/comp47490-m1/lib/python3.8/site-packages/sklearn/neural_network/_multilayer_perceptron.py:692: ConvergenceWarning: Stochastic Optimizer: Maximum iterations (200) reached and the optimization hasn't converged yet.\n",
      "  warnings.warn(\n",
      "/Users/rajitbanerjee/.local/share/conda/envs/comp47490-m1/lib/python3.8/site-packages/sklearn/neural_network/_multilayer_perceptron.py:692: ConvergenceWarning: Stochastic Optimizer: Maximum iterations (200) reached and the optimization hasn't converged yet.\n",
      "  warnings.warn(\n",
      "/Users/rajitbanerjee/.local/share/conda/envs/comp47490-m1/lib/python3.8/site-packages/sklearn/neural_network/_multilayer_perceptron.py:692: ConvergenceWarning: Stochastic Optimizer: Maximum iterations (200) reached and the optimization hasn't converged yet.\n",
      "  warnings.warn(\n",
      "/Users/rajitbanerjee/.local/share/conda/envs/comp47490-m1/lib/python3.8/site-packages/sklearn/neural_network/_multilayer_perceptron.py:692: ConvergenceWarning: Stochastic Optimizer: Maximum iterations (200) reached and the optimization hasn't converged yet.\n",
      "  warnings.warn(\n",
      "/Users/rajitbanerjee/.local/share/conda/envs/comp47490-m1/lib/python3.8/site-packages/sklearn/neural_network/_multilayer_perceptron.py:692: ConvergenceWarning: Stochastic Optimizer: Maximum iterations (200) reached and the optimization hasn't converged yet.\n",
      "  warnings.warn(\n",
      "/Users/rajitbanerjee/.local/share/conda/envs/comp47490-m1/lib/python3.8/site-packages/sklearn/neural_network/_multilayer_perceptron.py:692: ConvergenceWarning: Stochastic Optimizer: Maximum iterations (200) reached and the optimization hasn't converged yet.\n",
      "  warnings.warn(\n",
      "/Users/rajitbanerjee/.local/share/conda/envs/comp47490-m1/lib/python3.8/site-packages/sklearn/neural_network/_multilayer_perceptron.py:692: ConvergenceWarning: Stochastic Optimizer: Maximum iterations (200) reached and the optimization hasn't converged yet.\n",
      "  warnings.warn(\n",
      "/Users/rajitbanerjee/.local/share/conda/envs/comp47490-m1/lib/python3.8/site-packages/sklearn/neural_network/_multilayer_perceptron.py:692: ConvergenceWarning: Stochastic Optimizer: Maximum iterations (200) reached and the optimization hasn't converged yet.\n",
      "  warnings.warn(\n"
     ]
    },
    {
     "name": "stderr",
     "output_type": "stream",
     "text": [
      "/Users/rajitbanerjee/.local/share/conda/envs/comp47490-m1/lib/python3.8/site-packages/sklearn/neural_network/_multilayer_perceptron.py:692: ConvergenceWarning: Stochastic Optimizer: Maximum iterations (200) reached and the optimization hasn't converged yet.\n",
      "  warnings.warn(\n",
      "/Users/rajitbanerjee/.local/share/conda/envs/comp47490-m1/lib/python3.8/site-packages/sklearn/neural_network/_multilayer_perceptron.py:692: ConvergenceWarning: Stochastic Optimizer: Maximum iterations (200) reached and the optimization hasn't converged yet.\n",
      "  warnings.warn(\n",
      "/Users/rajitbanerjee/.local/share/conda/envs/comp47490-m1/lib/python3.8/site-packages/sklearn/neural_network/_multilayer_perceptron.py:692: ConvergenceWarning: Stochastic Optimizer: Maximum iterations (200) reached and the optimization hasn't converged yet.\n",
      "  warnings.warn(\n",
      "/Users/rajitbanerjee/.local/share/conda/envs/comp47490-m1/lib/python3.8/site-packages/sklearn/neural_network/_multilayer_perceptron.py:692: ConvergenceWarning: Stochastic Optimizer: Maximum iterations (200) reached and the optimization hasn't converged yet.\n",
      "  warnings.warn(\n",
      "/Users/rajitbanerjee/.local/share/conda/envs/comp47490-m1/lib/python3.8/site-packages/sklearn/neural_network/_multilayer_perceptron.py:692: ConvergenceWarning: Stochastic Optimizer: Maximum iterations (200) reached and the optimization hasn't converged yet.\n",
      "  warnings.warn(\n",
      "/Users/rajitbanerjee/.local/share/conda/envs/comp47490-m1/lib/python3.8/site-packages/sklearn/neural_network/_multilayer_perceptron.py:692: ConvergenceWarning: Stochastic Optimizer: Maximum iterations (200) reached and the optimization hasn't converged yet.\n",
      "  warnings.warn(\n",
      "/Users/rajitbanerjee/.local/share/conda/envs/comp47490-m1/lib/python3.8/site-packages/sklearn/neural_network/_multilayer_perceptron.py:692: ConvergenceWarning: Stochastic Optimizer: Maximum iterations (200) reached and the optimization hasn't converged yet.\n",
      "  warnings.warn(\n",
      "/Users/rajitbanerjee/.local/share/conda/envs/comp47490-m1/lib/python3.8/site-packages/sklearn/neural_network/_multilayer_perceptron.py:692: ConvergenceWarning: Stochastic Optimizer: Maximum iterations (200) reached and the optimization hasn't converged yet.\n",
      "  warnings.warn(\n",
      "/Users/rajitbanerjee/.local/share/conda/envs/comp47490-m1/lib/python3.8/site-packages/sklearn/neural_network/_multilayer_perceptron.py:692: ConvergenceWarning: Stochastic Optimizer: Maximum iterations (200) reached and the optimization hasn't converged yet.\n",
      "  warnings.warn(\n",
      "/Users/rajitbanerjee/.local/share/conda/envs/comp47490-m1/lib/python3.8/site-packages/sklearn/neural_network/_multilayer_perceptron.py:692: ConvergenceWarning: Stochastic Optimizer: Maximum iterations (200) reached and the optimization hasn't converged yet.\n",
      "  warnings.warn(\n",
      "/Users/rajitbanerjee/.local/share/conda/envs/comp47490-m1/lib/python3.8/site-packages/sklearn/neural_network/_multilayer_perceptron.py:692: ConvergenceWarning: Stochastic Optimizer: Maximum iterations (200) reached and the optimization hasn't converged yet.\n",
      "  warnings.warn(\n",
      "/Users/rajitbanerjee/.local/share/conda/envs/comp47490-m1/lib/python3.8/site-packages/sklearn/neural_network/_multilayer_perceptron.py:692: ConvergenceWarning: Stochastic Optimizer: Maximum iterations (200) reached and the optimization hasn't converged yet.\n",
      "  warnings.warn(\n",
      "/Users/rajitbanerjee/.local/share/conda/envs/comp47490-m1/lib/python3.8/site-packages/sklearn/neural_network/_multilayer_perceptron.py:692: ConvergenceWarning: Stochastic Optimizer: Maximum iterations (200) reached and the optimization hasn't converged yet.\n",
      "  warnings.warn(\n",
      "/Users/rajitbanerjee/.local/share/conda/envs/comp47490-m1/lib/python3.8/site-packages/sklearn/neural_network/_multilayer_perceptron.py:692: ConvergenceWarning: Stochastic Optimizer: Maximum iterations (200) reached and the optimization hasn't converged yet.\n",
      "  warnings.warn(\n",
      "/Users/rajitbanerjee/.local/share/conda/envs/comp47490-m1/lib/python3.8/site-packages/sklearn/neural_network/_multilayer_perceptron.py:692: ConvergenceWarning: Stochastic Optimizer: Maximum iterations (200) reached and the optimization hasn't converged yet.\n",
      "  warnings.warn(\n",
      "/Users/rajitbanerjee/.local/share/conda/envs/comp47490-m1/lib/python3.8/site-packages/sklearn/neural_network/_multilayer_perceptron.py:692: ConvergenceWarning: Stochastic Optimizer: Maximum iterations (200) reached and the optimization hasn't converged yet.\n",
      "  warnings.warn(\n",
      "/Users/rajitbanerjee/.local/share/conda/envs/comp47490-m1/lib/python3.8/site-packages/sklearn/neural_network/_multilayer_perceptron.py:692: ConvergenceWarning: Stochastic Optimizer: Maximum iterations (200) reached and the optimization hasn't converged yet.\n",
      "  warnings.warn(\n",
      "/Users/rajitbanerjee/.local/share/conda/envs/comp47490-m1/lib/python3.8/site-packages/sklearn/neural_network/_multilayer_perceptron.py:692: ConvergenceWarning: Stochastic Optimizer: Maximum iterations (200) reached and the optimization hasn't converged yet.\n",
      "  warnings.warn(\n",
      "/Users/rajitbanerjee/.local/share/conda/envs/comp47490-m1/lib/python3.8/site-packages/sklearn/neural_network/_multilayer_perceptron.py:692: ConvergenceWarning: Stochastic Optimizer: Maximum iterations (200) reached and the optimization hasn't converged yet.\n",
      "  warnings.warn(\n",
      "/Users/rajitbanerjee/.local/share/conda/envs/comp47490-m1/lib/python3.8/site-packages/sklearn/neural_network/_multilayer_perceptron.py:692: ConvergenceWarning: Stochastic Optimizer: Maximum iterations (200) reached and the optimization hasn't converged yet.\n",
      "  warnings.warn(\n",
      "/Users/rajitbanerjee/.local/share/conda/envs/comp47490-m1/lib/python3.8/site-packages/sklearn/neural_network/_multilayer_perceptron.py:692: ConvergenceWarning: Stochastic Optimizer: Maximum iterations (200) reached and the optimization hasn't converged yet.\n",
      "  warnings.warn(\n",
      "/Users/rajitbanerjee/.local/share/conda/envs/comp47490-m1/lib/python3.8/site-packages/sklearn/neural_network/_multilayer_perceptron.py:692: ConvergenceWarning: Stochastic Optimizer: Maximum iterations (200) reached and the optimization hasn't converged yet.\n",
      "  warnings.warn(\n",
      "/Users/rajitbanerjee/.local/share/conda/envs/comp47490-m1/lib/python3.8/site-packages/sklearn/neural_network/_multilayer_perceptron.py:692: ConvergenceWarning: Stochastic Optimizer: Maximum iterations (200) reached and the optimization hasn't converged yet.\n",
      "  warnings.warn(\n",
      "/Users/rajitbanerjee/.local/share/conda/envs/comp47490-m1/lib/python3.8/site-packages/sklearn/neural_network/_multilayer_perceptron.py:692: ConvergenceWarning: Stochastic Optimizer: Maximum iterations (200) reached and the optimization hasn't converged yet.\n",
      "  warnings.warn(\n",
      "/Users/rajitbanerjee/.local/share/conda/envs/comp47490-m1/lib/python3.8/site-packages/sklearn/neural_network/_multilayer_perceptron.py:692: ConvergenceWarning: Stochastic Optimizer: Maximum iterations (200) reached and the optimization hasn't converged yet.\n",
      "  warnings.warn(\n",
      "/Users/rajitbanerjee/.local/share/conda/envs/comp47490-m1/lib/python3.8/site-packages/sklearn/neural_network/_multilayer_perceptron.py:692: ConvergenceWarning: Stochastic Optimizer: Maximum iterations (200) reached and the optimization hasn't converged yet.\n",
      "  warnings.warn(\n",
      "/Users/rajitbanerjee/.local/share/conda/envs/comp47490-m1/lib/python3.8/site-packages/sklearn/neural_network/_multilayer_perceptron.py:692: ConvergenceWarning: Stochastic Optimizer: Maximum iterations (200) reached and the optimization hasn't converged yet.\n",
      "  warnings.warn(\n"
     ]
    },
    {
     "name": "stdout",
     "output_type": "stream",
     "text": [
      "\n",
      "Best: MLPClassifier(hidden_layer_sizes=(10,), random_state=0)\n",
      "Average accuracy: 0.835\n",
      "\n",
      "CPU times: user 790 ms, sys: 43.4 ms, total: 833 ms\n",
      "Wall time: 11.9 s\n"
     ]
    },
    {
     "name": "stderr",
     "output_type": "stream",
     "text": [
      "/Users/rajitbanerjee/.local/share/conda/envs/comp47490-m1/lib/python3.8/site-packages/sklearn/neural_network/_multilayer_perceptron.py:692: ConvergenceWarning: Stochastic Optimizer: Maximum iterations (200) reached and the optimization hasn't converged yet.\n",
      "  warnings.warn(\n"
     ]
    }
   ],
   "source": [
    "%%time\n",
    "mlp = MLPClassifier(random_state=0)\n",
    "mlp_best = grid_search(mlp, {\n",
    "    \"hidden_layer_sizes\": [(2, 2, 2, 2, 2), (4, 3, 3), (4, 4, 2), (5, 5), (10,)],\n",
    "    \"activation\": [\"logistic\", \"tanh\", \"relu\"],\n",
    "})"
   ]
  },
  {
   "cell_type": "markdown",
   "id": "9380f61e",
   "metadata": {},
   "source": [
    "#### iii. K-Nearest Neighbours\n",
    "\n",
    "- `n_neighbors` specifies the number of neighbours used by k-NN (*constraint*: 1-NN).\n",
    "- `leaf_size` affects the speed of the construction and query, as well as the memory required to store the tree in BallTree or KDTree algorithms for k-NN computation.\n",
    "- `metric` specifies the distance metric to be used."
   ]
  },
  {
   "cell_type": "code",
   "execution_count": 49,
   "id": "e0dbe813",
   "metadata": {},
   "outputs": [
    {
     "name": "stdout",
     "output_type": "stream",
     "text": [
      "Fitting 5 folds for each of 32 candidates, totalling 160 fits\n",
      "\n",
      "Best: KNeighborsClassifier(leaf_size=1, metric='manhattan', n_jobs=-1, n_neighbors=1)\n",
      "Average accuracy: 0.775\n",
      "\n",
      "CPU times: user 163 ms, sys: 51.3 ms, total: 214 ms\n",
      "Wall time: 4.04 s\n"
     ]
    }
   ],
   "source": [
    "%%time\n",
    "knn = KNeighborsClassifier(n_neighbors=1, n_jobs=-1)\n",
    "knn_best = grid_search(knn, {\n",
    "    \"leaf_size\": [1, 2, 5, 10, 15, 20, 25, 30],\n",
    "    \"metric\": [\"euclidean\", \"manhattan\", \"chebyshev\", \"minkowski\"]\n",
    "})"
   ]
  },
  {
   "cell_type": "markdown",
   "id": "b2c1d818",
   "metadata": {},
   "source": [
    "### 2. Evaluation\n",
    "\n",
    "Hyperparameter optimisation yields 3 \"best\" base classifiers below subject to the constraints mentioned earlier."
   ]
  },
  {
   "cell_type": "code",
   "execution_count": 50,
   "id": "eca5c02e",
   "metadata": {},
   "outputs": [
    {
     "data": {
      "text/plain": [
       "[DecisionTreeClassifier(max_depth=3, random_state=0),\n",
       " MLPClassifier(hidden_layer_sizes=(10,), random_state=0),\n",
       " KNeighborsClassifier(leaf_size=1, metric='manhattan', n_jobs=-1, n_neighbors=1)]"
      ]
     },
     "execution_count": 50,
     "metadata": {},
     "output_type": "execute_result"
    }
   ],
   "source": [
    "best_clfs = [dt_best, mlp_best, knn_best]\n",
    "best_clfs"
   ]
  },
  {
   "cell_type": "markdown",
   "id": "eb920e4e",
   "metadata": {},
   "source": [
    "A **confusion matrix** summarises every classifier's performance by revealing the True Positives, True Negatives, False Positives and False Negatives. Some measures based on these values include: precision, recall (sensitivity), specificity (True Negative rate), etc. The test set that was initially set aside is finally used for evaluation. "
   ]
  },
  {
   "cell_type": "code",
   "execution_count": 51,
   "id": "1d0ed095",
   "metadata": {},
   "outputs": [
    {
     "name": "stderr",
     "output_type": "stream",
     "text": [
      "/Users/rajitbanerjee/.local/share/conda/envs/comp47490-m1/lib/python3.8/site-packages/sklearn/neural_network/_multilayer_perceptron.py:692: ConvergenceWarning: Stochastic Optimizer: Maximum iterations (200) reached and the optimization hasn't converged yet.\n",
      "  warnings.warn(\n"
     ]
    },
    {
     "data": {
      "image/png": "[encoded data removed]",
      "text/plain": [
       "<Figure size 1224x360 with 6 Axes>"
      ]
     },
     "metadata": {
      "needs_background": "light"
     },
     "output_type": "display_data"
    }
   ],
   "source": [
    "def extract_clf_name(clf, method) -> str:\n",
    "    def abbreviate(clf_name) -> str:\n",
    "        if clf_name == \"DecisionTreeClassifier\":\n",
    "            return \"DT\"\n",
    "        elif clf_name == \"MLPClassifier\":\n",
    "            return \"MLP\"\n",
    "        elif clf_name == \"KNeighborsClassifier\":\n",
    "            return \"KNN\"\n",
    "            \n",
    "    estimator = clf if method in [\"Basic\", \"Tuned\"] else clf.base_estimator\n",
    "    return f\"{method}: {abbreviate(estimator.__class__.__name__)}\"\n",
    "\n",
    "\n",
    "def plot_conf_matrix(classifiers: list, method=\"Basic\"):\n",
    "    fig, ax = plt.subplots(1, 3, figsize=(17, 5))\n",
    "    for i, clf in enumerate(classifiers):\n",
    "        clf_name = extract_clf_name(clf, method)\n",
    "        clf.fit(X_train_bal, y_train_bal)\n",
    "        \n",
    "        disp = ConfusionMatrixDisplay.from_estimator(clf, X_test, y_test, ax=ax[i])\n",
    "        disp.ax_.set_title(f\"Confusion Matrix: {clf_name}\")\n",
    "\n",
    "\n",
    "plot_conf_matrix(best_clfs)"
   ]
  },
  {
   "cell_type": "markdown",
   "id": "19d4b49f",
   "metadata": {},
   "source": [
    "A common scoring function can be defined to consistently evaluate all classifiers. Using a stratified 5-fold cross-validation (benefits discussed earlier) on the full dataset, the classifiers' performance is returned (based on average accuracy). Stratification is used to maintain target class imbalance in the pre-split dataset."
   ]
  },
  {
   "cell_type": "code",
   "execution_count": 52,
   "id": "b2d9095e",
   "metadata": {},
   "outputs": [
    {
     "name": "stdout",
     "output_type": "stream",
     "text": [
      "Classifiers in descending order of performance:\n"
     ]
    },
    {
     "name": "stderr",
     "output_type": "stream",
     "text": [
      "/Users/rajitbanerjee/.local/share/conda/envs/comp47490-m1/lib/python3.8/site-packages/sklearn/neural_network/_multilayer_perceptron.py:692: ConvergenceWarning: Stochastic Optimizer: Maximum iterations (200) reached and the optimization hasn't converged yet.\n",
      "  warnings.warn(\n",
      "/Users/rajitbanerjee/.local/share/conda/envs/comp47490-m1/lib/python3.8/site-packages/sklearn/neural_network/_multilayer_perceptron.py:692: ConvergenceWarning: Stochastic Optimizer: Maximum iterations (200) reached and the optimization hasn't converged yet.\n",
      "  warnings.warn(\n",
      "/Users/rajitbanerjee/.local/share/conda/envs/comp47490-m1/lib/python3.8/site-packages/sklearn/neural_network/_multilayer_perceptron.py:692: ConvergenceWarning: Stochastic Optimizer: Maximum iterations (200) reached and the optimization hasn't converged yet.\n",
      "  warnings.warn(\n",
      "/Users/rajitbanerjee/.local/share/conda/envs/comp47490-m1/lib/python3.8/site-packages/sklearn/neural_network/_multilayer_perceptron.py:692: ConvergenceWarning: Stochastic Optimizer: Maximum iterations (200) reached and the optimization hasn't converged yet.\n",
      "  warnings.warn(\n",
      "/Users/rajitbanerjee/.local/share/conda/envs/comp47490-m1/lib/python3.8/site-packages/sklearn/neural_network/_multilayer_perceptron.py:692: ConvergenceWarning: Stochastic Optimizer: Maximum iterations (200) reached and the optimization hasn't converged yet.\n",
      "  warnings.warn(\n"
     ]
    },
    {
     "data": {
      "text/html": [
       "<div>\n",
       "<style scoped>\n",
       "    .dataframe tbody tr th:only-of-type {\n",
       "        vertical-align: middle;\n",
       "    }\n",
       "\n",
       "    .dataframe tbody tr th {\n",
       "        vertical-align: top;\n",
       "    }\n",
       "\n",
       "    .dataframe thead th {\n",
       "        text-align: right;\n",
       "    }\n",
       "</style>\n",
       "<table border=\"1\" class=\"dataframe\">\n",
       "  <thead>\n",
       "    <tr style=\"text-align: right;\">\n",
       "      <th></th>\n",
       "      <th>Avg. accuracy</th>\n",
       "    </tr>\n",
       "  </thead>\n",
       "  <tbody>\n",
       "    <tr>\n",
       "      <th>Basic: MLP</th>\n",
       "      <td>0.839 +/- 0.004</td>\n",
       "    </tr>\n",
       "    <tr>\n",
       "      <th>Basic: DT</th>\n",
       "      <td>0.818 +/- 0.009</td>\n",
       "    </tr>\n",
       "    <tr>\n",
       "      <th>Basic: KNN</th>\n",
       "      <td>0.784 +/- 0.022</td>\n",
       "    </tr>\n",
       "  </tbody>\n",
       "</table>\n",
       "</div>"
      ],
      "text/plain": [
       "              Avg. accuracy\n",
       "Basic: MLP  0.839 +/- 0.004\n",
       "Basic: DT   0.818 +/- 0.009\n",
       "Basic: KNN  0.784 +/- 0.022"
      ]
     },
     "execution_count": 52,
     "metadata": {},
     "output_type": "execute_result"
    }
   ],
   "source": [
    "def score(classifiers: list, cv=StratifiedKFold(n_splits=5), method=\"Basic\") -> pd.DataFrame:\n",
    "    scores = {}\n",
    "    for clf in classifiers:\n",
    "        clf_name = extract_clf_name(clf, method)\n",
    "        \n",
    "        # Final scoring using stratified k-fold cross-validation on entire pre-split data\n",
    "        ts = cross_val_score(clf, X, y, cv=cv, n_jobs=-1, scoring=metric)\n",
    "        scores[clf_name] = f\"{ts.mean():.3f} +/- {ts.std():.3f}\"\n",
    "\n",
    "    scores_df = pd.DataFrame.from_dict(scores, orient=\"index\", columns=[\"Avg. accuracy\"])\n",
    "    print(\"Classifiers in descending order of performance:\")\n",
    "    return scores_df.sort_values(by=scores_df.columns[0], ascending=False)\n",
    "\n",
    "\n",
    "scores_basic = score(best_clfs)\n",
    "scores_basic"
   ]
  },
  {
   "cell_type": "markdown",
   "id": "d37c4c12",
   "metadata": {},
   "source": [
    "As discussed when choosing evaluation metrics, ROC curves are useful for comparing different classifiers with each other and also with a random classifier."
   ]
  },
  {
   "cell_type": "code",
   "execution_count": 53,
   "id": "f848ea95",
   "metadata": {},
   "outputs": [
    {
     "data": {
      "image/png": "[encoded data removed]",
      "text/plain": [
       "<Figure size 576x504 with 1 Axes>"
      ]
     },
     "metadata": {
      "needs_background": "light"
     },
     "output_type": "display_data"
    }
   ],
   "source": [
    "def plot_roc_curves(classifiers: list, pos_label=1, method=\"Basic\"):\n",
    "    # Baseline\n",
    "    dummy_clf = DummyClassifier(strategy=\"most_frequent\")\n",
    "    dummy_clf.fit(X_train_bal, y_train_bal)\n",
    "    disp = RocCurveDisplay.from_estimator(dummy_clf, X_test, y_test,\n",
    "                                          pos_label=pos_label, linestyle=\"--\")\n",
    "\n",
    "    for clf in classifiers:\n",
    "        clf_name = extract_clf_name(clf, method)\n",
    "        disp = RocCurveDisplay.from_estimator(clf, X_test, y_test, name=clf_name,\n",
    "                                              pos_label=pos_label, ax=disp.ax_)\n",
    "    disp.ax_.grid()\n",
    "    disp.figure_.set_size_inches(8, 7)\n",
    "    disp.ax_.set_title(f\"ROC Curves\", fontsize=14)\n",
    "\n",
    "\n",
    "plot_roc_curves(best_clfs)"
   ]
  },
  {
   "cell_type": "markdown",
   "id": "73be2859",
   "metadata": {},
   "source": [
    "All basic classifiers above are better than random, as shown by the AUC (area under the curve) scores (perfect skill => AUC = 1.0), with both the neural network and decision tree performing far better than 1-NN."
   ]
  },
  {
   "cell_type": "markdown",
   "id": "f9127c95",
   "metadata": {},
   "source": [
    "## 1C: Bagging Ensemble\n",
    "\n",
    "The key idea behind bagging (bootstrap aggregation) ensembles is that a number of classifiers trained on different random samples of training data will improve performance.\n",
    "\n",
    "### 1. Hyperparameter tuning\n",
    "\n",
    "Using the 3 basic classifiers obtained earlier, we can vary the ensemble size from 2 to 20 (in steps of 2)."
   ]
  },
  {
   "cell_type": "code",
   "execution_count": 54,
   "id": "7e9b4f28",
   "metadata": {},
   "outputs": [],
   "source": [
    "ensemble_size = range(2, 21, 2)\n",
    "perc_instances = [0.25, 0.5, 0.75, 1.0]"
   ]
  },
  {
   "cell_type": "markdown",
   "id": "54ae13ed",
   "metadata": {},
   "source": [
    "#### i. Decision Tree"
   ]
  },
  {
   "cell_type": "code",
   "execution_count": 55,
   "id": "a99199da",
   "metadata": {},
   "outputs": [
    {
     "name": "stdout",
     "output_type": "stream",
     "text": [
      "Fitting 5 folds for each of 10 candidates, totalling 50 fits\n",
      "\n",
      "Best: BaggingClassifier(base_estimator=DecisionTreeClassifier(max_depth=3,\n",
      "                                                        random_state=0),\n",
      "                  n_estimators=20, n_jobs=-1, random_state=0)\n",
      "Average accuracy: 0.776\n",
      "\n",
      "CPU times: user 93.7 ms, sys: 57.6 ms, total: 151 ms\n",
      "Wall time: 683 ms\n"
     ]
    }
   ],
   "source": [
    "%%time\n",
    "dt_bag = BaggingClassifier(dt_best, random_state=0, n_jobs=-1)\n",
    "dt_bag = grid_search(dt_bag, { \"n_estimators\": ensemble_size })"
   ]
  },
  {
   "cell_type": "markdown",
   "id": "78dbfd26",
   "metadata": {},
   "source": [
    "Using the best performing ensemble size, we can now vary the percentage of instances in bootstrap samples (drawn **with** replacement by default)."
   ]
  },
  {
   "cell_type": "code",
   "execution_count": 56,
   "id": "98fdb4a6",
   "metadata": {},
   "outputs": [
    {
     "name": "stdout",
     "output_type": "stream",
     "text": [
      "Fitting 5 folds for each of 4 candidates, totalling 20 fits\n",
      "\n",
      "Best: BaggingClassifier(base_estimator=DecisionTreeClassifier(max_depth=3,\n",
      "                                                        random_state=0),\n",
      "                  max_samples=0.25, n_estimators=20, n_jobs=-1, random_state=0)\n",
      "Average accuracy: 0.776\n",
      "\n",
      "CPU times: user 33.4 ms, sys: 8.83 ms, total: 42.2 ms\n",
      "Wall time: 440 ms\n"
     ]
    }
   ],
   "source": [
    "%%time\n",
    "dt_bag_best = grid_search(dt_bag, { \"max_samples\": perc_instances })"
   ]
  },
  {
   "cell_type": "markdown",
   "id": "ef45593b",
   "metadata": {},
   "source": [
    "Similar to decision trees above, we can apply the same bagging strategy for the basic neural network and 1-NN classifiers."
   ]
  },
  {
   "cell_type": "markdown",
   "id": "fd3e4c25",
   "metadata": {},
   "source": [
    "#### ii. Neural Network"
   ]
  },
  {
   "cell_type": "code",
   "execution_count": 57,
   "id": "dc98200d",
   "metadata": {
    "scrolled": false
   },
   "outputs": [
    {
     "name": "stdout",
     "output_type": "stream",
     "text": [
      "Fitting 5 folds for each of 10 candidates, totalling 50 fits\n"
     ]
    },
    {
     "name": "stderr",
     "output_type": "stream",
     "text": [
      "/Users/rajitbanerjee/.local/share/conda/envs/comp47490-m1/lib/python3.8/site-packages/sklearn/neural_network/_multilayer_perceptron.py:692: ConvergenceWarning: Stochastic Optimizer: Maximum iterations (200) reached and the optimization hasn't converged yet.\n",
      "  warnings.warn(\n",
      "/Users/rajitbanerjee/.local/share/conda/envs/comp47490-m1/lib/python3.8/site-packages/sklearn/neural_network/_multilayer_perceptron.py:692: ConvergenceWarning: Stochastic Optimizer: Maximum iterations (200) reached and the optimization hasn't converged yet.\n",
      "  warnings.warn(\n",
      "/Users/rajitbanerjee/.local/share/conda/envs/comp47490-m1/lib/python3.8/site-packages/sklearn/neural_network/_multilayer_perceptron.py:692: ConvergenceWarning: Stochastic Optimizer: Maximum iterations (200) reached and the optimization hasn't converged yet.\n",
      "  warnings.warn(\n",
      "/Users/rajitbanerjee/.local/share/conda/envs/comp47490-m1/lib/python3.8/site-packages/sklearn/neural_network/_multilayer_perceptron.py:692: ConvergenceWarning: Stochastic Optimizer: Maximum iterations (200) reached and the optimization hasn't converged yet.\n",
      "  warnings.warn(\n",
      "/Users/rajitbanerjee/.local/share/conda/envs/comp47490-m1/lib/python3.8/site-packages/sklearn/neural_network/_multilayer_perceptron.py:692: ConvergenceWarning: Stochastic Optimizer: Maximum iterations (200) reached and the optimization hasn't converged yet.\n",
      "  warnings.warn(\n",
      "/Users/rajitbanerjee/.local/share/conda/envs/comp47490-m1/lib/python3.8/site-packages/sklearn/neural_network/_multilayer_perceptron.py:692: ConvergenceWarning: Stochastic Optimizer: Maximum iterations (200) reached and the optimization hasn't converged yet.\n",
      "  warnings.warn(\n",
      "/Users/rajitbanerjee/.local/share/conda/envs/comp47490-m1/lib/python3.8/site-packages/sklearn/neural_network/_multilayer_perceptron.py:692: ConvergenceWarning: Stochastic Optimizer: Maximum iterations (200) reached and the optimization hasn't converged yet.\n",
      "  warnings.warn(\n",
      "/Users/rajitbanerjee/.local/share/conda/envs/comp47490-m1/lib/python3.8/site-packages/sklearn/neural_network/_multilayer_perceptron.py:692: ConvergenceWarning: Stochastic Optimizer: Maximum iterations (200) reached and the optimization hasn't converged yet.\n",
      "  warnings.warn(\n",
      "/Users/rajitbanerjee/.local/share/conda/envs/comp47490-m1/lib/python3.8/site-packages/sklearn/neural_network/_multilayer_perceptron.py:692: ConvergenceWarning: Stochastic Optimizer: Maximum iterations (200) reached and the optimization hasn't converged yet.\n",
      "  warnings.warn(\n",
      "/Users/rajitbanerjee/.local/share/conda/envs/comp47490-m1/lib/python3.8/site-packages/sklearn/neural_network/_multilayer_perceptron.py:692: ConvergenceWarning: Stochastic Optimizer: Maximum iterations (200) reached and the optimization hasn't converged yet.\n",
      "  warnings.warn(\n",
      "/Users/rajitbanerjee/.local/share/conda/envs/comp47490-m1/lib/python3.8/site-packages/sklearn/neural_network/_multilayer_perceptron.py:692: ConvergenceWarning: Stochastic Optimizer: Maximum iterations (200) reached and the optimization hasn't converged yet.\n",
      "  warnings.warn(\n",
      "/Users/rajitbanerjee/.local/share/conda/envs/comp47490-m1/lib/python3.8/site-packages/sklearn/neural_network/_multilayer_perceptron.py:692: ConvergenceWarning: Stochastic Optimizer: Maximum iterations (200) reached and the optimization hasn't converged yet.\n",
      "  warnings.warn(\n",
      "/Users/rajitbanerjee/.local/share/conda/envs/comp47490-m1/lib/python3.8/site-packages/sklearn/neural_network/_multilayer_perceptron.py:692: ConvergenceWarning: Stochastic Optimizer: Maximum iterations (200) reached and the optimization hasn't converged yet.\n",
      "  warnings.warn(\n",
      "/Users/rajitbanerjee/.local/share/conda/envs/comp47490-m1/lib/python3.8/site-packages/sklearn/neural_network/_multilayer_perceptron.py:692: ConvergenceWarning: Stochastic Optimizer: Maximum iterations (200) reached and the optimization hasn't converged yet.\n",
      "  warnings.warn(\n",
      "/Users/rajitbanerjee/.local/share/conda/envs/comp47490-m1/lib/python3.8/site-packages/sklearn/neural_network/_multilayer_perceptron.py:692: ConvergenceWarning: Stochastic Optimizer: Maximum iterations (200) reached and the optimization hasn't converged yet.\n",
      "  warnings.warn(\n",
      "/Users/rajitbanerjee/.local/share/conda/envs/comp47490-m1/lib/python3.8/site-packages/sklearn/neural_network/_multilayer_perceptron.py:692: ConvergenceWarning: Stochastic Optimizer: Maximum iterations (200) reached and the optimization hasn't converged yet.\n",
      "  warnings.warn(\n",
      "/Users/rajitbanerjee/.local/share/conda/envs/comp47490-m1/lib/python3.8/site-packages/sklearn/neural_network/_multilayer_perceptron.py:692: ConvergenceWarning: Stochastic Optimizer: Maximum iterations (200) reached and the optimization hasn't converged yet.\n",
      "  warnings.warn(\n",
      "/Users/rajitbanerjee/.local/share/conda/envs/comp47490-m1/lib/python3.8/site-packages/sklearn/neural_network/_multilayer_perceptron.py:692: ConvergenceWarning: Stochastic Optimizer: Maximum iterations (200) reached and the optimization hasn't converged yet.\n",
      "  warnings.warn(\n",
      "/Users/rajitbanerjee/.local/share/conda/envs/comp47490-m1/lib/python3.8/site-packages/sklearn/neural_network/_multilayer_perceptron.py:692: ConvergenceWarning: Stochastic Optimizer: Maximum iterations (200) reached and the optimization hasn't converged yet.\n",
      "  warnings.warn(\n",
      "/Users/rajitbanerjee/.local/share/conda/envs/comp47490-m1/lib/python3.8/site-packages/sklearn/neural_network/_multilayer_perceptron.py:692: ConvergenceWarning: Stochastic Optimizer: Maximum iterations (200) reached and the optimization hasn't converged yet.\n",
      "  warnings.warn(\n",
      "/Users/rajitbanerjee/.local/share/conda/envs/comp47490-m1/lib/python3.8/site-packages/sklearn/neural_network/_multilayer_perceptron.py:692: ConvergenceWarning: Stochastic Optimizer: Maximum iterations (200) reached and the optimization hasn't converged yet.\n",
      "  warnings.warn(\n",
      "/Users/rajitbanerjee/.local/share/conda/envs/comp47490-m1/lib/python3.8/site-packages/sklearn/neural_network/_multilayer_perceptron.py:692: ConvergenceWarning: Stochastic Optimizer: Maximum iterations (200) reached and the optimization hasn't converged yet.\n",
      "  warnings.warn(\n",
      "/Users/rajitbanerjee/.local/share/conda/envs/comp47490-m1/lib/python3.8/site-packages/sklearn/neural_network/_multilayer_perceptron.py:692: ConvergenceWarning: Stochastic Optimizer: Maximum iterations (200) reached and the optimization hasn't converged yet.\n",
      "  warnings.warn(\n",
      "/Users/rajitbanerjee/.local/share/conda/envs/comp47490-m1/lib/python3.8/site-packages/sklearn/neural_network/_multilayer_perceptron.py:692: ConvergenceWarning: Stochastic Optimizer: Maximum iterations (200) reached and the optimization hasn't converged yet.\n",
      "  warnings.warn(\n",
      "/Users/rajitbanerjee/.local/share/conda/envs/comp47490-m1/lib/python3.8/site-packages/sklearn/neural_network/_multilayer_perceptron.py:692: ConvergenceWarning: Stochastic Optimizer: Maximum iterations (200) reached and the optimization hasn't converged yet.\n",
      "  warnings.warn(\n",
      "/Users/rajitbanerjee/.local/share/conda/envs/comp47490-m1/lib/python3.8/site-packages/sklearn/neural_network/_multilayer_perceptron.py:692: ConvergenceWarning: Stochastic Optimizer: Maximum iterations (200) reached and the optimization hasn't converged yet.\n",
      "  warnings.warn(\n",
      "/Users/rajitbanerjee/.local/share/conda/envs/comp47490-m1/lib/python3.8/site-packages/sklearn/neural_network/_multilayer_perceptron.py:692: ConvergenceWarning: Stochastic Optimizer: Maximum iterations (200) reached and the optimization hasn't converged yet.\n",
      "  warnings.warn(\n",
      "/Users/rajitbanerjee/.local/share/conda/envs/comp47490-m1/lib/python3.8/site-packages/sklearn/neural_network/_multilayer_perceptron.py:692: ConvergenceWarning: Stochastic Optimizer: Maximum iterations (200) reached and the optimization hasn't converged yet.\n",
      "  warnings.warn(\n",
      "/Users/rajitbanerjee/.local/share/conda/envs/comp47490-m1/lib/python3.8/site-packages/sklearn/neural_network/_multilayer_perceptron.py:692: ConvergenceWarning: Stochastic Optimizer: Maximum iterations (200) reached and the optimization hasn't converged yet.\n",
      "  warnings.warn(\n",
      "/Users/rajitbanerjee/.local/share/conda/envs/comp47490-m1/lib/python3.8/site-packages/sklearn/neural_network/_multilayer_perceptron.py:692: ConvergenceWarning: Stochastic Optimizer: Maximum iterations (200) reached and the optimization hasn't converged yet.\n",
      "  warnings.warn(\n"
     ]
    },
    {
     "name": "stderr",
     "output_type": "stream",
     "text": [
      "/Users/rajitbanerjee/.local/share/conda/envs/comp47490-m1/lib/python3.8/site-packages/sklearn/neural_network/_multilayer_perceptron.py:692: ConvergenceWarning: Stochastic Optimizer: Maximum iterations (200) reached and the optimization hasn't converged yet.\n",
      "  warnings.warn(\n",
      "/Users/rajitbanerjee/.local/share/conda/envs/comp47490-m1/lib/python3.8/site-packages/sklearn/neural_network/_multilayer_perceptron.py:692: ConvergenceWarning: Stochastic Optimizer: Maximum iterations (200) reached and the optimization hasn't converged yet.\n",
      "  warnings.warn(\n",
      "/Users/rajitbanerjee/.local/share/conda/envs/comp47490-m1/lib/python3.8/site-packages/sklearn/neural_network/_multilayer_perceptron.py:692: ConvergenceWarning: Stochastic Optimizer: Maximum iterations (200) reached and the optimization hasn't converged yet.\n",
      "  warnings.warn(\n",
      "/Users/rajitbanerjee/.local/share/conda/envs/comp47490-m1/lib/python3.8/site-packages/sklearn/neural_network/_multilayer_perceptron.py:692: ConvergenceWarning: Stochastic Optimizer: Maximum iterations (200) reached and the optimization hasn't converged yet.\n",
      "  warnings.warn(\n",
      "/Users/rajitbanerjee/.local/share/conda/envs/comp47490-m1/lib/python3.8/site-packages/sklearn/neural_network/_multilayer_perceptron.py:692: ConvergenceWarning: Stochastic Optimizer: Maximum iterations (200) reached and the optimization hasn't converged yet.\n",
      "  warnings.warn(\n",
      "/Users/rajitbanerjee/.local/share/conda/envs/comp47490-m1/lib/python3.8/site-packages/sklearn/neural_network/_multilayer_perceptron.py:692: ConvergenceWarning: Stochastic Optimizer: Maximum iterations (200) reached and the optimization hasn't converged yet.\n",
      "  warnings.warn(\n",
      "/Users/rajitbanerjee/.local/share/conda/envs/comp47490-m1/lib/python3.8/site-packages/sklearn/neural_network/_multilayer_perceptron.py:692: ConvergenceWarning: Stochastic Optimizer: Maximum iterations (200) reached and the optimization hasn't converged yet.\n",
      "  warnings.warn(\n",
      "/Users/rajitbanerjee/.local/share/conda/envs/comp47490-m1/lib/python3.8/site-packages/sklearn/neural_network/_multilayer_perceptron.py:692: ConvergenceWarning: Stochastic Optimizer: Maximum iterations (200) reached and the optimization hasn't converged yet.\n",
      "  warnings.warn(\n",
      "/Users/rajitbanerjee/.local/share/conda/envs/comp47490-m1/lib/python3.8/site-packages/sklearn/neural_network/_multilayer_perceptron.py:692: ConvergenceWarning: Stochastic Optimizer: Maximum iterations (200) reached and the optimization hasn't converged yet.\n",
      "  warnings.warn(\n",
      "/Users/rajitbanerjee/.local/share/conda/envs/comp47490-m1/lib/python3.8/site-packages/sklearn/neural_network/_multilayer_perceptron.py:692: ConvergenceWarning: Stochastic Optimizer: Maximum iterations (200) reached and the optimization hasn't converged yet.\n",
      "  warnings.warn(\n",
      "/Users/rajitbanerjee/.local/share/conda/envs/comp47490-m1/lib/python3.8/site-packages/sklearn/neural_network/_multilayer_perceptron.py:692: ConvergenceWarning: Stochastic Optimizer: Maximum iterations (200) reached and the optimization hasn't converged yet.\n",
      "  warnings.warn(\n",
      "/Users/rajitbanerjee/.local/share/conda/envs/comp47490-m1/lib/python3.8/site-packages/sklearn/neural_network/_multilayer_perceptron.py:692: ConvergenceWarning: Stochastic Optimizer: Maximum iterations (200) reached and the optimization hasn't converged yet.\n",
      "  warnings.warn(\n",
      "/Users/rajitbanerjee/.local/share/conda/envs/comp47490-m1/lib/python3.8/site-packages/sklearn/neural_network/_multilayer_perceptron.py:692: ConvergenceWarning: Stochastic Optimizer: Maximum iterations (200) reached and the optimization hasn't converged yet.\n",
      "  warnings.warn(\n",
      "/Users/rajitbanerjee/.local/share/conda/envs/comp47490-m1/lib/python3.8/site-packages/sklearn/neural_network/_multilayer_perceptron.py:692: ConvergenceWarning: Stochastic Optimizer: Maximum iterations (200) reached and the optimization hasn't converged yet.\n",
      "  warnings.warn(\n",
      "/Users/rajitbanerjee/.local/share/conda/envs/comp47490-m1/lib/python3.8/site-packages/sklearn/neural_network/_multilayer_perceptron.py:692: ConvergenceWarning: Stochastic Optimizer: Maximum iterations (200) reached and the optimization hasn't converged yet.\n",
      "  warnings.warn(\n",
      "/Users/rajitbanerjee/.local/share/conda/envs/comp47490-m1/lib/python3.8/site-packages/sklearn/neural_network/_multilayer_perceptron.py:692: ConvergenceWarning: Stochastic Optimizer: Maximum iterations (200) reached and the optimization hasn't converged yet.\n",
      "  warnings.warn(\n",
      "/Users/rajitbanerjee/.local/share/conda/envs/comp47490-m1/lib/python3.8/site-packages/sklearn/neural_network/_multilayer_perceptron.py:692: ConvergenceWarning: Stochastic Optimizer: Maximum iterations (200) reached and the optimization hasn't converged yet.\n",
      "  warnings.warn(\n",
      "/Users/rajitbanerjee/.local/share/conda/envs/comp47490-m1/lib/python3.8/site-packages/sklearn/neural_network/_multilayer_perceptron.py:692: ConvergenceWarning: Stochastic Optimizer: Maximum iterations (200) reached and the optimization hasn't converged yet.\n",
      "  warnings.warn(\n",
      "/Users/rajitbanerjee/.local/share/conda/envs/comp47490-m1/lib/python3.8/site-packages/sklearn/neural_network/_multilayer_perceptron.py:692: ConvergenceWarning: Stochastic Optimizer: Maximum iterations (200) reached and the optimization hasn't converged yet.\n",
      "  warnings.warn(\n",
      "/Users/rajitbanerjee/.local/share/conda/envs/comp47490-m1/lib/python3.8/site-packages/sklearn/neural_network/_multilayer_perceptron.py:692: ConvergenceWarning: Stochastic Optimizer: Maximum iterations (200) reached and the optimization hasn't converged yet.\n",
      "  warnings.warn(\n",
      "/Users/rajitbanerjee/.local/share/conda/envs/comp47490-m1/lib/python3.8/site-packages/sklearn/neural_network/_multilayer_perceptron.py:692: ConvergenceWarning: Stochastic Optimizer: Maximum iterations (200) reached and the optimization hasn't converged yet.\n",
      "  warnings.warn(\n",
      "/Users/rajitbanerjee/.local/share/conda/envs/comp47490-m1/lib/python3.8/site-packages/sklearn/neural_network/_multilayer_perceptron.py:692: ConvergenceWarning: Stochastic Optimizer: Maximum iterations (200) reached and the optimization hasn't converged yet.\n",
      "  warnings.warn(\n",
      "/Users/rajitbanerjee/.local/share/conda/envs/comp47490-m1/lib/python3.8/site-packages/sklearn/neural_network/_multilayer_perceptron.py:692: ConvergenceWarning: Stochastic Optimizer: Maximum iterations (200) reached and the optimization hasn't converged yet.\n",
      "  warnings.warn(\n",
      "/Users/rajitbanerjee/.local/share/conda/envs/comp47490-m1/lib/python3.8/site-packages/sklearn/neural_network/_multilayer_perceptron.py:692: ConvergenceWarning: Stochastic Optimizer: Maximum iterations (200) reached and the optimization hasn't converged yet.\n",
      "  warnings.warn(\n",
      "/Users/rajitbanerjee/.local/share/conda/envs/comp47490-m1/lib/python3.8/site-packages/sklearn/neural_network/_multilayer_perceptron.py:692: ConvergenceWarning: Stochastic Optimizer: Maximum iterations (200) reached and the optimization hasn't converged yet.\n",
      "  warnings.warn(\n",
      "/Users/rajitbanerjee/.local/share/conda/envs/comp47490-m1/lib/python3.8/site-packages/sklearn/neural_network/_multilayer_perceptron.py:692: ConvergenceWarning: Stochastic Optimizer: Maximum iterations (200) reached and the optimization hasn't converged yet.\n",
      "  warnings.warn(\n",
      "/Users/rajitbanerjee/.local/share/conda/envs/comp47490-m1/lib/python3.8/site-packages/sklearn/neural_network/_multilayer_perceptron.py:692: ConvergenceWarning: Stochastic Optimizer: Maximum iterations (200) reached and the optimization hasn't converged yet.\n",
      "  warnings.warn(\n",
      "/Users/rajitbanerjee/.local/share/conda/envs/comp47490-m1/lib/python3.8/site-packages/sklearn/neural_network/_multilayer_perceptron.py:692: ConvergenceWarning: Stochastic Optimizer: Maximum iterations (200) reached and the optimization hasn't converged yet.\n",
      "  warnings.warn(\n",
      "/Users/rajitbanerjee/.local/share/conda/envs/comp47490-m1/lib/python3.8/site-packages/sklearn/neural_network/_multilayer_perceptron.py:692: ConvergenceWarning: Stochastic Optimizer: Maximum iterations (200) reached and the optimization hasn't converged yet.\n",
      "  warnings.warn(\n",
      "/Users/rajitbanerjee/.local/share/conda/envs/comp47490-m1/lib/python3.8/site-packages/sklearn/neural_network/_multilayer_perceptron.py:692: ConvergenceWarning: Stochastic Optimizer: Maximum iterations (200) reached and the optimization hasn't converged yet.\n",
      "  warnings.warn(\n"
     ]
    },
    {
     "name": "stderr",
     "output_type": "stream",
     "text": [
      "/Users/rajitbanerjee/.local/share/conda/envs/comp47490-m1/lib/python3.8/site-packages/sklearn/neural_network/_multilayer_perceptron.py:692: ConvergenceWarning: Stochastic Optimizer: Maximum iterations (200) reached and the optimization hasn't converged yet.\n",
      "  warnings.warn(\n",
      "/Users/rajitbanerjee/.local/share/conda/envs/comp47490-m1/lib/python3.8/site-packages/sklearn/neural_network/_multilayer_perceptron.py:692: ConvergenceWarning: Stochastic Optimizer: Maximum iterations (200) reached and the optimization hasn't converged yet.\n",
      "  warnings.warn(\n",
      "/Users/rajitbanerjee/.local/share/conda/envs/comp47490-m1/lib/python3.8/site-packages/sklearn/neural_network/_multilayer_perceptron.py:692: ConvergenceWarning: Stochastic Optimizer: Maximum iterations (200) reached and the optimization hasn't converged yet.\n",
      "  warnings.warn(\n",
      "/Users/rajitbanerjee/.local/share/conda/envs/comp47490-m1/lib/python3.8/site-packages/sklearn/neural_network/_multilayer_perceptron.py:692: ConvergenceWarning: Stochastic Optimizer: Maximum iterations (200) reached and the optimization hasn't converged yet.\n",
      "  warnings.warn(\n",
      "/Users/rajitbanerjee/.local/share/conda/envs/comp47490-m1/lib/python3.8/site-packages/sklearn/neural_network/_multilayer_perceptron.py:692: ConvergenceWarning: Stochastic Optimizer: Maximum iterations (200) reached and the optimization hasn't converged yet.\n",
      "  warnings.warn(\n",
      "/Users/rajitbanerjee/.local/share/conda/envs/comp47490-m1/lib/python3.8/site-packages/sklearn/neural_network/_multilayer_perceptron.py:692: ConvergenceWarning: Stochastic Optimizer: Maximum iterations (200) reached and the optimization hasn't converged yet.\n",
      "  warnings.warn(\n",
      "/Users/rajitbanerjee/.local/share/conda/envs/comp47490-m1/lib/python3.8/site-packages/sklearn/neural_network/_multilayer_perceptron.py:692: ConvergenceWarning: Stochastic Optimizer: Maximum iterations (200) reached and the optimization hasn't converged yet.\n",
      "  warnings.warn(\n",
      "/Users/rajitbanerjee/.local/share/conda/envs/comp47490-m1/lib/python3.8/site-packages/sklearn/neural_network/_multilayer_perceptron.py:692: ConvergenceWarning: Stochastic Optimizer: Maximum iterations (200) reached and the optimization hasn't converged yet.\n",
      "  warnings.warn(\n",
      "/Users/rajitbanerjee/.local/share/conda/envs/comp47490-m1/lib/python3.8/site-packages/sklearn/neural_network/_multilayer_perceptron.py:692: ConvergenceWarning: Stochastic Optimizer: Maximum iterations (200) reached and the optimization hasn't converged yet.\n",
      "  warnings.warn(\n",
      "/Users/rajitbanerjee/.local/share/conda/envs/comp47490-m1/lib/python3.8/site-packages/sklearn/neural_network/_multilayer_perceptron.py:692: ConvergenceWarning: Stochastic Optimizer: Maximum iterations (200) reached and the optimization hasn't converged yet.\n",
      "  warnings.warn(\n",
      "/Users/rajitbanerjee/.local/share/conda/envs/comp47490-m1/lib/python3.8/site-packages/sklearn/neural_network/_multilayer_perceptron.py:692: ConvergenceWarning: Stochastic Optimizer: Maximum iterations (200) reached and the optimization hasn't converged yet.\n",
      "  warnings.warn(\n",
      "/Users/rajitbanerjee/.local/share/conda/envs/comp47490-m1/lib/python3.8/site-packages/sklearn/neural_network/_multilayer_perceptron.py:692: ConvergenceWarning: Stochastic Optimizer: Maximum iterations (200) reached and the optimization hasn't converged yet.\n",
      "  warnings.warn(\n",
      "/Users/rajitbanerjee/.local/share/conda/envs/comp47490-m1/lib/python3.8/site-packages/sklearn/neural_network/_multilayer_perceptron.py:692: ConvergenceWarning: Stochastic Optimizer: Maximum iterations (200) reached and the optimization hasn't converged yet.\n",
      "  warnings.warn(\n",
      "/Users/rajitbanerjee/.local/share/conda/envs/comp47490-m1/lib/python3.8/site-packages/sklearn/neural_network/_multilayer_perceptron.py:692: ConvergenceWarning: Stochastic Optimizer: Maximum iterations (200) reached and the optimization hasn't converged yet.\n",
      "  warnings.warn(\n",
      "/Users/rajitbanerjee/.local/share/conda/envs/comp47490-m1/lib/python3.8/site-packages/sklearn/neural_network/_multilayer_perceptron.py:692: ConvergenceWarning: Stochastic Optimizer: Maximum iterations (200) reached and the optimization hasn't converged yet.\n",
      "  warnings.warn(\n",
      "/Users/rajitbanerjee/.local/share/conda/envs/comp47490-m1/lib/python3.8/site-packages/sklearn/neural_network/_multilayer_perceptron.py:692: ConvergenceWarning: Stochastic Optimizer: Maximum iterations (200) reached and the optimization hasn't converged yet.\n",
      "  warnings.warn(\n",
      "/Users/rajitbanerjee/.local/share/conda/envs/comp47490-m1/lib/python3.8/site-packages/sklearn/neural_network/_multilayer_perceptron.py:692: ConvergenceWarning: Stochastic Optimizer: Maximum iterations (200) reached and the optimization hasn't converged yet.\n",
      "  warnings.warn(\n",
      "/Users/rajitbanerjee/.local/share/conda/envs/comp47490-m1/lib/python3.8/site-packages/sklearn/neural_network/_multilayer_perceptron.py:692: ConvergenceWarning: Stochastic Optimizer: Maximum iterations (200) reached and the optimization hasn't converged yet.\n",
      "  warnings.warn(\n",
      "/Users/rajitbanerjee/.local/share/conda/envs/comp47490-m1/lib/python3.8/site-packages/sklearn/neural_network/_multilayer_perceptron.py:692: ConvergenceWarning: Stochastic Optimizer: Maximum iterations (200) reached and the optimization hasn't converged yet.\n",
      "  warnings.warn(\n",
      "/Users/rajitbanerjee/.local/share/conda/envs/comp47490-m1/lib/python3.8/site-packages/sklearn/neural_network/_multilayer_perceptron.py:692: ConvergenceWarning: Stochastic Optimizer: Maximum iterations (200) reached and the optimization hasn't converged yet.\n",
      "  warnings.warn(\n",
      "/Users/rajitbanerjee/.local/share/conda/envs/comp47490-m1/lib/python3.8/site-packages/sklearn/neural_network/_multilayer_perceptron.py:692: ConvergenceWarning: Stochastic Optimizer: Maximum iterations (200) reached and the optimization hasn't converged yet.\n",
      "  warnings.warn(\n",
      "/Users/rajitbanerjee/.local/share/conda/envs/comp47490-m1/lib/python3.8/site-packages/sklearn/neural_network/_multilayer_perceptron.py:692: ConvergenceWarning: Stochastic Optimizer: Maximum iterations (200) reached and the optimization hasn't converged yet.\n",
      "  warnings.warn(\n",
      "/Users/rajitbanerjee/.local/share/conda/envs/comp47490-m1/lib/python3.8/site-packages/sklearn/neural_network/_multilayer_perceptron.py:692: ConvergenceWarning: Stochastic Optimizer: Maximum iterations (200) reached and the optimization hasn't converged yet.\n",
      "  warnings.warn(\n",
      "/Users/rajitbanerjee/.local/share/conda/envs/comp47490-m1/lib/python3.8/site-packages/sklearn/neural_network/_multilayer_perceptron.py:692: ConvergenceWarning: Stochastic Optimizer: Maximum iterations (200) reached and the optimization hasn't converged yet.\n",
      "  warnings.warn(\n",
      "/Users/rajitbanerjee/.local/share/conda/envs/comp47490-m1/lib/python3.8/site-packages/sklearn/neural_network/_multilayer_perceptron.py:692: ConvergenceWarning: Stochastic Optimizer: Maximum iterations (200) reached and the optimization hasn't converged yet.\n",
      "  warnings.warn(\n",
      "/Users/rajitbanerjee/.local/share/conda/envs/comp47490-m1/lib/python3.8/site-packages/sklearn/neural_network/_multilayer_perceptron.py:692: ConvergenceWarning: Stochastic Optimizer: Maximum iterations (200) reached and the optimization hasn't converged yet.\n",
      "  warnings.warn(\n",
      "/Users/rajitbanerjee/.local/share/conda/envs/comp47490-m1/lib/python3.8/site-packages/sklearn/neural_network/_multilayer_perceptron.py:692: ConvergenceWarning: Stochastic Optimizer: Maximum iterations (200) reached and the optimization hasn't converged yet.\n",
      "  warnings.warn(\n",
      "/Users/rajitbanerjee/.local/share/conda/envs/comp47490-m1/lib/python3.8/site-packages/sklearn/neural_network/_multilayer_perceptron.py:692: ConvergenceWarning: Stochastic Optimizer: Maximum iterations (200) reached and the optimization hasn't converged yet.\n",
      "  warnings.warn(\n",
      "/Users/rajitbanerjee/.local/share/conda/envs/comp47490-m1/lib/python3.8/site-packages/sklearn/neural_network/_multilayer_perceptron.py:692: ConvergenceWarning: Stochastic Optimizer: Maximum iterations (200) reached and the optimization hasn't converged yet.\n",
      "  warnings.warn(\n",
      "/Users/rajitbanerjee/.local/share/conda/envs/comp47490-m1/lib/python3.8/site-packages/sklearn/neural_network/_multilayer_perceptron.py:692: ConvergenceWarning: Stochastic Optimizer: Maximum iterations (200) reached and the optimization hasn't converged yet.\n",
      "  warnings.warn(\n",
      "/Users/rajitbanerjee/.local/share/conda/envs/comp47490-m1/lib/python3.8/site-packages/sklearn/neural_network/_multilayer_perceptron.py:692: ConvergenceWarning: Stochastic Optimizer: Maximum iterations (200) reached and the optimization hasn't converged yet.\n",
      "  warnings.warn(\n",
      "/Users/rajitbanerjee/.local/share/conda/envs/comp47490-m1/lib/python3.8/site-packages/sklearn/neural_network/_multilayer_perceptron.py:692: ConvergenceWarning: Stochastic Optimizer: Maximum iterations (200) reached and the optimization hasn't converged yet.\n",
      "  warnings.warn(\n"
     ]
    },
    {
     "name": "stderr",
     "output_type": "stream",
     "text": [
      "/Users/rajitbanerjee/.local/share/conda/envs/comp47490-m1/lib/python3.8/site-packages/sklearn/neural_network/_multilayer_perceptron.py:692: ConvergenceWarning: Stochastic Optimizer: Maximum iterations (200) reached and the optimization hasn't converged yet.\n",
      "  warnings.warn(\n",
      "/Users/rajitbanerjee/.local/share/conda/envs/comp47490-m1/lib/python3.8/site-packages/sklearn/neural_network/_multilayer_perceptron.py:692: ConvergenceWarning: Stochastic Optimizer: Maximum iterations (200) reached and the optimization hasn't converged yet.\n",
      "  warnings.warn(\n",
      "/Users/rajitbanerjee/.local/share/conda/envs/comp47490-m1/lib/python3.8/site-packages/sklearn/neural_network/_multilayer_perceptron.py:692: ConvergenceWarning: Stochastic Optimizer: Maximum iterations (200) reached and the optimization hasn't converged yet.\n",
      "  warnings.warn(\n",
      "/Users/rajitbanerjee/.local/share/conda/envs/comp47490-m1/lib/python3.8/site-packages/sklearn/neural_network/_multilayer_perceptron.py:692: ConvergenceWarning: Stochastic Optimizer: Maximum iterations (200) reached and the optimization hasn't converged yet.\n",
      "  warnings.warn(\n",
      "/Users/rajitbanerjee/.local/share/conda/envs/comp47490-m1/lib/python3.8/site-packages/sklearn/neural_network/_multilayer_perceptron.py:692: ConvergenceWarning: Stochastic Optimizer: Maximum iterations (200) reached and the optimization hasn't converged yet.\n",
      "  warnings.warn(\n",
      "/Users/rajitbanerjee/.local/share/conda/envs/comp47490-m1/lib/python3.8/site-packages/sklearn/neural_network/_multilayer_perceptron.py:692: ConvergenceWarning: Stochastic Optimizer: Maximum iterations (200) reached and the optimization hasn't converged yet.\n",
      "  warnings.warn(\n",
      "/Users/rajitbanerjee/.local/share/conda/envs/comp47490-m1/lib/python3.8/site-packages/sklearn/neural_network/_multilayer_perceptron.py:692: ConvergenceWarning: Stochastic Optimizer: Maximum iterations (200) reached and the optimization hasn't converged yet.\n",
      "  warnings.warn(\n",
      "/Users/rajitbanerjee/.local/share/conda/envs/comp47490-m1/lib/python3.8/site-packages/sklearn/neural_network/_multilayer_perceptron.py:692: ConvergenceWarning: Stochastic Optimizer: Maximum iterations (200) reached and the optimization hasn't converged yet.\n",
      "  warnings.warn(\n",
      "/Users/rajitbanerjee/.local/share/conda/envs/comp47490-m1/lib/python3.8/site-packages/sklearn/neural_network/_multilayer_perceptron.py:692: ConvergenceWarning: Stochastic Optimizer: Maximum iterations (200) reached and the optimization hasn't converged yet.\n",
      "  warnings.warn(\n",
      "/Users/rajitbanerjee/.local/share/conda/envs/comp47490-m1/lib/python3.8/site-packages/sklearn/neural_network/_multilayer_perceptron.py:692: ConvergenceWarning: Stochastic Optimizer: Maximum iterations (200) reached and the optimization hasn't converged yet.\n",
      "  warnings.warn(\n",
      "/Users/rajitbanerjee/.local/share/conda/envs/comp47490-m1/lib/python3.8/site-packages/sklearn/neural_network/_multilayer_perceptron.py:692: ConvergenceWarning: Stochastic Optimizer: Maximum iterations (200) reached and the optimization hasn't converged yet.\n",
      "  warnings.warn(\n",
      "/Users/rajitbanerjee/.local/share/conda/envs/comp47490-m1/lib/python3.8/site-packages/sklearn/neural_network/_multilayer_perceptron.py:692: ConvergenceWarning: Stochastic Optimizer: Maximum iterations (200) reached and the optimization hasn't converged yet.\n",
      "  warnings.warn(\n",
      "/Users/rajitbanerjee/.local/share/conda/envs/comp47490-m1/lib/python3.8/site-packages/sklearn/neural_network/_multilayer_perceptron.py:692: ConvergenceWarning: Stochastic Optimizer: Maximum iterations (200) reached and the optimization hasn't converged yet.\n",
      "  warnings.warn(\n",
      "/Users/rajitbanerjee/.local/share/conda/envs/comp47490-m1/lib/python3.8/site-packages/sklearn/neural_network/_multilayer_perceptron.py:692: ConvergenceWarning: Stochastic Optimizer: Maximum iterations (200) reached and the optimization hasn't converged yet.\n",
      "  warnings.warn(\n",
      "/Users/rajitbanerjee/.local/share/conda/envs/comp47490-m1/lib/python3.8/site-packages/sklearn/neural_network/_multilayer_perceptron.py:692: ConvergenceWarning: Stochastic Optimizer: Maximum iterations (200) reached and the optimization hasn't converged yet.\n",
      "  warnings.warn(\n",
      "/Users/rajitbanerjee/.local/share/conda/envs/comp47490-m1/lib/python3.8/site-packages/sklearn/neural_network/_multilayer_perceptron.py:692: ConvergenceWarning: Stochastic Optimizer: Maximum iterations (200) reached and the optimization hasn't converged yet.\n",
      "  warnings.warn(\n",
      "/Users/rajitbanerjee/.local/share/conda/envs/comp47490-m1/lib/python3.8/site-packages/sklearn/neural_network/_multilayer_perceptron.py:692: ConvergenceWarning: Stochastic Optimizer: Maximum iterations (200) reached and the optimization hasn't converged yet.\n",
      "  warnings.warn(\n",
      "/Users/rajitbanerjee/.local/share/conda/envs/comp47490-m1/lib/python3.8/site-packages/sklearn/neural_network/_multilayer_perceptron.py:692: ConvergenceWarning: Stochastic Optimizer: Maximum iterations (200) reached and the optimization hasn't converged yet.\n",
      "  warnings.warn(\n",
      "/Users/rajitbanerjee/.local/share/conda/envs/comp47490-m1/lib/python3.8/site-packages/sklearn/neural_network/_multilayer_perceptron.py:692: ConvergenceWarning: Stochastic Optimizer: Maximum iterations (200) reached and the optimization hasn't converged yet.\n",
      "  warnings.warn(\n",
      "/Users/rajitbanerjee/.local/share/conda/envs/comp47490-m1/lib/python3.8/site-packages/sklearn/neural_network/_multilayer_perceptron.py:692: ConvergenceWarning: Stochastic Optimizer: Maximum iterations (200) reached and the optimization hasn't converged yet.\n",
      "  warnings.warn(\n",
      "/Users/rajitbanerjee/.local/share/conda/envs/comp47490-m1/lib/python3.8/site-packages/sklearn/neural_network/_multilayer_perceptron.py:692: ConvergenceWarning: Stochastic Optimizer: Maximum iterations (200) reached and the optimization hasn't converged yet.\n",
      "  warnings.warn(\n",
      "/Users/rajitbanerjee/.local/share/conda/envs/comp47490-m1/lib/python3.8/site-packages/sklearn/neural_network/_multilayer_perceptron.py:692: ConvergenceWarning: Stochastic Optimizer: Maximum iterations (200) reached and the optimization hasn't converged yet.\n",
      "  warnings.warn(\n",
      "/Users/rajitbanerjee/.local/share/conda/envs/comp47490-m1/lib/python3.8/site-packages/sklearn/neural_network/_multilayer_perceptron.py:692: ConvergenceWarning: Stochastic Optimizer: Maximum iterations (200) reached and the optimization hasn't converged yet.\n",
      "  warnings.warn(\n",
      "/Users/rajitbanerjee/.local/share/conda/envs/comp47490-m1/lib/python3.8/site-packages/sklearn/neural_network/_multilayer_perceptron.py:692: ConvergenceWarning: Stochastic Optimizer: Maximum iterations (200) reached and the optimization hasn't converged yet.\n",
      "  warnings.warn(\n",
      "/Users/rajitbanerjee/.local/share/conda/envs/comp47490-m1/lib/python3.8/site-packages/sklearn/neural_network/_multilayer_perceptron.py:692: ConvergenceWarning: Stochastic Optimizer: Maximum iterations (200) reached and the optimization hasn't converged yet.\n",
      "  warnings.warn(\n",
      "/Users/rajitbanerjee/.local/share/conda/envs/comp47490-m1/lib/python3.8/site-packages/sklearn/neural_network/_multilayer_perceptron.py:692: ConvergenceWarning: Stochastic Optimizer: Maximum iterations (200) reached and the optimization hasn't converged yet.\n",
      "  warnings.warn(\n",
      "/Users/rajitbanerjee/.local/share/conda/envs/comp47490-m1/lib/python3.8/site-packages/sklearn/neural_network/_multilayer_perceptron.py:692: ConvergenceWarning: Stochastic Optimizer: Maximum iterations (200) reached and the optimization hasn't converged yet.\n",
      "  warnings.warn(\n",
      "/Users/rajitbanerjee/.local/share/conda/envs/comp47490-m1/lib/python3.8/site-packages/sklearn/neural_network/_multilayer_perceptron.py:692: ConvergenceWarning: Stochastic Optimizer: Maximum iterations (200) reached and the optimization hasn't converged yet.\n",
      "  warnings.warn(\n",
      "/Users/rajitbanerjee/.local/share/conda/envs/comp47490-m1/lib/python3.8/site-packages/sklearn/neural_network/_multilayer_perceptron.py:692: ConvergenceWarning: Stochastic Optimizer: Maximum iterations (200) reached and the optimization hasn't converged yet.\n",
      "  warnings.warn(\n",
      "/Users/rajitbanerjee/.local/share/conda/envs/comp47490-m1/lib/python3.8/site-packages/sklearn/neural_network/_multilayer_perceptron.py:692: ConvergenceWarning: Stochastic Optimizer: Maximum iterations (200) reached and the optimization hasn't converged yet.\n",
      "  warnings.warn(\n"
     ]
    },
    {
     "name": "stderr",
     "output_type": "stream",
     "text": [
      "/Users/rajitbanerjee/.local/share/conda/envs/comp47490-m1/lib/python3.8/site-packages/sklearn/neural_network/_multilayer_perceptron.py:692: ConvergenceWarning: Stochastic Optimizer: Maximum iterations (200) reached and the optimization hasn't converged yet.\n",
      "  warnings.warn(\n",
      "/Users/rajitbanerjee/.local/share/conda/envs/comp47490-m1/lib/python3.8/site-packages/sklearn/neural_network/_multilayer_perceptron.py:692: ConvergenceWarning: Stochastic Optimizer: Maximum iterations (200) reached and the optimization hasn't converged yet.\n",
      "  warnings.warn(\n",
      "/Users/rajitbanerjee/.local/share/conda/envs/comp47490-m1/lib/python3.8/site-packages/sklearn/neural_network/_multilayer_perceptron.py:692: ConvergenceWarning: Stochastic Optimizer: Maximum iterations (200) reached and the optimization hasn't converged yet.\n",
      "  warnings.warn(\n",
      "/Users/rajitbanerjee/.local/share/conda/envs/comp47490-m1/lib/python3.8/site-packages/sklearn/neural_network/_multilayer_perceptron.py:692: ConvergenceWarning: Stochastic Optimizer: Maximum iterations (200) reached and the optimization hasn't converged yet.\n",
      "  warnings.warn(\n",
      "/Users/rajitbanerjee/.local/share/conda/envs/comp47490-m1/lib/python3.8/site-packages/sklearn/neural_network/_multilayer_perceptron.py:692: ConvergenceWarning: Stochastic Optimizer: Maximum iterations (200) reached and the optimization hasn't converged yet.\n",
      "  warnings.warn(\n",
      "/Users/rajitbanerjee/.local/share/conda/envs/comp47490-m1/lib/python3.8/site-packages/sklearn/neural_network/_multilayer_perceptron.py:692: ConvergenceWarning: Stochastic Optimizer: Maximum iterations (200) reached and the optimization hasn't converged yet.\n",
      "  warnings.warn(\n",
      "/Users/rajitbanerjee/.local/share/conda/envs/comp47490-m1/lib/python3.8/site-packages/sklearn/neural_network/_multilayer_perceptron.py:692: ConvergenceWarning: Stochastic Optimizer: Maximum iterations (200) reached and the optimization hasn't converged yet.\n",
      "  warnings.warn(\n",
      "/Users/rajitbanerjee/.local/share/conda/envs/comp47490-m1/lib/python3.8/site-packages/sklearn/neural_network/_multilayer_perceptron.py:692: ConvergenceWarning: Stochastic Optimizer: Maximum iterations (200) reached and the optimization hasn't converged yet.\n",
      "  warnings.warn(\n",
      "/Users/rajitbanerjee/.local/share/conda/envs/comp47490-m1/lib/python3.8/site-packages/sklearn/neural_network/_multilayer_perceptron.py:692: ConvergenceWarning: Stochastic Optimizer: Maximum iterations (200) reached and the optimization hasn't converged yet.\n",
      "  warnings.warn(\n",
      "/Users/rajitbanerjee/.local/share/conda/envs/comp47490-m1/lib/python3.8/site-packages/sklearn/neural_network/_multilayer_perceptron.py:692: ConvergenceWarning: Stochastic Optimizer: Maximum iterations (200) reached and the optimization hasn't converged yet.\n",
      "  warnings.warn(\n",
      "/Users/rajitbanerjee/.local/share/conda/envs/comp47490-m1/lib/python3.8/site-packages/sklearn/neural_network/_multilayer_perceptron.py:692: ConvergenceWarning: Stochastic Optimizer: Maximum iterations (200) reached and the optimization hasn't converged yet.\n",
      "  warnings.warn(\n",
      "/Users/rajitbanerjee/.local/share/conda/envs/comp47490-m1/lib/python3.8/site-packages/sklearn/neural_network/_multilayer_perceptron.py:692: ConvergenceWarning: Stochastic Optimizer: Maximum iterations (200) reached and the optimization hasn't converged yet.\n",
      "  warnings.warn(\n",
      "/Users/rajitbanerjee/.local/share/conda/envs/comp47490-m1/lib/python3.8/site-packages/sklearn/neural_network/_multilayer_perceptron.py:692: ConvergenceWarning: Stochastic Optimizer: Maximum iterations (200) reached and the optimization hasn't converged yet.\n",
      "  warnings.warn(\n",
      "/Users/rajitbanerjee/.local/share/conda/envs/comp47490-m1/lib/python3.8/site-packages/sklearn/neural_network/_multilayer_perceptron.py:692: ConvergenceWarning: Stochastic Optimizer: Maximum iterations (200) reached and the optimization hasn't converged yet.\n",
      "  warnings.warn(\n",
      "/Users/rajitbanerjee/.local/share/conda/envs/comp47490-m1/lib/python3.8/site-packages/sklearn/neural_network/_multilayer_perceptron.py:692: ConvergenceWarning: Stochastic Optimizer: Maximum iterations (200) reached and the optimization hasn't converged yet.\n",
      "  warnings.warn(\n",
      "/Users/rajitbanerjee/.local/share/conda/envs/comp47490-m1/lib/python3.8/site-packages/sklearn/neural_network/_multilayer_perceptron.py:692: ConvergenceWarning: Stochastic Optimizer: Maximum iterations (200) reached and the optimization hasn't converged yet.\n",
      "  warnings.warn(\n",
      "/Users/rajitbanerjee/.local/share/conda/envs/comp47490-m1/lib/python3.8/site-packages/sklearn/neural_network/_multilayer_perceptron.py:692: ConvergenceWarning: Stochastic Optimizer: Maximum iterations (200) reached and the optimization hasn't converged yet.\n",
      "  warnings.warn(\n",
      "/Users/rajitbanerjee/.local/share/conda/envs/comp47490-m1/lib/python3.8/site-packages/sklearn/neural_network/_multilayer_perceptron.py:692: ConvergenceWarning: Stochastic Optimizer: Maximum iterations (200) reached and the optimization hasn't converged yet.\n",
      "  warnings.warn(\n",
      "/Users/rajitbanerjee/.local/share/conda/envs/comp47490-m1/lib/python3.8/site-packages/sklearn/neural_network/_multilayer_perceptron.py:692: ConvergenceWarning: Stochastic Optimizer: Maximum iterations (200) reached and the optimization hasn't converged yet.\n",
      "  warnings.warn(\n",
      "/Users/rajitbanerjee/.local/share/conda/envs/comp47490-m1/lib/python3.8/site-packages/sklearn/neural_network/_multilayer_perceptron.py:692: ConvergenceWarning: Stochastic Optimizer: Maximum iterations (200) reached and the optimization hasn't converged yet.\n",
      "  warnings.warn(\n",
      "/Users/rajitbanerjee/.local/share/conda/envs/comp47490-m1/lib/python3.8/site-packages/sklearn/neural_network/_multilayer_perceptron.py:692: ConvergenceWarning: Stochastic Optimizer: Maximum iterations (200) reached and the optimization hasn't converged yet.\n",
      "  warnings.warn(\n",
      "/Users/rajitbanerjee/.local/share/conda/envs/comp47490-m1/lib/python3.8/site-packages/sklearn/neural_network/_multilayer_perceptron.py:692: ConvergenceWarning: Stochastic Optimizer: Maximum iterations (200) reached and the optimization hasn't converged yet.\n",
      "  warnings.warn(\n",
      "/Users/rajitbanerjee/.local/share/conda/envs/comp47490-m1/lib/python3.8/site-packages/sklearn/neural_network/_multilayer_perceptron.py:692: ConvergenceWarning: Stochastic Optimizer: Maximum iterations (200) reached and the optimization hasn't converged yet.\n",
      "  warnings.warn(\n",
      "/Users/rajitbanerjee/.local/share/conda/envs/comp47490-m1/lib/python3.8/site-packages/sklearn/neural_network/_multilayer_perceptron.py:692: ConvergenceWarning: Stochastic Optimizer: Maximum iterations (200) reached and the optimization hasn't converged yet.\n",
      "  warnings.warn(\n",
      "/Users/rajitbanerjee/.local/share/conda/envs/comp47490-m1/lib/python3.8/site-packages/sklearn/neural_network/_multilayer_perceptron.py:692: ConvergenceWarning: Stochastic Optimizer: Maximum iterations (200) reached and the optimization hasn't converged yet.\n",
      "  warnings.warn(\n",
      "/Users/rajitbanerjee/.local/share/conda/envs/comp47490-m1/lib/python3.8/site-packages/sklearn/neural_network/_multilayer_perceptron.py:692: ConvergenceWarning: Stochastic Optimizer: Maximum iterations (200) reached and the optimization hasn't converged yet.\n",
      "  warnings.warn(\n",
      "/Users/rajitbanerjee/.local/share/conda/envs/comp47490-m1/lib/python3.8/site-packages/sklearn/neural_network/_multilayer_perceptron.py:692: ConvergenceWarning: Stochastic Optimizer: Maximum iterations (200) reached and the optimization hasn't converged yet.\n",
      "  warnings.warn(\n",
      "/Users/rajitbanerjee/.local/share/conda/envs/comp47490-m1/lib/python3.8/site-packages/sklearn/neural_network/_multilayer_perceptron.py:692: ConvergenceWarning: Stochastic Optimizer: Maximum iterations (200) reached and the optimization hasn't converged yet.\n",
      "  warnings.warn(\n",
      "/Users/rajitbanerjee/.local/share/conda/envs/comp47490-m1/lib/python3.8/site-packages/sklearn/neural_network/_multilayer_perceptron.py:692: ConvergenceWarning: Stochastic Optimizer: Maximum iterations (200) reached and the optimization hasn't converged yet.\n",
      "  warnings.warn(\n",
      "/Users/rajitbanerjee/.local/share/conda/envs/comp47490-m1/lib/python3.8/site-packages/sklearn/neural_network/_multilayer_perceptron.py:692: ConvergenceWarning: Stochastic Optimizer: Maximum iterations (200) reached and the optimization hasn't converged yet.\n",
      "  warnings.warn(\n"
     ]
    },
    {
     "name": "stderr",
     "output_type": "stream",
     "text": [
      "/Users/rajitbanerjee/.local/share/conda/envs/comp47490-m1/lib/python3.8/site-packages/sklearn/neural_network/_multilayer_perceptron.py:692: ConvergenceWarning: Stochastic Optimizer: Maximum iterations (200) reached and the optimization hasn't converged yet.\n",
      "  warnings.warn(\n",
      "/Users/rajitbanerjee/.local/share/conda/envs/comp47490-m1/lib/python3.8/site-packages/sklearn/neural_network/_multilayer_perceptron.py:692: ConvergenceWarning: Stochastic Optimizer: Maximum iterations (200) reached and the optimization hasn't converged yet.\n",
      "  warnings.warn(\n",
      "/Users/rajitbanerjee/.local/share/conda/envs/comp47490-m1/lib/python3.8/site-packages/sklearn/neural_network/_multilayer_perceptron.py:692: ConvergenceWarning: Stochastic Optimizer: Maximum iterations (200) reached and the optimization hasn't converged yet.\n",
      "  warnings.warn(\n",
      "/Users/rajitbanerjee/.local/share/conda/envs/comp47490-m1/lib/python3.8/site-packages/sklearn/neural_network/_multilayer_perceptron.py:692: ConvergenceWarning: Stochastic Optimizer: Maximum iterations (200) reached and the optimization hasn't converged yet.\n",
      "  warnings.warn(\n",
      "/Users/rajitbanerjee/.local/share/conda/envs/comp47490-m1/lib/python3.8/site-packages/sklearn/neural_network/_multilayer_perceptron.py:692: ConvergenceWarning: Stochastic Optimizer: Maximum iterations (200) reached and the optimization hasn't converged yet.\n",
      "  warnings.warn(\n",
      "/Users/rajitbanerjee/.local/share/conda/envs/comp47490-m1/lib/python3.8/site-packages/sklearn/neural_network/_multilayer_perceptron.py:692: ConvergenceWarning: Stochastic Optimizer: Maximum iterations (200) reached and the optimization hasn't converged yet.\n",
      "  warnings.warn(\n",
      "/Users/rajitbanerjee/.local/share/conda/envs/comp47490-m1/lib/python3.8/site-packages/sklearn/neural_network/_multilayer_perceptron.py:692: ConvergenceWarning: Stochastic Optimizer: Maximum iterations (200) reached and the optimization hasn't converged yet.\n",
      "  warnings.warn(\n",
      "/Users/rajitbanerjee/.local/share/conda/envs/comp47490-m1/lib/python3.8/site-packages/sklearn/neural_network/_multilayer_perceptron.py:692: ConvergenceWarning: Stochastic Optimizer: Maximum iterations (200) reached and the optimization hasn't converged yet.\n",
      "  warnings.warn(\n",
      "/Users/rajitbanerjee/.local/share/conda/envs/comp47490-m1/lib/python3.8/site-packages/sklearn/neural_network/_multilayer_perceptron.py:692: ConvergenceWarning: Stochastic Optimizer: Maximum iterations (200) reached and the optimization hasn't converged yet.\n",
      "  warnings.warn(\n",
      "/Users/rajitbanerjee/.local/share/conda/envs/comp47490-m1/lib/python3.8/site-packages/sklearn/neural_network/_multilayer_perceptron.py:692: ConvergenceWarning: Stochastic Optimizer: Maximum iterations (200) reached and the optimization hasn't converged yet.\n",
      "  warnings.warn(\n",
      "/Users/rajitbanerjee/.local/share/conda/envs/comp47490-m1/lib/python3.8/site-packages/sklearn/neural_network/_multilayer_perceptron.py:692: ConvergenceWarning: Stochastic Optimizer: Maximum iterations (200) reached and the optimization hasn't converged yet.\n",
      "  warnings.warn(\n",
      "/Users/rajitbanerjee/.local/share/conda/envs/comp47490-m1/lib/python3.8/site-packages/sklearn/neural_network/_multilayer_perceptron.py:692: ConvergenceWarning: Stochastic Optimizer: Maximum iterations (200) reached and the optimization hasn't converged yet.\n",
      "  warnings.warn(\n",
      "/Users/rajitbanerjee/.local/share/conda/envs/comp47490-m1/lib/python3.8/site-packages/sklearn/neural_network/_multilayer_perceptron.py:692: ConvergenceWarning: Stochastic Optimizer: Maximum iterations (200) reached and the optimization hasn't converged yet.\n",
      "  warnings.warn(\n",
      "/Users/rajitbanerjee/.local/share/conda/envs/comp47490-m1/lib/python3.8/site-packages/sklearn/neural_network/_multilayer_perceptron.py:692: ConvergenceWarning: Stochastic Optimizer: Maximum iterations (200) reached and the optimization hasn't converged yet.\n",
      "  warnings.warn(\n",
      "/Users/rajitbanerjee/.local/share/conda/envs/comp47490-m1/lib/python3.8/site-packages/sklearn/neural_network/_multilayer_perceptron.py:692: ConvergenceWarning: Stochastic Optimizer: Maximum iterations (200) reached and the optimization hasn't converged yet.\n",
      "  warnings.warn(\n",
      "/Users/rajitbanerjee/.local/share/conda/envs/comp47490-m1/lib/python3.8/site-packages/sklearn/neural_network/_multilayer_perceptron.py:692: ConvergenceWarning: Stochastic Optimizer: Maximum iterations (200) reached and the optimization hasn't converged yet.\n",
      "  warnings.warn(\n",
      "/Users/rajitbanerjee/.local/share/conda/envs/comp47490-m1/lib/python3.8/site-packages/sklearn/neural_network/_multilayer_perceptron.py:692: ConvergenceWarning: Stochastic Optimizer: Maximum iterations (200) reached and the optimization hasn't converged yet.\n",
      "  warnings.warn(\n",
      "/Users/rajitbanerjee/.local/share/conda/envs/comp47490-m1/lib/python3.8/site-packages/sklearn/neural_network/_multilayer_perceptron.py:692: ConvergenceWarning: Stochastic Optimizer: Maximum iterations (200) reached and the optimization hasn't converged yet.\n",
      "  warnings.warn(\n",
      "/Users/rajitbanerjee/.local/share/conda/envs/comp47490-m1/lib/python3.8/site-packages/sklearn/neural_network/_multilayer_perceptron.py:692: ConvergenceWarning: Stochastic Optimizer: Maximum iterations (200) reached and the optimization hasn't converged yet.\n",
      "  warnings.warn(\n",
      "/Users/rajitbanerjee/.local/share/conda/envs/comp47490-m1/lib/python3.8/site-packages/sklearn/neural_network/_multilayer_perceptron.py:692: ConvergenceWarning: Stochastic Optimizer: Maximum iterations (200) reached and the optimization hasn't converged yet.\n",
      "  warnings.warn(\n",
      "/Users/rajitbanerjee/.local/share/conda/envs/comp47490-m1/lib/python3.8/site-packages/sklearn/neural_network/_multilayer_perceptron.py:692: ConvergenceWarning: Stochastic Optimizer: Maximum iterations (200) reached and the optimization hasn't converged yet.\n",
      "  warnings.warn(\n",
      "/Users/rajitbanerjee/.local/share/conda/envs/comp47490-m1/lib/python3.8/site-packages/sklearn/neural_network/_multilayer_perceptron.py:692: ConvergenceWarning: Stochastic Optimizer: Maximum iterations (200) reached and the optimization hasn't converged yet.\n",
      "  warnings.warn(\n",
      "/Users/rajitbanerjee/.local/share/conda/envs/comp47490-m1/lib/python3.8/site-packages/sklearn/neural_network/_multilayer_perceptron.py:692: ConvergenceWarning: Stochastic Optimizer: Maximum iterations (200) reached and the optimization hasn't converged yet.\n",
      "  warnings.warn(\n",
      "/Users/rajitbanerjee/.local/share/conda/envs/comp47490-m1/lib/python3.8/site-packages/sklearn/neural_network/_multilayer_perceptron.py:692: ConvergenceWarning: Stochastic Optimizer: Maximum iterations (200) reached and the optimization hasn't converged yet.\n",
      "  warnings.warn(\n",
      "/Users/rajitbanerjee/.local/share/conda/envs/comp47490-m1/lib/python3.8/site-packages/sklearn/neural_network/_multilayer_perceptron.py:692: ConvergenceWarning: Stochastic Optimizer: Maximum iterations (200) reached and the optimization hasn't converged yet.\n",
      "  warnings.warn(\n",
      "/Users/rajitbanerjee/.local/share/conda/envs/comp47490-m1/lib/python3.8/site-packages/sklearn/neural_network/_multilayer_perceptron.py:692: ConvergenceWarning: Stochastic Optimizer: Maximum iterations (200) reached and the optimization hasn't converged yet.\n",
      "  warnings.warn(\n",
      "/Users/rajitbanerjee/.local/share/conda/envs/comp47490-m1/lib/python3.8/site-packages/sklearn/neural_network/_multilayer_perceptron.py:692: ConvergenceWarning: Stochastic Optimizer: Maximum iterations (200) reached and the optimization hasn't converged yet.\n",
      "  warnings.warn(\n",
      "/Users/rajitbanerjee/.local/share/conda/envs/comp47490-m1/lib/python3.8/site-packages/sklearn/neural_network/_multilayer_perceptron.py:692: ConvergenceWarning: Stochastic Optimizer: Maximum iterations (200) reached and the optimization hasn't converged yet.\n",
      "  warnings.warn(\n",
      "/Users/rajitbanerjee/.local/share/conda/envs/comp47490-m1/lib/python3.8/site-packages/sklearn/neural_network/_multilayer_perceptron.py:692: ConvergenceWarning: Stochastic Optimizer: Maximum iterations (200) reached and the optimization hasn't converged yet.\n",
      "  warnings.warn(\n",
      "/Users/rajitbanerjee/.local/share/conda/envs/comp47490-m1/lib/python3.8/site-packages/sklearn/neural_network/_multilayer_perceptron.py:692: ConvergenceWarning: Stochastic Optimizer: Maximum iterations (200) reached and the optimization hasn't converged yet.\n",
      "  warnings.warn(\n",
      "/Users/rajitbanerjee/.local/share/conda/envs/comp47490-m1/lib/python3.8/site-packages/sklearn/neural_network/_multilayer_perceptron.py:692: ConvergenceWarning: Stochastic Optimizer: Maximum iterations (200) reached and the optimization hasn't converged yet.\n",
      "  warnings.warn(\n",
      "/Users/rajitbanerjee/.local/share/conda/envs/comp47490-m1/lib/python3.8/site-packages/sklearn/neural_network/_multilayer_perceptron.py:692: ConvergenceWarning: Stochastic Optimizer: Maximum iterations (200) reached and the optimization hasn't converged yet.\n",
      "  warnings.warn(\n"
     ]
    },
    {
     "name": "stderr",
     "output_type": "stream",
     "text": [
      "/Users/rajitbanerjee/.local/share/conda/envs/comp47490-m1/lib/python3.8/site-packages/sklearn/neural_network/_multilayer_perceptron.py:692: ConvergenceWarning: Stochastic Optimizer: Maximum iterations (200) reached and the optimization hasn't converged yet.\n",
      "  warnings.warn(\n",
      "/Users/rajitbanerjee/.local/share/conda/envs/comp47490-m1/lib/python3.8/site-packages/sklearn/neural_network/_multilayer_perceptron.py:692: ConvergenceWarning: Stochastic Optimizer: Maximum iterations (200) reached and the optimization hasn't converged yet.\n",
      "  warnings.warn(\n",
      "/Users/rajitbanerjee/.local/share/conda/envs/comp47490-m1/lib/python3.8/site-packages/sklearn/neural_network/_multilayer_perceptron.py:692: ConvergenceWarning: Stochastic Optimizer: Maximum iterations (200) reached and the optimization hasn't converged yet.\n",
      "  warnings.warn(\n",
      "/Users/rajitbanerjee/.local/share/conda/envs/comp47490-m1/lib/python3.8/site-packages/sklearn/neural_network/_multilayer_perceptron.py:692: ConvergenceWarning: Stochastic Optimizer: Maximum iterations (200) reached and the optimization hasn't converged yet.\n",
      "  warnings.warn(\n",
      "/Users/rajitbanerjee/.local/share/conda/envs/comp47490-m1/lib/python3.8/site-packages/sklearn/neural_network/_multilayer_perceptron.py:692: ConvergenceWarning: Stochastic Optimizer: Maximum iterations (200) reached and the optimization hasn't converged yet.\n",
      "  warnings.warn(\n",
      "/Users/rajitbanerjee/.local/share/conda/envs/comp47490-m1/lib/python3.8/site-packages/sklearn/neural_network/_multilayer_perceptron.py:692: ConvergenceWarning: Stochastic Optimizer: Maximum iterations (200) reached and the optimization hasn't converged yet.\n",
      "  warnings.warn(\n",
      "/Users/rajitbanerjee/.local/share/conda/envs/comp47490-m1/lib/python3.8/site-packages/sklearn/neural_network/_multilayer_perceptron.py:692: ConvergenceWarning: Stochastic Optimizer: Maximum iterations (200) reached and the optimization hasn't converged yet.\n",
      "  warnings.warn(\n",
      "/Users/rajitbanerjee/.local/share/conda/envs/comp47490-m1/lib/python3.8/site-packages/sklearn/neural_network/_multilayer_perceptron.py:692: ConvergenceWarning: Stochastic Optimizer: Maximum iterations (200) reached and the optimization hasn't converged yet.\n",
      "  warnings.warn(\n",
      "/Users/rajitbanerjee/.local/share/conda/envs/comp47490-m1/lib/python3.8/site-packages/sklearn/neural_network/_multilayer_perceptron.py:692: ConvergenceWarning: Stochastic Optimizer: Maximum iterations (200) reached and the optimization hasn't converged yet.\n",
      "  warnings.warn(\n",
      "/Users/rajitbanerjee/.local/share/conda/envs/comp47490-m1/lib/python3.8/site-packages/sklearn/neural_network/_multilayer_perceptron.py:692: ConvergenceWarning: Stochastic Optimizer: Maximum iterations (200) reached and the optimization hasn't converged yet.\n",
      "  warnings.warn(\n",
      "/Users/rajitbanerjee/.local/share/conda/envs/comp47490-m1/lib/python3.8/site-packages/sklearn/neural_network/_multilayer_perceptron.py:692: ConvergenceWarning: Stochastic Optimizer: Maximum iterations (200) reached and the optimization hasn't converged yet.\n",
      "  warnings.warn(\n",
      "/Users/rajitbanerjee/.local/share/conda/envs/comp47490-m1/lib/python3.8/site-packages/sklearn/neural_network/_multilayer_perceptron.py:692: ConvergenceWarning: Stochastic Optimizer: Maximum iterations (200) reached and the optimization hasn't converged yet.\n",
      "  warnings.warn(\n",
      "/Users/rajitbanerjee/.local/share/conda/envs/comp47490-m1/lib/python3.8/site-packages/sklearn/neural_network/_multilayer_perceptron.py:692: ConvergenceWarning: Stochastic Optimizer: Maximum iterations (200) reached and the optimization hasn't converged yet.\n",
      "  warnings.warn(\n",
      "/Users/rajitbanerjee/.local/share/conda/envs/comp47490-m1/lib/python3.8/site-packages/sklearn/neural_network/_multilayer_perceptron.py:692: ConvergenceWarning: Stochastic Optimizer: Maximum iterations (200) reached and the optimization hasn't converged yet.\n",
      "  warnings.warn(\n",
      "/Users/rajitbanerjee/.local/share/conda/envs/comp47490-m1/lib/python3.8/site-packages/sklearn/neural_network/_multilayer_perceptron.py:692: ConvergenceWarning: Stochastic Optimizer: Maximum iterations (200) reached and the optimization hasn't converged yet.\n",
      "  warnings.warn(\n",
      "/Users/rajitbanerjee/.local/share/conda/envs/comp47490-m1/lib/python3.8/site-packages/sklearn/neural_network/_multilayer_perceptron.py:692: ConvergenceWarning: Stochastic Optimizer: Maximum iterations (200) reached and the optimization hasn't converged yet.\n",
      "  warnings.warn(\n",
      "/Users/rajitbanerjee/.local/share/conda/envs/comp47490-m1/lib/python3.8/site-packages/sklearn/neural_network/_multilayer_perceptron.py:692: ConvergenceWarning: Stochastic Optimizer: Maximum iterations (200) reached and the optimization hasn't converged yet.\n",
      "  warnings.warn(\n",
      "/Users/rajitbanerjee/.local/share/conda/envs/comp47490-m1/lib/python3.8/site-packages/sklearn/neural_network/_multilayer_perceptron.py:692: ConvergenceWarning: Stochastic Optimizer: Maximum iterations (200) reached and the optimization hasn't converged yet.\n",
      "  warnings.warn(\n",
      "/Users/rajitbanerjee/.local/share/conda/envs/comp47490-m1/lib/python3.8/site-packages/sklearn/neural_network/_multilayer_perceptron.py:692: ConvergenceWarning: Stochastic Optimizer: Maximum iterations (200) reached and the optimization hasn't converged yet.\n",
      "  warnings.warn(\n",
      "/Users/rajitbanerjee/.local/share/conda/envs/comp47490-m1/lib/python3.8/site-packages/sklearn/neural_network/_multilayer_perceptron.py:692: ConvergenceWarning: Stochastic Optimizer: Maximum iterations (200) reached and the optimization hasn't converged yet.\n",
      "  warnings.warn(\n",
      "/Users/rajitbanerjee/.local/share/conda/envs/comp47490-m1/lib/python3.8/site-packages/sklearn/neural_network/_multilayer_perceptron.py:692: ConvergenceWarning: Stochastic Optimizer: Maximum iterations (200) reached and the optimization hasn't converged yet.\n",
      "  warnings.warn(\n",
      "/Users/rajitbanerjee/.local/share/conda/envs/comp47490-m1/lib/python3.8/site-packages/sklearn/neural_network/_multilayer_perceptron.py:692: ConvergenceWarning: Stochastic Optimizer: Maximum iterations (200) reached and the optimization hasn't converged yet.\n",
      "  warnings.warn(\n",
      "/Users/rajitbanerjee/.local/share/conda/envs/comp47490-m1/lib/python3.8/site-packages/sklearn/neural_network/_multilayer_perceptron.py:692: ConvergenceWarning: Stochastic Optimizer: Maximum iterations (200) reached and the optimization hasn't converged yet.\n",
      "  warnings.warn(\n",
      "/Users/rajitbanerjee/.local/share/conda/envs/comp47490-m1/lib/python3.8/site-packages/sklearn/neural_network/_multilayer_perceptron.py:692: ConvergenceWarning: Stochastic Optimizer: Maximum iterations (200) reached and the optimization hasn't converged yet.\n",
      "  warnings.warn(\n",
      "/Users/rajitbanerjee/.local/share/conda/envs/comp47490-m1/lib/python3.8/site-packages/sklearn/neural_network/_multilayer_perceptron.py:692: ConvergenceWarning: Stochastic Optimizer: Maximum iterations (200) reached and the optimization hasn't converged yet.\n",
      "  warnings.warn(\n",
      "/Users/rajitbanerjee/.local/share/conda/envs/comp47490-m1/lib/python3.8/site-packages/sklearn/neural_network/_multilayer_perceptron.py:692: ConvergenceWarning: Stochastic Optimizer: Maximum iterations (200) reached and the optimization hasn't converged yet.\n",
      "  warnings.warn(\n",
      "/Users/rajitbanerjee/.local/share/conda/envs/comp47490-m1/lib/python3.8/site-packages/sklearn/neural_network/_multilayer_perceptron.py:692: ConvergenceWarning: Stochastic Optimizer: Maximum iterations (200) reached and the optimization hasn't converged yet.\n",
      "  warnings.warn(\n",
      "/Users/rajitbanerjee/.local/share/conda/envs/comp47490-m1/lib/python3.8/site-packages/sklearn/neural_network/_multilayer_perceptron.py:692: ConvergenceWarning: Stochastic Optimizer: Maximum iterations (200) reached and the optimization hasn't converged yet.\n",
      "  warnings.warn(\n",
      "/Users/rajitbanerjee/.local/share/conda/envs/comp47490-m1/lib/python3.8/site-packages/sklearn/neural_network/_multilayer_perceptron.py:692: ConvergenceWarning: Stochastic Optimizer: Maximum iterations (200) reached and the optimization hasn't converged yet.\n",
      "  warnings.warn(\n",
      "/Users/rajitbanerjee/.local/share/conda/envs/comp47490-m1/lib/python3.8/site-packages/sklearn/neural_network/_multilayer_perceptron.py:692: ConvergenceWarning: Stochastic Optimizer: Maximum iterations (200) reached and the optimization hasn't converged yet.\n",
      "  warnings.warn(\n"
     ]
    },
    {
     "name": "stderr",
     "output_type": "stream",
     "text": [
      "/Users/rajitbanerjee/.local/share/conda/envs/comp47490-m1/lib/python3.8/site-packages/sklearn/neural_network/_multilayer_perceptron.py:692: ConvergenceWarning: Stochastic Optimizer: Maximum iterations (200) reached and the optimization hasn't converged yet.\n",
      "  warnings.warn(\n",
      "/Users/rajitbanerjee/.local/share/conda/envs/comp47490-m1/lib/python3.8/site-packages/sklearn/neural_network/_multilayer_perceptron.py:692: ConvergenceWarning: Stochastic Optimizer: Maximum iterations (200) reached and the optimization hasn't converged yet.\n",
      "  warnings.warn(\n",
      "/Users/rajitbanerjee/.local/share/conda/envs/comp47490-m1/lib/python3.8/site-packages/sklearn/neural_network/_multilayer_perceptron.py:692: ConvergenceWarning: Stochastic Optimizer: Maximum iterations (200) reached and the optimization hasn't converged yet.\n",
      "  warnings.warn(\n",
      "/Users/rajitbanerjee/.local/share/conda/envs/comp47490-m1/lib/python3.8/site-packages/sklearn/neural_network/_multilayer_perceptron.py:692: ConvergenceWarning: Stochastic Optimizer: Maximum iterations (200) reached and the optimization hasn't converged yet.\n",
      "  warnings.warn(\n",
      "/Users/rajitbanerjee/.local/share/conda/envs/comp47490-m1/lib/python3.8/site-packages/sklearn/neural_network/_multilayer_perceptron.py:692: ConvergenceWarning: Stochastic Optimizer: Maximum iterations (200) reached and the optimization hasn't converged yet.\n",
      "  warnings.warn(\n",
      "/Users/rajitbanerjee/.local/share/conda/envs/comp47490-m1/lib/python3.8/site-packages/sklearn/neural_network/_multilayer_perceptron.py:692: ConvergenceWarning: Stochastic Optimizer: Maximum iterations (200) reached and the optimization hasn't converged yet.\n",
      "  warnings.warn(\n",
      "/Users/rajitbanerjee/.local/share/conda/envs/comp47490-m1/lib/python3.8/site-packages/sklearn/neural_network/_multilayer_perceptron.py:692: ConvergenceWarning: Stochastic Optimizer: Maximum iterations (200) reached and the optimization hasn't converged yet.\n",
      "  warnings.warn(\n",
      "/Users/rajitbanerjee/.local/share/conda/envs/comp47490-m1/lib/python3.8/site-packages/sklearn/neural_network/_multilayer_perceptron.py:692: ConvergenceWarning: Stochastic Optimizer: Maximum iterations (200) reached and the optimization hasn't converged yet.\n",
      "  warnings.warn(\n",
      "/Users/rajitbanerjee/.local/share/conda/envs/comp47490-m1/lib/python3.8/site-packages/sklearn/neural_network/_multilayer_perceptron.py:692: ConvergenceWarning: Stochastic Optimizer: Maximum iterations (200) reached and the optimization hasn't converged yet.\n",
      "  warnings.warn(\n",
      "/Users/rajitbanerjee/.local/share/conda/envs/comp47490-m1/lib/python3.8/site-packages/sklearn/neural_network/_multilayer_perceptron.py:692: ConvergenceWarning: Stochastic Optimizer: Maximum iterations (200) reached and the optimization hasn't converged yet.\n",
      "  warnings.warn(\n",
      "/Users/rajitbanerjee/.local/share/conda/envs/comp47490-m1/lib/python3.8/site-packages/sklearn/neural_network/_multilayer_perceptron.py:692: ConvergenceWarning: Stochastic Optimizer: Maximum iterations (200) reached and the optimization hasn't converged yet.\n",
      "  warnings.warn(\n",
      "/Users/rajitbanerjee/.local/share/conda/envs/comp47490-m1/lib/python3.8/site-packages/sklearn/neural_network/_multilayer_perceptron.py:692: ConvergenceWarning: Stochastic Optimizer: Maximum iterations (200) reached and the optimization hasn't converged yet.\n",
      "  warnings.warn(\n",
      "/Users/rajitbanerjee/.local/share/conda/envs/comp47490-m1/lib/python3.8/site-packages/sklearn/neural_network/_multilayer_perceptron.py:692: ConvergenceWarning: Stochastic Optimizer: Maximum iterations (200) reached and the optimization hasn't converged yet.\n",
      "  warnings.warn(\n",
      "/Users/rajitbanerjee/.local/share/conda/envs/comp47490-m1/lib/python3.8/site-packages/sklearn/neural_network/_multilayer_perceptron.py:692: ConvergenceWarning: Stochastic Optimizer: Maximum iterations (200) reached and the optimization hasn't converged yet.\n",
      "  warnings.warn(\n",
      "/Users/rajitbanerjee/.local/share/conda/envs/comp47490-m1/lib/python3.8/site-packages/sklearn/neural_network/_multilayer_perceptron.py:692: ConvergenceWarning: Stochastic Optimizer: Maximum iterations (200) reached and the optimization hasn't converged yet.\n",
      "  warnings.warn(\n",
      "/Users/rajitbanerjee/.local/share/conda/envs/comp47490-m1/lib/python3.8/site-packages/sklearn/neural_network/_multilayer_perceptron.py:692: ConvergenceWarning: Stochastic Optimizer: Maximum iterations (200) reached and the optimization hasn't converged yet.\n",
      "  warnings.warn(\n",
      "/Users/rajitbanerjee/.local/share/conda/envs/comp47490-m1/lib/python3.8/site-packages/sklearn/neural_network/_multilayer_perceptron.py:692: ConvergenceWarning: Stochastic Optimizer: Maximum iterations (200) reached and the optimization hasn't converged yet.\n",
      "  warnings.warn(\n",
      "/Users/rajitbanerjee/.local/share/conda/envs/comp47490-m1/lib/python3.8/site-packages/sklearn/neural_network/_multilayer_perceptron.py:692: ConvergenceWarning: Stochastic Optimizer: Maximum iterations (200) reached and the optimization hasn't converged yet.\n",
      "  warnings.warn(\n",
      "/Users/rajitbanerjee/.local/share/conda/envs/comp47490-m1/lib/python3.8/site-packages/sklearn/neural_network/_multilayer_perceptron.py:692: ConvergenceWarning: Stochastic Optimizer: Maximum iterations (200) reached and the optimization hasn't converged yet.\n",
      "  warnings.warn(\n",
      "/Users/rajitbanerjee/.local/share/conda/envs/comp47490-m1/lib/python3.8/site-packages/sklearn/neural_network/_multilayer_perceptron.py:692: ConvergenceWarning: Stochastic Optimizer: Maximum iterations (200) reached and the optimization hasn't converged yet.\n",
      "  warnings.warn(\n",
      "/Users/rajitbanerjee/.local/share/conda/envs/comp47490-m1/lib/python3.8/site-packages/sklearn/neural_network/_multilayer_perceptron.py:692: ConvergenceWarning: Stochastic Optimizer: Maximum iterations (200) reached and the optimization hasn't converged yet.\n",
      "  warnings.warn(\n",
      "/Users/rajitbanerjee/.local/share/conda/envs/comp47490-m1/lib/python3.8/site-packages/sklearn/neural_network/_multilayer_perceptron.py:692: ConvergenceWarning: Stochastic Optimizer: Maximum iterations (200) reached and the optimization hasn't converged yet.\n",
      "  warnings.warn(\n",
      "/Users/rajitbanerjee/.local/share/conda/envs/comp47490-m1/lib/python3.8/site-packages/sklearn/neural_network/_multilayer_perceptron.py:692: ConvergenceWarning: Stochastic Optimizer: Maximum iterations (200) reached and the optimization hasn't converged yet.\n",
      "  warnings.warn(\n",
      "/Users/rajitbanerjee/.local/share/conda/envs/comp47490-m1/lib/python3.8/site-packages/sklearn/neural_network/_multilayer_perceptron.py:692: ConvergenceWarning: Stochastic Optimizer: Maximum iterations (200) reached and the optimization hasn't converged yet.\n",
      "  warnings.warn(\n",
      "/Users/rajitbanerjee/.local/share/conda/envs/comp47490-m1/lib/python3.8/site-packages/sklearn/neural_network/_multilayer_perceptron.py:692: ConvergenceWarning: Stochastic Optimizer: Maximum iterations (200) reached and the optimization hasn't converged yet.\n",
      "  warnings.warn(\n",
      "/Users/rajitbanerjee/.local/share/conda/envs/comp47490-m1/lib/python3.8/site-packages/sklearn/neural_network/_multilayer_perceptron.py:692: ConvergenceWarning: Stochastic Optimizer: Maximum iterations (200) reached and the optimization hasn't converged yet.\n",
      "  warnings.warn(\n",
      "/Users/rajitbanerjee/.local/share/conda/envs/comp47490-m1/lib/python3.8/site-packages/sklearn/neural_network/_multilayer_perceptron.py:692: ConvergenceWarning: Stochastic Optimizer: Maximum iterations (200) reached and the optimization hasn't converged yet.\n",
      "  warnings.warn(\n",
      "/Users/rajitbanerjee/.local/share/conda/envs/comp47490-m1/lib/python3.8/site-packages/sklearn/neural_network/_multilayer_perceptron.py:692: ConvergenceWarning: Stochastic Optimizer: Maximum iterations (200) reached and the optimization hasn't converged yet.\n",
      "  warnings.warn(\n",
      "/Users/rajitbanerjee/.local/share/conda/envs/comp47490-m1/lib/python3.8/site-packages/sklearn/neural_network/_multilayer_perceptron.py:692: ConvergenceWarning: Stochastic Optimizer: Maximum iterations (200) reached and the optimization hasn't converged yet.\n",
      "  warnings.warn(\n",
      "/Users/rajitbanerjee/.local/share/conda/envs/comp47490-m1/lib/python3.8/site-packages/sklearn/neural_network/_multilayer_perceptron.py:692: ConvergenceWarning: Stochastic Optimizer: Maximum iterations (200) reached and the optimization hasn't converged yet.\n",
      "  warnings.warn(\n"
     ]
    },
    {
     "name": "stderr",
     "output_type": "stream",
     "text": [
      "/Users/rajitbanerjee/.local/share/conda/envs/comp47490-m1/lib/python3.8/site-packages/sklearn/neural_network/_multilayer_perceptron.py:692: ConvergenceWarning: Stochastic Optimizer: Maximum iterations (200) reached and the optimization hasn't converged yet.\n",
      "  warnings.warn(\n",
      "/Users/rajitbanerjee/.local/share/conda/envs/comp47490-m1/lib/python3.8/site-packages/sklearn/neural_network/_multilayer_perceptron.py:692: ConvergenceWarning: Stochastic Optimizer: Maximum iterations (200) reached and the optimization hasn't converged yet.\n",
      "  warnings.warn(\n",
      "/Users/rajitbanerjee/.local/share/conda/envs/comp47490-m1/lib/python3.8/site-packages/sklearn/neural_network/_multilayer_perceptron.py:692: ConvergenceWarning: Stochastic Optimizer: Maximum iterations (200) reached and the optimization hasn't converged yet.\n",
      "  warnings.warn(\n",
      "/Users/rajitbanerjee/.local/share/conda/envs/comp47490-m1/lib/python3.8/site-packages/sklearn/neural_network/_multilayer_perceptron.py:692: ConvergenceWarning: Stochastic Optimizer: Maximum iterations (200) reached and the optimization hasn't converged yet.\n",
      "  warnings.warn(\n",
      "/Users/rajitbanerjee/.local/share/conda/envs/comp47490-m1/lib/python3.8/site-packages/sklearn/neural_network/_multilayer_perceptron.py:692: ConvergenceWarning: Stochastic Optimizer: Maximum iterations (200) reached and the optimization hasn't converged yet.\n",
      "  warnings.warn(\n",
      "/Users/rajitbanerjee/.local/share/conda/envs/comp47490-m1/lib/python3.8/site-packages/sklearn/neural_network/_multilayer_perceptron.py:692: ConvergenceWarning: Stochastic Optimizer: Maximum iterations (200) reached and the optimization hasn't converged yet.\n",
      "  warnings.warn(\n",
      "/Users/rajitbanerjee/.local/share/conda/envs/comp47490-m1/lib/python3.8/site-packages/sklearn/neural_network/_multilayer_perceptron.py:692: ConvergenceWarning: Stochastic Optimizer: Maximum iterations (200) reached and the optimization hasn't converged yet.\n",
      "  warnings.warn(\n",
      "/Users/rajitbanerjee/.local/share/conda/envs/comp47490-m1/lib/python3.8/site-packages/sklearn/neural_network/_multilayer_perceptron.py:692: ConvergenceWarning: Stochastic Optimizer: Maximum iterations (200) reached and the optimization hasn't converged yet.\n",
      "  warnings.warn(\n",
      "/Users/rajitbanerjee/.local/share/conda/envs/comp47490-m1/lib/python3.8/site-packages/sklearn/neural_network/_multilayer_perceptron.py:692: ConvergenceWarning: Stochastic Optimizer: Maximum iterations (200) reached and the optimization hasn't converged yet.\n",
      "  warnings.warn(\n",
      "/Users/rajitbanerjee/.local/share/conda/envs/comp47490-m1/lib/python3.8/site-packages/sklearn/neural_network/_multilayer_perceptron.py:692: ConvergenceWarning: Stochastic Optimizer: Maximum iterations (200) reached and the optimization hasn't converged yet.\n",
      "  warnings.warn(\n",
      "/Users/rajitbanerjee/.local/share/conda/envs/comp47490-m1/lib/python3.8/site-packages/sklearn/neural_network/_multilayer_perceptron.py:692: ConvergenceWarning: Stochastic Optimizer: Maximum iterations (200) reached and the optimization hasn't converged yet.\n",
      "  warnings.warn(\n",
      "/Users/rajitbanerjee/.local/share/conda/envs/comp47490-m1/lib/python3.8/site-packages/sklearn/neural_network/_multilayer_perceptron.py:692: ConvergenceWarning: Stochastic Optimizer: Maximum iterations (200) reached and the optimization hasn't converged yet.\n",
      "  warnings.warn(\n",
      "/Users/rajitbanerjee/.local/share/conda/envs/comp47490-m1/lib/python3.8/site-packages/sklearn/neural_network/_multilayer_perceptron.py:692: ConvergenceWarning: Stochastic Optimizer: Maximum iterations (200) reached and the optimization hasn't converged yet.\n",
      "  warnings.warn(\n",
      "/Users/rajitbanerjee/.local/share/conda/envs/comp47490-m1/lib/python3.8/site-packages/sklearn/neural_network/_multilayer_perceptron.py:692: ConvergenceWarning: Stochastic Optimizer: Maximum iterations (200) reached and the optimization hasn't converged yet.\n",
      "  warnings.warn(\n",
      "/Users/rajitbanerjee/.local/share/conda/envs/comp47490-m1/lib/python3.8/site-packages/sklearn/neural_network/_multilayer_perceptron.py:692: ConvergenceWarning: Stochastic Optimizer: Maximum iterations (200) reached and the optimization hasn't converged yet.\n",
      "  warnings.warn(\n",
      "/Users/rajitbanerjee/.local/share/conda/envs/comp47490-m1/lib/python3.8/site-packages/sklearn/neural_network/_multilayer_perceptron.py:692: ConvergenceWarning: Stochastic Optimizer: Maximum iterations (200) reached and the optimization hasn't converged yet.\n",
      "  warnings.warn(\n",
      "/Users/rajitbanerjee/.local/share/conda/envs/comp47490-m1/lib/python3.8/site-packages/sklearn/neural_network/_multilayer_perceptron.py:692: ConvergenceWarning: Stochastic Optimizer: Maximum iterations (200) reached and the optimization hasn't converged yet.\n",
      "  warnings.warn(\n",
      "/Users/rajitbanerjee/.local/share/conda/envs/comp47490-m1/lib/python3.8/site-packages/sklearn/neural_network/_multilayer_perceptron.py:692: ConvergenceWarning: Stochastic Optimizer: Maximum iterations (200) reached and the optimization hasn't converged yet.\n",
      "  warnings.warn(\n",
      "/Users/rajitbanerjee/.local/share/conda/envs/comp47490-m1/lib/python3.8/site-packages/sklearn/neural_network/_multilayer_perceptron.py:692: ConvergenceWarning: Stochastic Optimizer: Maximum iterations (200) reached and the optimization hasn't converged yet.\n",
      "  warnings.warn(\n",
      "/Users/rajitbanerjee/.local/share/conda/envs/comp47490-m1/lib/python3.8/site-packages/sklearn/neural_network/_multilayer_perceptron.py:692: ConvergenceWarning: Stochastic Optimizer: Maximum iterations (200) reached and the optimization hasn't converged yet.\n",
      "  warnings.warn(\n",
      "/Users/rajitbanerjee/.local/share/conda/envs/comp47490-m1/lib/python3.8/site-packages/sklearn/neural_network/_multilayer_perceptron.py:692: ConvergenceWarning: Stochastic Optimizer: Maximum iterations (200) reached and the optimization hasn't converged yet.\n",
      "  warnings.warn(\n",
      "/Users/rajitbanerjee/.local/share/conda/envs/comp47490-m1/lib/python3.8/site-packages/sklearn/neural_network/_multilayer_perceptron.py:692: ConvergenceWarning: Stochastic Optimizer: Maximum iterations (200) reached and the optimization hasn't converged yet.\n",
      "  warnings.warn(\n",
      "/Users/rajitbanerjee/.local/share/conda/envs/comp47490-m1/lib/python3.8/site-packages/sklearn/neural_network/_multilayer_perceptron.py:692: ConvergenceWarning: Stochastic Optimizer: Maximum iterations (200) reached and the optimization hasn't converged yet.\n",
      "  warnings.warn(\n",
      "/Users/rajitbanerjee/.local/share/conda/envs/comp47490-m1/lib/python3.8/site-packages/sklearn/neural_network/_multilayer_perceptron.py:692: ConvergenceWarning: Stochastic Optimizer: Maximum iterations (200) reached and the optimization hasn't converged yet.\n",
      "  warnings.warn(\n",
      "/Users/rajitbanerjee/.local/share/conda/envs/comp47490-m1/lib/python3.8/site-packages/sklearn/neural_network/_multilayer_perceptron.py:692: ConvergenceWarning: Stochastic Optimizer: Maximum iterations (200) reached and the optimization hasn't converged yet.\n",
      "  warnings.warn(\n",
      "/Users/rajitbanerjee/.local/share/conda/envs/comp47490-m1/lib/python3.8/site-packages/sklearn/neural_network/_multilayer_perceptron.py:692: ConvergenceWarning: Stochastic Optimizer: Maximum iterations (200) reached and the optimization hasn't converged yet.\n",
      "  warnings.warn(\n",
      "/Users/rajitbanerjee/.local/share/conda/envs/comp47490-m1/lib/python3.8/site-packages/sklearn/neural_network/_multilayer_perceptron.py:692: ConvergenceWarning: Stochastic Optimizer: Maximum iterations (200) reached and the optimization hasn't converged yet.\n",
      "  warnings.warn(\n",
      "/Users/rajitbanerjee/.local/share/conda/envs/comp47490-m1/lib/python3.8/site-packages/sklearn/neural_network/_multilayer_perceptron.py:692: ConvergenceWarning: Stochastic Optimizer: Maximum iterations (200) reached and the optimization hasn't converged yet.\n",
      "  warnings.warn(\n",
      "/Users/rajitbanerjee/.local/share/conda/envs/comp47490-m1/lib/python3.8/site-packages/sklearn/neural_network/_multilayer_perceptron.py:692: ConvergenceWarning: Stochastic Optimizer: Maximum iterations (200) reached and the optimization hasn't converged yet.\n",
      "  warnings.warn(\n",
      "/Users/rajitbanerjee/.local/share/conda/envs/comp47490-m1/lib/python3.8/site-packages/sklearn/neural_network/_multilayer_perceptron.py:692: ConvergenceWarning: Stochastic Optimizer: Maximum iterations (200) reached and the optimization hasn't converged yet.\n",
      "  warnings.warn(\n"
     ]
    },
    {
     "name": "stderr",
     "output_type": "stream",
     "text": [
      "/Users/rajitbanerjee/.local/share/conda/envs/comp47490-m1/lib/python3.8/site-packages/sklearn/neural_network/_multilayer_perceptron.py:692: ConvergenceWarning: Stochastic Optimizer: Maximum iterations (200) reached and the optimization hasn't converged yet.\n",
      "  warnings.warn(\n",
      "/Users/rajitbanerjee/.local/share/conda/envs/comp47490-m1/lib/python3.8/site-packages/sklearn/neural_network/_multilayer_perceptron.py:692: ConvergenceWarning: Stochastic Optimizer: Maximum iterations (200) reached and the optimization hasn't converged yet.\n",
      "  warnings.warn(\n",
      "/Users/rajitbanerjee/.local/share/conda/envs/comp47490-m1/lib/python3.8/site-packages/sklearn/neural_network/_multilayer_perceptron.py:692: ConvergenceWarning: Stochastic Optimizer: Maximum iterations (200) reached and the optimization hasn't converged yet.\n",
      "  warnings.warn(\n"
     ]
    },
    {
     "name": "stdout",
     "output_type": "stream",
     "text": [
      "\n",
      "Best: BaggingClassifier(base_estimator=MLPClassifier(hidden_layer_sizes=(10,),\n",
      "                                               random_state=0),\n",
      "                  n_estimators=20, n_jobs=-1, random_state=0)\n",
      "Average accuracy: 0.836\n",
      "\n",
      "CPU times: user 258 ms, sys: 128 ms, total: 386 ms\n",
      "Wall time: 1min 58s\n"
     ]
    },
    {
     "name": "stderr",
     "output_type": "stream",
     "text": [
      "/Users/rajitbanerjee/.local/share/conda/envs/comp47490-m1/lib/python3.8/site-packages/sklearn/neural_network/_multilayer_perceptron.py:692: ConvergenceWarning: Stochastic Optimizer: Maximum iterations (200) reached and the optimization hasn't converged yet.\n",
      "  warnings.warn(\n"
     ]
    }
   ],
   "source": [
    "%%time\n",
    "mlp_bag = BaggingClassifier(mlp_best, random_state=0, n_jobs=-1)\n",
    "mlp_bag = grid_search(mlp_bag, { \"n_estimators\": ensemble_size })"
   ]
  },
  {
   "cell_type": "code",
   "execution_count": 58,
   "id": "69aaf19a",
   "metadata": {
    "scrolled": false
   },
   "outputs": [
    {
     "name": "stdout",
     "output_type": "stream",
     "text": [
      "Fitting 5 folds for each of 4 candidates, totalling 20 fits\n"
     ]
    },
    {
     "name": "stderr",
     "output_type": "stream",
     "text": [
      "/Users/rajitbanerjee/.local/share/conda/envs/comp47490-m1/lib/python3.8/site-packages/sklearn/neural_network/_multilayer_perceptron.py:692: ConvergenceWarning: Stochastic Optimizer: Maximum iterations (200) reached and the optimization hasn't converged yet.\n",
      "  warnings.warn(\n",
      "/Users/rajitbanerjee/.local/share/conda/envs/comp47490-m1/lib/python3.8/site-packages/sklearn/neural_network/_multilayer_perceptron.py:692: ConvergenceWarning: Stochastic Optimizer: Maximum iterations (200) reached and the optimization hasn't converged yet.\n",
      "  warnings.warn(\n",
      "/Users/rajitbanerjee/.local/share/conda/envs/comp47490-m1/lib/python3.8/site-packages/sklearn/neural_network/_multilayer_perceptron.py:692: ConvergenceWarning: Stochastic Optimizer: Maximum iterations (200) reached and the optimization hasn't converged yet.\n",
      "  warnings.warn(\n",
      "/Users/rajitbanerjee/.local/share/conda/envs/comp47490-m1/lib/python3.8/site-packages/sklearn/neural_network/_multilayer_perceptron.py:692: ConvergenceWarning: Stochastic Optimizer: Maximum iterations (200) reached and the optimization hasn't converged yet.\n",
      "  warnings.warn(\n",
      "/Users/rajitbanerjee/.local/share/conda/envs/comp47490-m1/lib/python3.8/site-packages/sklearn/neural_network/_multilayer_perceptron.py:692: ConvergenceWarning: Stochastic Optimizer: Maximum iterations (200) reached and the optimization hasn't converged yet.\n",
      "  warnings.warn(\n",
      "/Users/rajitbanerjee/.local/share/conda/envs/comp47490-m1/lib/python3.8/site-packages/sklearn/neural_network/_multilayer_perceptron.py:692: ConvergenceWarning: Stochastic Optimizer: Maximum iterations (200) reached and the optimization hasn't converged yet.\n",
      "  warnings.warn(\n",
      "/Users/rajitbanerjee/.local/share/conda/envs/comp47490-m1/lib/python3.8/site-packages/sklearn/neural_network/_multilayer_perceptron.py:692: ConvergenceWarning: Stochastic Optimizer: Maximum iterations (200) reached and the optimization hasn't converged yet.\n",
      "  warnings.warn(\n",
      "/Users/rajitbanerjee/.local/share/conda/envs/comp47490-m1/lib/python3.8/site-packages/sklearn/neural_network/_multilayer_perceptron.py:692: ConvergenceWarning: Stochastic Optimizer: Maximum iterations (200) reached and the optimization hasn't converged yet.\n",
      "  warnings.warn(\n",
      "/Users/rajitbanerjee/.local/share/conda/envs/comp47490-m1/lib/python3.8/site-packages/sklearn/neural_network/_multilayer_perceptron.py:692: ConvergenceWarning: Stochastic Optimizer: Maximum iterations (200) reached and the optimization hasn't converged yet.\n",
      "  warnings.warn(\n",
      "/Users/rajitbanerjee/.local/share/conda/envs/comp47490-m1/lib/python3.8/site-packages/sklearn/neural_network/_multilayer_perceptron.py:692: ConvergenceWarning: Stochastic Optimizer: Maximum iterations (200) reached and the optimization hasn't converged yet.\n",
      "  warnings.warn(\n",
      "/Users/rajitbanerjee/.local/share/conda/envs/comp47490-m1/lib/python3.8/site-packages/sklearn/neural_network/_multilayer_perceptron.py:692: ConvergenceWarning: Stochastic Optimizer: Maximum iterations (200) reached and the optimization hasn't converged yet.\n",
      "  warnings.warn(\n",
      "/Users/rajitbanerjee/.local/share/conda/envs/comp47490-m1/lib/python3.8/site-packages/sklearn/neural_network/_multilayer_perceptron.py:692: ConvergenceWarning: Stochastic Optimizer: Maximum iterations (200) reached and the optimization hasn't converged yet.\n",
      "  warnings.warn(\n",
      "/Users/rajitbanerjee/.local/share/conda/envs/comp47490-m1/lib/python3.8/site-packages/sklearn/neural_network/_multilayer_perceptron.py:692: ConvergenceWarning: Stochastic Optimizer: Maximum iterations (200) reached and the optimization hasn't converged yet.\n",
      "  warnings.warn(\n",
      "/Users/rajitbanerjee/.local/share/conda/envs/comp47490-m1/lib/python3.8/site-packages/sklearn/neural_network/_multilayer_perceptron.py:692: ConvergenceWarning: Stochastic Optimizer: Maximum iterations (200) reached and the optimization hasn't converged yet.\n",
      "  warnings.warn(\n",
      "/Users/rajitbanerjee/.local/share/conda/envs/comp47490-m1/lib/python3.8/site-packages/sklearn/neural_network/_multilayer_perceptron.py:692: ConvergenceWarning: Stochastic Optimizer: Maximum iterations (200) reached and the optimization hasn't converged yet.\n",
      "  warnings.warn(\n",
      "/Users/rajitbanerjee/.local/share/conda/envs/comp47490-m1/lib/python3.8/site-packages/sklearn/neural_network/_multilayer_perceptron.py:692: ConvergenceWarning: Stochastic Optimizer: Maximum iterations (200) reached and the optimization hasn't converged yet.\n",
      "  warnings.warn(\n",
      "/Users/rajitbanerjee/.local/share/conda/envs/comp47490-m1/lib/python3.8/site-packages/sklearn/neural_network/_multilayer_perceptron.py:692: ConvergenceWarning: Stochastic Optimizer: Maximum iterations (200) reached and the optimization hasn't converged yet.\n",
      "  warnings.warn(\n",
      "/Users/rajitbanerjee/.local/share/conda/envs/comp47490-m1/lib/python3.8/site-packages/sklearn/neural_network/_multilayer_perceptron.py:692: ConvergenceWarning: Stochastic Optimizer: Maximum iterations (200) reached and the optimization hasn't converged yet.\n",
      "  warnings.warn(\n",
      "/Users/rajitbanerjee/.local/share/conda/envs/comp47490-m1/lib/python3.8/site-packages/sklearn/neural_network/_multilayer_perceptron.py:692: ConvergenceWarning: Stochastic Optimizer: Maximum iterations (200) reached and the optimization hasn't converged yet.\n",
      "  warnings.warn(\n",
      "/Users/rajitbanerjee/.local/share/conda/envs/comp47490-m1/lib/python3.8/site-packages/sklearn/neural_network/_multilayer_perceptron.py:692: ConvergenceWarning: Stochastic Optimizer: Maximum iterations (200) reached and the optimization hasn't converged yet.\n",
      "  warnings.warn(\n",
      "/Users/rajitbanerjee/.local/share/conda/envs/comp47490-m1/lib/python3.8/site-packages/sklearn/neural_network/_multilayer_perceptron.py:692: ConvergenceWarning: Stochastic Optimizer: Maximum iterations (200) reached and the optimization hasn't converged yet.\n",
      "  warnings.warn(\n",
      "/Users/rajitbanerjee/.local/share/conda/envs/comp47490-m1/lib/python3.8/site-packages/sklearn/neural_network/_multilayer_perceptron.py:692: ConvergenceWarning: Stochastic Optimizer: Maximum iterations (200) reached and the optimization hasn't converged yet.\n",
      "  warnings.warn(\n",
      "/Users/rajitbanerjee/.local/share/conda/envs/comp47490-m1/lib/python3.8/site-packages/sklearn/neural_network/_multilayer_perceptron.py:692: ConvergenceWarning: Stochastic Optimizer: Maximum iterations (200) reached and the optimization hasn't converged yet.\n",
      "  warnings.warn(\n",
      "/Users/rajitbanerjee/.local/share/conda/envs/comp47490-m1/lib/python3.8/site-packages/sklearn/neural_network/_multilayer_perceptron.py:692: ConvergenceWarning: Stochastic Optimizer: Maximum iterations (200) reached and the optimization hasn't converged yet.\n",
      "  warnings.warn(\n",
      "/Users/rajitbanerjee/.local/share/conda/envs/comp47490-m1/lib/python3.8/site-packages/sklearn/neural_network/_multilayer_perceptron.py:692: ConvergenceWarning: Stochastic Optimizer: Maximum iterations (200) reached and the optimization hasn't converged yet.\n",
      "  warnings.warn(\n",
      "/Users/rajitbanerjee/.local/share/conda/envs/comp47490-m1/lib/python3.8/site-packages/sklearn/neural_network/_multilayer_perceptron.py:692: ConvergenceWarning: Stochastic Optimizer: Maximum iterations (200) reached and the optimization hasn't converged yet.\n",
      "  warnings.warn(\n",
      "/Users/rajitbanerjee/.local/share/conda/envs/comp47490-m1/lib/python3.8/site-packages/sklearn/neural_network/_multilayer_perceptron.py:692: ConvergenceWarning: Stochastic Optimizer: Maximum iterations (200) reached and the optimization hasn't converged yet.\n",
      "  warnings.warn(\n",
      "/Users/rajitbanerjee/.local/share/conda/envs/comp47490-m1/lib/python3.8/site-packages/sklearn/neural_network/_multilayer_perceptron.py:692: ConvergenceWarning: Stochastic Optimizer: Maximum iterations (200) reached and the optimization hasn't converged yet.\n",
      "  warnings.warn(\n",
      "/Users/rajitbanerjee/.local/share/conda/envs/comp47490-m1/lib/python3.8/site-packages/sklearn/neural_network/_multilayer_perceptron.py:692: ConvergenceWarning: Stochastic Optimizer: Maximum iterations (200) reached and the optimization hasn't converged yet.\n",
      "  warnings.warn(\n",
      "/Users/rajitbanerjee/.local/share/conda/envs/comp47490-m1/lib/python3.8/site-packages/sklearn/neural_network/_multilayer_perceptron.py:692: ConvergenceWarning: Stochastic Optimizer: Maximum iterations (200) reached and the optimization hasn't converged yet.\n",
      "  warnings.warn(\n",
      "/Users/rajitbanerjee/.local/share/conda/envs/comp47490-m1/lib/python3.8/site-packages/sklearn/neural_network/_multilayer_perceptron.py:692: ConvergenceWarning: Stochastic Optimizer: Maximum iterations (200) reached and the optimization hasn't converged yet.\n",
      "  warnings.warn(\n",
      "/Users/rajitbanerjee/.local/share/conda/envs/comp47490-m1/lib/python3.8/site-packages/sklearn/neural_network/_multilayer_perceptron.py:692: ConvergenceWarning: Stochastic Optimizer: Maximum iterations (200) reached and the optimization hasn't converged yet.\n",
      "  warnings.warn(\n"
     ]
    },
    {
     "name": "stderr",
     "output_type": "stream",
     "text": [
      "/Users/rajitbanerjee/.local/share/conda/envs/comp47490-m1/lib/python3.8/site-packages/sklearn/neural_network/_multilayer_perceptron.py:692: ConvergenceWarning: Stochastic Optimizer: Maximum iterations (200) reached and the optimization hasn't converged yet.\n",
      "  warnings.warn(\n",
      "/Users/rajitbanerjee/.local/share/conda/envs/comp47490-m1/lib/python3.8/site-packages/sklearn/neural_network/_multilayer_perceptron.py:692: ConvergenceWarning: Stochastic Optimizer: Maximum iterations (200) reached and the optimization hasn't converged yet.\n",
      "  warnings.warn(\n",
      "/Users/rajitbanerjee/.local/share/conda/envs/comp47490-m1/lib/python3.8/site-packages/sklearn/neural_network/_multilayer_perceptron.py:692: ConvergenceWarning: Stochastic Optimizer: Maximum iterations (200) reached and the optimization hasn't converged yet.\n",
      "  warnings.warn(\n",
      "/Users/rajitbanerjee/.local/share/conda/envs/comp47490-m1/lib/python3.8/site-packages/sklearn/neural_network/_multilayer_perceptron.py:692: ConvergenceWarning: Stochastic Optimizer: Maximum iterations (200) reached and the optimization hasn't converged yet.\n",
      "  warnings.warn(\n",
      "/Users/rajitbanerjee/.local/share/conda/envs/comp47490-m1/lib/python3.8/site-packages/sklearn/neural_network/_multilayer_perceptron.py:692: ConvergenceWarning: Stochastic Optimizer: Maximum iterations (200) reached and the optimization hasn't converged yet.\n",
      "  warnings.warn(\n",
      "/Users/rajitbanerjee/.local/share/conda/envs/comp47490-m1/lib/python3.8/site-packages/sklearn/neural_network/_multilayer_perceptron.py:692: ConvergenceWarning: Stochastic Optimizer: Maximum iterations (200) reached and the optimization hasn't converged yet.\n",
      "  warnings.warn(\n",
      "/Users/rajitbanerjee/.local/share/conda/envs/comp47490-m1/lib/python3.8/site-packages/sklearn/neural_network/_multilayer_perceptron.py:692: ConvergenceWarning: Stochastic Optimizer: Maximum iterations (200) reached and the optimization hasn't converged yet.\n",
      "  warnings.warn(\n",
      "/Users/rajitbanerjee/.local/share/conda/envs/comp47490-m1/lib/python3.8/site-packages/sklearn/neural_network/_multilayer_perceptron.py:692: ConvergenceWarning: Stochastic Optimizer: Maximum iterations (200) reached and the optimization hasn't converged yet.\n",
      "  warnings.warn(\n",
      "/Users/rajitbanerjee/.local/share/conda/envs/comp47490-m1/lib/python3.8/site-packages/sklearn/neural_network/_multilayer_perceptron.py:692: ConvergenceWarning: Stochastic Optimizer: Maximum iterations (200) reached and the optimization hasn't converged yet.\n",
      "  warnings.warn(\n",
      "/Users/rajitbanerjee/.local/share/conda/envs/comp47490-m1/lib/python3.8/site-packages/sklearn/neural_network/_multilayer_perceptron.py:692: ConvergenceWarning: Stochastic Optimizer: Maximum iterations (200) reached and the optimization hasn't converged yet.\n",
      "  warnings.warn(\n",
      "/Users/rajitbanerjee/.local/share/conda/envs/comp47490-m1/lib/python3.8/site-packages/sklearn/neural_network/_multilayer_perceptron.py:692: ConvergenceWarning: Stochastic Optimizer: Maximum iterations (200) reached and the optimization hasn't converged yet.\n",
      "  warnings.warn(\n",
      "/Users/rajitbanerjee/.local/share/conda/envs/comp47490-m1/lib/python3.8/site-packages/sklearn/neural_network/_multilayer_perceptron.py:692: ConvergenceWarning: Stochastic Optimizer: Maximum iterations (200) reached and the optimization hasn't converged yet.\n",
      "  warnings.warn(\n",
      "/Users/rajitbanerjee/.local/share/conda/envs/comp47490-m1/lib/python3.8/site-packages/sklearn/neural_network/_multilayer_perceptron.py:692: ConvergenceWarning: Stochastic Optimizer: Maximum iterations (200) reached and the optimization hasn't converged yet.\n",
      "  warnings.warn(\n",
      "/Users/rajitbanerjee/.local/share/conda/envs/comp47490-m1/lib/python3.8/site-packages/sklearn/neural_network/_multilayer_perceptron.py:692: ConvergenceWarning: Stochastic Optimizer: Maximum iterations (200) reached and the optimization hasn't converged yet.\n",
      "  warnings.warn(\n",
      "/Users/rajitbanerjee/.local/share/conda/envs/comp47490-m1/lib/python3.8/site-packages/sklearn/neural_network/_multilayer_perceptron.py:692: ConvergenceWarning: Stochastic Optimizer: Maximum iterations (200) reached and the optimization hasn't converged yet.\n",
      "  warnings.warn(\n",
      "/Users/rajitbanerjee/.local/share/conda/envs/comp47490-m1/lib/python3.8/site-packages/sklearn/neural_network/_multilayer_perceptron.py:692: ConvergenceWarning: Stochastic Optimizer: Maximum iterations (200) reached and the optimization hasn't converged yet.\n",
      "  warnings.warn(\n",
      "/Users/rajitbanerjee/.local/share/conda/envs/comp47490-m1/lib/python3.8/site-packages/sklearn/neural_network/_multilayer_perceptron.py:692: ConvergenceWarning: Stochastic Optimizer: Maximum iterations (200) reached and the optimization hasn't converged yet.\n",
      "  warnings.warn(\n",
      "/Users/rajitbanerjee/.local/share/conda/envs/comp47490-m1/lib/python3.8/site-packages/sklearn/neural_network/_multilayer_perceptron.py:692: ConvergenceWarning: Stochastic Optimizer: Maximum iterations (200) reached and the optimization hasn't converged yet.\n",
      "  warnings.warn(\n",
      "/Users/rajitbanerjee/.local/share/conda/envs/comp47490-m1/lib/python3.8/site-packages/sklearn/neural_network/_multilayer_perceptron.py:692: ConvergenceWarning: Stochastic Optimizer: Maximum iterations (200) reached and the optimization hasn't converged yet.\n",
      "  warnings.warn(\n",
      "/Users/rajitbanerjee/.local/share/conda/envs/comp47490-m1/lib/python3.8/site-packages/sklearn/neural_network/_multilayer_perceptron.py:692: ConvergenceWarning: Stochastic Optimizer: Maximum iterations (200) reached and the optimization hasn't converged yet.\n",
      "  warnings.warn(\n",
      "/Users/rajitbanerjee/.local/share/conda/envs/comp47490-m1/lib/python3.8/site-packages/sklearn/neural_network/_multilayer_perceptron.py:692: ConvergenceWarning: Stochastic Optimizer: Maximum iterations (200) reached and the optimization hasn't converged yet.\n",
      "  warnings.warn(\n",
      "/Users/rajitbanerjee/.local/share/conda/envs/comp47490-m1/lib/python3.8/site-packages/sklearn/neural_network/_multilayer_perceptron.py:692: ConvergenceWarning: Stochastic Optimizer: Maximum iterations (200) reached and the optimization hasn't converged yet.\n",
      "  warnings.warn(\n",
      "/Users/rajitbanerjee/.local/share/conda/envs/comp47490-m1/lib/python3.8/site-packages/sklearn/neural_network/_multilayer_perceptron.py:692: ConvergenceWarning: Stochastic Optimizer: Maximum iterations (200) reached and the optimization hasn't converged yet.\n",
      "  warnings.warn(\n",
      "/Users/rajitbanerjee/.local/share/conda/envs/comp47490-m1/lib/python3.8/site-packages/sklearn/neural_network/_multilayer_perceptron.py:692: ConvergenceWarning: Stochastic Optimizer: Maximum iterations (200) reached and the optimization hasn't converged yet.\n",
      "  warnings.warn(\n",
      "/Users/rajitbanerjee/.local/share/conda/envs/comp47490-m1/lib/python3.8/site-packages/sklearn/neural_network/_multilayer_perceptron.py:692: ConvergenceWarning: Stochastic Optimizer: Maximum iterations (200) reached and the optimization hasn't converged yet.\n",
      "  warnings.warn(\n",
      "/Users/rajitbanerjee/.local/share/conda/envs/comp47490-m1/lib/python3.8/site-packages/sklearn/neural_network/_multilayer_perceptron.py:692: ConvergenceWarning: Stochastic Optimizer: Maximum iterations (200) reached and the optimization hasn't converged yet.\n",
      "  warnings.warn(\n",
      "/Users/rajitbanerjee/.local/share/conda/envs/comp47490-m1/lib/python3.8/site-packages/sklearn/neural_network/_multilayer_perceptron.py:692: ConvergenceWarning: Stochastic Optimizer: Maximum iterations (200) reached and the optimization hasn't converged yet.\n",
      "  warnings.warn(\n",
      "/Users/rajitbanerjee/.local/share/conda/envs/comp47490-m1/lib/python3.8/site-packages/sklearn/neural_network/_multilayer_perceptron.py:692: ConvergenceWarning: Stochastic Optimizer: Maximum iterations (200) reached and the optimization hasn't converged yet.\n",
      "  warnings.warn(\n",
      "/Users/rajitbanerjee/.local/share/conda/envs/comp47490-m1/lib/python3.8/site-packages/sklearn/neural_network/_multilayer_perceptron.py:692: ConvergenceWarning: Stochastic Optimizer: Maximum iterations (200) reached and the optimization hasn't converged yet.\n",
      "  warnings.warn(\n",
      "/Users/rajitbanerjee/.local/share/conda/envs/comp47490-m1/lib/python3.8/site-packages/sklearn/neural_network/_multilayer_perceptron.py:692: ConvergenceWarning: Stochastic Optimizer: Maximum iterations (200) reached and the optimization hasn't converged yet.\n",
      "  warnings.warn(\n"
     ]
    },
    {
     "name": "stderr",
     "output_type": "stream",
     "text": [
      "/Users/rajitbanerjee/.local/share/conda/envs/comp47490-m1/lib/python3.8/site-packages/sklearn/neural_network/_multilayer_perceptron.py:692: ConvergenceWarning: Stochastic Optimizer: Maximum iterations (200) reached and the optimization hasn't converged yet.\n",
      "  warnings.warn(\n",
      "/Users/rajitbanerjee/.local/share/conda/envs/comp47490-m1/lib/python3.8/site-packages/sklearn/neural_network/_multilayer_perceptron.py:692: ConvergenceWarning: Stochastic Optimizer: Maximum iterations (200) reached and the optimization hasn't converged yet.\n",
      "  warnings.warn(\n",
      "/Users/rajitbanerjee/.local/share/conda/envs/comp47490-m1/lib/python3.8/site-packages/sklearn/neural_network/_multilayer_perceptron.py:692: ConvergenceWarning: Stochastic Optimizer: Maximum iterations (200) reached and the optimization hasn't converged yet.\n",
      "  warnings.warn(\n",
      "/Users/rajitbanerjee/.local/share/conda/envs/comp47490-m1/lib/python3.8/site-packages/sklearn/neural_network/_multilayer_perceptron.py:692: ConvergenceWarning: Stochastic Optimizer: Maximum iterations (200) reached and the optimization hasn't converged yet.\n",
      "  warnings.warn(\n",
      "/Users/rajitbanerjee/.local/share/conda/envs/comp47490-m1/lib/python3.8/site-packages/sklearn/neural_network/_multilayer_perceptron.py:692: ConvergenceWarning: Stochastic Optimizer: Maximum iterations (200) reached and the optimization hasn't converged yet.\n",
      "  warnings.warn(\n",
      "/Users/rajitbanerjee/.local/share/conda/envs/comp47490-m1/lib/python3.8/site-packages/sklearn/neural_network/_multilayer_perceptron.py:692: ConvergenceWarning: Stochastic Optimizer: Maximum iterations (200) reached and the optimization hasn't converged yet.\n",
      "  warnings.warn(\n",
      "/Users/rajitbanerjee/.local/share/conda/envs/comp47490-m1/lib/python3.8/site-packages/sklearn/neural_network/_multilayer_perceptron.py:692: ConvergenceWarning: Stochastic Optimizer: Maximum iterations (200) reached and the optimization hasn't converged yet.\n",
      "  warnings.warn(\n",
      "/Users/rajitbanerjee/.local/share/conda/envs/comp47490-m1/lib/python3.8/site-packages/sklearn/neural_network/_multilayer_perceptron.py:692: ConvergenceWarning: Stochastic Optimizer: Maximum iterations (200) reached and the optimization hasn't converged yet.\n",
      "  warnings.warn(\n",
      "/Users/rajitbanerjee/.local/share/conda/envs/comp47490-m1/lib/python3.8/site-packages/sklearn/neural_network/_multilayer_perceptron.py:692: ConvergenceWarning: Stochastic Optimizer: Maximum iterations (200) reached and the optimization hasn't converged yet.\n",
      "  warnings.warn(\n",
      "/Users/rajitbanerjee/.local/share/conda/envs/comp47490-m1/lib/python3.8/site-packages/sklearn/neural_network/_multilayer_perceptron.py:692: ConvergenceWarning: Stochastic Optimizer: Maximum iterations (200) reached and the optimization hasn't converged yet.\n",
      "  warnings.warn(\n",
      "/Users/rajitbanerjee/.local/share/conda/envs/comp47490-m1/lib/python3.8/site-packages/sklearn/neural_network/_multilayer_perceptron.py:692: ConvergenceWarning: Stochastic Optimizer: Maximum iterations (200) reached and the optimization hasn't converged yet.\n",
      "  warnings.warn(\n",
      "/Users/rajitbanerjee/.local/share/conda/envs/comp47490-m1/lib/python3.8/site-packages/sklearn/neural_network/_multilayer_perceptron.py:692: ConvergenceWarning: Stochastic Optimizer: Maximum iterations (200) reached and the optimization hasn't converged yet.\n",
      "  warnings.warn(\n",
      "/Users/rajitbanerjee/.local/share/conda/envs/comp47490-m1/lib/python3.8/site-packages/sklearn/neural_network/_multilayer_perceptron.py:692: ConvergenceWarning: Stochastic Optimizer: Maximum iterations (200) reached and the optimization hasn't converged yet.\n",
      "  warnings.warn(\n",
      "/Users/rajitbanerjee/.local/share/conda/envs/comp47490-m1/lib/python3.8/site-packages/sklearn/neural_network/_multilayer_perceptron.py:692: ConvergenceWarning: Stochastic Optimizer: Maximum iterations (200) reached and the optimization hasn't converged yet.\n",
      "  warnings.warn(\n",
      "/Users/rajitbanerjee/.local/share/conda/envs/comp47490-m1/lib/python3.8/site-packages/sklearn/neural_network/_multilayer_perceptron.py:692: ConvergenceWarning: Stochastic Optimizer: Maximum iterations (200) reached and the optimization hasn't converged yet.\n",
      "  warnings.warn(\n",
      "/Users/rajitbanerjee/.local/share/conda/envs/comp47490-m1/lib/python3.8/site-packages/sklearn/neural_network/_multilayer_perceptron.py:692: ConvergenceWarning: Stochastic Optimizer: Maximum iterations (200) reached and the optimization hasn't converged yet.\n",
      "  warnings.warn(\n",
      "/Users/rajitbanerjee/.local/share/conda/envs/comp47490-m1/lib/python3.8/site-packages/sklearn/neural_network/_multilayer_perceptron.py:692: ConvergenceWarning: Stochastic Optimizer: Maximum iterations (200) reached and the optimization hasn't converged yet.\n",
      "  warnings.warn(\n",
      "/Users/rajitbanerjee/.local/share/conda/envs/comp47490-m1/lib/python3.8/site-packages/sklearn/neural_network/_multilayer_perceptron.py:692: ConvergenceWarning: Stochastic Optimizer: Maximum iterations (200) reached and the optimization hasn't converged yet.\n",
      "  warnings.warn(\n",
      "/Users/rajitbanerjee/.local/share/conda/envs/comp47490-m1/lib/python3.8/site-packages/sklearn/neural_network/_multilayer_perceptron.py:692: ConvergenceWarning: Stochastic Optimizer: Maximum iterations (200) reached and the optimization hasn't converged yet.\n",
      "  warnings.warn(\n",
      "/Users/rajitbanerjee/.local/share/conda/envs/comp47490-m1/lib/python3.8/site-packages/sklearn/neural_network/_multilayer_perceptron.py:692: ConvergenceWarning: Stochastic Optimizer: Maximum iterations (200) reached and the optimization hasn't converged yet.\n",
      "  warnings.warn(\n",
      "/Users/rajitbanerjee/.local/share/conda/envs/comp47490-m1/lib/python3.8/site-packages/sklearn/neural_network/_multilayer_perceptron.py:692: ConvergenceWarning: Stochastic Optimizer: Maximum iterations (200) reached and the optimization hasn't converged yet.\n",
      "  warnings.warn(\n",
      "/Users/rajitbanerjee/.local/share/conda/envs/comp47490-m1/lib/python3.8/site-packages/sklearn/neural_network/_multilayer_perceptron.py:692: ConvergenceWarning: Stochastic Optimizer: Maximum iterations (200) reached and the optimization hasn't converged yet.\n",
      "  warnings.warn(\n",
      "/Users/rajitbanerjee/.local/share/conda/envs/comp47490-m1/lib/python3.8/site-packages/sklearn/neural_network/_multilayer_perceptron.py:692: ConvergenceWarning: Stochastic Optimizer: Maximum iterations (200) reached and the optimization hasn't converged yet.\n",
      "  warnings.warn(\n",
      "/Users/rajitbanerjee/.local/share/conda/envs/comp47490-m1/lib/python3.8/site-packages/sklearn/neural_network/_multilayer_perceptron.py:692: ConvergenceWarning: Stochastic Optimizer: Maximum iterations (200) reached and the optimization hasn't converged yet.\n",
      "  warnings.warn(\n",
      "/Users/rajitbanerjee/.local/share/conda/envs/comp47490-m1/lib/python3.8/site-packages/sklearn/neural_network/_multilayer_perceptron.py:692: ConvergenceWarning: Stochastic Optimizer: Maximum iterations (200) reached and the optimization hasn't converged yet.\n",
      "  warnings.warn(\n",
      "/Users/rajitbanerjee/.local/share/conda/envs/comp47490-m1/lib/python3.8/site-packages/sklearn/neural_network/_multilayer_perceptron.py:692: ConvergenceWarning: Stochastic Optimizer: Maximum iterations (200) reached and the optimization hasn't converged yet.\n",
      "  warnings.warn(\n",
      "/Users/rajitbanerjee/.local/share/conda/envs/comp47490-m1/lib/python3.8/site-packages/sklearn/neural_network/_multilayer_perceptron.py:692: ConvergenceWarning: Stochastic Optimizer: Maximum iterations (200) reached and the optimization hasn't converged yet.\n",
      "  warnings.warn(\n",
      "/Users/rajitbanerjee/.local/share/conda/envs/comp47490-m1/lib/python3.8/site-packages/sklearn/neural_network/_multilayer_perceptron.py:692: ConvergenceWarning: Stochastic Optimizer: Maximum iterations (200) reached and the optimization hasn't converged yet.\n",
      "  warnings.warn(\n",
      "/Users/rajitbanerjee/.local/share/conda/envs/comp47490-m1/lib/python3.8/site-packages/sklearn/neural_network/_multilayer_perceptron.py:692: ConvergenceWarning: Stochastic Optimizer: Maximum iterations (200) reached and the optimization hasn't converged yet.\n",
      "  warnings.warn(\n",
      "/Users/rajitbanerjee/.local/share/conda/envs/comp47490-m1/lib/python3.8/site-packages/sklearn/neural_network/_multilayer_perceptron.py:692: ConvergenceWarning: Stochastic Optimizer: Maximum iterations (200) reached and the optimization hasn't converged yet.\n",
      "  warnings.warn(\n",
      "/Users/rajitbanerjee/.local/share/conda/envs/comp47490-m1/lib/python3.8/site-packages/sklearn/neural_network/_multilayer_perceptron.py:692: ConvergenceWarning: Stochastic Optimizer: Maximum iterations (200) reached and the optimization hasn't converged yet.\n",
      "  warnings.warn(\n",
      "/Users/rajitbanerjee/.local/share/conda/envs/comp47490-m1/lib/python3.8/site-packages/sklearn/neural_network/_multilayer_perceptron.py:692: ConvergenceWarning: Stochastic Optimizer: Maximum iterations (200) reached and the optimization hasn't converged yet.\n",
      "  warnings.warn(\n"
     ]
    },
    {
     "name": "stderr",
     "output_type": "stream",
     "text": [
      "/Users/rajitbanerjee/.local/share/conda/envs/comp47490-m1/lib/python3.8/site-packages/sklearn/neural_network/_multilayer_perceptron.py:692: ConvergenceWarning: Stochastic Optimizer: Maximum iterations (200) reached and the optimization hasn't converged yet.\n",
      "  warnings.warn(\n",
      "/Users/rajitbanerjee/.local/share/conda/envs/comp47490-m1/lib/python3.8/site-packages/sklearn/neural_network/_multilayer_perceptron.py:692: ConvergenceWarning: Stochastic Optimizer: Maximum iterations (200) reached and the optimization hasn't converged yet.\n",
      "  warnings.warn(\n",
      "/Users/rajitbanerjee/.local/share/conda/envs/comp47490-m1/lib/python3.8/site-packages/sklearn/neural_network/_multilayer_perceptron.py:692: ConvergenceWarning: Stochastic Optimizer: Maximum iterations (200) reached and the optimization hasn't converged yet.\n",
      "  warnings.warn(\n",
      "/Users/rajitbanerjee/.local/share/conda/envs/comp47490-m1/lib/python3.8/site-packages/sklearn/neural_network/_multilayer_perceptron.py:692: ConvergenceWarning: Stochastic Optimizer: Maximum iterations (200) reached and the optimization hasn't converged yet.\n",
      "  warnings.warn(\n",
      "/Users/rajitbanerjee/.local/share/conda/envs/comp47490-m1/lib/python3.8/site-packages/sklearn/neural_network/_multilayer_perceptron.py:692: ConvergenceWarning: Stochastic Optimizer: Maximum iterations (200) reached and the optimization hasn't converged yet.\n",
      "  warnings.warn(\n",
      "/Users/rajitbanerjee/.local/share/conda/envs/comp47490-m1/lib/python3.8/site-packages/sklearn/neural_network/_multilayer_perceptron.py:692: ConvergenceWarning: Stochastic Optimizer: Maximum iterations (200) reached and the optimization hasn't converged yet.\n",
      "  warnings.warn(\n",
      "/Users/rajitbanerjee/.local/share/conda/envs/comp47490-m1/lib/python3.8/site-packages/sklearn/neural_network/_multilayer_perceptron.py:692: ConvergenceWarning: Stochastic Optimizer: Maximum iterations (200) reached and the optimization hasn't converged yet.\n",
      "  warnings.warn(\n",
      "/Users/rajitbanerjee/.local/share/conda/envs/comp47490-m1/lib/python3.8/site-packages/sklearn/neural_network/_multilayer_perceptron.py:692: ConvergenceWarning: Stochastic Optimizer: Maximum iterations (200) reached and the optimization hasn't converged yet.\n",
      "  warnings.warn(\n",
      "/Users/rajitbanerjee/.local/share/conda/envs/comp47490-m1/lib/python3.8/site-packages/sklearn/neural_network/_multilayer_perceptron.py:692: ConvergenceWarning: Stochastic Optimizer: Maximum iterations (200) reached and the optimization hasn't converged yet.\n",
      "  warnings.warn(\n",
      "/Users/rajitbanerjee/.local/share/conda/envs/comp47490-m1/lib/python3.8/site-packages/sklearn/neural_network/_multilayer_perceptron.py:692: ConvergenceWarning: Stochastic Optimizer: Maximum iterations (200) reached and the optimization hasn't converged yet.\n",
      "  warnings.warn(\n",
      "/Users/rajitbanerjee/.local/share/conda/envs/comp47490-m1/lib/python3.8/site-packages/sklearn/neural_network/_multilayer_perceptron.py:692: ConvergenceWarning: Stochastic Optimizer: Maximum iterations (200) reached and the optimization hasn't converged yet.\n",
      "  warnings.warn(\n",
      "/Users/rajitbanerjee/.local/share/conda/envs/comp47490-m1/lib/python3.8/site-packages/sklearn/neural_network/_multilayer_perceptron.py:692: ConvergenceWarning: Stochastic Optimizer: Maximum iterations (200) reached and the optimization hasn't converged yet.\n",
      "  warnings.warn(\n",
      "/Users/rajitbanerjee/.local/share/conda/envs/comp47490-m1/lib/python3.8/site-packages/sklearn/neural_network/_multilayer_perceptron.py:692: ConvergenceWarning: Stochastic Optimizer: Maximum iterations (200) reached and the optimization hasn't converged yet.\n",
      "  warnings.warn(\n",
      "/Users/rajitbanerjee/.local/share/conda/envs/comp47490-m1/lib/python3.8/site-packages/sklearn/neural_network/_multilayer_perceptron.py:692: ConvergenceWarning: Stochastic Optimizer: Maximum iterations (200) reached and the optimization hasn't converged yet.\n",
      "  warnings.warn(\n",
      "/Users/rajitbanerjee/.local/share/conda/envs/comp47490-m1/lib/python3.8/site-packages/sklearn/neural_network/_multilayer_perceptron.py:692: ConvergenceWarning: Stochastic Optimizer: Maximum iterations (200) reached and the optimization hasn't converged yet.\n",
      "  warnings.warn(\n",
      "/Users/rajitbanerjee/.local/share/conda/envs/comp47490-m1/lib/python3.8/site-packages/sklearn/neural_network/_multilayer_perceptron.py:692: ConvergenceWarning: Stochastic Optimizer: Maximum iterations (200) reached and the optimization hasn't converged yet.\n",
      "  warnings.warn(\n",
      "/Users/rajitbanerjee/.local/share/conda/envs/comp47490-m1/lib/python3.8/site-packages/sklearn/neural_network/_multilayer_perceptron.py:692: ConvergenceWarning: Stochastic Optimizer: Maximum iterations (200) reached and the optimization hasn't converged yet.\n",
      "  warnings.warn(\n",
      "/Users/rajitbanerjee/.local/share/conda/envs/comp47490-m1/lib/python3.8/site-packages/sklearn/neural_network/_multilayer_perceptron.py:692: ConvergenceWarning: Stochastic Optimizer: Maximum iterations (200) reached and the optimization hasn't converged yet.\n",
      "  warnings.warn(\n",
      "/Users/rajitbanerjee/.local/share/conda/envs/comp47490-m1/lib/python3.8/site-packages/sklearn/neural_network/_multilayer_perceptron.py:692: ConvergenceWarning: Stochastic Optimizer: Maximum iterations (200) reached and the optimization hasn't converged yet.\n",
      "  warnings.warn(\n",
      "/Users/rajitbanerjee/.local/share/conda/envs/comp47490-m1/lib/python3.8/site-packages/sklearn/neural_network/_multilayer_perceptron.py:692: ConvergenceWarning: Stochastic Optimizer: Maximum iterations (200) reached and the optimization hasn't converged yet.\n",
      "  warnings.warn(\n",
      "/Users/rajitbanerjee/.local/share/conda/envs/comp47490-m1/lib/python3.8/site-packages/sklearn/neural_network/_multilayer_perceptron.py:692: ConvergenceWarning: Stochastic Optimizer: Maximum iterations (200) reached and the optimization hasn't converged yet.\n",
      "  warnings.warn(\n",
      "/Users/rajitbanerjee/.local/share/conda/envs/comp47490-m1/lib/python3.8/site-packages/sklearn/neural_network/_multilayer_perceptron.py:692: ConvergenceWarning: Stochastic Optimizer: Maximum iterations (200) reached and the optimization hasn't converged yet.\n",
      "  warnings.warn(\n",
      "/Users/rajitbanerjee/.local/share/conda/envs/comp47490-m1/lib/python3.8/site-packages/sklearn/neural_network/_multilayer_perceptron.py:692: ConvergenceWarning: Stochastic Optimizer: Maximum iterations (200) reached and the optimization hasn't converged yet.\n",
      "  warnings.warn(\n",
      "/Users/rajitbanerjee/.local/share/conda/envs/comp47490-m1/lib/python3.8/site-packages/sklearn/neural_network/_multilayer_perceptron.py:692: ConvergenceWarning: Stochastic Optimizer: Maximum iterations (200) reached and the optimization hasn't converged yet.\n",
      "  warnings.warn(\n",
      "/Users/rajitbanerjee/.local/share/conda/envs/comp47490-m1/lib/python3.8/site-packages/sklearn/neural_network/_multilayer_perceptron.py:692: ConvergenceWarning: Stochastic Optimizer: Maximum iterations (200) reached and the optimization hasn't converged yet.\n",
      "  warnings.warn(\n",
      "/Users/rajitbanerjee/.local/share/conda/envs/comp47490-m1/lib/python3.8/site-packages/sklearn/neural_network/_multilayer_perceptron.py:692: ConvergenceWarning: Stochastic Optimizer: Maximum iterations (200) reached and the optimization hasn't converged yet.\n",
      "  warnings.warn(\n",
      "/Users/rajitbanerjee/.local/share/conda/envs/comp47490-m1/lib/python3.8/site-packages/sklearn/neural_network/_multilayer_perceptron.py:692: ConvergenceWarning: Stochastic Optimizer: Maximum iterations (200) reached and the optimization hasn't converged yet.\n",
      "  warnings.warn(\n",
      "/Users/rajitbanerjee/.local/share/conda/envs/comp47490-m1/lib/python3.8/site-packages/sklearn/neural_network/_multilayer_perceptron.py:692: ConvergenceWarning: Stochastic Optimizer: Maximum iterations (200) reached and the optimization hasn't converged yet.\n",
      "  warnings.warn(\n",
      "/Users/rajitbanerjee/.local/share/conda/envs/comp47490-m1/lib/python3.8/site-packages/sklearn/neural_network/_multilayer_perceptron.py:692: ConvergenceWarning: Stochastic Optimizer: Maximum iterations (200) reached and the optimization hasn't converged yet.\n",
      "  warnings.warn(\n",
      "/Users/rajitbanerjee/.local/share/conda/envs/comp47490-m1/lib/python3.8/site-packages/sklearn/neural_network/_multilayer_perceptron.py:692: ConvergenceWarning: Stochastic Optimizer: Maximum iterations (200) reached and the optimization hasn't converged yet.\n",
      "  warnings.warn(\n",
      "/Users/rajitbanerjee/.local/share/conda/envs/comp47490-m1/lib/python3.8/site-packages/sklearn/neural_network/_multilayer_perceptron.py:692: ConvergenceWarning: Stochastic Optimizer: Maximum iterations (200) reached and the optimization hasn't converged yet.\n",
      "  warnings.warn(\n",
      "/Users/rajitbanerjee/.local/share/conda/envs/comp47490-m1/lib/python3.8/site-packages/sklearn/neural_network/_multilayer_perceptron.py:692: ConvergenceWarning: Stochastic Optimizer: Maximum iterations (200) reached and the optimization hasn't converged yet.\n",
      "  warnings.warn(\n"
     ]
    },
    {
     "name": "stderr",
     "output_type": "stream",
     "text": [
      "/Users/rajitbanerjee/.local/share/conda/envs/comp47490-m1/lib/python3.8/site-packages/sklearn/neural_network/_multilayer_perceptron.py:692: ConvergenceWarning: Stochastic Optimizer: Maximum iterations (200) reached and the optimization hasn't converged yet.\n",
      "  warnings.warn(\n",
      "/Users/rajitbanerjee/.local/share/conda/envs/comp47490-m1/lib/python3.8/site-packages/sklearn/neural_network/_multilayer_perceptron.py:692: ConvergenceWarning: Stochastic Optimizer: Maximum iterations (200) reached and the optimization hasn't converged yet.\n",
      "  warnings.warn(\n",
      "/Users/rajitbanerjee/.local/share/conda/envs/comp47490-m1/lib/python3.8/site-packages/sklearn/neural_network/_multilayer_perceptron.py:692: ConvergenceWarning: Stochastic Optimizer: Maximum iterations (200) reached and the optimization hasn't converged yet.\n",
      "  warnings.warn(\n",
      "/Users/rajitbanerjee/.local/share/conda/envs/comp47490-m1/lib/python3.8/site-packages/sklearn/neural_network/_multilayer_perceptron.py:692: ConvergenceWarning: Stochastic Optimizer: Maximum iterations (200) reached and the optimization hasn't converged yet.\n",
      "  warnings.warn(\n",
      "/Users/rajitbanerjee/.local/share/conda/envs/comp47490-m1/lib/python3.8/site-packages/sklearn/neural_network/_multilayer_perceptron.py:692: ConvergenceWarning: Stochastic Optimizer: Maximum iterations (200) reached and the optimization hasn't converged yet.\n",
      "  warnings.warn(\n",
      "/Users/rajitbanerjee/.local/share/conda/envs/comp47490-m1/lib/python3.8/site-packages/sklearn/neural_network/_multilayer_perceptron.py:692: ConvergenceWarning: Stochastic Optimizer: Maximum iterations (200) reached and the optimization hasn't converged yet.\n",
      "  warnings.warn(\n",
      "/Users/rajitbanerjee/.local/share/conda/envs/comp47490-m1/lib/python3.8/site-packages/sklearn/neural_network/_multilayer_perceptron.py:692: ConvergenceWarning: Stochastic Optimizer: Maximum iterations (200) reached and the optimization hasn't converged yet.\n",
      "  warnings.warn(\n",
      "/Users/rajitbanerjee/.local/share/conda/envs/comp47490-m1/lib/python3.8/site-packages/sklearn/neural_network/_multilayer_perceptron.py:692: ConvergenceWarning: Stochastic Optimizer: Maximum iterations (200) reached and the optimization hasn't converged yet.\n",
      "  warnings.warn(\n",
      "/Users/rajitbanerjee/.local/share/conda/envs/comp47490-m1/lib/python3.8/site-packages/sklearn/neural_network/_multilayer_perceptron.py:692: ConvergenceWarning: Stochastic Optimizer: Maximum iterations (200) reached and the optimization hasn't converged yet.\n",
      "  warnings.warn(\n",
      "/Users/rajitbanerjee/.local/share/conda/envs/comp47490-m1/lib/python3.8/site-packages/sklearn/neural_network/_multilayer_perceptron.py:692: ConvergenceWarning: Stochastic Optimizer: Maximum iterations (200) reached and the optimization hasn't converged yet.\n",
      "  warnings.warn(\n",
      "/Users/rajitbanerjee/.local/share/conda/envs/comp47490-m1/lib/python3.8/site-packages/sklearn/neural_network/_multilayer_perceptron.py:692: ConvergenceWarning: Stochastic Optimizer: Maximum iterations (200) reached and the optimization hasn't converged yet.\n",
      "  warnings.warn(\n",
      "/Users/rajitbanerjee/.local/share/conda/envs/comp47490-m1/lib/python3.8/site-packages/sklearn/neural_network/_multilayer_perceptron.py:692: ConvergenceWarning: Stochastic Optimizer: Maximum iterations (200) reached and the optimization hasn't converged yet.\n",
      "  warnings.warn(\n",
      "/Users/rajitbanerjee/.local/share/conda/envs/comp47490-m1/lib/python3.8/site-packages/sklearn/neural_network/_multilayer_perceptron.py:692: ConvergenceWarning: Stochastic Optimizer: Maximum iterations (200) reached and the optimization hasn't converged yet.\n",
      "  warnings.warn(\n",
      "/Users/rajitbanerjee/.local/share/conda/envs/comp47490-m1/lib/python3.8/site-packages/sklearn/neural_network/_multilayer_perceptron.py:692: ConvergenceWarning: Stochastic Optimizer: Maximum iterations (200) reached and the optimization hasn't converged yet.\n",
      "  warnings.warn(\n",
      "/Users/rajitbanerjee/.local/share/conda/envs/comp47490-m1/lib/python3.8/site-packages/sklearn/neural_network/_multilayer_perceptron.py:692: ConvergenceWarning: Stochastic Optimizer: Maximum iterations (200) reached and the optimization hasn't converged yet.\n",
      "  warnings.warn(\n",
      "/Users/rajitbanerjee/.local/share/conda/envs/comp47490-m1/lib/python3.8/site-packages/sklearn/neural_network/_multilayer_perceptron.py:692: ConvergenceWarning: Stochastic Optimizer: Maximum iterations (200) reached and the optimization hasn't converged yet.\n",
      "  warnings.warn(\n",
      "/Users/rajitbanerjee/.local/share/conda/envs/comp47490-m1/lib/python3.8/site-packages/sklearn/neural_network/_multilayer_perceptron.py:692: ConvergenceWarning: Stochastic Optimizer: Maximum iterations (200) reached and the optimization hasn't converged yet.\n",
      "  warnings.warn(\n",
      "/Users/rajitbanerjee/.local/share/conda/envs/comp47490-m1/lib/python3.8/site-packages/sklearn/neural_network/_multilayer_perceptron.py:692: ConvergenceWarning: Stochastic Optimizer: Maximum iterations (200) reached and the optimization hasn't converged yet.\n",
      "  warnings.warn(\n",
      "/Users/rajitbanerjee/.local/share/conda/envs/comp47490-m1/lib/python3.8/site-packages/sklearn/neural_network/_multilayer_perceptron.py:692: ConvergenceWarning: Stochastic Optimizer: Maximum iterations (200) reached and the optimization hasn't converged yet.\n",
      "  warnings.warn(\n",
      "/Users/rajitbanerjee/.local/share/conda/envs/comp47490-m1/lib/python3.8/site-packages/sklearn/neural_network/_multilayer_perceptron.py:692: ConvergenceWarning: Stochastic Optimizer: Maximum iterations (200) reached and the optimization hasn't converged yet.\n",
      "  warnings.warn(\n",
      "/Users/rajitbanerjee/.local/share/conda/envs/comp47490-m1/lib/python3.8/site-packages/sklearn/neural_network/_multilayer_perceptron.py:692: ConvergenceWarning: Stochastic Optimizer: Maximum iterations (200) reached and the optimization hasn't converged yet.\n",
      "  warnings.warn(\n",
      "/Users/rajitbanerjee/.local/share/conda/envs/comp47490-m1/lib/python3.8/site-packages/sklearn/neural_network/_multilayer_perceptron.py:692: ConvergenceWarning: Stochastic Optimizer: Maximum iterations (200) reached and the optimization hasn't converged yet.\n",
      "  warnings.warn(\n",
      "/Users/rajitbanerjee/.local/share/conda/envs/comp47490-m1/lib/python3.8/site-packages/sklearn/neural_network/_multilayer_perceptron.py:692: ConvergenceWarning: Stochastic Optimizer: Maximum iterations (200) reached and the optimization hasn't converged yet.\n",
      "  warnings.warn(\n",
      "/Users/rajitbanerjee/.local/share/conda/envs/comp47490-m1/lib/python3.8/site-packages/sklearn/neural_network/_multilayer_perceptron.py:692: ConvergenceWarning: Stochastic Optimizer: Maximum iterations (200) reached and the optimization hasn't converged yet.\n",
      "  warnings.warn(\n",
      "/Users/rajitbanerjee/.local/share/conda/envs/comp47490-m1/lib/python3.8/site-packages/sklearn/neural_network/_multilayer_perceptron.py:692: ConvergenceWarning: Stochastic Optimizer: Maximum iterations (200) reached and the optimization hasn't converged yet.\n",
      "  warnings.warn(\n",
      "/Users/rajitbanerjee/.local/share/conda/envs/comp47490-m1/lib/python3.8/site-packages/sklearn/neural_network/_multilayer_perceptron.py:692: ConvergenceWarning: Stochastic Optimizer: Maximum iterations (200) reached and the optimization hasn't converged yet.\n",
      "  warnings.warn(\n",
      "/Users/rajitbanerjee/.local/share/conda/envs/comp47490-m1/lib/python3.8/site-packages/sklearn/neural_network/_multilayer_perceptron.py:692: ConvergenceWarning: Stochastic Optimizer: Maximum iterations (200) reached and the optimization hasn't converged yet.\n",
      "  warnings.warn(\n",
      "/Users/rajitbanerjee/.local/share/conda/envs/comp47490-m1/lib/python3.8/site-packages/sklearn/neural_network/_multilayer_perceptron.py:692: ConvergenceWarning: Stochastic Optimizer: Maximum iterations (200) reached and the optimization hasn't converged yet.\n",
      "  warnings.warn(\n",
      "/Users/rajitbanerjee/.local/share/conda/envs/comp47490-m1/lib/python3.8/site-packages/sklearn/neural_network/_multilayer_perceptron.py:692: ConvergenceWarning: Stochastic Optimizer: Maximum iterations (200) reached and the optimization hasn't converged yet.\n",
      "  warnings.warn(\n",
      "/Users/rajitbanerjee/.local/share/conda/envs/comp47490-m1/lib/python3.8/site-packages/sklearn/neural_network/_multilayer_perceptron.py:692: ConvergenceWarning: Stochastic Optimizer: Maximum iterations (200) reached and the optimization hasn't converged yet.\n",
      "  warnings.warn(\n",
      "/Users/rajitbanerjee/.local/share/conda/envs/comp47490-m1/lib/python3.8/site-packages/sklearn/neural_network/_multilayer_perceptron.py:692: ConvergenceWarning: Stochastic Optimizer: Maximum iterations (200) reached and the optimization hasn't converged yet.\n",
      "  warnings.warn(\n",
      "/Users/rajitbanerjee/.local/share/conda/envs/comp47490-m1/lib/python3.8/site-packages/sklearn/neural_network/_multilayer_perceptron.py:692: ConvergenceWarning: Stochastic Optimizer: Maximum iterations (200) reached and the optimization hasn't converged yet.\n",
      "  warnings.warn(\n",
      "/Users/rajitbanerjee/.local/share/conda/envs/comp47490-m1/lib/python3.8/site-packages/sklearn/neural_network/_multilayer_perceptron.py:692: ConvergenceWarning: Stochastic Optimizer: Maximum iterations (200) reached and the optimization hasn't converged yet.\n",
      "  warnings.warn(\n",
      "/Users/rajitbanerjee/.local/share/conda/envs/comp47490-m1/lib/python3.8/site-packages/sklearn/neural_network/_multilayer_perceptron.py:692: ConvergenceWarning: Stochastic Optimizer: Maximum iterations (200) reached and the optimization hasn't converged yet.\n",
      "  warnings.warn(\n"
     ]
    },
    {
     "name": "stderr",
     "output_type": "stream",
     "text": [
      "/Users/rajitbanerjee/.local/share/conda/envs/comp47490-m1/lib/python3.8/site-packages/sklearn/neural_network/_multilayer_perceptron.py:692: ConvergenceWarning: Stochastic Optimizer: Maximum iterations (200) reached and the optimization hasn't converged yet.\n",
      "  warnings.warn(\n",
      "/Users/rajitbanerjee/.local/share/conda/envs/comp47490-m1/lib/python3.8/site-packages/sklearn/neural_network/_multilayer_perceptron.py:692: ConvergenceWarning: Stochastic Optimizer: Maximum iterations (200) reached and the optimization hasn't converged yet.\n",
      "  warnings.warn(\n",
      "/Users/rajitbanerjee/.local/share/conda/envs/comp47490-m1/lib/python3.8/site-packages/sklearn/neural_network/_multilayer_perceptron.py:692: ConvergenceWarning: Stochastic Optimizer: Maximum iterations (200) reached and the optimization hasn't converged yet.\n",
      "  warnings.warn(\n",
      "/Users/rajitbanerjee/.local/share/conda/envs/comp47490-m1/lib/python3.8/site-packages/sklearn/neural_network/_multilayer_perceptron.py:692: ConvergenceWarning: Stochastic Optimizer: Maximum iterations (200) reached and the optimization hasn't converged yet.\n",
      "  warnings.warn(\n",
      "/Users/rajitbanerjee/.local/share/conda/envs/comp47490-m1/lib/python3.8/site-packages/sklearn/neural_network/_multilayer_perceptron.py:692: ConvergenceWarning: Stochastic Optimizer: Maximum iterations (200) reached and the optimization hasn't converged yet.\n",
      "  warnings.warn(\n",
      "/Users/rajitbanerjee/.local/share/conda/envs/comp47490-m1/lib/python3.8/site-packages/sklearn/neural_network/_multilayer_perceptron.py:692: ConvergenceWarning: Stochastic Optimizer: Maximum iterations (200) reached and the optimization hasn't converged yet.\n",
      "  warnings.warn(\n",
      "/Users/rajitbanerjee/.local/share/conda/envs/comp47490-m1/lib/python3.8/site-packages/sklearn/neural_network/_multilayer_perceptron.py:692: ConvergenceWarning: Stochastic Optimizer: Maximum iterations (200) reached and the optimization hasn't converged yet.\n",
      "  warnings.warn(\n",
      "/Users/rajitbanerjee/.local/share/conda/envs/comp47490-m1/lib/python3.8/site-packages/sklearn/neural_network/_multilayer_perceptron.py:692: ConvergenceWarning: Stochastic Optimizer: Maximum iterations (200) reached and the optimization hasn't converged yet.\n",
      "  warnings.warn(\n",
      "/Users/rajitbanerjee/.local/share/conda/envs/comp47490-m1/lib/python3.8/site-packages/sklearn/neural_network/_multilayer_perceptron.py:692: ConvergenceWarning: Stochastic Optimizer: Maximum iterations (200) reached and the optimization hasn't converged yet.\n",
      "  warnings.warn(\n",
      "/Users/rajitbanerjee/.local/share/conda/envs/comp47490-m1/lib/python3.8/site-packages/sklearn/neural_network/_multilayer_perceptron.py:692: ConvergenceWarning: Stochastic Optimizer: Maximum iterations (200) reached and the optimization hasn't converged yet.\n",
      "  warnings.warn(\n",
      "/Users/rajitbanerjee/.local/share/conda/envs/comp47490-m1/lib/python3.8/site-packages/sklearn/neural_network/_multilayer_perceptron.py:692: ConvergenceWarning: Stochastic Optimizer: Maximum iterations (200) reached and the optimization hasn't converged yet.\n",
      "  warnings.warn(\n",
      "/Users/rajitbanerjee/.local/share/conda/envs/comp47490-m1/lib/python3.8/site-packages/sklearn/neural_network/_multilayer_perceptron.py:692: ConvergenceWarning: Stochastic Optimizer: Maximum iterations (200) reached and the optimization hasn't converged yet.\n",
      "  warnings.warn(\n",
      "/Users/rajitbanerjee/.local/share/conda/envs/comp47490-m1/lib/python3.8/site-packages/sklearn/neural_network/_multilayer_perceptron.py:692: ConvergenceWarning: Stochastic Optimizer: Maximum iterations (200) reached and the optimization hasn't converged yet.\n",
      "  warnings.warn(\n",
      "/Users/rajitbanerjee/.local/share/conda/envs/comp47490-m1/lib/python3.8/site-packages/sklearn/neural_network/_multilayer_perceptron.py:692: ConvergenceWarning: Stochastic Optimizer: Maximum iterations (200) reached and the optimization hasn't converged yet.\n",
      "  warnings.warn(\n",
      "/Users/rajitbanerjee/.local/share/conda/envs/comp47490-m1/lib/python3.8/site-packages/sklearn/neural_network/_multilayer_perceptron.py:692: ConvergenceWarning: Stochastic Optimizer: Maximum iterations (200) reached and the optimization hasn't converged yet.\n",
      "  warnings.warn(\n",
      "/Users/rajitbanerjee/.local/share/conda/envs/comp47490-m1/lib/python3.8/site-packages/sklearn/neural_network/_multilayer_perceptron.py:692: ConvergenceWarning: Stochastic Optimizer: Maximum iterations (200) reached and the optimization hasn't converged yet.\n",
      "  warnings.warn(\n",
      "/Users/rajitbanerjee/.local/share/conda/envs/comp47490-m1/lib/python3.8/site-packages/sklearn/neural_network/_multilayer_perceptron.py:692: ConvergenceWarning: Stochastic Optimizer: Maximum iterations (200) reached and the optimization hasn't converged yet.\n",
      "  warnings.warn(\n",
      "/Users/rajitbanerjee/.local/share/conda/envs/comp47490-m1/lib/python3.8/site-packages/sklearn/neural_network/_multilayer_perceptron.py:692: ConvergenceWarning: Stochastic Optimizer: Maximum iterations (200) reached and the optimization hasn't converged yet.\n",
      "  warnings.warn(\n",
      "/Users/rajitbanerjee/.local/share/conda/envs/comp47490-m1/lib/python3.8/site-packages/sklearn/neural_network/_multilayer_perceptron.py:692: ConvergenceWarning: Stochastic Optimizer: Maximum iterations (200) reached and the optimization hasn't converged yet.\n",
      "  warnings.warn(\n",
      "/Users/rajitbanerjee/.local/share/conda/envs/comp47490-m1/lib/python3.8/site-packages/sklearn/neural_network/_multilayer_perceptron.py:692: ConvergenceWarning: Stochastic Optimizer: Maximum iterations (200) reached and the optimization hasn't converged yet.\n",
      "  warnings.warn(\n",
      "/Users/rajitbanerjee/.local/share/conda/envs/comp47490-m1/lib/python3.8/site-packages/sklearn/neural_network/_multilayer_perceptron.py:692: ConvergenceWarning: Stochastic Optimizer: Maximum iterations (200) reached and the optimization hasn't converged yet.\n",
      "  warnings.warn(\n",
      "/Users/rajitbanerjee/.local/share/conda/envs/comp47490-m1/lib/python3.8/site-packages/sklearn/neural_network/_multilayer_perceptron.py:692: ConvergenceWarning: Stochastic Optimizer: Maximum iterations (200) reached and the optimization hasn't converged yet.\n",
      "  warnings.warn(\n",
      "/Users/rajitbanerjee/.local/share/conda/envs/comp47490-m1/lib/python3.8/site-packages/sklearn/neural_network/_multilayer_perceptron.py:692: ConvergenceWarning: Stochastic Optimizer: Maximum iterations (200) reached and the optimization hasn't converged yet.\n",
      "  warnings.warn(\n",
      "/Users/rajitbanerjee/.local/share/conda/envs/comp47490-m1/lib/python3.8/site-packages/sklearn/neural_network/_multilayer_perceptron.py:692: ConvergenceWarning: Stochastic Optimizer: Maximum iterations (200) reached and the optimization hasn't converged yet.\n",
      "  warnings.warn(\n",
      "/Users/rajitbanerjee/.local/share/conda/envs/comp47490-m1/lib/python3.8/site-packages/sklearn/neural_network/_multilayer_perceptron.py:692: ConvergenceWarning: Stochastic Optimizer: Maximum iterations (200) reached and the optimization hasn't converged yet.\n",
      "  warnings.warn(\n",
      "/Users/rajitbanerjee/.local/share/conda/envs/comp47490-m1/lib/python3.8/site-packages/sklearn/neural_network/_multilayer_perceptron.py:692: ConvergenceWarning: Stochastic Optimizer: Maximum iterations (200) reached and the optimization hasn't converged yet.\n",
      "  warnings.warn(\n",
      "/Users/rajitbanerjee/.local/share/conda/envs/comp47490-m1/lib/python3.8/site-packages/sklearn/neural_network/_multilayer_perceptron.py:692: ConvergenceWarning: Stochastic Optimizer: Maximum iterations (200) reached and the optimization hasn't converged yet.\n",
      "  warnings.warn(\n",
      "/Users/rajitbanerjee/.local/share/conda/envs/comp47490-m1/lib/python3.8/site-packages/sklearn/neural_network/_multilayer_perceptron.py:692: ConvergenceWarning: Stochastic Optimizer: Maximum iterations (200) reached and the optimization hasn't converged yet.\n",
      "  warnings.warn(\n",
      "/Users/rajitbanerjee/.local/share/conda/envs/comp47490-m1/lib/python3.8/site-packages/sklearn/neural_network/_multilayer_perceptron.py:692: ConvergenceWarning: Stochastic Optimizer: Maximum iterations (200) reached and the optimization hasn't converged yet.\n",
      "  warnings.warn(\n",
      "/Users/rajitbanerjee/.local/share/conda/envs/comp47490-m1/lib/python3.8/site-packages/sklearn/neural_network/_multilayer_perceptron.py:692: ConvergenceWarning: Stochastic Optimizer: Maximum iterations (200) reached and the optimization hasn't converged yet.\n",
      "  warnings.warn(\n"
     ]
    },
    {
     "name": "stderr",
     "output_type": "stream",
     "text": [
      "/Users/rajitbanerjee/.local/share/conda/envs/comp47490-m1/lib/python3.8/site-packages/sklearn/neural_network/_multilayer_perceptron.py:692: ConvergenceWarning: Stochastic Optimizer: Maximum iterations (200) reached and the optimization hasn't converged yet.\n",
      "  warnings.warn(\n",
      "/Users/rajitbanerjee/.local/share/conda/envs/comp47490-m1/lib/python3.8/site-packages/sklearn/neural_network/_multilayer_perceptron.py:692: ConvergenceWarning: Stochastic Optimizer: Maximum iterations (200) reached and the optimization hasn't converged yet.\n",
      "  warnings.warn(\n",
      "/Users/rajitbanerjee/.local/share/conda/envs/comp47490-m1/lib/python3.8/site-packages/sklearn/neural_network/_multilayer_perceptron.py:692: ConvergenceWarning: Stochastic Optimizer: Maximum iterations (200) reached and the optimization hasn't converged yet.\n",
      "  warnings.warn(\n",
      "/Users/rajitbanerjee/.local/share/conda/envs/comp47490-m1/lib/python3.8/site-packages/sklearn/neural_network/_multilayer_perceptron.py:692: ConvergenceWarning: Stochastic Optimizer: Maximum iterations (200) reached and the optimization hasn't converged yet.\n",
      "  warnings.warn(\n",
      "/Users/rajitbanerjee/.local/share/conda/envs/comp47490-m1/lib/python3.8/site-packages/sklearn/neural_network/_multilayer_perceptron.py:692: ConvergenceWarning: Stochastic Optimizer: Maximum iterations (200) reached and the optimization hasn't converged yet.\n",
      "  warnings.warn(\n",
      "/Users/rajitbanerjee/.local/share/conda/envs/comp47490-m1/lib/python3.8/site-packages/sklearn/neural_network/_multilayer_perceptron.py:692: ConvergenceWarning: Stochastic Optimizer: Maximum iterations (200) reached and the optimization hasn't converged yet.\n",
      "  warnings.warn(\n",
      "/Users/rajitbanerjee/.local/share/conda/envs/comp47490-m1/lib/python3.8/site-packages/sklearn/neural_network/_multilayer_perceptron.py:692: ConvergenceWarning: Stochastic Optimizer: Maximum iterations (200) reached and the optimization hasn't converged yet.\n",
      "  warnings.warn(\n",
      "/Users/rajitbanerjee/.local/share/conda/envs/comp47490-m1/lib/python3.8/site-packages/sklearn/neural_network/_multilayer_perceptron.py:692: ConvergenceWarning: Stochastic Optimizer: Maximum iterations (200) reached and the optimization hasn't converged yet.\n",
      "  warnings.warn(\n",
      "/Users/rajitbanerjee/.local/share/conda/envs/comp47490-m1/lib/python3.8/site-packages/sklearn/neural_network/_multilayer_perceptron.py:692: ConvergenceWarning: Stochastic Optimizer: Maximum iterations (200) reached and the optimization hasn't converged yet.\n",
      "  warnings.warn(\n",
      "/Users/rajitbanerjee/.local/share/conda/envs/comp47490-m1/lib/python3.8/site-packages/sklearn/neural_network/_multilayer_perceptron.py:692: ConvergenceWarning: Stochastic Optimizer: Maximum iterations (200) reached and the optimization hasn't converged yet.\n",
      "  warnings.warn(\n",
      "/Users/rajitbanerjee/.local/share/conda/envs/comp47490-m1/lib/python3.8/site-packages/sklearn/neural_network/_multilayer_perceptron.py:692: ConvergenceWarning: Stochastic Optimizer: Maximum iterations (200) reached and the optimization hasn't converged yet.\n",
      "  warnings.warn(\n",
      "/Users/rajitbanerjee/.local/share/conda/envs/comp47490-m1/lib/python3.8/site-packages/sklearn/neural_network/_multilayer_perceptron.py:692: ConvergenceWarning: Stochastic Optimizer: Maximum iterations (200) reached and the optimization hasn't converged yet.\n",
      "  warnings.warn(\n",
      "/Users/rajitbanerjee/.local/share/conda/envs/comp47490-m1/lib/python3.8/site-packages/sklearn/neural_network/_multilayer_perceptron.py:692: ConvergenceWarning: Stochastic Optimizer: Maximum iterations (200) reached and the optimization hasn't converged yet.\n",
      "  warnings.warn(\n",
      "/Users/rajitbanerjee/.local/share/conda/envs/comp47490-m1/lib/python3.8/site-packages/sklearn/neural_network/_multilayer_perceptron.py:692: ConvergenceWarning: Stochastic Optimizer: Maximum iterations (200) reached and the optimization hasn't converged yet.\n",
      "  warnings.warn(\n",
      "/Users/rajitbanerjee/.local/share/conda/envs/comp47490-m1/lib/python3.8/site-packages/sklearn/neural_network/_multilayer_perceptron.py:692: ConvergenceWarning: Stochastic Optimizer: Maximum iterations (200) reached and the optimization hasn't converged yet.\n",
      "  warnings.warn(\n",
      "/Users/rajitbanerjee/.local/share/conda/envs/comp47490-m1/lib/python3.8/site-packages/sklearn/neural_network/_multilayer_perceptron.py:692: ConvergenceWarning: Stochastic Optimizer: Maximum iterations (200) reached and the optimization hasn't converged yet.\n",
      "  warnings.warn(\n",
      "/Users/rajitbanerjee/.local/share/conda/envs/comp47490-m1/lib/python3.8/site-packages/sklearn/neural_network/_multilayer_perceptron.py:692: ConvergenceWarning: Stochastic Optimizer: Maximum iterations (200) reached and the optimization hasn't converged yet.\n",
      "  warnings.warn(\n",
      "/Users/rajitbanerjee/.local/share/conda/envs/comp47490-m1/lib/python3.8/site-packages/sklearn/neural_network/_multilayer_perceptron.py:692: ConvergenceWarning: Stochastic Optimizer: Maximum iterations (200) reached and the optimization hasn't converged yet.\n",
      "  warnings.warn(\n",
      "/Users/rajitbanerjee/.local/share/conda/envs/comp47490-m1/lib/python3.8/site-packages/sklearn/neural_network/_multilayer_perceptron.py:692: ConvergenceWarning: Stochastic Optimizer: Maximum iterations (200) reached and the optimization hasn't converged yet.\n",
      "  warnings.warn(\n",
      "/Users/rajitbanerjee/.local/share/conda/envs/comp47490-m1/lib/python3.8/site-packages/sklearn/neural_network/_multilayer_perceptron.py:692: ConvergenceWarning: Stochastic Optimizer: Maximum iterations (200) reached and the optimization hasn't converged yet.\n",
      "  warnings.warn(\n",
      "/Users/rajitbanerjee/.local/share/conda/envs/comp47490-m1/lib/python3.8/site-packages/sklearn/neural_network/_multilayer_perceptron.py:692: ConvergenceWarning: Stochastic Optimizer: Maximum iterations (200) reached and the optimization hasn't converged yet.\n",
      "  warnings.warn(\n",
      "/Users/rajitbanerjee/.local/share/conda/envs/comp47490-m1/lib/python3.8/site-packages/sklearn/neural_network/_multilayer_perceptron.py:692: ConvergenceWarning: Stochastic Optimizer: Maximum iterations (200) reached and the optimization hasn't converged yet.\n",
      "  warnings.warn(\n",
      "/Users/rajitbanerjee/.local/share/conda/envs/comp47490-m1/lib/python3.8/site-packages/sklearn/neural_network/_multilayer_perceptron.py:692: ConvergenceWarning: Stochastic Optimizer: Maximum iterations (200) reached and the optimization hasn't converged yet.\n",
      "  warnings.warn(\n",
      "/Users/rajitbanerjee/.local/share/conda/envs/comp47490-m1/lib/python3.8/site-packages/sklearn/neural_network/_multilayer_perceptron.py:692: ConvergenceWarning: Stochastic Optimizer: Maximum iterations (200) reached and the optimization hasn't converged yet.\n",
      "  warnings.warn(\n",
      "/Users/rajitbanerjee/.local/share/conda/envs/comp47490-m1/lib/python3.8/site-packages/sklearn/neural_network/_multilayer_perceptron.py:692: ConvergenceWarning: Stochastic Optimizer: Maximum iterations (200) reached and the optimization hasn't converged yet.\n",
      "  warnings.warn(\n",
      "/Users/rajitbanerjee/.local/share/conda/envs/comp47490-m1/lib/python3.8/site-packages/sklearn/neural_network/_multilayer_perceptron.py:692: ConvergenceWarning: Stochastic Optimizer: Maximum iterations (200) reached and the optimization hasn't converged yet.\n",
      "  warnings.warn(\n",
      "/Users/rajitbanerjee/.local/share/conda/envs/comp47490-m1/lib/python3.8/site-packages/sklearn/neural_network/_multilayer_perceptron.py:692: ConvergenceWarning: Stochastic Optimizer: Maximum iterations (200) reached and the optimization hasn't converged yet.\n",
      "  warnings.warn(\n",
      "/Users/rajitbanerjee/.local/share/conda/envs/comp47490-m1/lib/python3.8/site-packages/sklearn/neural_network/_multilayer_perceptron.py:692: ConvergenceWarning: Stochastic Optimizer: Maximum iterations (200) reached and the optimization hasn't converged yet.\n",
      "  warnings.warn(\n",
      "/Users/rajitbanerjee/.local/share/conda/envs/comp47490-m1/lib/python3.8/site-packages/sklearn/neural_network/_multilayer_perceptron.py:692: ConvergenceWarning: Stochastic Optimizer: Maximum iterations (200) reached and the optimization hasn't converged yet.\n",
      "  warnings.warn(\n",
      "/Users/rajitbanerjee/.local/share/conda/envs/comp47490-m1/lib/python3.8/site-packages/sklearn/neural_network/_multilayer_perceptron.py:692: ConvergenceWarning: Stochastic Optimizer: Maximum iterations (200) reached and the optimization hasn't converged yet.\n",
      "  warnings.warn(\n"
     ]
    },
    {
     "name": "stderr",
     "output_type": "stream",
     "text": [
      "/Users/rajitbanerjee/.local/share/conda/envs/comp47490-m1/lib/python3.8/site-packages/sklearn/neural_network/_multilayer_perceptron.py:692: ConvergenceWarning: Stochastic Optimizer: Maximum iterations (200) reached and the optimization hasn't converged yet.\n",
      "  warnings.warn(\n",
      "/Users/rajitbanerjee/.local/share/conda/envs/comp47490-m1/lib/python3.8/site-packages/sklearn/neural_network/_multilayer_perceptron.py:692: ConvergenceWarning: Stochastic Optimizer: Maximum iterations (200) reached and the optimization hasn't converged yet.\n",
      "  warnings.warn(\n",
      "/Users/rajitbanerjee/.local/share/conda/envs/comp47490-m1/lib/python3.8/site-packages/sklearn/neural_network/_multilayer_perceptron.py:692: ConvergenceWarning: Stochastic Optimizer: Maximum iterations (200) reached and the optimization hasn't converged yet.\n",
      "  warnings.warn(\n",
      "/Users/rajitbanerjee/.local/share/conda/envs/comp47490-m1/lib/python3.8/site-packages/sklearn/neural_network/_multilayer_perceptron.py:692: ConvergenceWarning: Stochastic Optimizer: Maximum iterations (200) reached and the optimization hasn't converged yet.\n",
      "  warnings.warn(\n",
      "/Users/rajitbanerjee/.local/share/conda/envs/comp47490-m1/lib/python3.8/site-packages/sklearn/neural_network/_multilayer_perceptron.py:692: ConvergenceWarning: Stochastic Optimizer: Maximum iterations (200) reached and the optimization hasn't converged yet.\n",
      "  warnings.warn(\n",
      "/Users/rajitbanerjee/.local/share/conda/envs/comp47490-m1/lib/python3.8/site-packages/sklearn/neural_network/_multilayer_perceptron.py:692: ConvergenceWarning: Stochastic Optimizer: Maximum iterations (200) reached and the optimization hasn't converged yet.\n",
      "  warnings.warn(\n",
      "/Users/rajitbanerjee/.local/share/conda/envs/comp47490-m1/lib/python3.8/site-packages/sklearn/neural_network/_multilayer_perceptron.py:692: ConvergenceWarning: Stochastic Optimizer: Maximum iterations (200) reached and the optimization hasn't converged yet.\n",
      "  warnings.warn(\n",
      "/Users/rajitbanerjee/.local/share/conda/envs/comp47490-m1/lib/python3.8/site-packages/sklearn/neural_network/_multilayer_perceptron.py:692: ConvergenceWarning: Stochastic Optimizer: Maximum iterations (200) reached and the optimization hasn't converged yet.\n",
      "  warnings.warn(\n",
      "/Users/rajitbanerjee/.local/share/conda/envs/comp47490-m1/lib/python3.8/site-packages/sklearn/neural_network/_multilayer_perceptron.py:692: ConvergenceWarning: Stochastic Optimizer: Maximum iterations (200) reached and the optimization hasn't converged yet.\n",
      "  warnings.warn(\n",
      "/Users/rajitbanerjee/.local/share/conda/envs/comp47490-m1/lib/python3.8/site-packages/sklearn/neural_network/_multilayer_perceptron.py:692: ConvergenceWarning: Stochastic Optimizer: Maximum iterations (200) reached and the optimization hasn't converged yet.\n",
      "  warnings.warn(\n",
      "/Users/rajitbanerjee/.local/share/conda/envs/comp47490-m1/lib/python3.8/site-packages/sklearn/neural_network/_multilayer_perceptron.py:692: ConvergenceWarning: Stochastic Optimizer: Maximum iterations (200) reached and the optimization hasn't converged yet.\n",
      "  warnings.warn(\n",
      "/Users/rajitbanerjee/.local/share/conda/envs/comp47490-m1/lib/python3.8/site-packages/sklearn/neural_network/_multilayer_perceptron.py:692: ConvergenceWarning: Stochastic Optimizer: Maximum iterations (200) reached and the optimization hasn't converged yet.\n",
      "  warnings.warn(\n",
      "/Users/rajitbanerjee/.local/share/conda/envs/comp47490-m1/lib/python3.8/site-packages/sklearn/neural_network/_multilayer_perceptron.py:692: ConvergenceWarning: Stochastic Optimizer: Maximum iterations (200) reached and the optimization hasn't converged yet.\n",
      "  warnings.warn(\n",
      "/Users/rajitbanerjee/.local/share/conda/envs/comp47490-m1/lib/python3.8/site-packages/sklearn/neural_network/_multilayer_perceptron.py:692: ConvergenceWarning: Stochastic Optimizer: Maximum iterations (200) reached and the optimization hasn't converged yet.\n",
      "  warnings.warn(\n",
      "/Users/rajitbanerjee/.local/share/conda/envs/comp47490-m1/lib/python3.8/site-packages/sklearn/neural_network/_multilayer_perceptron.py:692: ConvergenceWarning: Stochastic Optimizer: Maximum iterations (200) reached and the optimization hasn't converged yet.\n",
      "  warnings.warn(\n",
      "/Users/rajitbanerjee/.local/share/conda/envs/comp47490-m1/lib/python3.8/site-packages/sklearn/neural_network/_multilayer_perceptron.py:692: ConvergenceWarning: Stochastic Optimizer: Maximum iterations (200) reached and the optimization hasn't converged yet.\n",
      "  warnings.warn(\n",
      "/Users/rajitbanerjee/.local/share/conda/envs/comp47490-m1/lib/python3.8/site-packages/sklearn/neural_network/_multilayer_perceptron.py:692: ConvergenceWarning: Stochastic Optimizer: Maximum iterations (200) reached and the optimization hasn't converged yet.\n",
      "  warnings.warn(\n",
      "/Users/rajitbanerjee/.local/share/conda/envs/comp47490-m1/lib/python3.8/site-packages/sklearn/neural_network/_multilayer_perceptron.py:692: ConvergenceWarning: Stochastic Optimizer: Maximum iterations (200) reached and the optimization hasn't converged yet.\n",
      "  warnings.warn(\n",
      "/Users/rajitbanerjee/.local/share/conda/envs/comp47490-m1/lib/python3.8/site-packages/sklearn/neural_network/_multilayer_perceptron.py:692: ConvergenceWarning: Stochastic Optimizer: Maximum iterations (200) reached and the optimization hasn't converged yet.\n",
      "  warnings.warn(\n",
      "/Users/rajitbanerjee/.local/share/conda/envs/comp47490-m1/lib/python3.8/site-packages/sklearn/neural_network/_multilayer_perceptron.py:692: ConvergenceWarning: Stochastic Optimizer: Maximum iterations (200) reached and the optimization hasn't converged yet.\n",
      "  warnings.warn(\n",
      "/Users/rajitbanerjee/.local/share/conda/envs/comp47490-m1/lib/python3.8/site-packages/sklearn/neural_network/_multilayer_perceptron.py:692: ConvergenceWarning: Stochastic Optimizer: Maximum iterations (200) reached and the optimization hasn't converged yet.\n",
      "  warnings.warn(\n",
      "/Users/rajitbanerjee/.local/share/conda/envs/comp47490-m1/lib/python3.8/site-packages/sklearn/neural_network/_multilayer_perceptron.py:692: ConvergenceWarning: Stochastic Optimizer: Maximum iterations (200) reached and the optimization hasn't converged yet.\n",
      "  warnings.warn(\n",
      "/Users/rajitbanerjee/.local/share/conda/envs/comp47490-m1/lib/python3.8/site-packages/sklearn/neural_network/_multilayer_perceptron.py:692: ConvergenceWarning: Stochastic Optimizer: Maximum iterations (200) reached and the optimization hasn't converged yet.\n",
      "  warnings.warn(\n",
      "/Users/rajitbanerjee/.local/share/conda/envs/comp47490-m1/lib/python3.8/site-packages/sklearn/neural_network/_multilayer_perceptron.py:692: ConvergenceWarning: Stochastic Optimizer: Maximum iterations (200) reached and the optimization hasn't converged yet.\n",
      "  warnings.warn(\n",
      "/Users/rajitbanerjee/.local/share/conda/envs/comp47490-m1/lib/python3.8/site-packages/sklearn/neural_network/_multilayer_perceptron.py:692: ConvergenceWarning: Stochastic Optimizer: Maximum iterations (200) reached and the optimization hasn't converged yet.\n",
      "  warnings.warn(\n",
      "/Users/rajitbanerjee/.local/share/conda/envs/comp47490-m1/lib/python3.8/site-packages/sklearn/neural_network/_multilayer_perceptron.py:692: ConvergenceWarning: Stochastic Optimizer: Maximum iterations (200) reached and the optimization hasn't converged yet.\n",
      "  warnings.warn(\n",
      "/Users/rajitbanerjee/.local/share/conda/envs/comp47490-m1/lib/python3.8/site-packages/sklearn/neural_network/_multilayer_perceptron.py:692: ConvergenceWarning: Stochastic Optimizer: Maximum iterations (200) reached and the optimization hasn't converged yet.\n",
      "  warnings.warn(\n",
      "/Users/rajitbanerjee/.local/share/conda/envs/comp47490-m1/lib/python3.8/site-packages/sklearn/neural_network/_multilayer_perceptron.py:692: ConvergenceWarning: Stochastic Optimizer: Maximum iterations (200) reached and the optimization hasn't converged yet.\n",
      "  warnings.warn(\n",
      "/Users/rajitbanerjee/.local/share/conda/envs/comp47490-m1/lib/python3.8/site-packages/sklearn/neural_network/_multilayer_perceptron.py:692: ConvergenceWarning: Stochastic Optimizer: Maximum iterations (200) reached and the optimization hasn't converged yet.\n",
      "  warnings.warn(\n",
      "/Users/rajitbanerjee/.local/share/conda/envs/comp47490-m1/lib/python3.8/site-packages/sklearn/neural_network/_multilayer_perceptron.py:692: ConvergenceWarning: Stochastic Optimizer: Maximum iterations (200) reached and the optimization hasn't converged yet.\n",
      "  warnings.warn(\n"
     ]
    },
    {
     "name": "stderr",
     "output_type": "stream",
     "text": [
      "/Users/rajitbanerjee/.local/share/conda/envs/comp47490-m1/lib/python3.8/site-packages/sklearn/neural_network/_multilayer_perceptron.py:692: ConvergenceWarning: Stochastic Optimizer: Maximum iterations (200) reached and the optimization hasn't converged yet.\n",
      "  warnings.warn(\n",
      "/Users/rajitbanerjee/.local/share/conda/envs/comp47490-m1/lib/python3.8/site-packages/sklearn/neural_network/_multilayer_perceptron.py:692: ConvergenceWarning: Stochastic Optimizer: Maximum iterations (200) reached and the optimization hasn't converged yet.\n",
      "  warnings.warn(\n",
      "/Users/rajitbanerjee/.local/share/conda/envs/comp47490-m1/lib/python3.8/site-packages/sklearn/neural_network/_multilayer_perceptron.py:692: ConvergenceWarning: Stochastic Optimizer: Maximum iterations (200) reached and the optimization hasn't converged yet.\n",
      "  warnings.warn(\n",
      "/Users/rajitbanerjee/.local/share/conda/envs/comp47490-m1/lib/python3.8/site-packages/sklearn/neural_network/_multilayer_perceptron.py:692: ConvergenceWarning: Stochastic Optimizer: Maximum iterations (200) reached and the optimization hasn't converged yet.\n",
      "  warnings.warn(\n",
      "/Users/rajitbanerjee/.local/share/conda/envs/comp47490-m1/lib/python3.8/site-packages/sklearn/neural_network/_multilayer_perceptron.py:692: ConvergenceWarning: Stochastic Optimizer: Maximum iterations (200) reached and the optimization hasn't converged yet.\n",
      "  warnings.warn(\n",
      "/Users/rajitbanerjee/.local/share/conda/envs/comp47490-m1/lib/python3.8/site-packages/sklearn/neural_network/_multilayer_perceptron.py:692: ConvergenceWarning: Stochastic Optimizer: Maximum iterations (200) reached and the optimization hasn't converged yet.\n",
      "  warnings.warn(\n",
      "/Users/rajitbanerjee/.local/share/conda/envs/comp47490-m1/lib/python3.8/site-packages/sklearn/neural_network/_multilayer_perceptron.py:692: ConvergenceWarning: Stochastic Optimizer: Maximum iterations (200) reached and the optimization hasn't converged yet.\n",
      "  warnings.warn(\n",
      "/Users/rajitbanerjee/.local/share/conda/envs/comp47490-m1/lib/python3.8/site-packages/sklearn/neural_network/_multilayer_perceptron.py:692: ConvergenceWarning: Stochastic Optimizer: Maximum iterations (200) reached and the optimization hasn't converged yet.\n",
      "  warnings.warn(\n",
      "/Users/rajitbanerjee/.local/share/conda/envs/comp47490-m1/lib/python3.8/site-packages/sklearn/neural_network/_multilayer_perceptron.py:692: ConvergenceWarning: Stochastic Optimizer: Maximum iterations (200) reached and the optimization hasn't converged yet.\n",
      "  warnings.warn(\n",
      "/Users/rajitbanerjee/.local/share/conda/envs/comp47490-m1/lib/python3.8/site-packages/sklearn/neural_network/_multilayer_perceptron.py:692: ConvergenceWarning: Stochastic Optimizer: Maximum iterations (200) reached and the optimization hasn't converged yet.\n",
      "  warnings.warn(\n",
      "/Users/rajitbanerjee/.local/share/conda/envs/comp47490-m1/lib/python3.8/site-packages/sklearn/neural_network/_multilayer_perceptron.py:692: ConvergenceWarning: Stochastic Optimizer: Maximum iterations (200) reached and the optimization hasn't converged yet.\n",
      "  warnings.warn(\n",
      "/Users/rajitbanerjee/.local/share/conda/envs/comp47490-m1/lib/python3.8/site-packages/sklearn/neural_network/_multilayer_perceptron.py:692: ConvergenceWarning: Stochastic Optimizer: Maximum iterations (200) reached and the optimization hasn't converged yet.\n",
      "  warnings.warn(\n",
      "/Users/rajitbanerjee/.local/share/conda/envs/comp47490-m1/lib/python3.8/site-packages/sklearn/neural_network/_multilayer_perceptron.py:692: ConvergenceWarning: Stochastic Optimizer: Maximum iterations (200) reached and the optimization hasn't converged yet.\n",
      "  warnings.warn(\n",
      "/Users/rajitbanerjee/.local/share/conda/envs/comp47490-m1/lib/python3.8/site-packages/sklearn/neural_network/_multilayer_perceptron.py:692: ConvergenceWarning: Stochastic Optimizer: Maximum iterations (200) reached and the optimization hasn't converged yet.\n",
      "  warnings.warn(\n",
      "/Users/rajitbanerjee/.local/share/conda/envs/comp47490-m1/lib/python3.8/site-packages/sklearn/neural_network/_multilayer_perceptron.py:692: ConvergenceWarning: Stochastic Optimizer: Maximum iterations (200) reached and the optimization hasn't converged yet.\n",
      "  warnings.warn(\n",
      "/Users/rajitbanerjee/.local/share/conda/envs/comp47490-m1/lib/python3.8/site-packages/sklearn/neural_network/_multilayer_perceptron.py:692: ConvergenceWarning: Stochastic Optimizer: Maximum iterations (200) reached and the optimization hasn't converged yet.\n",
      "  warnings.warn(\n",
      "/Users/rajitbanerjee/.local/share/conda/envs/comp47490-m1/lib/python3.8/site-packages/sklearn/neural_network/_multilayer_perceptron.py:692: ConvergenceWarning: Stochastic Optimizer: Maximum iterations (200) reached and the optimization hasn't converged yet.\n",
      "  warnings.warn(\n",
      "/Users/rajitbanerjee/.local/share/conda/envs/comp47490-m1/lib/python3.8/site-packages/sklearn/neural_network/_multilayer_perceptron.py:692: ConvergenceWarning: Stochastic Optimizer: Maximum iterations (200) reached and the optimization hasn't converged yet.\n",
      "  warnings.warn(\n",
      "/Users/rajitbanerjee/.local/share/conda/envs/comp47490-m1/lib/python3.8/site-packages/sklearn/neural_network/_multilayer_perceptron.py:692: ConvergenceWarning: Stochastic Optimizer: Maximum iterations (200) reached and the optimization hasn't converged yet.\n",
      "  warnings.warn(\n",
      "/Users/rajitbanerjee/.local/share/conda/envs/comp47490-m1/lib/python3.8/site-packages/sklearn/neural_network/_multilayer_perceptron.py:692: ConvergenceWarning: Stochastic Optimizer: Maximum iterations (200) reached and the optimization hasn't converged yet.\n",
      "  warnings.warn(\n",
      "/Users/rajitbanerjee/.local/share/conda/envs/comp47490-m1/lib/python3.8/site-packages/sklearn/neural_network/_multilayer_perceptron.py:692: ConvergenceWarning: Stochastic Optimizer: Maximum iterations (200) reached and the optimization hasn't converged yet.\n",
      "  warnings.warn(\n"
     ]
    },
    {
     "name": "stdout",
     "output_type": "stream",
     "text": [
      "\n",
      "Best: BaggingClassifier(base_estimator=MLPClassifier(hidden_layer_sizes=(10,),\n",
      "                                               random_state=0),\n",
      "                  n_estimators=20, n_jobs=-1, random_state=0)\n",
      "Average accuracy: 0.836\n",
      "\n",
      "CPU times: user 162 ms, sys: 79.2 ms, total: 242 ms\n",
      "Wall time: 1min 10s\n"
     ]
    },
    {
     "name": "stderr",
     "output_type": "stream",
     "text": [
      "/Users/rajitbanerjee/.local/share/conda/envs/comp47490-m1/lib/python3.8/site-packages/sklearn/neural_network/_multilayer_perceptron.py:692: ConvergenceWarning: Stochastic Optimizer: Maximum iterations (200) reached and the optimization hasn't converged yet.\n",
      "  warnings.warn(\n",
      "/Users/rajitbanerjee/.local/share/conda/envs/comp47490-m1/lib/python3.8/site-packages/sklearn/neural_network/_multilayer_perceptron.py:692: ConvergenceWarning: Stochastic Optimizer: Maximum iterations (200) reached and the optimization hasn't converged yet.\n",
      "  warnings.warn(\n",
      "/Users/rajitbanerjee/.local/share/conda/envs/comp47490-m1/lib/python3.8/site-packages/sklearn/neural_network/_multilayer_perceptron.py:692: ConvergenceWarning: Stochastic Optimizer: Maximum iterations (200) reached and the optimization hasn't converged yet.\n",
      "  warnings.warn(\n",
      "/Users/rajitbanerjee/.local/share/conda/envs/comp47490-m1/lib/python3.8/site-packages/sklearn/neural_network/_multilayer_perceptron.py:692: ConvergenceWarning: Stochastic Optimizer: Maximum iterations (200) reached and the optimization hasn't converged yet.\n",
      "  warnings.warn(\n"
     ]
    }
   ],
   "source": [
    "%%time\n",
    "mlp_bag_best = grid_search(mlp_bag, { \"max_samples\": perc_instances })"
   ]
  },
  {
   "cell_type": "markdown",
   "id": "83048564",
   "metadata": {},
   "source": [
    "#### iii. K-Nearest Neighbours"
   ]
  },
  {
   "cell_type": "code",
   "execution_count": 59,
   "id": "b814a410",
   "metadata": {},
   "outputs": [
    {
     "name": "stdout",
     "output_type": "stream",
     "text": [
      "Fitting 5 folds for each of 10 candidates, totalling 50 fits\n",
      "\n",
      "Best: BaggingClassifier(base_estimator=KNeighborsClassifier(leaf_size=1,\n",
      "                                                      metric='manhattan',\n",
      "                                                      n_jobs=-1,\n",
      "                                                      n_neighbors=1),\n",
      "                  n_estimators=18, n_jobs=-1, random_state=0)\n",
      "Average accuracy: 0.837\n",
      "\n",
      "CPU times: user 110 ms, sys: 164 ms, total: 275 ms\n",
      "Wall time: 19.6 s\n"
     ]
    }
   ],
   "source": [
    "%%time\n",
    "knn_bag = BaggingClassifier(knn_best, random_state=0, n_jobs=-1)\n",
    "knn_bag = grid_search(knn_bag, { \"n_estimators\": ensemble_size })"
   ]
  },
  {
   "cell_type": "code",
   "execution_count": 60,
   "id": "4fe462c7",
   "metadata": {},
   "outputs": [
    {
     "name": "stdout",
     "output_type": "stream",
     "text": [
      "Fitting 5 folds for each of 4 candidates, totalling 20 fits\n",
      "\n",
      "Best: BaggingClassifier(base_estimator=KNeighborsClassifier(leaf_size=1,\n",
      "                                                      metric='manhattan',\n",
      "                                                      n_jobs=-1,\n",
      "                                                      n_neighbors=1),\n",
      "                  n_estimators=18, n_jobs=-1, random_state=0)\n",
      "Average accuracy: 0.837\n",
      "\n",
      "CPU times: user 44.6 ms, sys: 52.1 ms, total: 96.7 ms\n",
      "Wall time: 6.67 s\n"
     ]
    }
   ],
   "source": [
    "%%time\n",
    "knn_bag_best = grid_search(knn_bag, { \"max_samples\": perc_instances })"
   ]
  },
  {
   "cell_type": "markdown",
   "id": "d87fe75b",
   "metadata": {},
   "source": [
    "### 2. Evaluation\n",
    "\n",
    "Hyperparameter optimisation for bagging ensembles yields the 3 best classifiers below."
   ]
  },
  {
   "cell_type": "code",
   "execution_count": 61,
   "id": "03edf099",
   "metadata": {},
   "outputs": [
    {
     "data": {
      "text/plain": [
       "[BaggingClassifier(base_estimator=DecisionTreeClassifier(max_depth=3,\n",
       "                                                         random_state=0),\n",
       "                   max_samples=0.25, n_estimators=20, n_jobs=-1, random_state=0),\n",
       " BaggingClassifier(base_estimator=MLPClassifier(hidden_layer_sizes=(10,),\n",
       "                                                random_state=0),\n",
       "                   n_estimators=20, n_jobs=-1, random_state=0),\n",
       " BaggingClassifier(base_estimator=KNeighborsClassifier(leaf_size=1,\n",
       "                                                       metric='manhattan',\n",
       "                                                       n_jobs=-1,\n",
       "                                                       n_neighbors=1),\n",
       "                   n_estimators=18, n_jobs=-1, random_state=0)]"
      ]
     },
     "execution_count": 61,
     "metadata": {},
     "output_type": "execute_result"
    }
   ],
   "source": [
    "best_bags = [dt_bag_best, mlp_bag_best, knn_bag_best]\n",
    "best_bags"
   ]
  },
  {
   "cell_type": "markdown",
   "id": "26fb1ef8",
   "metadata": {},
   "source": [
    "As seen before, confusion matrices provide a good overall summary of classifier performance on unseen data. "
   ]
  },
  {
   "cell_type": "code",
   "execution_count": 62,
   "id": "9b414d62",
   "metadata": {},
   "outputs": [
    {
     "name": "stderr",
     "output_type": "stream",
     "text": [
      "/Users/rajitbanerjee/.local/share/conda/envs/comp47490-m1/lib/python3.8/site-packages/sklearn/neural_network/_multilayer_perceptron.py:692: ConvergenceWarning: Stochastic Optimizer: Maximum iterations (200) reached and the optimization hasn't converged yet.\n",
      "  warnings.warn(\n",
      "/Users/rajitbanerjee/.local/share/conda/envs/comp47490-m1/lib/python3.8/site-packages/sklearn/neural_network/_multilayer_perceptron.py:692: ConvergenceWarning: Stochastic Optimizer: Maximum iterations (200) reached and the optimization hasn't converged yet.\n",
      "  warnings.warn(\n",
      "/Users/rajitbanerjee/.local/share/conda/envs/comp47490-m1/lib/python3.8/site-packages/sklearn/neural_network/_multilayer_perceptron.py:692: ConvergenceWarning: Stochastic Optimizer: Maximum iterations (200) reached and the optimization hasn't converged yet.\n",
      "  warnings.warn(\n",
      "/Users/rajitbanerjee/.local/share/conda/envs/comp47490-m1/lib/python3.8/site-packages/sklearn/neural_network/_multilayer_perceptron.py:692: ConvergenceWarning: Stochastic Optimizer: Maximum iterations (200) reached and the optimization hasn't converged yet.\n",
      "  warnings.warn(\n",
      "/Users/rajitbanerjee/.local/share/conda/envs/comp47490-m1/lib/python3.8/site-packages/sklearn/neural_network/_multilayer_perceptron.py:692: ConvergenceWarning: Stochastic Optimizer: Maximum iterations (200) reached and the optimization hasn't converged yet.\n",
      "  warnings.warn(\n",
      "/Users/rajitbanerjee/.local/share/conda/envs/comp47490-m1/lib/python3.8/site-packages/sklearn/neural_network/_multilayer_perceptron.py:692: ConvergenceWarning: Stochastic Optimizer: Maximum iterations (200) reached and the optimization hasn't converged yet.\n",
      "  warnings.warn(\n",
      "/Users/rajitbanerjee/.local/share/conda/envs/comp47490-m1/lib/python3.8/site-packages/sklearn/neural_network/_multilayer_perceptron.py:692: ConvergenceWarning: Stochastic Optimizer: Maximum iterations (200) reached and the optimization hasn't converged yet.\n",
      "  warnings.warn(\n",
      "/Users/rajitbanerjee/.local/share/conda/envs/comp47490-m1/lib/python3.8/site-packages/sklearn/neural_network/_multilayer_perceptron.py:692: ConvergenceWarning: Stochastic Optimizer: Maximum iterations (200) reached and the optimization hasn't converged yet.\n",
      "  warnings.warn(\n",
      "/Users/rajitbanerjee/.local/share/conda/envs/comp47490-m1/lib/python3.8/site-packages/sklearn/neural_network/_multilayer_perceptron.py:692: ConvergenceWarning: Stochastic Optimizer: Maximum iterations (200) reached and the optimization hasn't converged yet.\n",
      "  warnings.warn(\n",
      "/Users/rajitbanerjee/.local/share/conda/envs/comp47490-m1/lib/python3.8/site-packages/sklearn/neural_network/_multilayer_perceptron.py:692: ConvergenceWarning: Stochastic Optimizer: Maximum iterations (200) reached and the optimization hasn't converged yet.\n",
      "  warnings.warn(\n",
      "/Users/rajitbanerjee/.local/share/conda/envs/comp47490-m1/lib/python3.8/site-packages/sklearn/neural_network/_multilayer_perceptron.py:692: ConvergenceWarning: Stochastic Optimizer: Maximum iterations (200) reached and the optimization hasn't converged yet.\n",
      "  warnings.warn(\n",
      "/Users/rajitbanerjee/.local/share/conda/envs/comp47490-m1/lib/python3.8/site-packages/sklearn/neural_network/_multilayer_perceptron.py:692: ConvergenceWarning: Stochastic Optimizer: Maximum iterations (200) reached and the optimization hasn't converged yet.\n",
      "  warnings.warn(\n",
      "/Users/rajitbanerjee/.local/share/conda/envs/comp47490-m1/lib/python3.8/site-packages/sklearn/neural_network/_multilayer_perceptron.py:692: ConvergenceWarning: Stochastic Optimizer: Maximum iterations (200) reached and the optimization hasn't converged yet.\n",
      "  warnings.warn(\n",
      "/Users/rajitbanerjee/.local/share/conda/envs/comp47490-m1/lib/python3.8/site-packages/sklearn/neural_network/_multilayer_perceptron.py:692: ConvergenceWarning: Stochastic Optimizer: Maximum iterations (200) reached and the optimization hasn't converged yet.\n",
      "  warnings.warn(\n",
      "/Users/rajitbanerjee/.local/share/conda/envs/comp47490-m1/lib/python3.8/site-packages/sklearn/neural_network/_multilayer_perceptron.py:692: ConvergenceWarning: Stochastic Optimizer: Maximum iterations (200) reached and the optimization hasn't converged yet.\n",
      "  warnings.warn(\n",
      "/Users/rajitbanerjee/.local/share/conda/envs/comp47490-m1/lib/python3.8/site-packages/sklearn/neural_network/_multilayer_perceptron.py:692: ConvergenceWarning: Stochastic Optimizer: Maximum iterations (200) reached and the optimization hasn't converged yet.\n",
      "  warnings.warn(\n",
      "/Users/rajitbanerjee/.local/share/conda/envs/comp47490-m1/lib/python3.8/site-packages/sklearn/neural_network/_multilayer_perceptron.py:692: ConvergenceWarning: Stochastic Optimizer: Maximum iterations (200) reached and the optimization hasn't converged yet.\n",
      "  warnings.warn(\n",
      "/Users/rajitbanerjee/.local/share/conda/envs/comp47490-m1/lib/python3.8/site-packages/sklearn/neural_network/_multilayer_perceptron.py:692: ConvergenceWarning: Stochastic Optimizer: Maximum iterations (200) reached and the optimization hasn't converged yet.\n",
      "  warnings.warn(\n",
      "/Users/rajitbanerjee/.local/share/conda/envs/comp47490-m1/lib/python3.8/site-packages/sklearn/neural_network/_multilayer_perceptron.py:692: ConvergenceWarning: Stochastic Optimizer: Maximum iterations (200) reached and the optimization hasn't converged yet.\n",
      "  warnings.warn(\n",
      "/Users/rajitbanerjee/.local/share/conda/envs/comp47490-m1/lib/python3.8/site-packages/sklearn/neural_network/_multilayer_perceptron.py:692: ConvergenceWarning: Stochastic Optimizer: Maximum iterations (200) reached and the optimization hasn't converged yet.\n",
      "  warnings.warn(\n"
     ]
    },
    {
     "data": {
      "image/png": "[encoded data removed]",
      "text/plain": [
       "<Figure size 1224x360 with 6 Axes>"
      ]
     },
     "metadata": {
      "needs_background": "light"
     },
     "output_type": "display_data"
    }
   ],
   "source": [
    "plot_conf_matrix(best_bags, method=\"Bagging\")"
   ]
  },
  {
   "cell_type": "markdown",
   "id": "356c71e2",
   "metadata": {},
   "source": [
    "The ensembles can now be scored and ranked after stratified 5-fold cross-validation."
   ]
  },
  {
   "cell_type": "code",
   "execution_count": 63,
   "id": "ec82c407",
   "metadata": {
    "scrolled": false
   },
   "outputs": [
    {
     "name": "stderr",
     "output_type": "stream",
     "text": [
      "/Users/rajitbanerjee/.local/share/conda/envs/comp47490-m1/lib/python3.8/site-packages/sklearn/neural_network/_multilayer_perceptron.py:692: ConvergenceWarning: Stochastic Optimizer: Maximum iterations (200) reached and the optimization hasn't converged yet.\n",
      "  warnings.warn(\n",
      "/Users/rajitbanerjee/.local/share/conda/envs/comp47490-m1/lib/python3.8/site-packages/sklearn/neural_network/_multilayer_perceptron.py:692: ConvergenceWarning: Stochastic Optimizer: Maximum iterations (200) reached and the optimization hasn't converged yet.\n",
      "  warnings.warn(\n",
      "/Users/rajitbanerjee/.local/share/conda/envs/comp47490-m1/lib/python3.8/site-packages/sklearn/neural_network/_multilayer_perceptron.py:692: ConvergenceWarning: Stochastic Optimizer: Maximum iterations (200) reached and the optimization hasn't converged yet.\n",
      "  warnings.warn(\n",
      "/Users/rajitbanerjee/.local/share/conda/envs/comp47490-m1/lib/python3.8/site-packages/sklearn/neural_network/_multilayer_perceptron.py:692: ConvergenceWarning: Stochastic Optimizer: Maximum iterations (200) reached and the optimization hasn't converged yet.\n",
      "  warnings.warn(\n",
      "/Users/rajitbanerjee/.local/share/conda/envs/comp47490-m1/lib/python3.8/site-packages/sklearn/neural_network/_multilayer_perceptron.py:692: ConvergenceWarning: Stochastic Optimizer: Maximum iterations (200) reached and the optimization hasn't converged yet.\n",
      "  warnings.warn(\n",
      "/Users/rajitbanerjee/.local/share/conda/envs/comp47490-m1/lib/python3.8/site-packages/sklearn/neural_network/_multilayer_perceptron.py:692: ConvergenceWarning: Stochastic Optimizer: Maximum iterations (200) reached and the optimization hasn't converged yet.\n",
      "  warnings.warn(\n",
      "/Users/rajitbanerjee/.local/share/conda/envs/comp47490-m1/lib/python3.8/site-packages/sklearn/neural_network/_multilayer_perceptron.py:692: ConvergenceWarning: Stochastic Optimizer: Maximum iterations (200) reached and the optimization hasn't converged yet.\n",
      "  warnings.warn(\n",
      "/Users/rajitbanerjee/.local/share/conda/envs/comp47490-m1/lib/python3.8/site-packages/sklearn/neural_network/_multilayer_perceptron.py:692: ConvergenceWarning: Stochastic Optimizer: Maximum iterations (200) reached and the optimization hasn't converged yet.\n",
      "  warnings.warn(\n",
      "/Users/rajitbanerjee/.local/share/conda/envs/comp47490-m1/lib/python3.8/site-packages/sklearn/neural_network/_multilayer_perceptron.py:692: ConvergenceWarning: Stochastic Optimizer: Maximum iterations (200) reached and the optimization hasn't converged yet.\n",
      "  warnings.warn(\n",
      "/Users/rajitbanerjee/.local/share/conda/envs/comp47490-m1/lib/python3.8/site-packages/sklearn/neural_network/_multilayer_perceptron.py:692: ConvergenceWarning: Stochastic Optimizer: Maximum iterations (200) reached and the optimization hasn't converged yet.\n",
      "  warnings.warn(\n",
      "/Users/rajitbanerjee/.local/share/conda/envs/comp47490-m1/lib/python3.8/site-packages/sklearn/neural_network/_multilayer_perceptron.py:692: ConvergenceWarning: Stochastic Optimizer: Maximum iterations (200) reached and the optimization hasn't converged yet.\n",
      "  warnings.warn(\n",
      "/Users/rajitbanerjee/.local/share/conda/envs/comp47490-m1/lib/python3.8/site-packages/sklearn/neural_network/_multilayer_perceptron.py:692: ConvergenceWarning: Stochastic Optimizer: Maximum iterations (200) reached and the optimization hasn't converged yet.\n",
      "  warnings.warn(\n",
      "/Users/rajitbanerjee/.local/share/conda/envs/comp47490-m1/lib/python3.8/site-packages/sklearn/neural_network/_multilayer_perceptron.py:692: ConvergenceWarning: Stochastic Optimizer: Maximum iterations (200) reached and the optimization hasn't converged yet.\n",
      "  warnings.warn(\n",
      "/Users/rajitbanerjee/.local/share/conda/envs/comp47490-m1/lib/python3.8/site-packages/sklearn/neural_network/_multilayer_perceptron.py:692: ConvergenceWarning: Stochastic Optimizer: Maximum iterations (200) reached and the optimization hasn't converged yet.\n",
      "  warnings.warn(\n",
      "/Users/rajitbanerjee/.local/share/conda/envs/comp47490-m1/lib/python3.8/site-packages/sklearn/neural_network/_multilayer_perceptron.py:692: ConvergenceWarning: Stochastic Optimizer: Maximum iterations (200) reached and the optimization hasn't converged yet.\n",
      "  warnings.warn(\n",
      "/Users/rajitbanerjee/.local/share/conda/envs/comp47490-m1/lib/python3.8/site-packages/sklearn/neural_network/_multilayer_perceptron.py:692: ConvergenceWarning: Stochastic Optimizer: Maximum iterations (200) reached and the optimization hasn't converged yet.\n",
      "  warnings.warn(\n",
      "/Users/rajitbanerjee/.local/share/conda/envs/comp47490-m1/lib/python3.8/site-packages/sklearn/neural_network/_multilayer_perceptron.py:692: ConvergenceWarning: Stochastic Optimizer: Maximum iterations (200) reached and the optimization hasn't converged yet.\n",
      "  warnings.warn(\n",
      "/Users/rajitbanerjee/.local/share/conda/envs/comp47490-m1/lib/python3.8/site-packages/sklearn/neural_network/_multilayer_perceptron.py:692: ConvergenceWarning: Stochastic Optimizer: Maximum iterations (200) reached and the optimization hasn't converged yet.\n",
      "  warnings.warn(\n",
      "/Users/rajitbanerjee/.local/share/conda/envs/comp47490-m1/lib/python3.8/site-packages/sklearn/neural_network/_multilayer_perceptron.py:692: ConvergenceWarning: Stochastic Optimizer: Maximum iterations (200) reached and the optimization hasn't converged yet.\n",
      "  warnings.warn(\n",
      "/Users/rajitbanerjee/.local/share/conda/envs/comp47490-m1/lib/python3.8/site-packages/sklearn/neural_network/_multilayer_perceptron.py:692: ConvergenceWarning: Stochastic Optimizer: Maximum iterations (200) reached and the optimization hasn't converged yet.\n",
      "  warnings.warn(\n",
      "/Users/rajitbanerjee/.local/share/conda/envs/comp47490-m1/lib/python3.8/site-packages/sklearn/neural_network/_multilayer_perceptron.py:692: ConvergenceWarning: Stochastic Optimizer: Maximum iterations (200) reached and the optimization hasn't converged yet.\n",
      "  warnings.warn(\n",
      "/Users/rajitbanerjee/.local/share/conda/envs/comp47490-m1/lib/python3.8/site-packages/sklearn/neural_network/_multilayer_perceptron.py:692: ConvergenceWarning: Stochastic Optimizer: Maximum iterations (200) reached and the optimization hasn't converged yet.\n",
      "  warnings.warn(\n",
      "/Users/rajitbanerjee/.local/share/conda/envs/comp47490-m1/lib/python3.8/site-packages/sklearn/neural_network/_multilayer_perceptron.py:692: ConvergenceWarning: Stochastic Optimizer: Maximum iterations (200) reached and the optimization hasn't converged yet.\n",
      "  warnings.warn(\n",
      "/Users/rajitbanerjee/.local/share/conda/envs/comp47490-m1/lib/python3.8/site-packages/sklearn/neural_network/_multilayer_perceptron.py:692: ConvergenceWarning: Stochastic Optimizer: Maximum iterations (200) reached and the optimization hasn't converged yet.\n",
      "  warnings.warn(\n",
      "/Users/rajitbanerjee/.local/share/conda/envs/comp47490-m1/lib/python3.8/site-packages/sklearn/neural_network/_multilayer_perceptron.py:692: ConvergenceWarning: Stochastic Optimizer: Maximum iterations (200) reached and the optimization hasn't converged yet.\n",
      "  warnings.warn(\n",
      "/Users/rajitbanerjee/.local/share/conda/envs/comp47490-m1/lib/python3.8/site-packages/sklearn/neural_network/_multilayer_perceptron.py:692: ConvergenceWarning: Stochastic Optimizer: Maximum iterations (200) reached and the optimization hasn't converged yet.\n",
      "  warnings.warn(\n",
      "/Users/rajitbanerjee/.local/share/conda/envs/comp47490-m1/lib/python3.8/site-packages/sklearn/neural_network/_multilayer_perceptron.py:692: ConvergenceWarning: Stochastic Optimizer: Maximum iterations (200) reached and the optimization hasn't converged yet.\n",
      "  warnings.warn(\n",
      "/Users/rajitbanerjee/.local/share/conda/envs/comp47490-m1/lib/python3.8/site-packages/sklearn/neural_network/_multilayer_perceptron.py:692: ConvergenceWarning: Stochastic Optimizer: Maximum iterations (200) reached and the optimization hasn't converged yet.\n",
      "  warnings.warn(\n",
      "/Users/rajitbanerjee/.local/share/conda/envs/comp47490-m1/lib/python3.8/site-packages/sklearn/neural_network/_multilayer_perceptron.py:692: ConvergenceWarning: Stochastic Optimizer: Maximum iterations (200) reached and the optimization hasn't converged yet.\n",
      "  warnings.warn(\n",
      "/Users/rajitbanerjee/.local/share/conda/envs/comp47490-m1/lib/python3.8/site-packages/sklearn/neural_network/_multilayer_perceptron.py:692: ConvergenceWarning: Stochastic Optimizer: Maximum iterations (200) reached and the optimization hasn't converged yet.\n",
      "  warnings.warn(\n"
     ]
    },
    {
     "name": "stderr",
     "output_type": "stream",
     "text": [
      "/Users/rajitbanerjee/.local/share/conda/envs/comp47490-m1/lib/python3.8/site-packages/sklearn/neural_network/_multilayer_perceptron.py:692: ConvergenceWarning: Stochastic Optimizer: Maximum iterations (200) reached and the optimization hasn't converged yet.\n",
      "  warnings.warn(\n",
      "/Users/rajitbanerjee/.local/share/conda/envs/comp47490-m1/lib/python3.8/site-packages/sklearn/neural_network/_multilayer_perceptron.py:692: ConvergenceWarning: Stochastic Optimizer: Maximum iterations (200) reached and the optimization hasn't converged yet.\n",
      "  warnings.warn(\n",
      "/Users/rajitbanerjee/.local/share/conda/envs/comp47490-m1/lib/python3.8/site-packages/sklearn/neural_network/_multilayer_perceptron.py:692: ConvergenceWarning: Stochastic Optimizer: Maximum iterations (200) reached and the optimization hasn't converged yet.\n",
      "  warnings.warn(\n",
      "/Users/rajitbanerjee/.local/share/conda/envs/comp47490-m1/lib/python3.8/site-packages/sklearn/neural_network/_multilayer_perceptron.py:692: ConvergenceWarning: Stochastic Optimizer: Maximum iterations (200) reached and the optimization hasn't converged yet.\n",
      "  warnings.warn(\n",
      "/Users/rajitbanerjee/.local/share/conda/envs/comp47490-m1/lib/python3.8/site-packages/sklearn/neural_network/_multilayer_perceptron.py:692: ConvergenceWarning: Stochastic Optimizer: Maximum iterations (200) reached and the optimization hasn't converged yet.\n",
      "  warnings.warn(\n",
      "/Users/rajitbanerjee/.local/share/conda/envs/comp47490-m1/lib/python3.8/site-packages/sklearn/neural_network/_multilayer_perceptron.py:692: ConvergenceWarning: Stochastic Optimizer: Maximum iterations (200) reached and the optimization hasn't converged yet.\n",
      "  warnings.warn(\n",
      "/Users/rajitbanerjee/.local/share/conda/envs/comp47490-m1/lib/python3.8/site-packages/sklearn/neural_network/_multilayer_perceptron.py:692: ConvergenceWarning: Stochastic Optimizer: Maximum iterations (200) reached and the optimization hasn't converged yet.\n",
      "  warnings.warn(\n",
      "/Users/rajitbanerjee/.local/share/conda/envs/comp47490-m1/lib/python3.8/site-packages/sklearn/neural_network/_multilayer_perceptron.py:692: ConvergenceWarning: Stochastic Optimizer: Maximum iterations (200) reached and the optimization hasn't converged yet.\n",
      "  warnings.warn(\n",
      "/Users/rajitbanerjee/.local/share/conda/envs/comp47490-m1/lib/python3.8/site-packages/sklearn/neural_network/_multilayer_perceptron.py:692: ConvergenceWarning: Stochastic Optimizer: Maximum iterations (200) reached and the optimization hasn't converged yet.\n",
      "  warnings.warn(\n",
      "/Users/rajitbanerjee/.local/share/conda/envs/comp47490-m1/lib/python3.8/site-packages/sklearn/neural_network/_multilayer_perceptron.py:692: ConvergenceWarning: Stochastic Optimizer: Maximum iterations (200) reached and the optimization hasn't converged yet.\n",
      "  warnings.warn(\n",
      "/Users/rajitbanerjee/.local/share/conda/envs/comp47490-m1/lib/python3.8/site-packages/sklearn/neural_network/_multilayer_perceptron.py:692: ConvergenceWarning: Stochastic Optimizer: Maximum iterations (200) reached and the optimization hasn't converged yet.\n",
      "  warnings.warn(\n",
      "/Users/rajitbanerjee/.local/share/conda/envs/comp47490-m1/lib/python3.8/site-packages/sklearn/neural_network/_multilayer_perceptron.py:692: ConvergenceWarning: Stochastic Optimizer: Maximum iterations (200) reached and the optimization hasn't converged yet.\n",
      "  warnings.warn(\n",
      "/Users/rajitbanerjee/.local/share/conda/envs/comp47490-m1/lib/python3.8/site-packages/sklearn/neural_network/_multilayer_perceptron.py:692: ConvergenceWarning: Stochastic Optimizer: Maximum iterations (200) reached and the optimization hasn't converged yet.\n",
      "  warnings.warn(\n",
      "/Users/rajitbanerjee/.local/share/conda/envs/comp47490-m1/lib/python3.8/site-packages/sklearn/neural_network/_multilayer_perceptron.py:692: ConvergenceWarning: Stochastic Optimizer: Maximum iterations (200) reached and the optimization hasn't converged yet.\n",
      "  warnings.warn(\n",
      "/Users/rajitbanerjee/.local/share/conda/envs/comp47490-m1/lib/python3.8/site-packages/sklearn/neural_network/_multilayer_perceptron.py:692: ConvergenceWarning: Stochastic Optimizer: Maximum iterations (200) reached and the optimization hasn't converged yet.\n",
      "  warnings.warn(\n",
      "/Users/rajitbanerjee/.local/share/conda/envs/comp47490-m1/lib/python3.8/site-packages/sklearn/neural_network/_multilayer_perceptron.py:692: ConvergenceWarning: Stochastic Optimizer: Maximum iterations (200) reached and the optimization hasn't converged yet.\n",
      "  warnings.warn(\n",
      "/Users/rajitbanerjee/.local/share/conda/envs/comp47490-m1/lib/python3.8/site-packages/sklearn/neural_network/_multilayer_perceptron.py:692: ConvergenceWarning: Stochastic Optimizer: Maximum iterations (200) reached and the optimization hasn't converged yet.\n",
      "  warnings.warn(\n",
      "/Users/rajitbanerjee/.local/share/conda/envs/comp47490-m1/lib/python3.8/site-packages/sklearn/neural_network/_multilayer_perceptron.py:692: ConvergenceWarning: Stochastic Optimizer: Maximum iterations (200) reached and the optimization hasn't converged yet.\n",
      "  warnings.warn(\n",
      "/Users/rajitbanerjee/.local/share/conda/envs/comp47490-m1/lib/python3.8/site-packages/sklearn/neural_network/_multilayer_perceptron.py:692: ConvergenceWarning: Stochastic Optimizer: Maximum iterations (200) reached and the optimization hasn't converged yet.\n",
      "  warnings.warn(\n",
      "/Users/rajitbanerjee/.local/share/conda/envs/comp47490-m1/lib/python3.8/site-packages/sklearn/neural_network/_multilayer_perceptron.py:692: ConvergenceWarning: Stochastic Optimizer: Maximum iterations (200) reached and the optimization hasn't converged yet.\n",
      "  warnings.warn(\n",
      "/Users/rajitbanerjee/.local/share/conda/envs/comp47490-m1/lib/python3.8/site-packages/sklearn/neural_network/_multilayer_perceptron.py:692: ConvergenceWarning: Stochastic Optimizer: Maximum iterations (200) reached and the optimization hasn't converged yet.\n",
      "  warnings.warn(\n",
      "/Users/rajitbanerjee/.local/share/conda/envs/comp47490-m1/lib/python3.8/site-packages/sklearn/neural_network/_multilayer_perceptron.py:692: ConvergenceWarning: Stochastic Optimizer: Maximum iterations (200) reached and the optimization hasn't converged yet.\n",
      "  warnings.warn(\n",
      "/Users/rajitbanerjee/.local/share/conda/envs/comp47490-m1/lib/python3.8/site-packages/sklearn/neural_network/_multilayer_perceptron.py:692: ConvergenceWarning: Stochastic Optimizer: Maximum iterations (200) reached and the optimization hasn't converged yet.\n",
      "  warnings.warn(\n",
      "/Users/rajitbanerjee/.local/share/conda/envs/comp47490-m1/lib/python3.8/site-packages/sklearn/neural_network/_multilayer_perceptron.py:692: ConvergenceWarning: Stochastic Optimizer: Maximum iterations (200) reached and the optimization hasn't converged yet.\n",
      "  warnings.warn(\n",
      "/Users/rajitbanerjee/.local/share/conda/envs/comp47490-m1/lib/python3.8/site-packages/sklearn/neural_network/_multilayer_perceptron.py:692: ConvergenceWarning: Stochastic Optimizer: Maximum iterations (200) reached and the optimization hasn't converged yet.\n",
      "  warnings.warn(\n",
      "/Users/rajitbanerjee/.local/share/conda/envs/comp47490-m1/lib/python3.8/site-packages/sklearn/neural_network/_multilayer_perceptron.py:692: ConvergenceWarning: Stochastic Optimizer: Maximum iterations (200) reached and the optimization hasn't converged yet.\n",
      "  warnings.warn(\n",
      "/Users/rajitbanerjee/.local/share/conda/envs/comp47490-m1/lib/python3.8/site-packages/sklearn/neural_network/_multilayer_perceptron.py:692: ConvergenceWarning: Stochastic Optimizer: Maximum iterations (200) reached and the optimization hasn't converged yet.\n",
      "  warnings.warn(\n",
      "/Users/rajitbanerjee/.local/share/conda/envs/comp47490-m1/lib/python3.8/site-packages/sklearn/neural_network/_multilayer_perceptron.py:692: ConvergenceWarning: Stochastic Optimizer: Maximum iterations (200) reached and the optimization hasn't converged yet.\n",
      "  warnings.warn(\n",
      "/Users/rajitbanerjee/.local/share/conda/envs/comp47490-m1/lib/python3.8/site-packages/sklearn/neural_network/_multilayer_perceptron.py:692: ConvergenceWarning: Stochastic Optimizer: Maximum iterations (200) reached and the optimization hasn't converged yet.\n",
      "  warnings.warn(\n",
      "/Users/rajitbanerjee/.local/share/conda/envs/comp47490-m1/lib/python3.8/site-packages/sklearn/neural_network/_multilayer_perceptron.py:692: ConvergenceWarning: Stochastic Optimizer: Maximum iterations (200) reached and the optimization hasn't converged yet.\n",
      "  warnings.warn(\n",
      "/Users/rajitbanerjee/.local/share/conda/envs/comp47490-m1/lib/python3.8/site-packages/sklearn/neural_network/_multilayer_perceptron.py:692: ConvergenceWarning: Stochastic Optimizer: Maximum iterations (200) reached and the optimization hasn't converged yet.\n",
      "  warnings.warn(\n"
     ]
    },
    {
     "name": "stderr",
     "output_type": "stream",
     "text": [
      "/Users/rajitbanerjee/.local/share/conda/envs/comp47490-m1/lib/python3.8/site-packages/sklearn/neural_network/_multilayer_perceptron.py:692: ConvergenceWarning: Stochastic Optimizer: Maximum iterations (200) reached and the optimization hasn't converged yet.\n",
      "  warnings.warn(\n",
      "/Users/rajitbanerjee/.local/share/conda/envs/comp47490-m1/lib/python3.8/site-packages/sklearn/neural_network/_multilayer_perceptron.py:692: ConvergenceWarning: Stochastic Optimizer: Maximum iterations (200) reached and the optimization hasn't converged yet.\n",
      "  warnings.warn(\n",
      "/Users/rajitbanerjee/.local/share/conda/envs/comp47490-m1/lib/python3.8/site-packages/sklearn/neural_network/_multilayer_perceptron.py:692: ConvergenceWarning: Stochastic Optimizer: Maximum iterations (200) reached and the optimization hasn't converged yet.\n",
      "  warnings.warn(\n",
      "/Users/rajitbanerjee/.local/share/conda/envs/comp47490-m1/lib/python3.8/site-packages/sklearn/neural_network/_multilayer_perceptron.py:692: ConvergenceWarning: Stochastic Optimizer: Maximum iterations (200) reached and the optimization hasn't converged yet.\n",
      "  warnings.warn(\n"
     ]
    },
    {
     "name": "stdout",
     "output_type": "stream",
     "text": [
      "Classifiers in descending order of performance:\n"
     ]
    },
    {
     "data": {
      "text/html": [
       "<div>\n",
       "<style scoped>\n",
       "    .dataframe tbody tr th:only-of-type {\n",
       "        vertical-align: middle;\n",
       "    }\n",
       "\n",
       "    .dataframe tbody tr th {\n",
       "        vertical-align: top;\n",
       "    }\n",
       "\n",
       "    .dataframe thead th {\n",
       "        text-align: right;\n",
       "    }\n",
       "</style>\n",
       "<table border=\"1\" class=\"dataframe\">\n",
       "  <thead>\n",
       "    <tr style=\"text-align: right;\">\n",
       "      <th></th>\n",
       "      <th>Avg. accuracy</th>\n",
       "    </tr>\n",
       "  </thead>\n",
       "  <tbody>\n",
       "    <tr>\n",
       "      <th>Bagging: MLP</th>\n",
       "      <td>0.840 +/- 0.008</td>\n",
       "    </tr>\n",
       "    <tr>\n",
       "      <th>Bagging: DT</th>\n",
       "      <td>0.823 +/- 0.008</td>\n",
       "    </tr>\n",
       "    <tr>\n",
       "      <th>Bagging: KNN</th>\n",
       "      <td>0.809 +/- 0.011</td>\n",
       "    </tr>\n",
       "  </tbody>\n",
       "</table>\n",
       "</div>"
      ],
      "text/plain": [
       "                Avg. accuracy\n",
       "Bagging: MLP  0.840 +/- 0.008\n",
       "Bagging: DT   0.823 +/- 0.008\n",
       "Bagging: KNN  0.809 +/- 0.011"
      ]
     },
     "execution_count": 63,
     "metadata": {},
     "output_type": "execute_result"
    }
   ],
   "source": [
    "scores_bag = score(best_bags, method=\"Bagging\")\n",
    "scores_bag"
   ]
  },
  {
   "cell_type": "code",
   "execution_count": 64,
   "id": "1b75dcdc",
   "metadata": {},
   "outputs": [
    {
     "data": {
      "image/png": "[encoded data removed]",
      "text/plain": [
       "<Figure size 576x504 with 1 Axes>"
      ]
     },
     "metadata": {
      "needs_background": "light"
     },
     "output_type": "display_data"
    }
   ],
   "source": [
    "plot_roc_curves(best_bags, method=\"Bagging\")"
   ]
  },
  {
   "cell_type": "markdown",
   "id": "28b4fd26",
   "metadata": {},
   "source": [
    "The ROC curves above show that bagging ensembles of neural networks and decision trees are still better than 1-NN."
   ]
  },
  {
   "cell_type": "markdown",
   "id": "f8b581cc",
   "metadata": {},
   "source": [
    "## 1D: Random Subspacing Ensemble\n",
    "\n",
    "Instead of sampling training examples, random subspacing ensembles rely on training multiple base classifiers using samples of features (drawn **without** replacement by default).\n",
    "\n",
    "### 1. Hyperparameter tuning\n",
    "\n",
    "Using the 3 basic classifiers obtained earlier, we can vary the ensemble size from 2 to 20 (in steps of 2) for decision trees, neural networks and 1-NN. Then, using the best performing ensemble size, we can vary the percentage of features used for random subspacing."
   ]
  },
  {
   "cell_type": "code",
   "execution_count": 65,
   "id": "d1945873",
   "metadata": {},
   "outputs": [],
   "source": [
    "ensemble_size = range(2, 21, 2)\n",
    "perc_features = [0.25, 0.5, 0.75, 1.0]"
   ]
  },
  {
   "cell_type": "markdown",
   "id": "5c13a034",
   "metadata": {},
   "source": [
    "#### i. Decision Tree"
   ]
  },
  {
   "cell_type": "code",
   "execution_count": 66,
   "id": "be48384e",
   "metadata": {},
   "outputs": [
    {
     "name": "stdout",
     "output_type": "stream",
     "text": [
      "Fitting 5 folds for each of 10 candidates, totalling 50 fits\n",
      "\n",
      "Best: BaggingClassifier(base_estimator=DecisionTreeClassifier(max_depth=3,\n",
      "                                                        random_state=0),\n",
      "                  max_features=0.5, n_estimators=6, n_jobs=-1, random_state=0)\n",
      "Average accuracy: 0.781\n",
      "\n",
      "CPU times: user 74.3 ms, sys: 26.4 ms, total: 101 ms\n",
      "Wall time: 736 ms\n"
     ]
    }
   ],
   "source": [
    "%%time\n",
    "dt_ss = BaggingClassifier(dt_best, max_features=0.5, random_state=0, n_jobs=-1)\n",
    "dt_ss = grid_search(dt_ss, { \"n_estimators\": ensemble_size })"
   ]
  },
  {
   "cell_type": "code",
   "execution_count": 67,
   "id": "2fbfe2a7",
   "metadata": {},
   "outputs": [
    {
     "name": "stdout",
     "output_type": "stream",
     "text": [
      "Fitting 5 folds for each of 4 candidates, totalling 20 fits\n",
      "\n",
      "Best: BaggingClassifier(base_estimator=DecisionTreeClassifier(max_depth=3,\n",
      "                                                        random_state=0),\n",
      "                  max_features=0.5, n_estimators=6, n_jobs=-1, random_state=0)\n",
      "Average accuracy: 0.781\n",
      "\n",
      "CPU times: user 44.4 ms, sys: 30.5 ms, total: 75 ms\n",
      "Wall time: 944 ms\n"
     ]
    }
   ],
   "source": [
    "%%time\n",
    "dt_ss_best = grid_search(dt_ss, { \"max_features\": perc_features })"
   ]
  },
  {
   "cell_type": "markdown",
   "id": "a7e57aec",
   "metadata": {},
   "source": [
    "#### ii. Neural Network"
   ]
  },
  {
   "cell_type": "code",
   "execution_count": 68,
   "id": "2f0f4602",
   "metadata": {
    "scrolled": false
   },
   "outputs": [
    {
     "name": "stdout",
     "output_type": "stream",
     "text": [
      "Fitting 5 folds for each of 10 candidates, totalling 50 fits\n"
     ]
    },
    {
     "name": "stderr",
     "output_type": "stream",
     "text": [
      "/Users/rajitbanerjee/.local/share/conda/envs/comp47490-m1/lib/python3.8/site-packages/sklearn/neural_network/_multilayer_perceptron.py:692: ConvergenceWarning: Stochastic Optimizer: Maximum iterations (200) reached and the optimization hasn't converged yet.\n",
      "  warnings.warn(\n",
      "/Users/rajitbanerjee/.local/share/conda/envs/comp47490-m1/lib/python3.8/site-packages/sklearn/neural_network/_multilayer_perceptron.py:692: ConvergenceWarning: Stochastic Optimizer: Maximum iterations (200) reached and the optimization hasn't converged yet.\n",
      "  warnings.warn(\n",
      "/Users/rajitbanerjee/.local/share/conda/envs/comp47490-m1/lib/python3.8/site-packages/sklearn/neural_network/_multilayer_perceptron.py:692: ConvergenceWarning: Stochastic Optimizer: Maximum iterations (200) reached and the optimization hasn't converged yet.\n",
      "  warnings.warn(\n",
      "/Users/rajitbanerjee/.local/share/conda/envs/comp47490-m1/lib/python3.8/site-packages/sklearn/neural_network/_multilayer_perceptron.py:692: ConvergenceWarning: Stochastic Optimizer: Maximum iterations (200) reached and the optimization hasn't converged yet.\n",
      "  warnings.warn(\n",
      "/Users/rajitbanerjee/.local/share/conda/envs/comp47490-m1/lib/python3.8/site-packages/sklearn/neural_network/_multilayer_perceptron.py:692: ConvergenceWarning: Stochastic Optimizer: Maximum iterations (200) reached and the optimization hasn't converged yet.\n",
      "  warnings.warn(\n",
      "/Users/rajitbanerjee/.local/share/conda/envs/comp47490-m1/lib/python3.8/site-packages/sklearn/neural_network/_multilayer_perceptron.py:692: ConvergenceWarning: Stochastic Optimizer: Maximum iterations (200) reached and the optimization hasn't converged yet.\n",
      "  warnings.warn(\n",
      "/Users/rajitbanerjee/.local/share/conda/envs/comp47490-m1/lib/python3.8/site-packages/sklearn/neural_network/_multilayer_perceptron.py:692: ConvergenceWarning: Stochastic Optimizer: Maximum iterations (200) reached and the optimization hasn't converged yet.\n",
      "  warnings.warn(\n",
      "/Users/rajitbanerjee/.local/share/conda/envs/comp47490-m1/lib/python3.8/site-packages/sklearn/neural_network/_multilayer_perceptron.py:692: ConvergenceWarning: Stochastic Optimizer: Maximum iterations (200) reached and the optimization hasn't converged yet.\n",
      "  warnings.warn(\n",
      "/Users/rajitbanerjee/.local/share/conda/envs/comp47490-m1/lib/python3.8/site-packages/sklearn/neural_network/_multilayer_perceptron.py:692: ConvergenceWarning: Stochastic Optimizer: Maximum iterations (200) reached and the optimization hasn't converged yet.\n",
      "  warnings.warn(\n",
      "/Users/rajitbanerjee/.local/share/conda/envs/comp47490-m1/lib/python3.8/site-packages/sklearn/neural_network/_multilayer_perceptron.py:692: ConvergenceWarning: Stochastic Optimizer: Maximum iterations (200) reached and the optimization hasn't converged yet.\n",
      "  warnings.warn(\n",
      "/Users/rajitbanerjee/.local/share/conda/envs/comp47490-m1/lib/python3.8/site-packages/sklearn/neural_network/_multilayer_perceptron.py:692: ConvergenceWarning: Stochastic Optimizer: Maximum iterations (200) reached and the optimization hasn't converged yet.\n",
      "  warnings.warn(\n",
      "/Users/rajitbanerjee/.local/share/conda/envs/comp47490-m1/lib/python3.8/site-packages/sklearn/neural_network/_multilayer_perceptron.py:692: ConvergenceWarning: Stochastic Optimizer: Maximum iterations (200) reached and the optimization hasn't converged yet.\n",
      "  warnings.warn(\n",
      "/Users/rajitbanerjee/.local/share/conda/envs/comp47490-m1/lib/python3.8/site-packages/sklearn/neural_network/_multilayer_perceptron.py:692: ConvergenceWarning: Stochastic Optimizer: Maximum iterations (200) reached and the optimization hasn't converged yet.\n",
      "  warnings.warn(\n",
      "/Users/rajitbanerjee/.local/share/conda/envs/comp47490-m1/lib/python3.8/site-packages/sklearn/neural_network/_multilayer_perceptron.py:692: ConvergenceWarning: Stochastic Optimizer: Maximum iterations (200) reached and the optimization hasn't converged yet.\n",
      "  warnings.warn(\n",
      "/Users/rajitbanerjee/.local/share/conda/envs/comp47490-m1/lib/python3.8/site-packages/sklearn/neural_network/_multilayer_perceptron.py:692: ConvergenceWarning: Stochastic Optimizer: Maximum iterations (200) reached and the optimization hasn't converged yet.\n",
      "  warnings.warn(\n",
      "/Users/rajitbanerjee/.local/share/conda/envs/comp47490-m1/lib/python3.8/site-packages/sklearn/neural_network/_multilayer_perceptron.py:692: ConvergenceWarning: Stochastic Optimizer: Maximum iterations (200) reached and the optimization hasn't converged yet.\n",
      "  warnings.warn(\n",
      "/Users/rajitbanerjee/.local/share/conda/envs/comp47490-m1/lib/python3.8/site-packages/sklearn/neural_network/_multilayer_perceptron.py:692: ConvergenceWarning: Stochastic Optimizer: Maximum iterations (200) reached and the optimization hasn't converged yet.\n",
      "  warnings.warn(\n",
      "/Users/rajitbanerjee/.local/share/conda/envs/comp47490-m1/lib/python3.8/site-packages/sklearn/neural_network/_multilayer_perceptron.py:692: ConvergenceWarning: Stochastic Optimizer: Maximum iterations (200) reached and the optimization hasn't converged yet.\n",
      "  warnings.warn(\n",
      "/Users/rajitbanerjee/.local/share/conda/envs/comp47490-m1/lib/python3.8/site-packages/sklearn/neural_network/_multilayer_perceptron.py:692: ConvergenceWarning: Stochastic Optimizer: Maximum iterations (200) reached and the optimization hasn't converged yet.\n",
      "  warnings.warn(\n",
      "/Users/rajitbanerjee/.local/share/conda/envs/comp47490-m1/lib/python3.8/site-packages/sklearn/neural_network/_multilayer_perceptron.py:692: ConvergenceWarning: Stochastic Optimizer: Maximum iterations (200) reached and the optimization hasn't converged yet.\n",
      "  warnings.warn(\n",
      "/Users/rajitbanerjee/.local/share/conda/envs/comp47490-m1/lib/python3.8/site-packages/sklearn/neural_network/_multilayer_perceptron.py:692: ConvergenceWarning: Stochastic Optimizer: Maximum iterations (200) reached and the optimization hasn't converged yet.\n",
      "  warnings.warn(\n",
      "/Users/rajitbanerjee/.local/share/conda/envs/comp47490-m1/lib/python3.8/site-packages/sklearn/neural_network/_multilayer_perceptron.py:692: ConvergenceWarning: Stochastic Optimizer: Maximum iterations (200) reached and the optimization hasn't converged yet.\n",
      "  warnings.warn(\n",
      "/Users/rajitbanerjee/.local/share/conda/envs/comp47490-m1/lib/python3.8/site-packages/sklearn/neural_network/_multilayer_perceptron.py:692: ConvergenceWarning: Stochastic Optimizer: Maximum iterations (200) reached and the optimization hasn't converged yet.\n",
      "  warnings.warn(\n",
      "/Users/rajitbanerjee/.local/share/conda/envs/comp47490-m1/lib/python3.8/site-packages/sklearn/neural_network/_multilayer_perceptron.py:692: ConvergenceWarning: Stochastic Optimizer: Maximum iterations (200) reached and the optimization hasn't converged yet.\n",
      "  warnings.warn(\n",
      "/Users/rajitbanerjee/.local/share/conda/envs/comp47490-m1/lib/python3.8/site-packages/sklearn/neural_network/_multilayer_perceptron.py:692: ConvergenceWarning: Stochastic Optimizer: Maximum iterations (200) reached and the optimization hasn't converged yet.\n",
      "  warnings.warn(\n",
      "/Users/rajitbanerjee/.local/share/conda/envs/comp47490-m1/lib/python3.8/site-packages/sklearn/neural_network/_multilayer_perceptron.py:692: ConvergenceWarning: Stochastic Optimizer: Maximum iterations (200) reached and the optimization hasn't converged yet.\n",
      "  warnings.warn(\n",
      "/Users/rajitbanerjee/.local/share/conda/envs/comp47490-m1/lib/python3.8/site-packages/sklearn/neural_network/_multilayer_perceptron.py:692: ConvergenceWarning: Stochastic Optimizer: Maximum iterations (200) reached and the optimization hasn't converged yet.\n",
      "  warnings.warn(\n",
      "/Users/rajitbanerjee/.local/share/conda/envs/comp47490-m1/lib/python3.8/site-packages/sklearn/neural_network/_multilayer_perceptron.py:692: ConvergenceWarning: Stochastic Optimizer: Maximum iterations (200) reached and the optimization hasn't converged yet.\n",
      "  warnings.warn(\n",
      "/Users/rajitbanerjee/.local/share/conda/envs/comp47490-m1/lib/python3.8/site-packages/sklearn/neural_network/_multilayer_perceptron.py:692: ConvergenceWarning: Stochastic Optimizer: Maximum iterations (200) reached and the optimization hasn't converged yet.\n",
      "  warnings.warn(\n",
      "/Users/rajitbanerjee/.local/share/conda/envs/comp47490-m1/lib/python3.8/site-packages/sklearn/neural_network/_multilayer_perceptron.py:692: ConvergenceWarning: Stochastic Optimizer: Maximum iterations (200) reached and the optimization hasn't converged yet.\n",
      "  warnings.warn(\n"
     ]
    },
    {
     "name": "stderr",
     "output_type": "stream",
     "text": [
      "/Users/rajitbanerjee/.local/share/conda/envs/comp47490-m1/lib/python3.8/site-packages/sklearn/neural_network/_multilayer_perceptron.py:692: ConvergenceWarning: Stochastic Optimizer: Maximum iterations (200) reached and the optimization hasn't converged yet.\n",
      "  warnings.warn(\n",
      "/Users/rajitbanerjee/.local/share/conda/envs/comp47490-m1/lib/python3.8/site-packages/sklearn/neural_network/_multilayer_perceptron.py:692: ConvergenceWarning: Stochastic Optimizer: Maximum iterations (200) reached and the optimization hasn't converged yet.\n",
      "  warnings.warn(\n",
      "/Users/rajitbanerjee/.local/share/conda/envs/comp47490-m1/lib/python3.8/site-packages/sklearn/neural_network/_multilayer_perceptron.py:692: ConvergenceWarning: Stochastic Optimizer: Maximum iterations (200) reached and the optimization hasn't converged yet.\n",
      "  warnings.warn(\n",
      "/Users/rajitbanerjee/.local/share/conda/envs/comp47490-m1/lib/python3.8/site-packages/sklearn/neural_network/_multilayer_perceptron.py:692: ConvergenceWarning: Stochastic Optimizer: Maximum iterations (200) reached and the optimization hasn't converged yet.\n",
      "  warnings.warn(\n",
      "/Users/rajitbanerjee/.local/share/conda/envs/comp47490-m1/lib/python3.8/site-packages/sklearn/neural_network/_multilayer_perceptron.py:692: ConvergenceWarning: Stochastic Optimizer: Maximum iterations (200) reached and the optimization hasn't converged yet.\n",
      "  warnings.warn(\n",
      "/Users/rajitbanerjee/.local/share/conda/envs/comp47490-m1/lib/python3.8/site-packages/sklearn/neural_network/_multilayer_perceptron.py:692: ConvergenceWarning: Stochastic Optimizer: Maximum iterations (200) reached and the optimization hasn't converged yet.\n",
      "  warnings.warn(\n",
      "/Users/rajitbanerjee/.local/share/conda/envs/comp47490-m1/lib/python3.8/site-packages/sklearn/neural_network/_multilayer_perceptron.py:692: ConvergenceWarning: Stochastic Optimizer: Maximum iterations (200) reached and the optimization hasn't converged yet.\n",
      "  warnings.warn(\n",
      "/Users/rajitbanerjee/.local/share/conda/envs/comp47490-m1/lib/python3.8/site-packages/sklearn/neural_network/_multilayer_perceptron.py:692: ConvergenceWarning: Stochastic Optimizer: Maximum iterations (200) reached and the optimization hasn't converged yet.\n",
      "  warnings.warn(\n",
      "/Users/rajitbanerjee/.local/share/conda/envs/comp47490-m1/lib/python3.8/site-packages/sklearn/neural_network/_multilayer_perceptron.py:692: ConvergenceWarning: Stochastic Optimizer: Maximum iterations (200) reached and the optimization hasn't converged yet.\n",
      "  warnings.warn(\n",
      "/Users/rajitbanerjee/.local/share/conda/envs/comp47490-m1/lib/python3.8/site-packages/sklearn/neural_network/_multilayer_perceptron.py:692: ConvergenceWarning: Stochastic Optimizer: Maximum iterations (200) reached and the optimization hasn't converged yet.\n",
      "  warnings.warn(\n",
      "/Users/rajitbanerjee/.local/share/conda/envs/comp47490-m1/lib/python3.8/site-packages/sklearn/neural_network/_multilayer_perceptron.py:692: ConvergenceWarning: Stochastic Optimizer: Maximum iterations (200) reached and the optimization hasn't converged yet.\n",
      "  warnings.warn(\n",
      "/Users/rajitbanerjee/.local/share/conda/envs/comp47490-m1/lib/python3.8/site-packages/sklearn/neural_network/_multilayer_perceptron.py:692: ConvergenceWarning: Stochastic Optimizer: Maximum iterations (200) reached and the optimization hasn't converged yet.\n",
      "  warnings.warn(\n",
      "/Users/rajitbanerjee/.local/share/conda/envs/comp47490-m1/lib/python3.8/site-packages/sklearn/neural_network/_multilayer_perceptron.py:692: ConvergenceWarning: Stochastic Optimizer: Maximum iterations (200) reached and the optimization hasn't converged yet.\n",
      "  warnings.warn(\n",
      "/Users/rajitbanerjee/.local/share/conda/envs/comp47490-m1/lib/python3.8/site-packages/sklearn/neural_network/_multilayer_perceptron.py:692: ConvergenceWarning: Stochastic Optimizer: Maximum iterations (200) reached and the optimization hasn't converged yet.\n",
      "  warnings.warn(\n",
      "/Users/rajitbanerjee/.local/share/conda/envs/comp47490-m1/lib/python3.8/site-packages/sklearn/neural_network/_multilayer_perceptron.py:692: ConvergenceWarning: Stochastic Optimizer: Maximum iterations (200) reached and the optimization hasn't converged yet.\n",
      "  warnings.warn(\n",
      "/Users/rajitbanerjee/.local/share/conda/envs/comp47490-m1/lib/python3.8/site-packages/sklearn/neural_network/_multilayer_perceptron.py:692: ConvergenceWarning: Stochastic Optimizer: Maximum iterations (200) reached and the optimization hasn't converged yet.\n",
      "  warnings.warn(\n",
      "/Users/rajitbanerjee/.local/share/conda/envs/comp47490-m1/lib/python3.8/site-packages/sklearn/neural_network/_multilayer_perceptron.py:692: ConvergenceWarning: Stochastic Optimizer: Maximum iterations (200) reached and the optimization hasn't converged yet.\n",
      "  warnings.warn(\n",
      "/Users/rajitbanerjee/.local/share/conda/envs/comp47490-m1/lib/python3.8/site-packages/sklearn/neural_network/_multilayer_perceptron.py:692: ConvergenceWarning: Stochastic Optimizer: Maximum iterations (200) reached and the optimization hasn't converged yet.\n",
      "  warnings.warn(\n",
      "/Users/rajitbanerjee/.local/share/conda/envs/comp47490-m1/lib/python3.8/site-packages/sklearn/neural_network/_multilayer_perceptron.py:692: ConvergenceWarning: Stochastic Optimizer: Maximum iterations (200) reached and the optimization hasn't converged yet.\n",
      "  warnings.warn(\n",
      "/Users/rajitbanerjee/.local/share/conda/envs/comp47490-m1/lib/python3.8/site-packages/sklearn/neural_network/_multilayer_perceptron.py:692: ConvergenceWarning: Stochastic Optimizer: Maximum iterations (200) reached and the optimization hasn't converged yet.\n",
      "  warnings.warn(\n",
      "/Users/rajitbanerjee/.local/share/conda/envs/comp47490-m1/lib/python3.8/site-packages/sklearn/neural_network/_multilayer_perceptron.py:692: ConvergenceWarning: Stochastic Optimizer: Maximum iterations (200) reached and the optimization hasn't converged yet.\n",
      "  warnings.warn(\n",
      "/Users/rajitbanerjee/.local/share/conda/envs/comp47490-m1/lib/python3.8/site-packages/sklearn/neural_network/_multilayer_perceptron.py:692: ConvergenceWarning: Stochastic Optimizer: Maximum iterations (200) reached and the optimization hasn't converged yet.\n",
      "  warnings.warn(\n",
      "/Users/rajitbanerjee/.local/share/conda/envs/comp47490-m1/lib/python3.8/site-packages/sklearn/neural_network/_multilayer_perceptron.py:692: ConvergenceWarning: Stochastic Optimizer: Maximum iterations (200) reached and the optimization hasn't converged yet.\n",
      "  warnings.warn(\n",
      "/Users/rajitbanerjee/.local/share/conda/envs/comp47490-m1/lib/python3.8/site-packages/sklearn/neural_network/_multilayer_perceptron.py:692: ConvergenceWarning: Stochastic Optimizer: Maximum iterations (200) reached and the optimization hasn't converged yet.\n",
      "  warnings.warn(\n",
      "/Users/rajitbanerjee/.local/share/conda/envs/comp47490-m1/lib/python3.8/site-packages/sklearn/neural_network/_multilayer_perceptron.py:692: ConvergenceWarning: Stochastic Optimizer: Maximum iterations (200) reached and the optimization hasn't converged yet.\n",
      "  warnings.warn(\n",
      "/Users/rajitbanerjee/.local/share/conda/envs/comp47490-m1/lib/python3.8/site-packages/sklearn/neural_network/_multilayer_perceptron.py:692: ConvergenceWarning: Stochastic Optimizer: Maximum iterations (200) reached and the optimization hasn't converged yet.\n",
      "  warnings.warn(\n",
      "/Users/rajitbanerjee/.local/share/conda/envs/comp47490-m1/lib/python3.8/site-packages/sklearn/neural_network/_multilayer_perceptron.py:692: ConvergenceWarning: Stochastic Optimizer: Maximum iterations (200) reached and the optimization hasn't converged yet.\n",
      "  warnings.warn(\n",
      "/Users/rajitbanerjee/.local/share/conda/envs/comp47490-m1/lib/python3.8/site-packages/sklearn/neural_network/_multilayer_perceptron.py:692: ConvergenceWarning: Stochastic Optimizer: Maximum iterations (200) reached and the optimization hasn't converged yet.\n",
      "  warnings.warn(\n",
      "/Users/rajitbanerjee/.local/share/conda/envs/comp47490-m1/lib/python3.8/site-packages/sklearn/neural_network/_multilayer_perceptron.py:692: ConvergenceWarning: Stochastic Optimizer: Maximum iterations (200) reached and the optimization hasn't converged yet.\n",
      "  warnings.warn(\n",
      "/Users/rajitbanerjee/.local/share/conda/envs/comp47490-m1/lib/python3.8/site-packages/sklearn/neural_network/_multilayer_perceptron.py:692: ConvergenceWarning: Stochastic Optimizer: Maximum iterations (200) reached and the optimization hasn't converged yet.\n",
      "  warnings.warn(\n"
     ]
    },
    {
     "name": "stderr",
     "output_type": "stream",
     "text": [
      "/Users/rajitbanerjee/.local/share/conda/envs/comp47490-m1/lib/python3.8/site-packages/sklearn/neural_network/_multilayer_perceptron.py:692: ConvergenceWarning: Stochastic Optimizer: Maximum iterations (200) reached and the optimization hasn't converged yet.\n",
      "  warnings.warn(\n",
      "/Users/rajitbanerjee/.local/share/conda/envs/comp47490-m1/lib/python3.8/site-packages/sklearn/neural_network/_multilayer_perceptron.py:692: ConvergenceWarning: Stochastic Optimizer: Maximum iterations (200) reached and the optimization hasn't converged yet.\n",
      "  warnings.warn(\n",
      "/Users/rajitbanerjee/.local/share/conda/envs/comp47490-m1/lib/python3.8/site-packages/sklearn/neural_network/_multilayer_perceptron.py:692: ConvergenceWarning: Stochastic Optimizer: Maximum iterations (200) reached and the optimization hasn't converged yet.\n",
      "  warnings.warn(\n",
      "/Users/rajitbanerjee/.local/share/conda/envs/comp47490-m1/lib/python3.8/site-packages/sklearn/neural_network/_multilayer_perceptron.py:692: ConvergenceWarning: Stochastic Optimizer: Maximum iterations (200) reached and the optimization hasn't converged yet.\n",
      "  warnings.warn(\n",
      "/Users/rajitbanerjee/.local/share/conda/envs/comp47490-m1/lib/python3.8/site-packages/sklearn/neural_network/_multilayer_perceptron.py:692: ConvergenceWarning: Stochastic Optimizer: Maximum iterations (200) reached and the optimization hasn't converged yet.\n",
      "  warnings.warn(\n",
      "/Users/rajitbanerjee/.local/share/conda/envs/comp47490-m1/lib/python3.8/site-packages/sklearn/neural_network/_multilayer_perceptron.py:692: ConvergenceWarning: Stochastic Optimizer: Maximum iterations (200) reached and the optimization hasn't converged yet.\n",
      "  warnings.warn(\n",
      "/Users/rajitbanerjee/.local/share/conda/envs/comp47490-m1/lib/python3.8/site-packages/sklearn/neural_network/_multilayer_perceptron.py:692: ConvergenceWarning: Stochastic Optimizer: Maximum iterations (200) reached and the optimization hasn't converged yet.\n",
      "  warnings.warn(\n",
      "/Users/rajitbanerjee/.local/share/conda/envs/comp47490-m1/lib/python3.8/site-packages/sklearn/neural_network/_multilayer_perceptron.py:692: ConvergenceWarning: Stochastic Optimizer: Maximum iterations (200) reached and the optimization hasn't converged yet.\n",
      "  warnings.warn(\n",
      "/Users/rajitbanerjee/.local/share/conda/envs/comp47490-m1/lib/python3.8/site-packages/sklearn/neural_network/_multilayer_perceptron.py:692: ConvergenceWarning: Stochastic Optimizer: Maximum iterations (200) reached and the optimization hasn't converged yet.\n",
      "  warnings.warn(\n",
      "/Users/rajitbanerjee/.local/share/conda/envs/comp47490-m1/lib/python3.8/site-packages/sklearn/neural_network/_multilayer_perceptron.py:692: ConvergenceWarning: Stochastic Optimizer: Maximum iterations (200) reached and the optimization hasn't converged yet.\n",
      "  warnings.warn(\n",
      "/Users/rajitbanerjee/.local/share/conda/envs/comp47490-m1/lib/python3.8/site-packages/sklearn/neural_network/_multilayer_perceptron.py:692: ConvergenceWarning: Stochastic Optimizer: Maximum iterations (200) reached and the optimization hasn't converged yet.\n",
      "  warnings.warn(\n",
      "/Users/rajitbanerjee/.local/share/conda/envs/comp47490-m1/lib/python3.8/site-packages/sklearn/neural_network/_multilayer_perceptron.py:692: ConvergenceWarning: Stochastic Optimizer: Maximum iterations (200) reached and the optimization hasn't converged yet.\n",
      "  warnings.warn(\n",
      "/Users/rajitbanerjee/.local/share/conda/envs/comp47490-m1/lib/python3.8/site-packages/sklearn/neural_network/_multilayer_perceptron.py:692: ConvergenceWarning: Stochastic Optimizer: Maximum iterations (200) reached and the optimization hasn't converged yet.\n",
      "  warnings.warn(\n",
      "/Users/rajitbanerjee/.local/share/conda/envs/comp47490-m1/lib/python3.8/site-packages/sklearn/neural_network/_multilayer_perceptron.py:692: ConvergenceWarning: Stochastic Optimizer: Maximum iterations (200) reached and the optimization hasn't converged yet.\n",
      "  warnings.warn(\n",
      "/Users/rajitbanerjee/.local/share/conda/envs/comp47490-m1/lib/python3.8/site-packages/sklearn/neural_network/_multilayer_perceptron.py:692: ConvergenceWarning: Stochastic Optimizer: Maximum iterations (200) reached and the optimization hasn't converged yet.\n",
      "  warnings.warn(\n",
      "/Users/rajitbanerjee/.local/share/conda/envs/comp47490-m1/lib/python3.8/site-packages/sklearn/neural_network/_multilayer_perceptron.py:692: ConvergenceWarning: Stochastic Optimizer: Maximum iterations (200) reached and the optimization hasn't converged yet.\n",
      "  warnings.warn(\n",
      "/Users/rajitbanerjee/.local/share/conda/envs/comp47490-m1/lib/python3.8/site-packages/sklearn/neural_network/_multilayer_perceptron.py:692: ConvergenceWarning: Stochastic Optimizer: Maximum iterations (200) reached and the optimization hasn't converged yet.\n",
      "  warnings.warn(\n",
      "/Users/rajitbanerjee/.local/share/conda/envs/comp47490-m1/lib/python3.8/site-packages/sklearn/neural_network/_multilayer_perceptron.py:692: ConvergenceWarning: Stochastic Optimizer: Maximum iterations (200) reached and the optimization hasn't converged yet.\n",
      "  warnings.warn(\n",
      "/Users/rajitbanerjee/.local/share/conda/envs/comp47490-m1/lib/python3.8/site-packages/sklearn/neural_network/_multilayer_perceptron.py:692: ConvergenceWarning: Stochastic Optimizer: Maximum iterations (200) reached and the optimization hasn't converged yet.\n",
      "  warnings.warn(\n",
      "/Users/rajitbanerjee/.local/share/conda/envs/comp47490-m1/lib/python3.8/site-packages/sklearn/neural_network/_multilayer_perceptron.py:692: ConvergenceWarning: Stochastic Optimizer: Maximum iterations (200) reached and the optimization hasn't converged yet.\n",
      "  warnings.warn(\n",
      "/Users/rajitbanerjee/.local/share/conda/envs/comp47490-m1/lib/python3.8/site-packages/sklearn/neural_network/_multilayer_perceptron.py:692: ConvergenceWarning: Stochastic Optimizer: Maximum iterations (200) reached and the optimization hasn't converged yet.\n",
      "  warnings.warn(\n",
      "/Users/rajitbanerjee/.local/share/conda/envs/comp47490-m1/lib/python3.8/site-packages/sklearn/neural_network/_multilayer_perceptron.py:692: ConvergenceWarning: Stochastic Optimizer: Maximum iterations (200) reached and the optimization hasn't converged yet.\n",
      "  warnings.warn(\n",
      "/Users/rajitbanerjee/.local/share/conda/envs/comp47490-m1/lib/python3.8/site-packages/sklearn/neural_network/_multilayer_perceptron.py:692: ConvergenceWarning: Stochastic Optimizer: Maximum iterations (200) reached and the optimization hasn't converged yet.\n",
      "  warnings.warn(\n",
      "/Users/rajitbanerjee/.local/share/conda/envs/comp47490-m1/lib/python3.8/site-packages/sklearn/neural_network/_multilayer_perceptron.py:692: ConvergenceWarning: Stochastic Optimizer: Maximum iterations (200) reached and the optimization hasn't converged yet.\n",
      "  warnings.warn(\n",
      "/Users/rajitbanerjee/.local/share/conda/envs/comp47490-m1/lib/python3.8/site-packages/sklearn/neural_network/_multilayer_perceptron.py:692: ConvergenceWarning: Stochastic Optimizer: Maximum iterations (200) reached and the optimization hasn't converged yet.\n",
      "  warnings.warn(\n",
      "/Users/rajitbanerjee/.local/share/conda/envs/comp47490-m1/lib/python3.8/site-packages/sklearn/neural_network/_multilayer_perceptron.py:692: ConvergenceWarning: Stochastic Optimizer: Maximum iterations (200) reached and the optimization hasn't converged yet.\n",
      "  warnings.warn(\n",
      "/Users/rajitbanerjee/.local/share/conda/envs/comp47490-m1/lib/python3.8/site-packages/sklearn/neural_network/_multilayer_perceptron.py:692: ConvergenceWarning: Stochastic Optimizer: Maximum iterations (200) reached and the optimization hasn't converged yet.\n",
      "  warnings.warn(\n",
      "/Users/rajitbanerjee/.local/share/conda/envs/comp47490-m1/lib/python3.8/site-packages/sklearn/neural_network/_multilayer_perceptron.py:692: ConvergenceWarning: Stochastic Optimizer: Maximum iterations (200) reached and the optimization hasn't converged yet.\n",
      "  warnings.warn(\n",
      "/Users/rajitbanerjee/.local/share/conda/envs/comp47490-m1/lib/python3.8/site-packages/sklearn/neural_network/_multilayer_perceptron.py:692: ConvergenceWarning: Stochastic Optimizer: Maximum iterations (200) reached and the optimization hasn't converged yet.\n",
      "  warnings.warn(\n",
      "/Users/rajitbanerjee/.local/share/conda/envs/comp47490-m1/lib/python3.8/site-packages/sklearn/neural_network/_multilayer_perceptron.py:692: ConvergenceWarning: Stochastic Optimizer: Maximum iterations (200) reached and the optimization hasn't converged yet.\n",
      "  warnings.warn(\n",
      "/Users/rajitbanerjee/.local/share/conda/envs/comp47490-m1/lib/python3.8/site-packages/sklearn/neural_network/_multilayer_perceptron.py:692: ConvergenceWarning: Stochastic Optimizer: Maximum iterations (200) reached and the optimization hasn't converged yet.\n",
      "  warnings.warn(\n"
     ]
    },
    {
     "name": "stderr",
     "output_type": "stream",
     "text": [
      "/Users/rajitbanerjee/.local/share/conda/envs/comp47490-m1/lib/python3.8/site-packages/sklearn/neural_network/_multilayer_perceptron.py:692: ConvergenceWarning: Stochastic Optimizer: Maximum iterations (200) reached and the optimization hasn't converged yet.\n",
      "  warnings.warn(\n",
      "/Users/rajitbanerjee/.local/share/conda/envs/comp47490-m1/lib/python3.8/site-packages/sklearn/neural_network/_multilayer_perceptron.py:692: ConvergenceWarning: Stochastic Optimizer: Maximum iterations (200) reached and the optimization hasn't converged yet.\n",
      "  warnings.warn(\n",
      "/Users/rajitbanerjee/.local/share/conda/envs/comp47490-m1/lib/python3.8/site-packages/sklearn/neural_network/_multilayer_perceptron.py:692: ConvergenceWarning: Stochastic Optimizer: Maximum iterations (200) reached and the optimization hasn't converged yet.\n",
      "  warnings.warn(\n",
      "/Users/rajitbanerjee/.local/share/conda/envs/comp47490-m1/lib/python3.8/site-packages/sklearn/neural_network/_multilayer_perceptron.py:692: ConvergenceWarning: Stochastic Optimizer: Maximum iterations (200) reached and the optimization hasn't converged yet.\n",
      "  warnings.warn(\n",
      "/Users/rajitbanerjee/.local/share/conda/envs/comp47490-m1/lib/python3.8/site-packages/sklearn/neural_network/_multilayer_perceptron.py:692: ConvergenceWarning: Stochastic Optimizer: Maximum iterations (200) reached and the optimization hasn't converged yet.\n",
      "  warnings.warn(\n",
      "/Users/rajitbanerjee/.local/share/conda/envs/comp47490-m1/lib/python3.8/site-packages/sklearn/neural_network/_multilayer_perceptron.py:692: ConvergenceWarning: Stochastic Optimizer: Maximum iterations (200) reached and the optimization hasn't converged yet.\n",
      "  warnings.warn(\n",
      "/Users/rajitbanerjee/.local/share/conda/envs/comp47490-m1/lib/python3.8/site-packages/sklearn/neural_network/_multilayer_perceptron.py:692: ConvergenceWarning: Stochastic Optimizer: Maximum iterations (200) reached and the optimization hasn't converged yet.\n",
      "  warnings.warn(\n",
      "/Users/rajitbanerjee/.local/share/conda/envs/comp47490-m1/lib/python3.8/site-packages/sklearn/neural_network/_multilayer_perceptron.py:692: ConvergenceWarning: Stochastic Optimizer: Maximum iterations (200) reached and the optimization hasn't converged yet.\n",
      "  warnings.warn(\n",
      "/Users/rajitbanerjee/.local/share/conda/envs/comp47490-m1/lib/python3.8/site-packages/sklearn/neural_network/_multilayer_perceptron.py:692: ConvergenceWarning: Stochastic Optimizer: Maximum iterations (200) reached and the optimization hasn't converged yet.\n",
      "  warnings.warn(\n",
      "/Users/rajitbanerjee/.local/share/conda/envs/comp47490-m1/lib/python3.8/site-packages/sklearn/neural_network/_multilayer_perceptron.py:692: ConvergenceWarning: Stochastic Optimizer: Maximum iterations (200) reached and the optimization hasn't converged yet.\n",
      "  warnings.warn(\n",
      "/Users/rajitbanerjee/.local/share/conda/envs/comp47490-m1/lib/python3.8/site-packages/sklearn/neural_network/_multilayer_perceptron.py:692: ConvergenceWarning: Stochastic Optimizer: Maximum iterations (200) reached and the optimization hasn't converged yet.\n",
      "  warnings.warn(\n",
      "/Users/rajitbanerjee/.local/share/conda/envs/comp47490-m1/lib/python3.8/site-packages/sklearn/neural_network/_multilayer_perceptron.py:692: ConvergenceWarning: Stochastic Optimizer: Maximum iterations (200) reached and the optimization hasn't converged yet.\n",
      "  warnings.warn(\n",
      "/Users/rajitbanerjee/.local/share/conda/envs/comp47490-m1/lib/python3.8/site-packages/sklearn/neural_network/_multilayer_perceptron.py:692: ConvergenceWarning: Stochastic Optimizer: Maximum iterations (200) reached and the optimization hasn't converged yet.\n",
      "  warnings.warn(\n",
      "/Users/rajitbanerjee/.local/share/conda/envs/comp47490-m1/lib/python3.8/site-packages/sklearn/neural_network/_multilayer_perceptron.py:692: ConvergenceWarning: Stochastic Optimizer: Maximum iterations (200) reached and the optimization hasn't converged yet.\n",
      "  warnings.warn(\n",
      "/Users/rajitbanerjee/.local/share/conda/envs/comp47490-m1/lib/python3.8/site-packages/sklearn/neural_network/_multilayer_perceptron.py:692: ConvergenceWarning: Stochastic Optimizer: Maximum iterations (200) reached and the optimization hasn't converged yet.\n",
      "  warnings.warn(\n",
      "/Users/rajitbanerjee/.local/share/conda/envs/comp47490-m1/lib/python3.8/site-packages/sklearn/neural_network/_multilayer_perceptron.py:692: ConvergenceWarning: Stochastic Optimizer: Maximum iterations (200) reached and the optimization hasn't converged yet.\n",
      "  warnings.warn(\n",
      "/Users/rajitbanerjee/.local/share/conda/envs/comp47490-m1/lib/python3.8/site-packages/sklearn/neural_network/_multilayer_perceptron.py:692: ConvergenceWarning: Stochastic Optimizer: Maximum iterations (200) reached and the optimization hasn't converged yet.\n",
      "  warnings.warn(\n",
      "/Users/rajitbanerjee/.local/share/conda/envs/comp47490-m1/lib/python3.8/site-packages/sklearn/neural_network/_multilayer_perceptron.py:692: ConvergenceWarning: Stochastic Optimizer: Maximum iterations (200) reached and the optimization hasn't converged yet.\n",
      "  warnings.warn(\n",
      "/Users/rajitbanerjee/.local/share/conda/envs/comp47490-m1/lib/python3.8/site-packages/sklearn/neural_network/_multilayer_perceptron.py:692: ConvergenceWarning: Stochastic Optimizer: Maximum iterations (200) reached and the optimization hasn't converged yet.\n",
      "  warnings.warn(\n",
      "/Users/rajitbanerjee/.local/share/conda/envs/comp47490-m1/lib/python3.8/site-packages/sklearn/neural_network/_multilayer_perceptron.py:692: ConvergenceWarning: Stochastic Optimizer: Maximum iterations (200) reached and the optimization hasn't converged yet.\n",
      "  warnings.warn(\n",
      "/Users/rajitbanerjee/.local/share/conda/envs/comp47490-m1/lib/python3.8/site-packages/sklearn/neural_network/_multilayer_perceptron.py:692: ConvergenceWarning: Stochastic Optimizer: Maximum iterations (200) reached and the optimization hasn't converged yet.\n",
      "  warnings.warn(\n",
      "/Users/rajitbanerjee/.local/share/conda/envs/comp47490-m1/lib/python3.8/site-packages/sklearn/neural_network/_multilayer_perceptron.py:692: ConvergenceWarning: Stochastic Optimizer: Maximum iterations (200) reached and the optimization hasn't converged yet.\n",
      "  warnings.warn(\n",
      "/Users/rajitbanerjee/.local/share/conda/envs/comp47490-m1/lib/python3.8/site-packages/sklearn/neural_network/_multilayer_perceptron.py:692: ConvergenceWarning: Stochastic Optimizer: Maximum iterations (200) reached and the optimization hasn't converged yet.\n",
      "  warnings.warn(\n",
      "/Users/rajitbanerjee/.local/share/conda/envs/comp47490-m1/lib/python3.8/site-packages/sklearn/neural_network/_multilayer_perceptron.py:692: ConvergenceWarning: Stochastic Optimizer: Maximum iterations (200) reached and the optimization hasn't converged yet.\n",
      "  warnings.warn(\n",
      "/Users/rajitbanerjee/.local/share/conda/envs/comp47490-m1/lib/python3.8/site-packages/sklearn/neural_network/_multilayer_perceptron.py:692: ConvergenceWarning: Stochastic Optimizer: Maximum iterations (200) reached and the optimization hasn't converged yet.\n",
      "  warnings.warn(\n",
      "/Users/rajitbanerjee/.local/share/conda/envs/comp47490-m1/lib/python3.8/site-packages/sklearn/neural_network/_multilayer_perceptron.py:692: ConvergenceWarning: Stochastic Optimizer: Maximum iterations (200) reached and the optimization hasn't converged yet.\n",
      "  warnings.warn(\n",
      "/Users/rajitbanerjee/.local/share/conda/envs/comp47490-m1/lib/python3.8/site-packages/sklearn/neural_network/_multilayer_perceptron.py:692: ConvergenceWarning: Stochastic Optimizer: Maximum iterations (200) reached and the optimization hasn't converged yet.\n",
      "  warnings.warn(\n",
      "/Users/rajitbanerjee/.local/share/conda/envs/comp47490-m1/lib/python3.8/site-packages/sklearn/neural_network/_multilayer_perceptron.py:692: ConvergenceWarning: Stochastic Optimizer: Maximum iterations (200) reached and the optimization hasn't converged yet.\n",
      "  warnings.warn(\n",
      "/Users/rajitbanerjee/.local/share/conda/envs/comp47490-m1/lib/python3.8/site-packages/sklearn/neural_network/_multilayer_perceptron.py:692: ConvergenceWarning: Stochastic Optimizer: Maximum iterations (200) reached and the optimization hasn't converged yet.\n",
      "  warnings.warn(\n",
      "/Users/rajitbanerjee/.local/share/conda/envs/comp47490-m1/lib/python3.8/site-packages/sklearn/neural_network/_multilayer_perceptron.py:692: ConvergenceWarning: Stochastic Optimizer: Maximum iterations (200) reached and the optimization hasn't converged yet.\n",
      "  warnings.warn(\n"
     ]
    },
    {
     "name": "stderr",
     "output_type": "stream",
     "text": [
      "/Users/rajitbanerjee/.local/share/conda/envs/comp47490-m1/lib/python3.8/site-packages/sklearn/neural_network/_multilayer_perceptron.py:692: ConvergenceWarning: Stochastic Optimizer: Maximum iterations (200) reached and the optimization hasn't converged yet.\n",
      "  warnings.warn(\n",
      "/Users/rajitbanerjee/.local/share/conda/envs/comp47490-m1/lib/python3.8/site-packages/sklearn/neural_network/_multilayer_perceptron.py:692: ConvergenceWarning: Stochastic Optimizer: Maximum iterations (200) reached and the optimization hasn't converged yet.\n",
      "  warnings.warn(\n",
      "/Users/rajitbanerjee/.local/share/conda/envs/comp47490-m1/lib/python3.8/site-packages/sklearn/neural_network/_multilayer_perceptron.py:692: ConvergenceWarning: Stochastic Optimizer: Maximum iterations (200) reached and the optimization hasn't converged yet.\n",
      "  warnings.warn(\n",
      "/Users/rajitbanerjee/.local/share/conda/envs/comp47490-m1/lib/python3.8/site-packages/sklearn/neural_network/_multilayer_perceptron.py:692: ConvergenceWarning: Stochastic Optimizer: Maximum iterations (200) reached and the optimization hasn't converged yet.\n",
      "  warnings.warn(\n",
      "/Users/rajitbanerjee/.local/share/conda/envs/comp47490-m1/lib/python3.8/site-packages/sklearn/neural_network/_multilayer_perceptron.py:692: ConvergenceWarning: Stochastic Optimizer: Maximum iterations (200) reached and the optimization hasn't converged yet.\n",
      "  warnings.warn(\n",
      "/Users/rajitbanerjee/.local/share/conda/envs/comp47490-m1/lib/python3.8/site-packages/sklearn/neural_network/_multilayer_perceptron.py:692: ConvergenceWarning: Stochastic Optimizer: Maximum iterations (200) reached and the optimization hasn't converged yet.\n",
      "  warnings.warn(\n",
      "/Users/rajitbanerjee/.local/share/conda/envs/comp47490-m1/lib/python3.8/site-packages/sklearn/neural_network/_multilayer_perceptron.py:692: ConvergenceWarning: Stochastic Optimizer: Maximum iterations (200) reached and the optimization hasn't converged yet.\n",
      "  warnings.warn(\n",
      "/Users/rajitbanerjee/.local/share/conda/envs/comp47490-m1/lib/python3.8/site-packages/sklearn/neural_network/_multilayer_perceptron.py:692: ConvergenceWarning: Stochastic Optimizer: Maximum iterations (200) reached and the optimization hasn't converged yet.\n",
      "  warnings.warn(\n",
      "/Users/rajitbanerjee/.local/share/conda/envs/comp47490-m1/lib/python3.8/site-packages/sklearn/neural_network/_multilayer_perceptron.py:692: ConvergenceWarning: Stochastic Optimizer: Maximum iterations (200) reached and the optimization hasn't converged yet.\n",
      "  warnings.warn(\n",
      "/Users/rajitbanerjee/.local/share/conda/envs/comp47490-m1/lib/python3.8/site-packages/sklearn/neural_network/_multilayer_perceptron.py:692: ConvergenceWarning: Stochastic Optimizer: Maximum iterations (200) reached and the optimization hasn't converged yet.\n",
      "  warnings.warn(\n",
      "/Users/rajitbanerjee/.local/share/conda/envs/comp47490-m1/lib/python3.8/site-packages/sklearn/neural_network/_multilayer_perceptron.py:692: ConvergenceWarning: Stochastic Optimizer: Maximum iterations (200) reached and the optimization hasn't converged yet.\n",
      "  warnings.warn(\n",
      "/Users/rajitbanerjee/.local/share/conda/envs/comp47490-m1/lib/python3.8/site-packages/sklearn/neural_network/_multilayer_perceptron.py:692: ConvergenceWarning: Stochastic Optimizer: Maximum iterations (200) reached and the optimization hasn't converged yet.\n",
      "  warnings.warn(\n",
      "/Users/rajitbanerjee/.local/share/conda/envs/comp47490-m1/lib/python3.8/site-packages/sklearn/neural_network/_multilayer_perceptron.py:692: ConvergenceWarning: Stochastic Optimizer: Maximum iterations (200) reached and the optimization hasn't converged yet.\n",
      "  warnings.warn(\n",
      "/Users/rajitbanerjee/.local/share/conda/envs/comp47490-m1/lib/python3.8/site-packages/sklearn/neural_network/_multilayer_perceptron.py:692: ConvergenceWarning: Stochastic Optimizer: Maximum iterations (200) reached and the optimization hasn't converged yet.\n",
      "  warnings.warn(\n",
      "/Users/rajitbanerjee/.local/share/conda/envs/comp47490-m1/lib/python3.8/site-packages/sklearn/neural_network/_multilayer_perceptron.py:692: ConvergenceWarning: Stochastic Optimizer: Maximum iterations (200) reached and the optimization hasn't converged yet.\n",
      "  warnings.warn(\n",
      "/Users/rajitbanerjee/.local/share/conda/envs/comp47490-m1/lib/python3.8/site-packages/sklearn/neural_network/_multilayer_perceptron.py:692: ConvergenceWarning: Stochastic Optimizer: Maximum iterations (200) reached and the optimization hasn't converged yet.\n",
      "  warnings.warn(\n",
      "/Users/rajitbanerjee/.local/share/conda/envs/comp47490-m1/lib/python3.8/site-packages/sklearn/neural_network/_multilayer_perceptron.py:692: ConvergenceWarning: Stochastic Optimizer: Maximum iterations (200) reached and the optimization hasn't converged yet.\n",
      "  warnings.warn(\n",
      "/Users/rajitbanerjee/.local/share/conda/envs/comp47490-m1/lib/python3.8/site-packages/sklearn/neural_network/_multilayer_perceptron.py:692: ConvergenceWarning: Stochastic Optimizer: Maximum iterations (200) reached and the optimization hasn't converged yet.\n",
      "  warnings.warn(\n",
      "/Users/rajitbanerjee/.local/share/conda/envs/comp47490-m1/lib/python3.8/site-packages/sklearn/neural_network/_multilayer_perceptron.py:692: ConvergenceWarning: Stochastic Optimizer: Maximum iterations (200) reached and the optimization hasn't converged yet.\n",
      "  warnings.warn(\n",
      "/Users/rajitbanerjee/.local/share/conda/envs/comp47490-m1/lib/python3.8/site-packages/sklearn/neural_network/_multilayer_perceptron.py:692: ConvergenceWarning: Stochastic Optimizer: Maximum iterations (200) reached and the optimization hasn't converged yet.\n",
      "  warnings.warn(\n",
      "/Users/rajitbanerjee/.local/share/conda/envs/comp47490-m1/lib/python3.8/site-packages/sklearn/neural_network/_multilayer_perceptron.py:692: ConvergenceWarning: Stochastic Optimizer: Maximum iterations (200) reached and the optimization hasn't converged yet.\n",
      "  warnings.warn(\n",
      "/Users/rajitbanerjee/.local/share/conda/envs/comp47490-m1/lib/python3.8/site-packages/sklearn/neural_network/_multilayer_perceptron.py:692: ConvergenceWarning: Stochastic Optimizer: Maximum iterations (200) reached and the optimization hasn't converged yet.\n",
      "  warnings.warn(\n",
      "/Users/rajitbanerjee/.local/share/conda/envs/comp47490-m1/lib/python3.8/site-packages/sklearn/neural_network/_multilayer_perceptron.py:692: ConvergenceWarning: Stochastic Optimizer: Maximum iterations (200) reached and the optimization hasn't converged yet.\n",
      "  warnings.warn(\n",
      "/Users/rajitbanerjee/.local/share/conda/envs/comp47490-m1/lib/python3.8/site-packages/sklearn/neural_network/_multilayer_perceptron.py:692: ConvergenceWarning: Stochastic Optimizer: Maximum iterations (200) reached and the optimization hasn't converged yet.\n",
      "  warnings.warn(\n",
      "/Users/rajitbanerjee/.local/share/conda/envs/comp47490-m1/lib/python3.8/site-packages/sklearn/neural_network/_multilayer_perceptron.py:692: ConvergenceWarning: Stochastic Optimizer: Maximum iterations (200) reached and the optimization hasn't converged yet.\n",
      "  warnings.warn(\n",
      "/Users/rajitbanerjee/.local/share/conda/envs/comp47490-m1/lib/python3.8/site-packages/sklearn/neural_network/_multilayer_perceptron.py:692: ConvergenceWarning: Stochastic Optimizer: Maximum iterations (200) reached and the optimization hasn't converged yet.\n",
      "  warnings.warn(\n",
      "/Users/rajitbanerjee/.local/share/conda/envs/comp47490-m1/lib/python3.8/site-packages/sklearn/neural_network/_multilayer_perceptron.py:692: ConvergenceWarning: Stochastic Optimizer: Maximum iterations (200) reached and the optimization hasn't converged yet.\n",
      "  warnings.warn(\n",
      "/Users/rajitbanerjee/.local/share/conda/envs/comp47490-m1/lib/python3.8/site-packages/sklearn/neural_network/_multilayer_perceptron.py:692: ConvergenceWarning: Stochastic Optimizer: Maximum iterations (200) reached and the optimization hasn't converged yet.\n",
      "  warnings.warn(\n",
      "/Users/rajitbanerjee/.local/share/conda/envs/comp47490-m1/lib/python3.8/site-packages/sklearn/neural_network/_multilayer_perceptron.py:692: ConvergenceWarning: Stochastic Optimizer: Maximum iterations (200) reached and the optimization hasn't converged yet.\n",
      "  warnings.warn(\n",
      "/Users/rajitbanerjee/.local/share/conda/envs/comp47490-m1/lib/python3.8/site-packages/sklearn/neural_network/_multilayer_perceptron.py:692: ConvergenceWarning: Stochastic Optimizer: Maximum iterations (200) reached and the optimization hasn't converged yet.\n",
      "  warnings.warn(\n"
     ]
    },
    {
     "name": "stderr",
     "output_type": "stream",
     "text": [
      "/Users/rajitbanerjee/.local/share/conda/envs/comp47490-m1/lib/python3.8/site-packages/sklearn/neural_network/_multilayer_perceptron.py:692: ConvergenceWarning: Stochastic Optimizer: Maximum iterations (200) reached and the optimization hasn't converged yet.\n",
      "  warnings.warn(\n",
      "/Users/rajitbanerjee/.local/share/conda/envs/comp47490-m1/lib/python3.8/site-packages/sklearn/neural_network/_multilayer_perceptron.py:692: ConvergenceWarning: Stochastic Optimizer: Maximum iterations (200) reached and the optimization hasn't converged yet.\n",
      "  warnings.warn(\n",
      "/Users/rajitbanerjee/.local/share/conda/envs/comp47490-m1/lib/python3.8/site-packages/sklearn/neural_network/_multilayer_perceptron.py:692: ConvergenceWarning: Stochastic Optimizer: Maximum iterations (200) reached and the optimization hasn't converged yet.\n",
      "  warnings.warn(\n",
      "/Users/rajitbanerjee/.local/share/conda/envs/comp47490-m1/lib/python3.8/site-packages/sklearn/neural_network/_multilayer_perceptron.py:692: ConvergenceWarning: Stochastic Optimizer: Maximum iterations (200) reached and the optimization hasn't converged yet.\n",
      "  warnings.warn(\n",
      "/Users/rajitbanerjee/.local/share/conda/envs/comp47490-m1/lib/python3.8/site-packages/sklearn/neural_network/_multilayer_perceptron.py:692: ConvergenceWarning: Stochastic Optimizer: Maximum iterations (200) reached and the optimization hasn't converged yet.\n",
      "  warnings.warn(\n",
      "/Users/rajitbanerjee/.local/share/conda/envs/comp47490-m1/lib/python3.8/site-packages/sklearn/neural_network/_multilayer_perceptron.py:692: ConvergenceWarning: Stochastic Optimizer: Maximum iterations (200) reached and the optimization hasn't converged yet.\n",
      "  warnings.warn(\n",
      "/Users/rajitbanerjee/.local/share/conda/envs/comp47490-m1/lib/python3.8/site-packages/sklearn/neural_network/_multilayer_perceptron.py:692: ConvergenceWarning: Stochastic Optimizer: Maximum iterations (200) reached and the optimization hasn't converged yet.\n",
      "  warnings.warn(\n",
      "/Users/rajitbanerjee/.local/share/conda/envs/comp47490-m1/lib/python3.8/site-packages/sklearn/neural_network/_multilayer_perceptron.py:692: ConvergenceWarning: Stochastic Optimizer: Maximum iterations (200) reached and the optimization hasn't converged yet.\n",
      "  warnings.warn(\n",
      "/Users/rajitbanerjee/.local/share/conda/envs/comp47490-m1/lib/python3.8/site-packages/sklearn/neural_network/_multilayer_perceptron.py:692: ConvergenceWarning: Stochastic Optimizer: Maximum iterations (200) reached and the optimization hasn't converged yet.\n",
      "  warnings.warn(\n",
      "/Users/rajitbanerjee/.local/share/conda/envs/comp47490-m1/lib/python3.8/site-packages/sklearn/neural_network/_multilayer_perceptron.py:692: ConvergenceWarning: Stochastic Optimizer: Maximum iterations (200) reached and the optimization hasn't converged yet.\n",
      "  warnings.warn(\n",
      "/Users/rajitbanerjee/.local/share/conda/envs/comp47490-m1/lib/python3.8/site-packages/sklearn/neural_network/_multilayer_perceptron.py:692: ConvergenceWarning: Stochastic Optimizer: Maximum iterations (200) reached and the optimization hasn't converged yet.\n",
      "  warnings.warn(\n",
      "/Users/rajitbanerjee/.local/share/conda/envs/comp47490-m1/lib/python3.8/site-packages/sklearn/neural_network/_multilayer_perceptron.py:692: ConvergenceWarning: Stochastic Optimizer: Maximum iterations (200) reached and the optimization hasn't converged yet.\n",
      "  warnings.warn(\n",
      "/Users/rajitbanerjee/.local/share/conda/envs/comp47490-m1/lib/python3.8/site-packages/sklearn/neural_network/_multilayer_perceptron.py:692: ConvergenceWarning: Stochastic Optimizer: Maximum iterations (200) reached and the optimization hasn't converged yet.\n",
      "  warnings.warn(\n",
      "/Users/rajitbanerjee/.local/share/conda/envs/comp47490-m1/lib/python3.8/site-packages/sklearn/neural_network/_multilayer_perceptron.py:692: ConvergenceWarning: Stochastic Optimizer: Maximum iterations (200) reached and the optimization hasn't converged yet.\n",
      "  warnings.warn(\n",
      "/Users/rajitbanerjee/.local/share/conda/envs/comp47490-m1/lib/python3.8/site-packages/sklearn/neural_network/_multilayer_perceptron.py:692: ConvergenceWarning: Stochastic Optimizer: Maximum iterations (200) reached and the optimization hasn't converged yet.\n",
      "  warnings.warn(\n",
      "/Users/rajitbanerjee/.local/share/conda/envs/comp47490-m1/lib/python3.8/site-packages/sklearn/neural_network/_multilayer_perceptron.py:692: ConvergenceWarning: Stochastic Optimizer: Maximum iterations (200) reached and the optimization hasn't converged yet.\n",
      "  warnings.warn(\n",
      "/Users/rajitbanerjee/.local/share/conda/envs/comp47490-m1/lib/python3.8/site-packages/sklearn/neural_network/_multilayer_perceptron.py:692: ConvergenceWarning: Stochastic Optimizer: Maximum iterations (200) reached and the optimization hasn't converged yet.\n",
      "  warnings.warn(\n",
      "/Users/rajitbanerjee/.local/share/conda/envs/comp47490-m1/lib/python3.8/site-packages/sklearn/neural_network/_multilayer_perceptron.py:692: ConvergenceWarning: Stochastic Optimizer: Maximum iterations (200) reached and the optimization hasn't converged yet.\n",
      "  warnings.warn(\n",
      "/Users/rajitbanerjee/.local/share/conda/envs/comp47490-m1/lib/python3.8/site-packages/sklearn/neural_network/_multilayer_perceptron.py:692: ConvergenceWarning: Stochastic Optimizer: Maximum iterations (200) reached and the optimization hasn't converged yet.\n",
      "  warnings.warn(\n",
      "/Users/rajitbanerjee/.local/share/conda/envs/comp47490-m1/lib/python3.8/site-packages/sklearn/neural_network/_multilayer_perceptron.py:692: ConvergenceWarning: Stochastic Optimizer: Maximum iterations (200) reached and the optimization hasn't converged yet.\n",
      "  warnings.warn(\n",
      "/Users/rajitbanerjee/.local/share/conda/envs/comp47490-m1/lib/python3.8/site-packages/sklearn/neural_network/_multilayer_perceptron.py:692: ConvergenceWarning: Stochastic Optimizer: Maximum iterations (200) reached and the optimization hasn't converged yet.\n",
      "  warnings.warn(\n",
      "/Users/rajitbanerjee/.local/share/conda/envs/comp47490-m1/lib/python3.8/site-packages/sklearn/neural_network/_multilayer_perceptron.py:692: ConvergenceWarning: Stochastic Optimizer: Maximum iterations (200) reached and the optimization hasn't converged yet.\n",
      "  warnings.warn(\n",
      "/Users/rajitbanerjee/.local/share/conda/envs/comp47490-m1/lib/python3.8/site-packages/sklearn/neural_network/_multilayer_perceptron.py:692: ConvergenceWarning: Stochastic Optimizer: Maximum iterations (200) reached and the optimization hasn't converged yet.\n",
      "  warnings.warn(\n",
      "/Users/rajitbanerjee/.local/share/conda/envs/comp47490-m1/lib/python3.8/site-packages/sklearn/neural_network/_multilayer_perceptron.py:692: ConvergenceWarning: Stochastic Optimizer: Maximum iterations (200) reached and the optimization hasn't converged yet.\n",
      "  warnings.warn(\n",
      "/Users/rajitbanerjee/.local/share/conda/envs/comp47490-m1/lib/python3.8/site-packages/sklearn/neural_network/_multilayer_perceptron.py:692: ConvergenceWarning: Stochastic Optimizer: Maximum iterations (200) reached and the optimization hasn't converged yet.\n",
      "  warnings.warn(\n",
      "/Users/rajitbanerjee/.local/share/conda/envs/comp47490-m1/lib/python3.8/site-packages/sklearn/neural_network/_multilayer_perceptron.py:692: ConvergenceWarning: Stochastic Optimizer: Maximum iterations (200) reached and the optimization hasn't converged yet.\n",
      "  warnings.warn(\n",
      "/Users/rajitbanerjee/.local/share/conda/envs/comp47490-m1/lib/python3.8/site-packages/sklearn/neural_network/_multilayer_perceptron.py:692: ConvergenceWarning: Stochastic Optimizer: Maximum iterations (200) reached and the optimization hasn't converged yet.\n",
      "  warnings.warn(\n",
      "/Users/rajitbanerjee/.local/share/conda/envs/comp47490-m1/lib/python3.8/site-packages/sklearn/neural_network/_multilayer_perceptron.py:692: ConvergenceWarning: Stochastic Optimizer: Maximum iterations (200) reached and the optimization hasn't converged yet.\n",
      "  warnings.warn(\n",
      "/Users/rajitbanerjee/.local/share/conda/envs/comp47490-m1/lib/python3.8/site-packages/sklearn/neural_network/_multilayer_perceptron.py:692: ConvergenceWarning: Stochastic Optimizer: Maximum iterations (200) reached and the optimization hasn't converged yet.\n",
      "  warnings.warn(\n",
      "/Users/rajitbanerjee/.local/share/conda/envs/comp47490-m1/lib/python3.8/site-packages/sklearn/neural_network/_multilayer_perceptron.py:692: ConvergenceWarning: Stochastic Optimizer: Maximum iterations (200) reached and the optimization hasn't converged yet.\n",
      "  warnings.warn(\n"
     ]
    },
    {
     "name": "stderr",
     "output_type": "stream",
     "text": [
      "/Users/rajitbanerjee/.local/share/conda/envs/comp47490-m1/lib/python3.8/site-packages/sklearn/neural_network/_multilayer_perceptron.py:692: ConvergenceWarning: Stochastic Optimizer: Maximum iterations (200) reached and the optimization hasn't converged yet.\n",
      "  warnings.warn(\n",
      "/Users/rajitbanerjee/.local/share/conda/envs/comp47490-m1/lib/python3.8/site-packages/sklearn/neural_network/_multilayer_perceptron.py:692: ConvergenceWarning: Stochastic Optimizer: Maximum iterations (200) reached and the optimization hasn't converged yet.\n",
      "  warnings.warn(\n",
      "/Users/rajitbanerjee/.local/share/conda/envs/comp47490-m1/lib/python3.8/site-packages/sklearn/neural_network/_multilayer_perceptron.py:692: ConvergenceWarning: Stochastic Optimizer: Maximum iterations (200) reached and the optimization hasn't converged yet.\n",
      "  warnings.warn(\n",
      "/Users/rajitbanerjee/.local/share/conda/envs/comp47490-m1/lib/python3.8/site-packages/sklearn/neural_network/_multilayer_perceptron.py:692: ConvergenceWarning: Stochastic Optimizer: Maximum iterations (200) reached and the optimization hasn't converged yet.\n",
      "  warnings.warn(\n",
      "/Users/rajitbanerjee/.local/share/conda/envs/comp47490-m1/lib/python3.8/site-packages/sklearn/neural_network/_multilayer_perceptron.py:692: ConvergenceWarning: Stochastic Optimizer: Maximum iterations (200) reached and the optimization hasn't converged yet.\n",
      "  warnings.warn(\n",
      "/Users/rajitbanerjee/.local/share/conda/envs/comp47490-m1/lib/python3.8/site-packages/sklearn/neural_network/_multilayer_perceptron.py:692: ConvergenceWarning: Stochastic Optimizer: Maximum iterations (200) reached and the optimization hasn't converged yet.\n",
      "  warnings.warn(\n",
      "/Users/rajitbanerjee/.local/share/conda/envs/comp47490-m1/lib/python3.8/site-packages/sklearn/neural_network/_multilayer_perceptron.py:692: ConvergenceWarning: Stochastic Optimizer: Maximum iterations (200) reached and the optimization hasn't converged yet.\n",
      "  warnings.warn(\n",
      "/Users/rajitbanerjee/.local/share/conda/envs/comp47490-m1/lib/python3.8/site-packages/sklearn/neural_network/_multilayer_perceptron.py:692: ConvergenceWarning: Stochastic Optimizer: Maximum iterations (200) reached and the optimization hasn't converged yet.\n",
      "  warnings.warn(\n",
      "/Users/rajitbanerjee/.local/share/conda/envs/comp47490-m1/lib/python3.8/site-packages/sklearn/neural_network/_multilayer_perceptron.py:692: ConvergenceWarning: Stochastic Optimizer: Maximum iterations (200) reached and the optimization hasn't converged yet.\n",
      "  warnings.warn(\n",
      "/Users/rajitbanerjee/.local/share/conda/envs/comp47490-m1/lib/python3.8/site-packages/sklearn/neural_network/_multilayer_perceptron.py:692: ConvergenceWarning: Stochastic Optimizer: Maximum iterations (200) reached and the optimization hasn't converged yet.\n",
      "  warnings.warn(\n"
     ]
    },
    {
     "name": "stdout",
     "output_type": "stream",
     "text": [
      "\n",
      "Best: BaggingClassifier(base_estimator=MLPClassifier(hidden_layer_sizes=(10,),\n",
      "                                               random_state=0),\n",
      "                  max_features=0.5, n_estimators=8, n_jobs=-1, random_state=0)\n",
      "Average accuracy: 0.806\n",
      "\n",
      "CPU times: user 219 ms, sys: 94 ms, total: 313 ms\n",
      "Wall time: 1min 53s\n"
     ]
    },
    {
     "name": "stderr",
     "output_type": "stream",
     "text": [
      "/Users/rajitbanerjee/.local/share/conda/envs/comp47490-m1/lib/python3.8/site-packages/sklearn/neural_network/_multilayer_perceptron.py:692: ConvergenceWarning: Stochastic Optimizer: Maximum iterations (200) reached and the optimization hasn't converged yet.\n",
      "  warnings.warn(\n",
      "/Users/rajitbanerjee/.local/share/conda/envs/comp47490-m1/lib/python3.8/site-packages/sklearn/neural_network/_multilayer_perceptron.py:692: ConvergenceWarning: Stochastic Optimizer: Maximum iterations (200) reached and the optimization hasn't converged yet.\n",
      "  warnings.warn(\n",
      "/Users/rajitbanerjee/.local/share/conda/envs/comp47490-m1/lib/python3.8/site-packages/sklearn/neural_network/_multilayer_perceptron.py:692: ConvergenceWarning: Stochastic Optimizer: Maximum iterations (200) reached and the optimization hasn't converged yet.\n",
      "  warnings.warn(\n",
      "/Users/rajitbanerjee/.local/share/conda/envs/comp47490-m1/lib/python3.8/site-packages/sklearn/neural_network/_multilayer_perceptron.py:692: ConvergenceWarning: Stochastic Optimizer: Maximum iterations (200) reached and the optimization hasn't converged yet.\n",
      "  warnings.warn(\n"
     ]
    }
   ],
   "source": [
    "%%time\n",
    "mlp_ss = BaggingClassifier(mlp_best, max_features=0.5, random_state=0, n_jobs=-1)\n",
    "mlp_ss = grid_search(mlp_ss, { \"n_estimators\": ensemble_size })"
   ]
  },
  {
   "cell_type": "code",
   "execution_count": 69,
   "id": "ccc7f5bc",
   "metadata": {
    "scrolled": false
   },
   "outputs": [
    {
     "name": "stdout",
     "output_type": "stream",
     "text": [
      "Fitting 5 folds for each of 4 candidates, totalling 20 fits\n"
     ]
    },
    {
     "name": "stderr",
     "output_type": "stream",
     "text": [
      "/Users/rajitbanerjee/.local/share/conda/envs/comp47490-m1/lib/python3.8/site-packages/sklearn/neural_network/_multilayer_perceptron.py:692: ConvergenceWarning: Stochastic Optimizer: Maximum iterations (200) reached and the optimization hasn't converged yet.\n",
      "  warnings.warn(\n",
      "/Users/rajitbanerjee/.local/share/conda/envs/comp47490-m1/lib/python3.8/site-packages/sklearn/neural_network/_multilayer_perceptron.py:692: ConvergenceWarning: Stochastic Optimizer: Maximum iterations (200) reached and the optimization hasn't converged yet.\n",
      "  warnings.warn(\n",
      "/Users/rajitbanerjee/.local/share/conda/envs/comp47490-m1/lib/python3.8/site-packages/sklearn/neural_network/_multilayer_perceptron.py:692: ConvergenceWarning: Stochastic Optimizer: Maximum iterations (200) reached and the optimization hasn't converged yet.\n",
      "  warnings.warn(\n",
      "/Users/rajitbanerjee/.local/share/conda/envs/comp47490-m1/lib/python3.8/site-packages/sklearn/neural_network/_multilayer_perceptron.py:692: ConvergenceWarning: Stochastic Optimizer: Maximum iterations (200) reached and the optimization hasn't converged yet.\n",
      "  warnings.warn(\n",
      "/Users/rajitbanerjee/.local/share/conda/envs/comp47490-m1/lib/python3.8/site-packages/sklearn/neural_network/_multilayer_perceptron.py:692: ConvergenceWarning: Stochastic Optimizer: Maximum iterations (200) reached and the optimization hasn't converged yet.\n",
      "  warnings.warn(\n",
      "/Users/rajitbanerjee/.local/share/conda/envs/comp47490-m1/lib/python3.8/site-packages/sklearn/neural_network/_multilayer_perceptron.py:692: ConvergenceWarning: Stochastic Optimizer: Maximum iterations (200) reached and the optimization hasn't converged yet.\n",
      "  warnings.warn(\n",
      "/Users/rajitbanerjee/.local/share/conda/envs/comp47490-m1/lib/python3.8/site-packages/sklearn/neural_network/_multilayer_perceptron.py:692: ConvergenceWarning: Stochastic Optimizer: Maximum iterations (200) reached and the optimization hasn't converged yet.\n",
      "  warnings.warn(\n",
      "/Users/rajitbanerjee/.local/share/conda/envs/comp47490-m1/lib/python3.8/site-packages/sklearn/neural_network/_multilayer_perceptron.py:692: ConvergenceWarning: Stochastic Optimizer: Maximum iterations (200) reached and the optimization hasn't converged yet.\n",
      "  warnings.warn(\n",
      "/Users/rajitbanerjee/.local/share/conda/envs/comp47490-m1/lib/python3.8/site-packages/sklearn/neural_network/_multilayer_perceptron.py:692: ConvergenceWarning: Stochastic Optimizer: Maximum iterations (200) reached and the optimization hasn't converged yet.\n",
      "  warnings.warn(\n",
      "/Users/rajitbanerjee/.local/share/conda/envs/comp47490-m1/lib/python3.8/site-packages/sklearn/neural_network/_multilayer_perceptron.py:692: ConvergenceWarning: Stochastic Optimizer: Maximum iterations (200) reached and the optimization hasn't converged yet.\n",
      "  warnings.warn(\n",
      "/Users/rajitbanerjee/.local/share/conda/envs/comp47490-m1/lib/python3.8/site-packages/sklearn/neural_network/_multilayer_perceptron.py:692: ConvergenceWarning: Stochastic Optimizer: Maximum iterations (200) reached and the optimization hasn't converged yet.\n",
      "  warnings.warn(\n",
      "/Users/rajitbanerjee/.local/share/conda/envs/comp47490-m1/lib/python3.8/site-packages/sklearn/neural_network/_multilayer_perceptron.py:692: ConvergenceWarning: Stochastic Optimizer: Maximum iterations (200) reached and the optimization hasn't converged yet.\n",
      "  warnings.warn(\n",
      "/Users/rajitbanerjee/.local/share/conda/envs/comp47490-m1/lib/python3.8/site-packages/sklearn/neural_network/_multilayer_perceptron.py:692: ConvergenceWarning: Stochastic Optimizer: Maximum iterations (200) reached and the optimization hasn't converged yet.\n",
      "  warnings.warn(\n",
      "/Users/rajitbanerjee/.local/share/conda/envs/comp47490-m1/lib/python3.8/site-packages/sklearn/neural_network/_multilayer_perceptron.py:692: ConvergenceWarning: Stochastic Optimizer: Maximum iterations (200) reached and the optimization hasn't converged yet.\n",
      "  warnings.warn(\n",
      "/Users/rajitbanerjee/.local/share/conda/envs/comp47490-m1/lib/python3.8/site-packages/sklearn/neural_network/_multilayer_perceptron.py:692: ConvergenceWarning: Stochastic Optimizer: Maximum iterations (200) reached and the optimization hasn't converged yet.\n",
      "  warnings.warn(\n",
      "/Users/rajitbanerjee/.local/share/conda/envs/comp47490-m1/lib/python3.8/site-packages/sklearn/neural_network/_multilayer_perceptron.py:692: ConvergenceWarning: Stochastic Optimizer: Maximum iterations (200) reached and the optimization hasn't converged yet.\n",
      "  warnings.warn(\n",
      "/Users/rajitbanerjee/.local/share/conda/envs/comp47490-m1/lib/python3.8/site-packages/sklearn/neural_network/_multilayer_perceptron.py:692: ConvergenceWarning: Stochastic Optimizer: Maximum iterations (200) reached and the optimization hasn't converged yet.\n",
      "  warnings.warn(\n",
      "/Users/rajitbanerjee/.local/share/conda/envs/comp47490-m1/lib/python3.8/site-packages/sklearn/neural_network/_multilayer_perceptron.py:692: ConvergenceWarning: Stochastic Optimizer: Maximum iterations (200) reached and the optimization hasn't converged yet.\n",
      "  warnings.warn(\n",
      "/Users/rajitbanerjee/.local/share/conda/envs/comp47490-m1/lib/python3.8/site-packages/sklearn/neural_network/_multilayer_perceptron.py:692: ConvergenceWarning: Stochastic Optimizer: Maximum iterations (200) reached and the optimization hasn't converged yet.\n",
      "  warnings.warn(\n",
      "/Users/rajitbanerjee/.local/share/conda/envs/comp47490-m1/lib/python3.8/site-packages/sklearn/neural_network/_multilayer_perceptron.py:692: ConvergenceWarning: Stochastic Optimizer: Maximum iterations (200) reached and the optimization hasn't converged yet.\n",
      "  warnings.warn(\n",
      "/Users/rajitbanerjee/.local/share/conda/envs/comp47490-m1/lib/python3.8/site-packages/sklearn/neural_network/_multilayer_perceptron.py:692: ConvergenceWarning: Stochastic Optimizer: Maximum iterations (200) reached and the optimization hasn't converged yet.\n",
      "  warnings.warn(\n",
      "/Users/rajitbanerjee/.local/share/conda/envs/comp47490-m1/lib/python3.8/site-packages/sklearn/neural_network/_multilayer_perceptron.py:692: ConvergenceWarning: Stochastic Optimizer: Maximum iterations (200) reached and the optimization hasn't converged yet.\n",
      "  warnings.warn(\n",
      "/Users/rajitbanerjee/.local/share/conda/envs/comp47490-m1/lib/python3.8/site-packages/sklearn/neural_network/_multilayer_perceptron.py:692: ConvergenceWarning: Stochastic Optimizer: Maximum iterations (200) reached and the optimization hasn't converged yet.\n",
      "  warnings.warn(\n",
      "/Users/rajitbanerjee/.local/share/conda/envs/comp47490-m1/lib/python3.8/site-packages/sklearn/neural_network/_multilayer_perceptron.py:692: ConvergenceWarning: Stochastic Optimizer: Maximum iterations (200) reached and the optimization hasn't converged yet.\n",
      "  warnings.warn(\n",
      "/Users/rajitbanerjee/.local/share/conda/envs/comp47490-m1/lib/python3.8/site-packages/sklearn/neural_network/_multilayer_perceptron.py:692: ConvergenceWarning: Stochastic Optimizer: Maximum iterations (200) reached and the optimization hasn't converged yet.\n",
      "  warnings.warn(\n",
      "/Users/rajitbanerjee/.local/share/conda/envs/comp47490-m1/lib/python3.8/site-packages/sklearn/neural_network/_multilayer_perceptron.py:692: ConvergenceWarning: Stochastic Optimizer: Maximum iterations (200) reached and the optimization hasn't converged yet.\n",
      "  warnings.warn(\n",
      "/Users/rajitbanerjee/.local/share/conda/envs/comp47490-m1/lib/python3.8/site-packages/sklearn/neural_network/_multilayer_perceptron.py:692: ConvergenceWarning: Stochastic Optimizer: Maximum iterations (200) reached and the optimization hasn't converged yet.\n",
      "  warnings.warn(\n"
     ]
    },
    {
     "name": "stdout",
     "output_type": "stream",
     "text": [
      "\n",
      "Best: BaggingClassifier(base_estimator=MLPClassifier(hidden_layer_sizes=(10,),\n",
      "                                               random_state=0),\n",
      "                  n_estimators=8, n_jobs=-1, random_state=0)\n",
      "Average accuracy: 0.831\n",
      "\n",
      "CPU times: user 63.4 ms, sys: 19.3 ms, total: 82.7 ms\n",
      "Wall time: 37.5 s\n"
     ]
    }
   ],
   "source": [
    "%%time\n",
    "mlp_ss_best = grid_search(mlp_ss, { \"max_features\": perc_features })"
   ]
  },
  {
   "cell_type": "markdown",
   "id": "914e5038",
   "metadata": {},
   "source": [
    "#### iii. K-Nearest Neighbours"
   ]
  },
  {
   "cell_type": "code",
   "execution_count": 70,
   "id": "88a99887",
   "metadata": {},
   "outputs": [
    {
     "name": "stdout",
     "output_type": "stream",
     "text": [
      "Fitting 5 folds for each of 10 candidates, totalling 50 fits\n",
      "\n",
      "Best: BaggingClassifier(base_estimator=KNeighborsClassifier(leaf_size=1,\n",
      "                                                      metric='manhattan',\n",
      "                                                      n_jobs=-1,\n",
      "                                                      n_neighbors=1),\n",
      "                  max_features=0.5, n_estimators=20, n_jobs=-1, random_state=0)\n",
      "Average accuracy: 0.816\n",
      "\n",
      "CPU times: user 107 ms, sys: 116 ms, total: 223 ms\n",
      "Wall time: 18 s\n"
     ]
    }
   ],
   "source": [
    "%%time\n",
    "knn_ss = BaggingClassifier(knn_best, max_features=0.5, random_state=0, n_jobs=-1)\n",
    "knn_ss = grid_search(knn_ss, { \"n_estimators\": ensemble_size })"
   ]
  },
  {
   "cell_type": "code",
   "execution_count": 71,
   "id": "a84675d9",
   "metadata": {},
   "outputs": [
    {
     "name": "stdout",
     "output_type": "stream",
     "text": [
      "Fitting 5 folds for each of 4 candidates, totalling 20 fits\n",
      "\n",
      "Best: BaggingClassifier(base_estimator=KNeighborsClassifier(leaf_size=1,\n",
      "                                                      metric='manhattan',\n",
      "                                                      n_jobs=-1,\n",
      "                                                      n_neighbors=1),\n",
      "                  max_features=0.75, n_estimators=20, n_jobs=-1,\n",
      "                  random_state=0)\n",
      "Average accuracy: 0.841\n",
      "\n",
      "CPU times: user 56.2 ms, sys: 59.9 ms, total: 116 ms\n",
      "Wall time: 10.7 s\n"
     ]
    }
   ],
   "source": [
    "%%time\n",
    "knn_ss_best = grid_search(knn_ss, { \"max_features\": perc_features })"
   ]
  },
  {
   "cell_type": "markdown",
   "id": "712e8520",
   "metadata": {},
   "source": [
    "### 2. Evaluation\n",
    "\n",
    "Hyperparameter optimisation for random subspacing ensembles yields the 3 best classifiers below."
   ]
  },
  {
   "cell_type": "code",
   "execution_count": 72,
   "id": "2f19151a",
   "metadata": {},
   "outputs": [
    {
     "data": {
      "text/plain": [
       "[BaggingClassifier(base_estimator=DecisionTreeClassifier(max_depth=3,\n",
       "                                                         random_state=0),\n",
       "                   max_features=0.5, n_estimators=6, n_jobs=-1, random_state=0),\n",
       " BaggingClassifier(base_estimator=MLPClassifier(hidden_layer_sizes=(10,),\n",
       "                                                random_state=0),\n",
       "                   n_estimators=8, n_jobs=-1, random_state=0),\n",
       " BaggingClassifier(base_estimator=KNeighborsClassifier(leaf_size=1,\n",
       "                                                       metric='manhattan',\n",
       "                                                       n_jobs=-1,\n",
       "                                                       n_neighbors=1),\n",
       "                   max_features=0.75, n_estimators=20, n_jobs=-1,\n",
       "                   random_state=0)]"
      ]
     },
     "execution_count": 72,
     "metadata": {},
     "output_type": "execute_result"
    }
   ],
   "source": [
    "best_ss = [dt_ss_best, mlp_ss_best, knn_ss_best]\n",
    "best_ss"
   ]
  },
  {
   "cell_type": "markdown",
   "id": "d2d9af8a",
   "metadata": {},
   "source": [
    "Plotting confusion matrices using the test dataset and scoring the classifiers using cross-validation are familiar evaluation strategies that we can apply for random subspacing ensembles below."
   ]
  },
  {
   "cell_type": "code",
   "execution_count": 73,
   "id": "f5c68553",
   "metadata": {},
   "outputs": [
    {
     "name": "stderr",
     "output_type": "stream",
     "text": [
      "/Users/rajitbanerjee/.local/share/conda/envs/comp47490-m1/lib/python3.8/site-packages/sklearn/neural_network/_multilayer_perceptron.py:692: ConvergenceWarning: Stochastic Optimizer: Maximum iterations (200) reached and the optimization hasn't converged yet.\n",
      "  warnings.warn(\n",
      "/Users/rajitbanerjee/.local/share/conda/envs/comp47490-m1/lib/python3.8/site-packages/sklearn/neural_network/_multilayer_perceptron.py:692: ConvergenceWarning: Stochastic Optimizer: Maximum iterations (200) reached and the optimization hasn't converged yet.\n",
      "  warnings.warn(\n",
      "/Users/rajitbanerjee/.local/share/conda/envs/comp47490-m1/lib/python3.8/site-packages/sklearn/neural_network/_multilayer_perceptron.py:692: ConvergenceWarning: Stochastic Optimizer: Maximum iterations (200) reached and the optimization hasn't converged yet.\n",
      "  warnings.warn(\n",
      "/Users/rajitbanerjee/.local/share/conda/envs/comp47490-m1/lib/python3.8/site-packages/sklearn/neural_network/_multilayer_perceptron.py:692: ConvergenceWarning: Stochastic Optimizer: Maximum iterations (200) reached and the optimization hasn't converged yet.\n",
      "  warnings.warn(\n",
      "/Users/rajitbanerjee/.local/share/conda/envs/comp47490-m1/lib/python3.8/site-packages/sklearn/neural_network/_multilayer_perceptron.py:692: ConvergenceWarning: Stochastic Optimizer: Maximum iterations (200) reached and the optimization hasn't converged yet.\n",
      "  warnings.warn(\n",
      "/Users/rajitbanerjee/.local/share/conda/envs/comp47490-m1/lib/python3.8/site-packages/sklearn/neural_network/_multilayer_perceptron.py:692: ConvergenceWarning: Stochastic Optimizer: Maximum iterations (200) reached and the optimization hasn't converged yet.\n",
      "  warnings.warn(\n",
      "/Users/rajitbanerjee/.local/share/conda/envs/comp47490-m1/lib/python3.8/site-packages/sklearn/neural_network/_multilayer_perceptron.py:692: ConvergenceWarning: Stochastic Optimizer: Maximum iterations (200) reached and the optimization hasn't converged yet.\n",
      "  warnings.warn(\n",
      "/Users/rajitbanerjee/.local/share/conda/envs/comp47490-m1/lib/python3.8/site-packages/sklearn/neural_network/_multilayer_perceptron.py:692: ConvergenceWarning: Stochastic Optimizer: Maximum iterations (200) reached and the optimization hasn't converged yet.\n",
      "  warnings.warn(\n"
     ]
    },
    {
     "data": {
      "image/png": "[encoded data removed]",
      "text/plain": [
       "<Figure size 1224x360 with 6 Axes>"
      ]
     },
     "metadata": {
      "needs_background": "light"
     },
     "output_type": "display_data"
    }
   ],
   "source": [
    "plot_conf_matrix(best_ss, method=\"Random SS\")"
   ]
  },
  {
   "cell_type": "code",
   "execution_count": 74,
   "id": "d7f3854d",
   "metadata": {
    "scrolled": false
   },
   "outputs": [
    {
     "name": "stderr",
     "output_type": "stream",
     "text": [
      "/Users/rajitbanerjee/.local/share/conda/envs/comp47490-m1/lib/python3.8/site-packages/sklearn/neural_network/_multilayer_perceptron.py:692: ConvergenceWarning: Stochastic Optimizer: Maximum iterations (200) reached and the optimization hasn't converged yet.\n",
      "  warnings.warn(\n",
      "/Users/rajitbanerjee/.local/share/conda/envs/comp47490-m1/lib/python3.8/site-packages/sklearn/neural_network/_multilayer_perceptron.py:692: ConvergenceWarning: Stochastic Optimizer: Maximum iterations (200) reached and the optimization hasn't converged yet.\n",
      "  warnings.warn(\n",
      "/Users/rajitbanerjee/.local/share/conda/envs/comp47490-m1/lib/python3.8/site-packages/sklearn/neural_network/_multilayer_perceptron.py:692: ConvergenceWarning: Stochastic Optimizer: Maximum iterations (200) reached and the optimization hasn't converged yet.\n",
      "  warnings.warn(\n",
      "/Users/rajitbanerjee/.local/share/conda/envs/comp47490-m1/lib/python3.8/site-packages/sklearn/neural_network/_multilayer_perceptron.py:692: ConvergenceWarning: Stochastic Optimizer: Maximum iterations (200) reached and the optimization hasn't converged yet.\n",
      "  warnings.warn(\n",
      "/Users/rajitbanerjee/.local/share/conda/envs/comp47490-m1/lib/python3.8/site-packages/sklearn/neural_network/_multilayer_perceptron.py:692: ConvergenceWarning: Stochastic Optimizer: Maximum iterations (200) reached and the optimization hasn't converged yet.\n",
      "  warnings.warn(\n"
     ]
    },
    {
     "name": "stdout",
     "output_type": "stream",
     "text": [
      "Classifiers in descending order of performance:\n"
     ]
    },
    {
     "data": {
      "text/html": [
       "<div>\n",
       "<style scoped>\n",
       "    .dataframe tbody tr th:only-of-type {\n",
       "        vertical-align: middle;\n",
       "    }\n",
       "\n",
       "    .dataframe tbody tr th {\n",
       "        vertical-align: top;\n",
       "    }\n",
       "\n",
       "    .dataframe thead th {\n",
       "        text-align: right;\n",
       "    }\n",
       "</style>\n",
       "<table border=\"1\" class=\"dataframe\">\n",
       "  <thead>\n",
       "    <tr style=\"text-align: right;\">\n",
       "      <th></th>\n",
       "      <th>Avg. accuracy</th>\n",
       "    </tr>\n",
       "  </thead>\n",
       "  <tbody>\n",
       "    <tr>\n",
       "      <th>Random SS: MLP</th>\n",
       "      <td>0.839 +/- 0.008</td>\n",
       "    </tr>\n",
       "    <tr>\n",
       "      <th>Random SS: KNN</th>\n",
       "      <td>0.818 +/- 0.012</td>\n",
       "    </tr>\n",
       "    <tr>\n",
       "      <th>Random SS: DT</th>\n",
       "      <td>0.814 +/- 0.009</td>\n",
       "    </tr>\n",
       "  </tbody>\n",
       "</table>\n",
       "</div>"
      ],
      "text/plain": [
       "                  Avg. accuracy\n",
       "Random SS: MLP  0.839 +/- 0.008\n",
       "Random SS: KNN  0.818 +/- 0.012\n",
       "Random SS: DT   0.814 +/- 0.009"
      ]
     },
     "execution_count": 74,
     "metadata": {},
     "output_type": "execute_result"
    }
   ],
   "source": [
    "scores_ss = score(best_ss, method=\"Random SS\")\n",
    "scores_ss"
   ]
  },
  {
   "cell_type": "code",
   "execution_count": 75,
   "id": "98e0659c",
   "metadata": {},
   "outputs": [
    {
     "data": {
      "image/png": "[encoded data removed]",
      "text/plain": [
       "<Figure size 576x504 with 1 Axes>"
      ]
     },
     "metadata": {
      "needs_background": "light"
     },
     "output_type": "display_data"
    }
   ],
   "source": [
    "plot_roc_curves(best_ss, method=\"Random SS\")"
   ]
  },
  {
   "cell_type": "markdown",
   "id": "0173206b",
   "metadata": {},
   "source": [
    "The ROC curves above show that the difference in skill between 1-NN and DT/MLP is smaller when using random subspacing, compared to earlier when bagging was applied."
   ]
  },
  {
   "cell_type": "markdown",
   "id": "2b79755c",
   "metadata": {},
   "source": [
    "## 1E: Discussion of Ensemble Methods"
   ]
  },
  {
   "cell_type": "markdown",
   "id": "77c61f89",
   "metadata": {},
   "source": [
    "In general, we expect unstable classifiers (such as decision trees and neural networks) to benefit more from bagging than random subspacing ensembles. The latter is usually shown to improve the performance of stable classifiers like k-NN."
   ]
  },
  {
   "cell_type": "markdown",
   "id": "2bcdd77e",
   "metadata": {},
   "source": [
    "A summary of classifier performance (in terms of average cross-validation accuracy) is presented below."
   ]
  },
  {
   "cell_type": "code",
   "execution_count": 76,
   "id": "ac23c39e",
   "metadata": {},
   "outputs": [
    {
     "data": {
      "text/html": [
       "<div>\n",
       "<style scoped>\n",
       "    .dataframe tbody tr th:only-of-type {\n",
       "        vertical-align: middle;\n",
       "    }\n",
       "\n",
       "    .dataframe tbody tr th {\n",
       "        vertical-align: top;\n",
       "    }\n",
       "\n",
       "    .dataframe thead th {\n",
       "        text-align: right;\n",
       "    }\n",
       "</style>\n",
       "<table border=\"1\" class=\"dataframe\">\n",
       "  <thead>\n",
       "    <tr style=\"text-align: right;\">\n",
       "      <th></th>\n",
       "      <th>Avg. accuracy</th>\n",
       "    </tr>\n",
       "  </thead>\n",
       "  <tbody>\n",
       "    <tr>\n",
       "      <th>Bagging: MLP</th>\n",
       "      <td>0.840 +/- 0.008</td>\n",
       "    </tr>\n",
       "    <tr>\n",
       "      <th>Random SS: MLP</th>\n",
       "      <td>0.839 +/- 0.008</td>\n",
       "    </tr>\n",
       "    <tr>\n",
       "      <th>Basic: MLP</th>\n",
       "      <td>0.839 +/- 0.004</td>\n",
       "    </tr>\n",
       "    <tr>\n",
       "      <th>Bagging: DT</th>\n",
       "      <td>0.823 +/- 0.008</td>\n",
       "    </tr>\n",
       "    <tr>\n",
       "      <th>Random SS: KNN</th>\n",
       "      <td>0.818 +/- 0.012</td>\n",
       "    </tr>\n",
       "    <tr>\n",
       "      <th>Basic: DT</th>\n",
       "      <td>0.818 +/- 0.009</td>\n",
       "    </tr>\n",
       "    <tr>\n",
       "      <th>Random SS: DT</th>\n",
       "      <td>0.814 +/- 0.009</td>\n",
       "    </tr>\n",
       "    <tr>\n",
       "      <th>Bagging: KNN</th>\n",
       "      <td>0.809 +/- 0.011</td>\n",
       "    </tr>\n",
       "    <tr>\n",
       "      <th>Basic: KNN</th>\n",
       "      <td>0.784 +/- 0.022</td>\n",
       "    </tr>\n",
       "  </tbody>\n",
       "</table>\n",
       "</div>"
      ],
      "text/plain": [
       "                  Avg. accuracy\n",
       "Bagging: MLP    0.840 +/- 0.008\n",
       "Random SS: MLP  0.839 +/- 0.008\n",
       "Basic: MLP      0.839 +/- 0.004\n",
       "Bagging: DT     0.823 +/- 0.008\n",
       "Random SS: KNN  0.818 +/- 0.012\n",
       "Basic: DT       0.818 +/- 0.009\n",
       "Random SS: DT   0.814 +/- 0.009\n",
       "Bagging: KNN    0.809 +/- 0.011\n",
       "Basic: KNN      0.784 +/- 0.022"
      ]
     },
     "execution_count": 76,
     "metadata": {},
     "output_type": "execute_result"
    }
   ],
   "source": [
    "scores = pd.concat([scores_basic, scores_bag, scores_ss])\n",
    "scores.sort_values(by=scores.columns[0], ascending=False)"
   ]
  },
  {
   "cell_type": "markdown",
   "id": "bff9bce4",
   "metadata": {},
   "source": [
    "In the given dataset, we see from the table above that:\n",
    "- Neural networks (MLP) have benefited from **bagging**, whereas random subspacing showed no marked changes.\n",
    "- For decision trees (DT), similar to neural networks, **bagging** results in a marked improvement.\n",
    "- K-nearest neighbours (KNN) shows far greater improvement with the **random subspacing** ensemble technique, compared to bagging.\n",
    "\n",
    "The results seen above are more or less in line with expectations mentioned earlier."
   ]
  },
  {
   "cell_type": "markdown",
   "id": "47a86e3b",
   "metadata": {},
   "source": [
    "Diversity and possible improvements:\n",
    "\n",
    "- There is possibly a lack of diversity (a certain level of disagreement between voters) in ensembles above.\n",
    "- There is no definite measure of diversity, but it usually stabilises with an ensemble size of 10-50. \n",
    "- To improve the ensemble performance, we could have considered a greater number of estimators for bagging and random subspacing. Furthermore, boosting ensemble methods such as Random Forest, AdaBoost and Gradient Boosting could also be explored to see if they are better suited for the given dataset. \n",
    "- In the end, it is important to keep the mind the trade-offs between accuracy and ensemble diversity, as well that those between bias and variance when designing ensemble classifiers."
   ]
  },
  {
   "cell_type": "markdown",
   "id": "0874bbe1",
   "metadata": {},
   "source": [
    "## 1F: Ensembles vs. Tuned Base Classifiers\n",
    "\n",
    "It may also be useful to compare our existing ensembles of fairly weak learners with individual tuned classifiers. \n",
    "\n",
    "### 1. Hyperparameter tuning\n",
    "\n",
    "We perform hyperparameter tuning to explore decision trees with maximum depth > 3, neural networks with more than 10 hidden nodes, and k-NN with k > 1 (dropping the weak learner constraints that we defined in the beginning). "
   ]
  },
  {
   "cell_type": "code",
   "execution_count": 77,
   "id": "d0b2d5cf",
   "metadata": {},
   "outputs": [
    {
     "name": "stdout",
     "output_type": "stream",
     "text": [
      "Fitting 5 folds for each of 60 candidates, totalling 300 fits\n",
      "\n",
      "Best: DecisionTreeClassifier(criterion='entropy', max_depth=12, min_samples_leaf=5,\n",
      "                       random_state=0)\n",
      "Average accuracy: 0.802\n",
      "\n",
      "CPU times: user 283 ms, sys: 64.5 ms, total: 348 ms\n",
      "Wall time: 805 ms\n"
     ]
    }
   ],
   "source": [
    "%%time\n",
    "dt_tuned = grid_search(DecisionTreeClassifier(random_state=0), {\n",
    "    \"criterion\": [\"gini\", \"entropy\"],\n",
    "    \"max_depth\": range(2, 13, 2),\n",
    "    \"min_samples_leaf\": [5, 10, 20, 50, 100],\n",
    "})"
   ]
  },
  {
   "cell_type": "code",
   "execution_count": 78,
   "id": "8f921925",
   "metadata": {
    "scrolled": false
   },
   "outputs": [
    {
     "name": "stdout",
     "output_type": "stream",
     "text": [
      "Fitting 5 folds for each of 15 candidates, totalling 75 fits\n"
     ]
    },
    {
     "name": "stderr",
     "output_type": "stream",
     "text": [
      "/Users/rajitbanerjee/.local/share/conda/envs/comp47490-m1/lib/python3.8/site-packages/sklearn/neural_network/_multilayer_perceptron.py:692: ConvergenceWarning: Stochastic Optimizer: Maximum iterations (200) reached and the optimization hasn't converged yet.\n",
      "  warnings.warn(\n",
      "/Users/rajitbanerjee/.local/share/conda/envs/comp47490-m1/lib/python3.8/site-packages/sklearn/neural_network/_multilayer_perceptron.py:692: ConvergenceWarning: Stochastic Optimizer: Maximum iterations (200) reached and the optimization hasn't converged yet.\n",
      "  warnings.warn(\n",
      "/Users/rajitbanerjee/.local/share/conda/envs/comp47490-m1/lib/python3.8/site-packages/sklearn/neural_network/_multilayer_perceptron.py:692: ConvergenceWarning: Stochastic Optimizer: Maximum iterations (200) reached and the optimization hasn't converged yet.\n",
      "  warnings.warn(\n",
      "/Users/rajitbanerjee/.local/share/conda/envs/comp47490-m1/lib/python3.8/site-packages/sklearn/neural_network/_multilayer_perceptron.py:692: ConvergenceWarning: Stochastic Optimizer: Maximum iterations (200) reached and the optimization hasn't converged yet.\n",
      "  warnings.warn(\n",
      "/Users/rajitbanerjee/.local/share/conda/envs/comp47490-m1/lib/python3.8/site-packages/sklearn/neural_network/_multilayer_perceptron.py:692: ConvergenceWarning: Stochastic Optimizer: Maximum iterations (200) reached and the optimization hasn't converged yet.\n",
      "  warnings.warn(\n",
      "/Users/rajitbanerjee/.local/share/conda/envs/comp47490-m1/lib/python3.8/site-packages/sklearn/neural_network/_multilayer_perceptron.py:692: ConvergenceWarning: Stochastic Optimizer: Maximum iterations (200) reached and the optimization hasn't converged yet.\n",
      "  warnings.warn(\n",
      "/Users/rajitbanerjee/.local/share/conda/envs/comp47490-m1/lib/python3.8/site-packages/sklearn/neural_network/_multilayer_perceptron.py:692: ConvergenceWarning: Stochastic Optimizer: Maximum iterations (200) reached and the optimization hasn't converged yet.\n",
      "  warnings.warn(\n",
      "/Users/rajitbanerjee/.local/share/conda/envs/comp47490-m1/lib/python3.8/site-packages/sklearn/neural_network/_multilayer_perceptron.py:692: ConvergenceWarning: Stochastic Optimizer: Maximum iterations (200) reached and the optimization hasn't converged yet.\n",
      "  warnings.warn(\n",
      "/Users/rajitbanerjee/.local/share/conda/envs/comp47490-m1/lib/python3.8/site-packages/sklearn/neural_network/_multilayer_perceptron.py:692: ConvergenceWarning: Stochastic Optimizer: Maximum iterations (200) reached and the optimization hasn't converged yet.\n",
      "  warnings.warn(\n",
      "/Users/rajitbanerjee/.local/share/conda/envs/comp47490-m1/lib/python3.8/site-packages/sklearn/neural_network/_multilayer_perceptron.py:692: ConvergenceWarning: Stochastic Optimizer: Maximum iterations (200) reached and the optimization hasn't converged yet.\n",
      "  warnings.warn(\n",
      "/Users/rajitbanerjee/.local/share/conda/envs/comp47490-m1/lib/python3.8/site-packages/sklearn/neural_network/_multilayer_perceptron.py:692: ConvergenceWarning: Stochastic Optimizer: Maximum iterations (200) reached and the optimization hasn't converged yet.\n",
      "  warnings.warn(\n",
      "/Users/rajitbanerjee/.local/share/conda/envs/comp47490-m1/lib/python3.8/site-packages/sklearn/neural_network/_multilayer_perceptron.py:692: ConvergenceWarning: Stochastic Optimizer: Maximum iterations (200) reached and the optimization hasn't converged yet.\n",
      "  warnings.warn(\n",
      "/Users/rajitbanerjee/.local/share/conda/envs/comp47490-m1/lib/python3.8/site-packages/sklearn/neural_network/_multilayer_perceptron.py:692: ConvergenceWarning: Stochastic Optimizer: Maximum iterations (200) reached and the optimization hasn't converged yet.\n",
      "  warnings.warn(\n",
      "/Users/rajitbanerjee/.local/share/conda/envs/comp47490-m1/lib/python3.8/site-packages/sklearn/neural_network/_multilayer_perceptron.py:692: ConvergenceWarning: Stochastic Optimizer: Maximum iterations (200) reached and the optimization hasn't converged yet.\n",
      "  warnings.warn(\n",
      "/Users/rajitbanerjee/.local/share/conda/envs/comp47490-m1/lib/python3.8/site-packages/sklearn/neural_network/_multilayer_perceptron.py:692: ConvergenceWarning: Stochastic Optimizer: Maximum iterations (200) reached and the optimization hasn't converged yet.\n",
      "  warnings.warn(\n",
      "/Users/rajitbanerjee/.local/share/conda/envs/comp47490-m1/lib/python3.8/site-packages/sklearn/neural_network/_multilayer_perceptron.py:692: ConvergenceWarning: Stochastic Optimizer: Maximum iterations (200) reached and the optimization hasn't converged yet.\n",
      "  warnings.warn(\n",
      "/Users/rajitbanerjee/.local/share/conda/envs/comp47490-m1/lib/python3.8/site-packages/sklearn/neural_network/_multilayer_perceptron.py:692: ConvergenceWarning: Stochastic Optimizer: Maximum iterations (200) reached and the optimization hasn't converged yet.\n",
      "  warnings.warn(\n",
      "/Users/rajitbanerjee/.local/share/conda/envs/comp47490-m1/lib/python3.8/site-packages/sklearn/neural_network/_multilayer_perceptron.py:692: ConvergenceWarning: Stochastic Optimizer: Maximum iterations (200) reached and the optimization hasn't converged yet.\n",
      "  warnings.warn(\n",
      "/Users/rajitbanerjee/.local/share/conda/envs/comp47490-m1/lib/python3.8/site-packages/sklearn/neural_network/_multilayer_perceptron.py:692: ConvergenceWarning: Stochastic Optimizer: Maximum iterations (200) reached and the optimization hasn't converged yet.\n",
      "  warnings.warn(\n",
      "/Users/rajitbanerjee/.local/share/conda/envs/comp47490-m1/lib/python3.8/site-packages/sklearn/neural_network/_multilayer_perceptron.py:692: ConvergenceWarning: Stochastic Optimizer: Maximum iterations (200) reached and the optimization hasn't converged yet.\n",
      "  warnings.warn(\n",
      "/Users/rajitbanerjee/.local/share/conda/envs/comp47490-m1/lib/python3.8/site-packages/sklearn/neural_network/_multilayer_perceptron.py:692: ConvergenceWarning: Stochastic Optimizer: Maximum iterations (200) reached and the optimization hasn't converged yet.\n",
      "  warnings.warn(\n",
      "/Users/rajitbanerjee/.local/share/conda/envs/comp47490-m1/lib/python3.8/site-packages/sklearn/neural_network/_multilayer_perceptron.py:692: ConvergenceWarning: Stochastic Optimizer: Maximum iterations (200) reached and the optimization hasn't converged yet.\n",
      "  warnings.warn(\n",
      "/Users/rajitbanerjee/.local/share/conda/envs/comp47490-m1/lib/python3.8/site-packages/sklearn/neural_network/_multilayer_perceptron.py:692: ConvergenceWarning: Stochastic Optimizer: Maximum iterations (200) reached and the optimization hasn't converged yet.\n",
      "  warnings.warn(\n",
      "/Users/rajitbanerjee/.local/share/conda/envs/comp47490-m1/lib/python3.8/site-packages/sklearn/neural_network/_multilayer_perceptron.py:692: ConvergenceWarning: Stochastic Optimizer: Maximum iterations (200) reached and the optimization hasn't converged yet.\n",
      "  warnings.warn(\n",
      "/Users/rajitbanerjee/.local/share/conda/envs/comp47490-m1/lib/python3.8/site-packages/sklearn/neural_network/_multilayer_perceptron.py:692: ConvergenceWarning: Stochastic Optimizer: Maximum iterations (200) reached and the optimization hasn't converged yet.\n",
      "  warnings.warn(\n",
      "/Users/rajitbanerjee/.local/share/conda/envs/comp47490-m1/lib/python3.8/site-packages/sklearn/neural_network/_multilayer_perceptron.py:692: ConvergenceWarning: Stochastic Optimizer: Maximum iterations (200) reached and the optimization hasn't converged yet.\n",
      "  warnings.warn(\n",
      "/Users/rajitbanerjee/.local/share/conda/envs/comp47490-m1/lib/python3.8/site-packages/sklearn/neural_network/_multilayer_perceptron.py:692: ConvergenceWarning: Stochastic Optimizer: Maximum iterations (200) reached and the optimization hasn't converged yet.\n",
      "  warnings.warn(\n",
      "/Users/rajitbanerjee/.local/share/conda/envs/comp47490-m1/lib/python3.8/site-packages/sklearn/neural_network/_multilayer_perceptron.py:692: ConvergenceWarning: Stochastic Optimizer: Maximum iterations (200) reached and the optimization hasn't converged yet.\n",
      "  warnings.warn(\n",
      "/Users/rajitbanerjee/.local/share/conda/envs/comp47490-m1/lib/python3.8/site-packages/sklearn/neural_network/_multilayer_perceptron.py:692: ConvergenceWarning: Stochastic Optimizer: Maximum iterations (200) reached and the optimization hasn't converged yet.\n",
      "  warnings.warn(\n",
      "/Users/rajitbanerjee/.local/share/conda/envs/comp47490-m1/lib/python3.8/site-packages/sklearn/neural_network/_multilayer_perceptron.py:692: ConvergenceWarning: Stochastic Optimizer: Maximum iterations (200) reached and the optimization hasn't converged yet.\n",
      "  warnings.warn(\n",
      "/Users/rajitbanerjee/.local/share/conda/envs/comp47490-m1/lib/python3.8/site-packages/sklearn/neural_network/_multilayer_perceptron.py:692: ConvergenceWarning: Stochastic Optimizer: Maximum iterations (200) reached and the optimization hasn't converged yet.\n",
      "  warnings.warn(\n"
     ]
    },
    {
     "name": "stderr",
     "output_type": "stream",
     "text": [
      "/Users/rajitbanerjee/.local/share/conda/envs/comp47490-m1/lib/python3.8/site-packages/sklearn/neural_network/_multilayer_perceptron.py:692: ConvergenceWarning: Stochastic Optimizer: Maximum iterations (200) reached and the optimization hasn't converged yet.\n",
      "  warnings.warn(\n",
      "/Users/rajitbanerjee/.local/share/conda/envs/comp47490-m1/lib/python3.8/site-packages/sklearn/neural_network/_multilayer_perceptron.py:692: ConvergenceWarning: Stochastic Optimizer: Maximum iterations (200) reached and the optimization hasn't converged yet.\n",
      "  warnings.warn(\n",
      "/Users/rajitbanerjee/.local/share/conda/envs/comp47490-m1/lib/python3.8/site-packages/sklearn/neural_network/_multilayer_perceptron.py:692: ConvergenceWarning: Stochastic Optimizer: Maximum iterations (200) reached and the optimization hasn't converged yet.\n",
      "  warnings.warn(\n",
      "/Users/rajitbanerjee/.local/share/conda/envs/comp47490-m1/lib/python3.8/site-packages/sklearn/neural_network/_multilayer_perceptron.py:692: ConvergenceWarning: Stochastic Optimizer: Maximum iterations (200) reached and the optimization hasn't converged yet.\n",
      "  warnings.warn(\n",
      "/Users/rajitbanerjee/.local/share/conda/envs/comp47490-m1/lib/python3.8/site-packages/sklearn/neural_network/_multilayer_perceptron.py:692: ConvergenceWarning: Stochastic Optimizer: Maximum iterations (200) reached and the optimization hasn't converged yet.\n",
      "  warnings.warn(\n",
      "/Users/rajitbanerjee/.local/share/conda/envs/comp47490-m1/lib/python3.8/site-packages/sklearn/neural_network/_multilayer_perceptron.py:692: ConvergenceWarning: Stochastic Optimizer: Maximum iterations (200) reached and the optimization hasn't converged yet.\n",
      "  warnings.warn(\n",
      "/Users/rajitbanerjee/.local/share/conda/envs/comp47490-m1/lib/python3.8/site-packages/sklearn/neural_network/_multilayer_perceptron.py:692: ConvergenceWarning: Stochastic Optimizer: Maximum iterations (200) reached and the optimization hasn't converged yet.\n",
      "  warnings.warn(\n",
      "/Users/rajitbanerjee/.local/share/conda/envs/comp47490-m1/lib/python3.8/site-packages/sklearn/neural_network/_multilayer_perceptron.py:692: ConvergenceWarning: Stochastic Optimizer: Maximum iterations (200) reached and the optimization hasn't converged yet.\n",
      "  warnings.warn(\n",
      "/Users/rajitbanerjee/.local/share/conda/envs/comp47490-m1/lib/python3.8/site-packages/sklearn/neural_network/_multilayer_perceptron.py:692: ConvergenceWarning: Stochastic Optimizer: Maximum iterations (200) reached and the optimization hasn't converged yet.\n",
      "  warnings.warn(\n",
      "/Users/rajitbanerjee/.local/share/conda/envs/comp47490-m1/lib/python3.8/site-packages/sklearn/neural_network/_multilayer_perceptron.py:692: ConvergenceWarning: Stochastic Optimizer: Maximum iterations (200) reached and the optimization hasn't converged yet.\n",
      "  warnings.warn(\n",
      "/Users/rajitbanerjee/.local/share/conda/envs/comp47490-m1/lib/python3.8/site-packages/sklearn/neural_network/_multilayer_perceptron.py:692: ConvergenceWarning: Stochastic Optimizer: Maximum iterations (200) reached and the optimization hasn't converged yet.\n",
      "  warnings.warn(\n",
      "/Users/rajitbanerjee/.local/share/conda/envs/comp47490-m1/lib/python3.8/site-packages/sklearn/neural_network/_multilayer_perceptron.py:692: ConvergenceWarning: Stochastic Optimizer: Maximum iterations (200) reached and the optimization hasn't converged yet.\n",
      "  warnings.warn(\n",
      "/Users/rajitbanerjee/.local/share/conda/envs/comp47490-m1/lib/python3.8/site-packages/sklearn/neural_network/_multilayer_perceptron.py:692: ConvergenceWarning: Stochastic Optimizer: Maximum iterations (200) reached and the optimization hasn't converged yet.\n",
      "  warnings.warn(\n",
      "/Users/rajitbanerjee/.local/share/conda/envs/comp47490-m1/lib/python3.8/site-packages/sklearn/neural_network/_multilayer_perceptron.py:692: ConvergenceWarning: Stochastic Optimizer: Maximum iterations (200) reached and the optimization hasn't converged yet.\n",
      "  warnings.warn(\n",
      "/Users/rajitbanerjee/.local/share/conda/envs/comp47490-m1/lib/python3.8/site-packages/sklearn/neural_network/_multilayer_perceptron.py:692: ConvergenceWarning: Stochastic Optimizer: Maximum iterations (200) reached and the optimization hasn't converged yet.\n",
      "  warnings.warn(\n",
      "/Users/rajitbanerjee/.local/share/conda/envs/comp47490-m1/lib/python3.8/site-packages/sklearn/neural_network/_multilayer_perceptron.py:692: ConvergenceWarning: Stochastic Optimizer: Maximum iterations (200) reached and the optimization hasn't converged yet.\n",
      "  warnings.warn(\n",
      "/Users/rajitbanerjee/.local/share/conda/envs/comp47490-m1/lib/python3.8/site-packages/sklearn/neural_network/_multilayer_perceptron.py:692: ConvergenceWarning: Stochastic Optimizer: Maximum iterations (200) reached and the optimization hasn't converged yet.\n",
      "  warnings.warn(\n",
      "/Users/rajitbanerjee/.local/share/conda/envs/comp47490-m1/lib/python3.8/site-packages/sklearn/neural_network/_multilayer_perceptron.py:692: ConvergenceWarning: Stochastic Optimizer: Maximum iterations (200) reached and the optimization hasn't converged yet.\n",
      "  warnings.warn(\n",
      "/Users/rajitbanerjee/.local/share/conda/envs/comp47490-m1/lib/python3.8/site-packages/sklearn/neural_network/_multilayer_perceptron.py:692: ConvergenceWarning: Stochastic Optimizer: Maximum iterations (200) reached and the optimization hasn't converged yet.\n",
      "  warnings.warn(\n",
      "/Users/rajitbanerjee/.local/share/conda/envs/comp47490-m1/lib/python3.8/site-packages/sklearn/neural_network/_multilayer_perceptron.py:692: ConvergenceWarning: Stochastic Optimizer: Maximum iterations (200) reached and the optimization hasn't converged yet.\n",
      "  warnings.warn(\n",
      "/Users/rajitbanerjee/.local/share/conda/envs/comp47490-m1/lib/python3.8/site-packages/sklearn/neural_network/_multilayer_perceptron.py:692: ConvergenceWarning: Stochastic Optimizer: Maximum iterations (200) reached and the optimization hasn't converged yet.\n",
      "  warnings.warn(\n",
      "/Users/rajitbanerjee/.local/share/conda/envs/comp47490-m1/lib/python3.8/site-packages/sklearn/neural_network/_multilayer_perceptron.py:692: ConvergenceWarning: Stochastic Optimizer: Maximum iterations (200) reached and the optimization hasn't converged yet.\n",
      "  warnings.warn(\n",
      "/Users/rajitbanerjee/.local/share/conda/envs/comp47490-m1/lib/python3.8/site-packages/sklearn/neural_network/_multilayer_perceptron.py:692: ConvergenceWarning: Stochastic Optimizer: Maximum iterations (200) reached and the optimization hasn't converged yet.\n",
      "  warnings.warn(\n",
      "/Users/rajitbanerjee/.local/share/conda/envs/comp47490-m1/lib/python3.8/site-packages/sklearn/neural_network/_multilayer_perceptron.py:692: ConvergenceWarning: Stochastic Optimizer: Maximum iterations (200) reached and the optimization hasn't converged yet.\n",
      "  warnings.warn(\n",
      "/Users/rajitbanerjee/.local/share/conda/envs/comp47490-m1/lib/python3.8/site-packages/sklearn/neural_network/_multilayer_perceptron.py:692: ConvergenceWarning: Stochastic Optimizer: Maximum iterations (200) reached and the optimization hasn't converged yet.\n",
      "  warnings.warn(\n"
     ]
    },
    {
     "name": "stdout",
     "output_type": "stream",
     "text": [
      "\n",
      "Best: MLPClassifier(activation='tanh', hidden_layer_sizes=(50, 50, 50),\n",
      "              random_state=0)\n",
      "Average accuracy: 0.844\n",
      "\n",
      "CPU times: user 1min 7s, sys: 15.4 s, total: 1min 22s\n",
      "Wall time: 1min 15s\n"
     ]
    },
    {
     "name": "stderr",
     "output_type": "stream",
     "text": [
      "/Users/rajitbanerjee/.local/share/conda/envs/comp47490-m1/lib/python3.8/site-packages/sklearn/neural_network/_multilayer_perceptron.py:692: ConvergenceWarning: Stochastic Optimizer: Maximum iterations (200) reached and the optimization hasn't converged yet.\n",
      "  warnings.warn(\n"
     ]
    }
   ],
   "source": [
    "%%time\n",
    "mlp_tuned = grid_search(MLPClassifier(random_state=0), {\n",
    "    \"hidden_layer_sizes\": [(10,), (10, 20, 10), (50, 50, 50), (100,), (150, 100, 50)],\n",
    "    \"activation\": [\"logistic\", \"tanh\", \"relu\"],\n",
    "})"
   ]
  },
  {
   "cell_type": "code",
   "execution_count": 79,
   "id": "666a8dd9",
   "metadata": {},
   "outputs": [
    {
     "name": "stdout",
     "output_type": "stream",
     "text": [
      "Fitting 5 folds for each of 160 candidates, totalling 800 fits\n",
      "\n",
      "Best: KNeighborsClassifier(leaf_size=1, metric='euclidean', n_jobs=-1)\n",
      "Average accuracy: 0.825\n",
      "\n",
      "CPU times: user 874 ms, sys: 188 ms, total: 1.06 s\n",
      "Wall time: 25.6 s\n"
     ]
    }
   ],
   "source": [
    "%%time\n",
    "knn_tuned = grid_search(KNeighborsClassifier(n_jobs=-1), {\n",
    "    \"n_neighbors\": range(1, 21),\n",
    "    \"leaf_size\": [1, 2, 5, 10],\n",
    "    \"metric\": [\"euclidean\", \"manhattan\"]\n",
    "})"
   ]
  },
  {
   "cell_type": "markdown",
   "id": "a1bd43e9",
   "metadata": {},
   "source": [
    "### 2. Evaluation\n",
    "\n",
    "The tuned classifiers thus obtained are listed and scored below."
   ]
  },
  {
   "cell_type": "code",
   "execution_count": 80,
   "id": "b89498cf",
   "metadata": {},
   "outputs": [
    {
     "data": {
      "text/plain": [
       "[DecisionTreeClassifier(criterion='entropy', max_depth=12, min_samples_leaf=5,\n",
       "                        random_state=0),\n",
       " MLPClassifier(activation='tanh', hidden_layer_sizes=(50, 50, 50),\n",
       "               random_state=0),\n",
       " KNeighborsClassifier(leaf_size=1, metric='euclidean', n_jobs=-1)]"
      ]
     },
     "execution_count": 80,
     "metadata": {},
     "output_type": "execute_result"
    }
   ],
   "source": [
    "best_tuned = [dt_tuned, mlp_tuned, knn_tuned]\n",
    "best_tuned"
   ]
  },
  {
   "cell_type": "code",
   "execution_count": 81,
   "id": "16b77181",
   "metadata": {},
   "outputs": [
    {
     "name": "stderr",
     "output_type": "stream",
     "text": [
      "/Users/rajitbanerjee/.local/share/conda/envs/comp47490-m1/lib/python3.8/site-packages/sklearn/neural_network/_multilayer_perceptron.py:692: ConvergenceWarning: Stochastic Optimizer: Maximum iterations (200) reached and the optimization hasn't converged yet.\n",
      "  warnings.warn(\n",
      "/Users/rajitbanerjee/.local/share/conda/envs/comp47490-m1/lib/python3.8/site-packages/sklearn/neural_network/_multilayer_perceptron.py:692: ConvergenceWarning: Stochastic Optimizer: Maximum iterations (200) reached and the optimization hasn't converged yet.\n",
      "  warnings.warn(\n",
      "/Users/rajitbanerjee/.local/share/conda/envs/comp47490-m1/lib/python3.8/site-packages/sklearn/neural_network/_multilayer_perceptron.py:692: ConvergenceWarning: Stochastic Optimizer: Maximum iterations (200) reached and the optimization hasn't converged yet.\n",
      "  warnings.warn(\n",
      "/Users/rajitbanerjee/.local/share/conda/envs/comp47490-m1/lib/python3.8/site-packages/sklearn/neural_network/_multilayer_perceptron.py:692: ConvergenceWarning: Stochastic Optimizer: Maximum iterations (200) reached and the optimization hasn't converged yet.\n",
      "  warnings.warn(\n",
      "/Users/rajitbanerjee/.local/share/conda/envs/comp47490-m1/lib/python3.8/site-packages/sklearn/neural_network/_multilayer_perceptron.py:692: ConvergenceWarning: Stochastic Optimizer: Maximum iterations (200) reached and the optimization hasn't converged yet.\n",
      "  warnings.warn(\n"
     ]
    },
    {
     "name": "stdout",
     "output_type": "stream",
     "text": [
      "Classifiers in descending order of performance:\n"
     ]
    },
    {
     "data": {
      "text/html": [
       "<div>\n",
       "<style scoped>\n",
       "    .dataframe tbody tr th:only-of-type {\n",
       "        vertical-align: middle;\n",
       "    }\n",
       "\n",
       "    .dataframe tbody tr th {\n",
       "        vertical-align: top;\n",
       "    }\n",
       "\n",
       "    .dataframe thead th {\n",
       "        text-align: right;\n",
       "    }\n",
       "</style>\n",
       "<table border=\"1\" class=\"dataframe\">\n",
       "  <thead>\n",
       "    <tr style=\"text-align: right;\">\n",
       "      <th></th>\n",
       "      <th>Avg. accuracy</th>\n",
       "    </tr>\n",
       "  </thead>\n",
       "  <tbody>\n",
       "    <tr>\n",
       "      <th>Tuned: DT</th>\n",
       "      <td>0.829 +/- 0.005</td>\n",
       "    </tr>\n",
       "    <tr>\n",
       "      <th>Tuned: MLP</th>\n",
       "      <td>0.820 +/- 0.011</td>\n",
       "    </tr>\n",
       "    <tr>\n",
       "      <th>Tuned: KNN</th>\n",
       "      <td>0.819 +/- 0.007</td>\n",
       "    </tr>\n",
       "  </tbody>\n",
       "</table>\n",
       "</div>"
      ],
      "text/plain": [
       "              Avg. accuracy\n",
       "Tuned: DT   0.829 +/- 0.005\n",
       "Tuned: MLP  0.820 +/- 0.011\n",
       "Tuned: KNN  0.819 +/- 0.007"
      ]
     },
     "execution_count": 81,
     "metadata": {},
     "output_type": "execute_result"
    }
   ],
   "source": [
    "scores_tuned = score(best_tuned, method=\"Tuned\")\n",
    "scores_tuned"
   ]
  },
  {
   "cell_type": "code",
   "execution_count": 82,
   "id": "6fa75792",
   "metadata": {},
   "outputs": [
    {
     "data": {
      "text/html": [
       "<div>\n",
       "<style scoped>\n",
       "    .dataframe tbody tr th:only-of-type {\n",
       "        vertical-align: middle;\n",
       "    }\n",
       "\n",
       "    .dataframe tbody tr th {\n",
       "        vertical-align: top;\n",
       "    }\n",
       "\n",
       "    .dataframe thead th {\n",
       "        text-align: right;\n",
       "    }\n",
       "</style>\n",
       "<table border=\"1\" class=\"dataframe\">\n",
       "  <thead>\n",
       "    <tr style=\"text-align: right;\">\n",
       "      <th></th>\n",
       "      <th>Avg. accuracy</th>\n",
       "    </tr>\n",
       "  </thead>\n",
       "  <tbody>\n",
       "    <tr>\n",
       "      <th>Bagging: MLP</th>\n",
       "      <td>0.840 +/- 0.008</td>\n",
       "    </tr>\n",
       "    <tr>\n",
       "      <th>Random SS: MLP</th>\n",
       "      <td>0.839 +/- 0.008</td>\n",
       "    </tr>\n",
       "    <tr>\n",
       "      <th>Basic: MLP</th>\n",
       "      <td>0.839 +/- 0.004</td>\n",
       "    </tr>\n",
       "    <tr>\n",
       "      <th>Tuned: DT</th>\n",
       "      <td>0.829 +/- 0.005</td>\n",
       "    </tr>\n",
       "    <tr>\n",
       "      <th>Bagging: DT</th>\n",
       "      <td>0.823 +/- 0.008</td>\n",
       "    </tr>\n",
       "    <tr>\n",
       "      <th>Tuned: MLP</th>\n",
       "      <td>0.820 +/- 0.011</td>\n",
       "    </tr>\n",
       "    <tr>\n",
       "      <th>Tuned: KNN</th>\n",
       "      <td>0.819 +/- 0.007</td>\n",
       "    </tr>\n",
       "    <tr>\n",
       "      <th>Random SS: KNN</th>\n",
       "      <td>0.818 +/- 0.012</td>\n",
       "    </tr>\n",
       "    <tr>\n",
       "      <th>Basic: DT</th>\n",
       "      <td>0.818 +/- 0.009</td>\n",
       "    </tr>\n",
       "    <tr>\n",
       "      <th>Random SS: DT</th>\n",
       "      <td>0.814 +/- 0.009</td>\n",
       "    </tr>\n",
       "    <tr>\n",
       "      <th>Bagging: KNN</th>\n",
       "      <td>0.809 +/- 0.011</td>\n",
       "    </tr>\n",
       "    <tr>\n",
       "      <th>Basic: KNN</th>\n",
       "      <td>0.784 +/- 0.022</td>\n",
       "    </tr>\n",
       "  </tbody>\n",
       "</table>\n",
       "</div>"
      ],
      "text/plain": [
       "                  Avg. accuracy\n",
       "Bagging: MLP    0.840 +/- 0.008\n",
       "Random SS: MLP  0.839 +/- 0.008\n",
       "Basic: MLP      0.839 +/- 0.004\n",
       "Tuned: DT       0.829 +/- 0.005\n",
       "Bagging: DT     0.823 +/- 0.008\n",
       "Tuned: MLP      0.820 +/- 0.011\n",
       "Tuned: KNN      0.819 +/- 0.007\n",
       "Random SS: KNN  0.818 +/- 0.012\n",
       "Basic: DT       0.818 +/- 0.009\n",
       "Random SS: DT   0.814 +/- 0.009\n",
       "Bagging: KNN    0.809 +/- 0.011\n",
       "Basic: KNN      0.784 +/- 0.022"
      ]
     },
     "execution_count": 82,
     "metadata": {},
     "output_type": "execute_result"
    }
   ],
   "source": [
    "scores = pd.concat([scores, scores_tuned])\n",
    "scores.sort_values(by=scores.columns[0], ascending=False)"
   ]
  },
  {
   "cell_type": "markdown",
   "id": "1c0dc3b5",
   "metadata": {},
   "source": [
    "From the extended summary table above, we find:\n",
    "\n",
    "- For decision trees, the tuned classifier surprisingly performs better than the basic constrained classifier's ensembles (bagging/random subspacing). \n",
    "- On the other hand, performance of the tuned neural network drops below that of the basic MLP model. This is possibly a result of overfitting on the training set for the given data, which is a known issue with deep neural networks.\n",
    "- For k-NN, we see similar results as decision trees, with the tuned model performing better than the basic classifier as well its ensembles.\n",
    "\n",
    "This shows that ensemble techniques generally improve performance of classifiers, but are not guranteed to be better than a well-tuned individual model. Alternative ensembles could be explored (such as boosting techniques) which might better fit the given dataset."
   ]
  },
  {
   "cell_type": "markdown",
   "id": "0bfa5319",
   "metadata": {},
   "source": [
    "$$- * -$$"
   ]
  },
  {
   "cell_type": "markdown",
   "id": "9de75f31",
   "metadata": {},
   "source": [
    "P.S. When performing hyperparameter tuning with GridSearchCV for neural networks, we can hide verbose warnings (`ConvergenceWarning: Stochastic Optimizer...`) with the code snippet below. The models do converge in the end, hence the intermediate convergence warnings are not of particular significance."
   ]
  },
  {
   "cell_type": "code",
   "execution_count": 83,
   "id": "8e0b422e",
   "metadata": {},
   "outputs": [
    {
     "data": {
      "text/html": [
       "<script>\n",
       "    $('div.output_stderr').hide();\n",
       "    </script>"
      ],
      "text/plain": [
       "<IPython.core.display.HTML object>"
      ]
     },
     "execution_count": 83,
     "metadata": {},
     "output_type": "execute_result"
    }
   ],
   "source": [
    "from IPython.display import HTML\n",
    "\n",
    "def hide_warnings():\n",
    "    return HTML('''<script>\n",
    "    $('div.output_stderr').hide();\n",
    "    </script>''')\n",
    "\n",
    "hide_warnings()"
   ]
  },
  {
   "cell_type": "markdown",
   "id": "77633ccf",
   "metadata": {},
   "source": [
    "\"All models are wrong, but some are useful.\" <br/>\n",
    "~ G. E. P. Box, \"Science and statistics\" (1976), Journal of the American Statistical Association, 71 (356): 791–799."
   ]
  },
  {
   "cell_type": "markdown",
   "id": "9cd5eab8",
   "metadata": {},
   "source": [
    "## 2: Machine Learning Concepts"
   ]
  },
  {
   "cell_type": "markdown",
   "id": "e0ef798f",
   "metadata": {},
   "source": [
    "**a)** Emma took a rapid antigen test for SARS-CoV-2 (popularly called Covid-19) and her test came out positive. The particular brand of antigen test that she used claims that in their clinical study, the test showed a sensitivity of 0.825 and a specificity of 1.00. Assuming that their claimed numbers are true and given that she has been tested positive, what is the probability that she is actually positive for SARS-CoV-2?\n",
    "\n",
    "**Ans.**\n",
    "\n",
    "Notation:\n",
    "- C: Emma has been infected with SARS-CoV-2\n",
    "- +ve: Positive test\n",
    "- -ve: Negative test\n",
    "\n",
    "Sensitivity (True Positive Rate) = $P(+ve | C)$ = 0.825<br/>\n",
    "Specificity (True Negative Rate) = $P(-ve | C')$ = 1.00\n",
    "\n",
    "Denoting the prevalence of COVID-19 in Ireland as $P(C)$  we can compute (following from Bayes' Theorem):\n",
    "\n",
    "$$\n",
    "\\begin{align}\n",
    "P(C | +ve) &= \\frac{P(+ve | C).P(C)}{P(+ve)} \\\\\n",
    "&= \\frac{P(+ve | C).P(C)}{P(+ve | C).P(C) + P(+ve | C').P(C')} \\\\\n",
    "&= \\frac{P(+ve | C).P(C)}{P(+ve | C).P(C) + (1 - P(-ve | C')).P(C')} \\\\\n",
    "&= \\frac{(0.825)P(C)}{(0.825)P(C) + (1 - 1).P(C')} \\\\\n",
    "&= \\frac{(0.825)P(C)}{(0.825)P(C) + 0} \\\\\n",
    "&= 1\n",
    "\\end{align}\n",
    "$$\n",
    "\n",
    "Using a test that is 100% specific implies that all infected individuals are correctly identified, i.e. there are **no false positives**.\n",
    "\n",
    "Hence, with a positive test, the probability that Emma actually has SARS-CoV-2 is **100%**."
   ]
  },
  {
   "cell_type": "markdown",
   "id": "f3ca2e94",
   "metadata": {},
   "source": [
    "**b)** Comment on the interpretability of k-nearest neighbour, decision tree, SVM, random forest and a deep neural network. For each of these supervised learning techniques, <br/>\n",
    "(i) how easy or difficult it is to explain the reason behind predictions to a layman, <br/>\n",
    "(ii) can you easily find out which training examples need to be modified to change the prediction for a particular query and <br/>\n",
    "(iii) can you find out the weight of the different features in your model?\n",
    "\n",
    "**Ans.**\n",
    "\n",
    "- **k-NN**:\n",
    "    - Explaining k-NN is not too difficult, especially when considering a 2-dimensional example which can be visualised. The basic idea for classification involves majority voting based on a specified k number of neighbouring points. However, it doesn't provide the inherent reasoning for any two points being \"similar\" to each other, especially why the features may be correlated.\n",
    "    - Of all the given models, it is probably the easiest to find the training examples to be modified to change a query prediction for k-NN. Attribute values can simply be modified to influence the neighbourhood points of a given query, resulting in a predictable k-NN output.\n",
    "    - There is no straightforward way of determining feature importances in k-NN. Even in weighted k-NN, weights are assigned to different training examples instead of any particular features.\n",
    "- **Decision Tree**:\n",
    "    - Decision trees are arguably one of the most interpretable machine learning models. For a tree that is not too deep, it is easy to start at the root node and trace the decisions made by the model at every split.\n",
    "    - If the feature attributes are altered, the entropy/feature importances responsible for node splitting are likely to change, which is why it is not easy to change training examples to alter a query prediction with decision trees.\n",
    "    - A node is pure if all its examples belong to the same class. The weight/importance of a feature is proportional to the impurity decrease obtained if a given feature is used for node splitting. This is because the overall goal of decision trees is to select features that minimise the depth of the tree (and consequently the number of decisions) to quickly reach pure leaf nodes.\n",
    "- **SVM (Support Vector Machine)**:\n",
    "    - The basic intuition behind SVM is easy to interpret: finding the maximal margin hyperplane to separate two classes. However, when the classes are not separable, some mathematical understanding is required to discuss the kernel trick and the idea of looking for a hyperplane in higher dimensions where the classes may be linearly separable.\n",
    "    - Although it is easy for linear cases (which is not characteristic of most real-world problems), it is not straightforward to alter examples to change query predictions when the classes are not linearly separable (since higher dimensions cannot be visualised).\n",
    "    - If the SVM kernel used is linear, feature importances can be easily computed, but this is not possible for other kernels such as RBF or sigmoid, due to data transformation to higher dimensions.\n",
    "- **Random Forest**:\n",
    "    - Being an example of a decision tree ensemble, random forests can be explained as a model which uses a committee of decision trees (the more diverse, the better) to make decisions based on a voting strategy. In that sense, such models are more interpretable compared to SVM or deep neural networks.\n",
    "    - Since a large number of decision trees are involved in the decision making process based on voting, it is nearly impossible to influence a query prediction by tampering with feature values.\n",
    "    - Feature importances are an integral part of random forests, and are computed by aggregating the feature weights returned by each constituent decision tree, essentially stabilising the results and reducing the outcome variability.\n",
    "- **Deep Neural Network**:\n",
    "    - Deep neural networks are well-known to have great performance in various complex machine learning tasks, but are the hardest to explain to a layman. Even an experienced data scientist may only be able to explain some of the hyperparameters, such as the mathematics behind activation functions (tanh, sigmoid, relu, etc.) or weight optimisation solvers (ADAM, stochastic gradient descent, etc.). However, the actual working of such models is still considered as a black box which may be able to produce fantastic results without any explicit reasoning.\n",
    "    - It is impossible to find out which features are more important, or which training examples need to be altered to change a query prediction, due to the same reason: deep neural networks are essentially black boxes."
   ]
  },
  {
   "cell_type": "markdown",
   "id": "f32fff8c",
   "metadata": {},
   "source": [
    "**c)** What are the relative advantages and disadvantages of agglomerative and divisive hierarchical clustering algorithms with respect to each other? What are the advantages and disadvantages of the different cluster metrics used in the agglomerative approaches?\n",
    "\n",
    "**Ans.**\n",
    "\n",
    "Agglomerative and divisive approaches fall under the group of hierarchical clustering algorithms, as opposed to partitioning methods such as k-means.\n",
    "\n",
    "| Agglomerative clustering | Divisive clustering |\n",
    "| --- | --- |\n",
    "| Bottom-up strategy. | Top-down strategy. |\n",
    "| Starting with each item in its own cluster, similar clusters are merged two at a time. | Reverse of agglomerative approach starting with all points in a single cluster, with binary splits performed at each step. |\n",
    "| Less accurate, since merging decisions are made based on locally available information only. | Better clustering solutions on average, due to the global data distribution being available when making splitting decisions. |\n",
    "| Time complexity is $O(n^3)$ (can be optimised to $O(n^2 log n)$ or even $O(n^2)$. | Greater efficiency compared to agglomerative clustering, applying heuristics like k-means to choose splits. |\n",
    "\n",
    "Different cluster metrics used in agglomerative approaches include:\n",
    "\n",
    "- *Single linkage*: Cluster distance is the smallest pairwise distance between corresponding cluster items. With a large enough inter-cluster distance, single linkage is able to differentiate between non-elliptical cluster shapes. However, since the merge criterion is local, it tends to produce non-cohesive, elongated clusters.\n",
    "- *Complete linkage*: Cluster distance is the largest pairwise distance between corresponding cluster items. This avoids the cluster point chaining effect seen with single linkage, and has a non-local merge criterion. Clusters formed are more compact, but complete linkage suffers from a sensitivity to noise and outliers.\n",
    "- *Average linkage*: Provides a balance between single and complete linkage, and avoids the extremes of either large or too compact clusters. Although it is biased towards globular cluster shapes, it is less perturbed by noise in the data."
   ]
  },
  {
   "cell_type": "markdown",
   "id": "fc749c95",
   "metadata": {},
   "source": [
    "**d)** Unlike the batch gradient descent, the stochastic gradient descent is not guaranteed to monotonically improve the cost function. And, yet, in applications involving large datasets, it is often preferred over the batch gradient descent.\n",
    "Why?\n",
    "\n",
    "**Ans.**\n",
    "\n",
    "- Stochastic gradient descent (SGD) is an iterative approximation algorithm that randomly considers a data point (slope/gradient) per iteration to try and find a local optimum for a given differentiable cost function. Iterations:\n",
    "\n",
    "$$\n",
    "w:=w-\\eta \\nabla Q_{i}(w).\n",
    "$$\n",
    "- Symbols:\n",
    "  - Estimation $w$ that minimises the cost function $Q(w)$,\n",
    "  - $\\eta$  is a step size,\n",
    "  - $Q_{i}(w)$ is the cost function value at the $i^{th}$ training example.\n",
    "\n",
    "\n",
    "\n",
    "- On the other hand, batch gradient descent also tries to approach a local optimum, but requires the entire dataset to be present in memory for every iteration, in order to compute the average loss for each training example. This enormously increases the **computational complexity** when dealing with large datasets (leading to **slow convergence**), since entire dataset needs to be scanned at every step.\n",
    "\n",
    "$$\n",
    "{\\displaystyle w:=w-\\eta \\nabla Q(w)=w-{\\frac {\\eta }{n}}\\sum _{i=1}^{n}\\nabla Q_{i}(w),}\n",
    "$$\n",
    "\n",
    "- Consequently, even though SGD doesn't guarantee a monotonic improvement of the cost function, it performs quite well in practice, and is often preferred over batch gradient descent as the computational effort at every step is trivial.\n",
    "- To strike a balance, a method called mini-batch gradient descent is often used, which samples a small number of points at every iteration instead of going through the entire dataset or just choosing a single point."
   ]
  },
  {
   "cell_type": "markdown",
   "id": "1a8c73cd",
   "metadata": {},
   "source": [
    "**e)** Computing the exact solution for k-means clustering problem is NP-hard. How is it that k-means remains a highly popular clustering algorithm and is widely deployed in a range of applications and many different big data platforms?\n",
    "\n",
    "**Ans.**\n",
    "\n",
    "- Although k-means clustering is an NP-hard problem, a very popular and effective heuristic known an Lloyd's algorithm works well in practice.\n",
    "- With a carefully chosen number of clusters ($k$), the heuristic can produce \"good\" clusters (according to metrics such as average silhouette width: low inter-cluster similarity, high intra-cluster similarity) for problems from various domains.\n",
    "- However, Lloyd's algorithm can have arbitrarily poor performance and provides no guarantees.\n",
    "- K-means is still widely used for clustering data since Lloyd's algorithm is **fast** (by limiting the number of iterations), easily **interpretable** and **implementable**, and generally works well when provided with good cluster initialisations (e.g. using k-means++)."
   ]
  },
  {
   "cell_type": "markdown",
   "id": "3c6792fd",
   "metadata": {},
   "source": [
    "**f)** Consider a clustering task where you have three well-separated clusters, but the first cluster has ten times more items than the other two clusters combined. If you were using the random cluster centre initialisation in Lloyd's algorithm, where are the three initial cluster centres likely to be? What will be the impact of that on the final output of Lloyd's algorithm? How will the situation change if you were to use k-means++ for finding the initial cluster centres?\n",
    "\n",
    "**Ans.**\n",
    "\n",
    "- Using random cluster centre initialisation, all 3 initial centres are much more likely to be located in the first cluster, due to the sheer difference in size with the other 2 clusters.\n",
    "- This form of cluster initialisation will greatly affect Lloyd's algorithm, and will probably lead to k-means getting stuck in a local optimum. With more than 1 centroid initialised in the larger first cluster, Lloyd's algorithm will split it into multiple smaller clusters, even though they should be in the same one.\n",
    "- In order to ensure that Lloyd's method converges with a good clustering solution, k-means++ is the preferred algorithm for centroid initialisation. The main idea behind it is as follows: when initialising clusters, **distance between centroids is maximised**. This is done by sampling points with a probability proportional to the distance to the closest cluster centre.\n",
    "- K-means++ provides a **guaranteed** solution that is $O(\\text{log} k)$ competitive to the optimal clustering.\n",
    "- In the given dataset, it is mentioned that the clusters are well-separated, which would allow k-means++ to easily find 3 appropriate cluster centroids. Such a good initialisation will significantly improve the performance of Lloyd's algorithm in terms of resultant cluster quality (avoiding local optima, maximising average silhouette width (ASW))."
   ]
  },
  {
   "cell_type": "markdown",
   "id": "fc3d3374",
   "metadata": {},
   "source": [
    "$$- * -$$"
   ]
  }
 ],
 "metadata": {
  "hide_input": false,
  "kernelspec": {
   "display_name": "Python 3.8.12 64-bit ('comp47490-m1': conda)",
   "language": "python",
   "name": "python3812jvsc74a57bd00e0a815a00115507681d94ff50c5b809f8a73ab40afce1cb11838b2bd0475829"
  },
  "language_info": {
   "codemirror_mode": {
    "name": "ipython",
    "version": 3
   },
   "file_extension": ".py",
   "mimetype": "text/x-python",
   "name": "python",
   "nbconvert_exporter": "python",
   "pygments_lexer": "ipython3",
   "version": "3.8.12"
  },
  "toc": {
   "base_numbering": 1,
   "nav_menu": {},
   "number_sections": false,
   "sideBar": true,
   "skip_h1_title": true,
   "title_cell": "Table of Contents",
   "title_sidebar": "Contents",
   "toc_cell": false,
   "toc_position": {
    "height": "calc(100% - 180px)",
    "left": "10px",
    "top": "150px",
    "width": "292px"
   },
   "toc_section_display": true,
   "toc_window_display": false
  },
  "varInspector": {
   "cols": {
    "lenName": 16,
    "lenType": 16,
    "lenVar": 40
   },
   "kernels_config": {
    "python": {
     "delete_cmd_postfix": "",
     "delete_cmd_prefix": "del ",
     "library": "var_list.py",
     "varRefreshCmd": "print(var_dic_list())"
    },
    "r": {
     "delete_cmd_postfix": ") ",
     "delete_cmd_prefix": "rm(",
     "library": "var_list.r",
     "varRefreshCmd": "cat(var_dic_list()) "
    }
   },
   "types_to_exclude": [
    "module",
    "function",
    "builtin_function_or_method",
    "instance",
    "_Feature"
   ],
   "window_display": false
  }
 },
 "nbformat": 4,
 "nbformat_minor": 5
}
