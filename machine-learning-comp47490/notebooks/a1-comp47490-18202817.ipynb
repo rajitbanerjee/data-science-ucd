{
 "cells": [
  {
   "cell_type": "markdown",
   "id": "434d5815",
   "metadata": {},
   "source": [
    "# Assignment 1: Austin Animal Shelter Outcomes\n",
    "\n",
    "**Module:** COMP47490 Machine Learning, Autumn 2021  \n",
    "**Student:** Rajit Banerjee, 18202817  \n",
    "**Data:** `../data/animal_shelter_18202817.csv` (source of sample: [data.austintexas.gov](https://data.austintexas.gov/Health-and-Community-Services/Austin-Animal-Center-Outcomes/9t4d-g238))"
   ]
  },
  {
   "cell_type": "markdown",
   "id": "c1aa206b",
   "metadata": {},
   "source": [
    "Import all required packages."
   ]
  },
  {
   "cell_type": "code",
   "execution_count": 1,
   "id": "964ca4d3",
   "metadata": {},
   "outputs": [],
   "source": [
    "from typing import List, Union, Tuple\n",
    "from pprint import pprint\n",
    "from collections import defaultdict, Counter\n",
    "from collections import Counter\n",
    "import time\n",
    "import itertools\n",
    "\n",
    "import pandas as pd\n",
    "import numpy as np\n",
    "import seaborn as sns\n",
    "import matplotlib.pyplot as plt\n",
    "\n",
    "# **scikit-learn: version 1.0.1**\n",
    "from sklearn.model_selection import train_test_split, GridSearchCV\n",
    "from sklearn.model_selection import StratifiedKFold, cross_val_score, cross_validate \n",
    "from sklearn.feature_selection import mutual_info_classif\n",
    "from sklearn.tree import DecisionTreeClassifier\n",
    "from sklearn.naive_bayes import GaussianNB, BernoulliNB, MultinomialNB   \n",
    "from sklearn.svm import SVC\n",
    "from sklearn.neighbors import KNeighborsClassifier\n",
    "from sklearn.dummy import DummyClassifier\n",
    "from sklearn.metrics import f1_score, ConfusionMatrixDisplay, RocCurveDisplay\n",
    "from sklearn.ensemble import RandomForestClassifier, AdaBoostClassifier, GradientBoostingClassifier\n",
    "\n",
    "# **mlxtend: version 0.19.0**\n",
    "from mlxtend.feature_selection import SequentialFeatureSelector as SFS\n",
    "from mlxtend.plotting import plot_sequential_feature_selection as plot_sfs\n",
    "\n",
    "%matplotlib inline"
   ]
  },
  {
   "cell_type": "markdown",
   "id": "5a826c6d",
   "metadata": {},
   "source": [
    "## 1A: Data Cleaning\n",
    "\n",
    "The first step in any machine learning task is to perform exploratory data analysis and data cleaning."
   ]
  },
  {
   "cell_type": "code",
   "execution_count": 2,
   "id": "9c5ebbe6",
   "metadata": {},
   "outputs": [
    {
     "data": {
      "text/html": [
       "<div>\n",
       "<style scoped>\n",
       "    .dataframe tbody tr th:only-of-type {\n",
       "        vertical-align: middle;\n",
       "    }\n",
       "\n",
       "    .dataframe tbody tr th {\n",
       "        vertical-align: top;\n",
       "    }\n",
       "\n",
       "    .dataframe thead th {\n",
       "        text-align: right;\n",
       "    }\n",
       "</style>\n",
       "<table border=\"1\" class=\"dataframe\">\n",
       "  <thead>\n",
       "    <tr style=\"text-align: right;\">\n",
       "      <th></th>\n",
       "      <th>Animal ID</th>\n",
       "      <th>Name</th>\n",
       "      <th>DateTime</th>\n",
       "      <th>MonthYear</th>\n",
       "      <th>Date of Birth</th>\n",
       "      <th>Animal Type</th>\n",
       "      <th>Sex upon Outcome</th>\n",
       "      <th>Age upon Outcome</th>\n",
       "      <th>Breed</th>\n",
       "      <th>Color</th>\n",
       "      <th>Outcome</th>\n",
       "    </tr>\n",
       "  </thead>\n",
       "  <tbody>\n",
       "    <tr>\n",
       "      <th>0</th>\n",
       "      <td>A819419</td>\n",
       "      <td>*Chicken</td>\n",
       "      <td>09/22/2020 10:33:00 AM</td>\n",
       "      <td>09/22/2020 10:33:00 AM</td>\n",
       "      <td>04/28/2020</td>\n",
       "      <td>Cat</td>\n",
       "      <td>Spayed Female</td>\n",
       "      <td>4 months</td>\n",
       "      <td>Domestic Shorthair</td>\n",
       "      <td>Blue Tabby/White</td>\n",
       "      <td>0</td>\n",
       "    </tr>\n",
       "    <tr>\n",
       "      <th>1</th>\n",
       "      <td>A710946</td>\n",
       "      <td>*Sabrina</td>\n",
       "      <td>09/07/2015 12:28:00 PM</td>\n",
       "      <td>09/07/2015 12:28:00 PM</td>\n",
       "      <td>06/15/2015</td>\n",
       "      <td>Cat</td>\n",
       "      <td>Spayed Female</td>\n",
       "      <td>2 months</td>\n",
       "      <td>Domestic Shorthair Mix</td>\n",
       "      <td>Torbie</td>\n",
       "      <td>0</td>\n",
       "    </tr>\n",
       "    <tr>\n",
       "      <th>2</th>\n",
       "      <td>A572792</td>\n",
       "      <td>Oreo</td>\n",
       "      <td>05/23/2014 05:16:00 PM</td>\n",
       "      <td>05/23/2014 05:16:00 PM</td>\n",
       "      <td>05/06/2007</td>\n",
       "      <td>Dog</td>\n",
       "      <td>Neutered Male</td>\n",
       "      <td>7 years</td>\n",
       "      <td>English Springer Spaniel Mix</td>\n",
       "      <td>Black/White</td>\n",
       "      <td>0</td>\n",
       "    </tr>\n",
       "    <tr>\n",
       "      <th>3</th>\n",
       "      <td>A807189</td>\n",
       "      <td>Sequoia</td>\n",
       "      <td>10/27/2019 04:44:00 PM</td>\n",
       "      <td>10/27/2019 04:44:00 PM</td>\n",
       "      <td>08/12/2019</td>\n",
       "      <td>Dog</td>\n",
       "      <td>Spayed Female</td>\n",
       "      <td>2 months</td>\n",
       "      <td>Labrador Retriever/Redbone Hound</td>\n",
       "      <td>Red/Black</td>\n",
       "      <td>0</td>\n",
       "    </tr>\n",
       "    <tr>\n",
       "      <th>4</th>\n",
       "      <td>A746717</td>\n",
       "      <td>NaN</td>\n",
       "      <td>04/08/2017 09:00:00 AM</td>\n",
       "      <td>04/08/2017 09:00:00 AM</td>\n",
       "      <td>04/07/2016</td>\n",
       "      <td>Cat</td>\n",
       "      <td>Intact Male</td>\n",
       "      <td>1 year</td>\n",
       "      <td>Domestic Shorthair Mix</td>\n",
       "      <td>White/Orange</td>\n",
       "      <td>0</td>\n",
       "    </tr>\n",
       "    <tr>\n",
       "      <th>...</th>\n",
       "      <td>...</td>\n",
       "      <td>...</td>\n",
       "      <td>...</td>\n",
       "      <td>...</td>\n",
       "      <td>...</td>\n",
       "      <td>...</td>\n",
       "      <td>...</td>\n",
       "      <td>...</td>\n",
       "      <td>...</td>\n",
       "      <td>...</td>\n",
       "      <td>...</td>\n",
       "    </tr>\n",
       "    <tr>\n",
       "      <th>4995</th>\n",
       "      <td>A803667</td>\n",
       "      <td>Jack</td>\n",
       "      <td>09/04/2019 07:04:00 PM</td>\n",
       "      <td>09/04/2019 07:04:00 PM</td>\n",
       "      <td>09/04/2017</td>\n",
       "      <td>Cat</td>\n",
       "      <td>Neutered Male</td>\n",
       "      <td>2 years</td>\n",
       "      <td>Domestic Shorthair</td>\n",
       "      <td>Orange Tabby</td>\n",
       "      <td>0</td>\n",
       "    </tr>\n",
       "    <tr>\n",
       "      <th>4996</th>\n",
       "      <td>A834769</td>\n",
       "      <td>NaN</td>\n",
       "      <td>05/20/2021 02:29:00 PM</td>\n",
       "      <td>05/20/2021 02:29:00 PM</td>\n",
       "      <td>04/18/2021</td>\n",
       "      <td>Cat</td>\n",
       "      <td>Intact Male</td>\n",
       "      <td>4 weeks</td>\n",
       "      <td>Domestic Shorthair</td>\n",
       "      <td>Lynx Point</td>\n",
       "      <td>0</td>\n",
       "    </tr>\n",
       "    <tr>\n",
       "      <th>4997</th>\n",
       "      <td>A826518</td>\n",
       "      <td>NaN</td>\n",
       "      <td>12/04/2020 11:06:00 AM</td>\n",
       "      <td>12/04/2020 11:06:00 AM</td>\n",
       "      <td>11/30/2014</td>\n",
       "      <td>Dog</td>\n",
       "      <td>Spayed Female</td>\n",
       "      <td>6 years</td>\n",
       "      <td>Miniature Poodle</td>\n",
       "      <td>Brown/Gray</td>\n",
       "      <td>0</td>\n",
       "    </tr>\n",
       "    <tr>\n",
       "      <th>4998</th>\n",
       "      <td>A748803</td>\n",
       "      <td>NaN</td>\n",
       "      <td>05/11/2017 05:02:00 PM</td>\n",
       "      <td>05/11/2017 05:02:00 PM</td>\n",
       "      <td>02/20/2017</td>\n",
       "      <td>Dog</td>\n",
       "      <td>Neutered Male</td>\n",
       "      <td>2 months</td>\n",
       "      <td>Labrador Retriever Mix</td>\n",
       "      <td>Black/White</td>\n",
       "      <td>0</td>\n",
       "    </tr>\n",
       "    <tr>\n",
       "      <th>4999</th>\n",
       "      <td>A701097</td>\n",
       "      <td>NaN</td>\n",
       "      <td>04/24/2015 07:59:00 AM</td>\n",
       "      <td>04/24/2015 07:59:00 AM</td>\n",
       "      <td>03/24/2015</td>\n",
       "      <td>Other</td>\n",
       "      <td>Unknown</td>\n",
       "      <td>4 weeks</td>\n",
       "      <td>Bat</td>\n",
       "      <td>Black/Brown</td>\n",
       "      <td>1</td>\n",
       "    </tr>\n",
       "  </tbody>\n",
       "</table>\n",
       "<p>5000 rows × 11 columns</p>\n",
       "</div>"
      ],
      "text/plain": [
       "     Animal ID      Name                DateTime               MonthYear  \\\n",
       "0      A819419  *Chicken  09/22/2020 10:33:00 AM  09/22/2020 10:33:00 AM   \n",
       "1      A710946  *Sabrina  09/07/2015 12:28:00 PM  09/07/2015 12:28:00 PM   \n",
       "2      A572792      Oreo  05/23/2014 05:16:00 PM  05/23/2014 05:16:00 PM   \n",
       "3      A807189   Sequoia  10/27/2019 04:44:00 PM  10/27/2019 04:44:00 PM   \n",
       "4      A746717       NaN  04/08/2017 09:00:00 AM  04/08/2017 09:00:00 AM   \n",
       "...        ...       ...                     ...                     ...   \n",
       "4995   A803667      Jack  09/04/2019 07:04:00 PM  09/04/2019 07:04:00 PM   \n",
       "4996   A834769       NaN  05/20/2021 02:29:00 PM  05/20/2021 02:29:00 PM   \n",
       "4997   A826518       NaN  12/04/2020 11:06:00 AM  12/04/2020 11:06:00 AM   \n",
       "4998   A748803       NaN  05/11/2017 05:02:00 PM  05/11/2017 05:02:00 PM   \n",
       "4999   A701097       NaN  04/24/2015 07:59:00 AM  04/24/2015 07:59:00 AM   \n",
       "\n",
       "     Date of Birth Animal Type Sex upon Outcome Age upon Outcome  \\\n",
       "0       04/28/2020         Cat    Spayed Female         4 months   \n",
       "1       06/15/2015         Cat    Spayed Female         2 months   \n",
       "2       05/06/2007         Dog    Neutered Male          7 years   \n",
       "3       08/12/2019         Dog    Spayed Female         2 months   \n",
       "4       04/07/2016         Cat      Intact Male           1 year   \n",
       "...            ...         ...              ...              ...   \n",
       "4995    09/04/2017         Cat    Neutered Male          2 years   \n",
       "4996    04/18/2021         Cat      Intact Male          4 weeks   \n",
       "4997    11/30/2014         Dog    Spayed Female          6 years   \n",
       "4998    02/20/2017         Dog    Neutered Male         2 months   \n",
       "4999    03/24/2015       Other          Unknown          4 weeks   \n",
       "\n",
       "                                 Breed             Color  Outcome  \n",
       "0                   Domestic Shorthair  Blue Tabby/White        0  \n",
       "1               Domestic Shorthair Mix            Torbie        0  \n",
       "2         English Springer Spaniel Mix       Black/White        0  \n",
       "3     Labrador Retriever/Redbone Hound         Red/Black        0  \n",
       "4               Domestic Shorthair Mix      White/Orange        0  \n",
       "...                                ...               ...      ...  \n",
       "4995                Domestic Shorthair      Orange Tabby        0  \n",
       "4996                Domestic Shorthair        Lynx Point        0  \n",
       "4997                  Miniature Poodle        Brown/Gray        0  \n",
       "4998            Labrador Retriever Mix       Black/White        0  \n",
       "4999                               Bat       Black/Brown        1  \n",
       "\n",
       "[5000 rows x 11 columns]"
      ]
     },
     "execution_count": 2,
     "metadata": {},
     "output_type": "execute_result"
    }
   ],
   "source": [
    "df = pd.read_csv(\"../data/animal_shelter_18202817.csv\")\n",
    "df_raw = df.copy()\n",
    "df"
   ]
  },
  {
   "cell_type": "markdown",
   "id": "67c242fd",
   "metadata": {},
   "source": [
    "The raw dataset has 5000 observations with 11 characteristics."
   ]
  },
  {
   "cell_type": "markdown",
   "id": "e5355661",
   "metadata": {},
   "source": [
    "Key points to be noted from the data description:\n",
    "    \n",
    "- The animal shelter in question is concerned with reducing the risk of animal death.\n",
    "- A data analytics solution for death risk prediction will help them in their planning \n",
    "  towards improving the welfare of shltered animals.\n",
    "- Outcome = 1 implies a *negative* outcome, e.g. death.\n",
    "- Outcome = 0 implies a *positive* outcome, e.g. adoption, return to owner."
   ]
  },
  {
   "cell_type": "markdown",
   "id": "d4a67193",
   "metadata": {},
   "source": [
    "### 1. Convert features to appropriate data types"
   ]
  },
  {
   "cell_type": "code",
   "execution_count": 3,
   "id": "4fd7b74f",
   "metadata": {},
   "outputs": [
    {
     "name": "stdout",
     "output_type": "stream",
     "text": [
      "<class 'pandas.core.frame.DataFrame'>\n",
      "RangeIndex: 5000 entries, 0 to 4999\n",
      "Data columns (total 11 columns):\n",
      " #   Column            Non-Null Count  Dtype \n",
      "---  ------            --------------  ----- \n",
      " 0   Animal ID         5000 non-null   object\n",
      " 1   Name              3507 non-null   object\n",
      " 2   DateTime          5000 non-null   object\n",
      " 3   MonthYear         5000 non-null   object\n",
      " 4   Date of Birth     5000 non-null   object\n",
      " 5   Animal Type       5000 non-null   object\n",
      " 6   Sex upon Outcome  4999 non-null   object\n",
      " 7   Age upon Outcome  5000 non-null   object\n",
      " 8   Breed             5000 non-null   object\n",
      " 9   Color             5000 non-null   object\n",
      " 10  Outcome           5000 non-null   int64 \n",
      "dtypes: int64(1), object(10)\n",
      "memory usage: 429.8+ KB\n"
     ]
    }
   ],
   "source": [
    "df.info()"
   ]
  },
  {
   "cell_type": "markdown",
   "id": "50fd9524",
   "metadata": {},
   "source": [
    "On examining the data description, we can make the following changes:\n",
    "- `DateTime`, `MonthYear`: `object` to `datetime64`, since both the date and time are provided.\n",
    "- `Date of Birth`: `object` to `period[D]`, i.e. period with frequency = day, since the time of birth is not provided (also insignificant).\n",
    "- `Animal Type`, `Sex upon Outcome`, `Age upon Outcome`, `Breed`, `Color`: `object` to `category`, since there are a finite set of text values for these features.\n",
    "- `Outcome`: `uint8`, since it is a single bit of information."
   ]
  },
  {
   "cell_type": "code",
   "execution_count": 4,
   "id": "b8fc97b3",
   "metadata": {},
   "outputs": [
    {
     "data": {
      "text/plain": [
       "Animal ID                   object\n",
       "Name                        object\n",
       "DateTime            datetime64[ns]\n",
       "MonthYear           datetime64[ns]\n",
       "Date of Birth            period[D]\n",
       "Animal Type               category\n",
       "Sex upon Outcome          category\n",
       "Age upon Outcome          category\n",
       "Breed                     category\n",
       "Color                     category\n",
       "Outcome                      uint8\n",
       "dtype: object"
      ]
     },
     "execution_count": 4,
     "metadata": {},
     "output_type": "execute_result"
    }
   ],
   "source": [
    "def change_types(df: pd.DataFrame, changes: dict) -> None:\n",
    "    for new_type, columns in changes.items():\n",
    "        for col in columns:\n",
    "            df[col] = df[col].astype(new_type)\n",
    "\n",
    "\n",
    "change_types(df, changes={\n",
    "    \"datetime64\": [\"DateTime\", \"MonthYear\"],\n",
    "    \"period[D]\": [\"Date of Birth\"],\n",
    "    \"category\": [\"Animal Type\", \"Sex upon Outcome\", \"Age upon Outcome\", \"Breed\", \"Color\"],\n",
    "    \"uint8\": [\"Outcome\"]\n",
    "})\n",
    "df.dtypes"
   ]
  },
  {
   "cell_type": "markdown",
   "id": "e1a2cc52",
   "metadata": {},
   "source": [
    "### 2. Check for duplicates"
   ]
  },
  {
   "cell_type": "code",
   "execution_count": 5,
   "id": "13d5b8f6",
   "metadata": {},
   "outputs": [
    {
     "data": {
      "text/html": [
       "<div>\n",
       "<style scoped>\n",
       "    .dataframe tbody tr th:only-of-type {\n",
       "        vertical-align: middle;\n",
       "    }\n",
       "\n",
       "    .dataframe tbody tr th {\n",
       "        vertical-align: top;\n",
       "    }\n",
       "\n",
       "    .dataframe thead th {\n",
       "        text-align: right;\n",
       "    }\n",
       "</style>\n",
       "<table border=\"1\" class=\"dataframe\">\n",
       "  <thead>\n",
       "    <tr style=\"text-align: right;\">\n",
       "      <th></th>\n",
       "      <th>Animal ID</th>\n",
       "      <th>Name</th>\n",
       "      <th>DateTime</th>\n",
       "      <th>MonthYear</th>\n",
       "      <th>Date of Birth</th>\n",
       "      <th>Animal Type</th>\n",
       "      <th>Sex upon Outcome</th>\n",
       "      <th>Age upon Outcome</th>\n",
       "      <th>Breed</th>\n",
       "      <th>Color</th>\n",
       "      <th>Outcome</th>\n",
       "    </tr>\n",
       "  </thead>\n",
       "  <tbody>\n",
       "  </tbody>\n",
       "</table>\n",
       "</div>"
      ],
      "text/plain": [
       "Empty DataFrame\n",
       "Columns: [Animal ID, Name, DateTime, MonthYear, Date of Birth, Animal Type, Sex upon Outcome, Age upon Outcome, Breed, Color, Outcome]\n",
       "Index: []"
      ]
     },
     "execution_count": 5,
     "metadata": {},
     "output_type": "execute_result"
    }
   ],
   "source": [
    "# Check rows\n",
    "df[df.duplicated(keep=False)]"
   ]
  },
  {
   "cell_type": "code",
   "execution_count": 6,
   "id": "a05ebdc9",
   "metadata": {},
   "outputs": [
    {
     "data": {
      "text/html": [
       "<div>\n",
       "<style scoped>\n",
       "    .dataframe tbody tr th:only-of-type {\n",
       "        vertical-align: middle;\n",
       "    }\n",
       "\n",
       "    .dataframe tbody tr th {\n",
       "        vertical-align: top;\n",
       "    }\n",
       "\n",
       "    .dataframe thead th {\n",
       "        text-align: right;\n",
       "    }\n",
       "</style>\n",
       "<table border=\"1\" class=\"dataframe\">\n",
       "  <thead>\n",
       "    <tr style=\"text-align: right;\">\n",
       "      <th></th>\n",
       "      <th>0</th>\n",
       "      <th>1</th>\n",
       "      <th>2</th>\n",
       "      <th>3</th>\n",
       "      <th>4</th>\n",
       "      <th>5</th>\n",
       "      <th>6</th>\n",
       "      <th>7</th>\n",
       "      <th>8</th>\n",
       "      <th>9</th>\n",
       "      <th>...</th>\n",
       "      <th>4990</th>\n",
       "      <th>4991</th>\n",
       "      <th>4992</th>\n",
       "      <th>4993</th>\n",
       "      <th>4994</th>\n",
       "      <th>4995</th>\n",
       "      <th>4996</th>\n",
       "      <th>4997</th>\n",
       "      <th>4998</th>\n",
       "      <th>4999</th>\n",
       "    </tr>\n",
       "  </thead>\n",
       "  <tbody>\n",
       "    <tr>\n",
       "      <th>DateTime</th>\n",
       "      <td>2020-09-22 10:33:00</td>\n",
       "      <td>2015-09-07 12:28:00</td>\n",
       "      <td>2014-05-23 17:16:00</td>\n",
       "      <td>2019-10-27 16:44:00</td>\n",
       "      <td>2017-04-08 09:00:00</td>\n",
       "      <td>2016-03-27 09:02:00</td>\n",
       "      <td>2013-10-07 17:06:00</td>\n",
       "      <td>2014-12-12 16:13:00</td>\n",
       "      <td>2019-06-13 12:36:00</td>\n",
       "      <td>2016-11-10 11:02:00</td>\n",
       "      <td>...</td>\n",
       "      <td>2014-01-10 14:20:00</td>\n",
       "      <td>2014-12-03 18:28:00</td>\n",
       "      <td>2017-11-28 15:50:00</td>\n",
       "      <td>2019-01-18 11:02:00</td>\n",
       "      <td>2014-06-06 12:28:00</td>\n",
       "      <td>2019-09-04 19:04:00</td>\n",
       "      <td>2021-05-20 14:29:00</td>\n",
       "      <td>2020-12-04 11:06:00</td>\n",
       "      <td>2017-05-11 17:02:00</td>\n",
       "      <td>2015-04-24 07:59:00</td>\n",
       "    </tr>\n",
       "    <tr>\n",
       "      <th>MonthYear</th>\n",
       "      <td>2020-09-22 10:33:00</td>\n",
       "      <td>2015-09-07 12:28:00</td>\n",
       "      <td>2014-05-23 17:16:00</td>\n",
       "      <td>2019-10-27 16:44:00</td>\n",
       "      <td>2017-04-08 09:00:00</td>\n",
       "      <td>2016-03-27 09:02:00</td>\n",
       "      <td>2013-10-07 17:06:00</td>\n",
       "      <td>2014-12-12 16:13:00</td>\n",
       "      <td>2019-06-13 12:36:00</td>\n",
       "      <td>2016-11-10 11:02:00</td>\n",
       "      <td>...</td>\n",
       "      <td>2014-01-10 14:20:00</td>\n",
       "      <td>2014-12-03 18:28:00</td>\n",
       "      <td>2017-11-28 15:50:00</td>\n",
       "      <td>2019-01-18 11:02:00</td>\n",
       "      <td>2014-06-06 12:28:00</td>\n",
       "      <td>2019-09-04 19:04:00</td>\n",
       "      <td>2021-05-20 14:29:00</td>\n",
       "      <td>2020-12-04 11:06:00</td>\n",
       "      <td>2017-05-11 17:02:00</td>\n",
       "      <td>2015-04-24 07:59:00</td>\n",
       "    </tr>\n",
       "  </tbody>\n",
       "</table>\n",
       "<p>2 rows × 5000 columns</p>\n",
       "</div>"
      ],
      "text/plain": [
       "                          0                    1                    2     \\\n",
       "DateTime   2020-09-22 10:33:00  2015-09-07 12:28:00  2014-05-23 17:16:00   \n",
       "MonthYear  2020-09-22 10:33:00  2015-09-07 12:28:00  2014-05-23 17:16:00   \n",
       "\n",
       "                          3                    4                    5     \\\n",
       "DateTime   2019-10-27 16:44:00  2017-04-08 09:00:00  2016-03-27 09:02:00   \n",
       "MonthYear  2019-10-27 16:44:00  2017-04-08 09:00:00  2016-03-27 09:02:00   \n",
       "\n",
       "                          6                    7                    8     \\\n",
       "DateTime   2013-10-07 17:06:00  2014-12-12 16:13:00  2019-06-13 12:36:00   \n",
       "MonthYear  2013-10-07 17:06:00  2014-12-12 16:13:00  2019-06-13 12:36:00   \n",
       "\n",
       "                          9     ...                 4990                 4991  \\\n",
       "DateTime   2016-11-10 11:02:00  ...  2014-01-10 14:20:00  2014-12-03 18:28:00   \n",
       "MonthYear  2016-11-10 11:02:00  ...  2014-01-10 14:20:00  2014-12-03 18:28:00   \n",
       "\n",
       "                          4992                 4993                 4994  \\\n",
       "DateTime   2017-11-28 15:50:00  2019-01-18 11:02:00  2014-06-06 12:28:00   \n",
       "MonthYear  2017-11-28 15:50:00  2019-01-18 11:02:00  2014-06-06 12:28:00   \n",
       "\n",
       "                          4995                 4996                 4997  \\\n",
       "DateTime   2019-09-04 19:04:00  2021-05-20 14:29:00  2020-12-04 11:06:00   \n",
       "MonthYear  2019-09-04 19:04:00  2021-05-20 14:29:00  2020-12-04 11:06:00   \n",
       "\n",
       "                          4998                 4999  \n",
       "DateTime   2017-05-11 17:02:00  2015-04-24 07:59:00  \n",
       "MonthYear  2017-05-11 17:02:00  2015-04-24 07:59:00  \n",
       "\n",
       "[2 rows x 5000 columns]"
      ]
     },
     "execution_count": 6,
     "metadata": {},
     "output_type": "execute_result"
    }
   ],
   "source": [
    "# Check columns\n",
    "dfT = df.T  # transpose dataframe and perform same check as done for rows\n",
    "dfT[dfT.duplicated(keep=False)]"
   ]
  },
  {
   "cell_type": "markdown",
   "id": "487c6260",
   "metadata": {},
   "source": [
    "It appears that there are no duplicate rows, but the `DateTime` and `MonthYear` columns are identical, so we can safely drop the latter."
   ]
  },
  {
   "cell_type": "code",
   "execution_count": 7,
   "id": "8c4d030b",
   "metadata": {},
   "outputs": [
    {
     "name": "stdout",
     "output_type": "stream",
     "text": [
      "Duplicate rows remaining: 0\n",
      "Duplicate columns remaining: 0\n"
     ]
    }
   ],
   "source": [
    "df.drop(columns=[\"MonthYear\"], inplace=True)\n",
    "print(f\"Duplicate rows remaining: {len(df[df.duplicated(keep=False)])}\")\n",
    "print(f\"Duplicate columns remaining: {len(df.T[df.T.duplicated(keep=False)])}\")"
   ]
  },
  {
   "cell_type": "markdown",
   "id": "1bb9a529",
   "metadata": {},
   "source": [
    "### 3. Check for constant columns"
   ]
  },
  {
   "cell_type": "code",
   "execution_count": 8,
   "id": "3d3d96d1",
   "metadata": {},
   "outputs": [
    {
     "data": {
      "text/html": [
       "<div>\n",
       "<style scoped>\n",
       "    .dataframe tbody tr th:only-of-type {\n",
       "        vertical-align: middle;\n",
       "    }\n",
       "\n",
       "    .dataframe tbody tr th {\n",
       "        vertical-align: top;\n",
       "    }\n",
       "\n",
       "    .dataframe thead th {\n",
       "        text-align: right;\n",
       "    }\n",
       "</style>\n",
       "<table border=\"1\" class=\"dataframe\">\n",
       "  <thead>\n",
       "    <tr style=\"text-align: right;\">\n",
       "      <th></th>\n",
       "      <th>count</th>\n",
       "      <th>unique</th>\n",
       "      <th>top</th>\n",
       "      <th>freq</th>\n",
       "    </tr>\n",
       "  </thead>\n",
       "  <tbody>\n",
       "    <tr>\n",
       "      <th>Animal Type</th>\n",
       "      <td>5000</td>\n",
       "      <td>5</td>\n",
       "      <td>Dog</td>\n",
       "      <td>2884</td>\n",
       "    </tr>\n",
       "    <tr>\n",
       "      <th>Sex upon Outcome</th>\n",
       "      <td>4999</td>\n",
       "      <td>5</td>\n",
       "      <td>Neutered Male</td>\n",
       "      <td>1809</td>\n",
       "    </tr>\n",
       "    <tr>\n",
       "      <th>Age upon Outcome</th>\n",
       "      <td>5000</td>\n",
       "      <td>44</td>\n",
       "      <td>1 year</td>\n",
       "      <td>869</td>\n",
       "    </tr>\n",
       "    <tr>\n",
       "      <th>Breed</th>\n",
       "      <td>5000</td>\n",
       "      <td>561</td>\n",
       "      <td>Domestic Shorthair Mix</td>\n",
       "      <td>1199</td>\n",
       "    </tr>\n",
       "    <tr>\n",
       "      <th>Color</th>\n",
       "      <td>5000</td>\n",
       "      <td>224</td>\n",
       "      <td>Black/White</td>\n",
       "      <td>544</td>\n",
       "    </tr>\n",
       "  </tbody>\n",
       "</table>\n",
       "</div>"
      ],
      "text/plain": [
       "                 count unique                     top  freq\n",
       "Animal Type       5000      5                     Dog  2884\n",
       "Sex upon Outcome  4999      5           Neutered Male  1809\n",
       "Age upon Outcome  5000     44                  1 year   869\n",
       "Breed             5000    561  Domestic Shorthair Mix  1199\n",
       "Color             5000    224             Black/White   544"
      ]
     },
     "execution_count": 8,
     "metadata": {},
     "output_type": "execute_result"
    }
   ],
   "source": [
    "df.select_dtypes([\"category\"]).describe().T"
   ]
  },
  {
   "cell_type": "code",
   "execution_count": 9,
   "id": "dfcf3e86",
   "metadata": {},
   "outputs": [
    {
     "data": {
      "text/plain": [
       "Animal ID           4968\n",
       "Name                2417\n",
       "DateTime            4948\n",
       "Date of Birth       2944\n",
       "Animal Type            5\n",
       "Sex upon Outcome       5\n",
       "Age upon Outcome      44\n",
       "Breed                561\n",
       "Color                224\n",
       "Outcome                2\n",
       "dtype: int64"
      ]
     },
     "execution_count": 9,
     "metadata": {},
     "output_type": "execute_result"
    }
   ],
   "source": [
    "df.nunique()"
   ]
  },
  {
   "cell_type": "markdown",
   "id": "b48a2a45",
   "metadata": {},
   "source": [
    "All columns have cardinality > 1, hence there are no constant columns in the dataset. The issue of unnecessarily high cardinality of `Breed` and `Color` features will be dealt with when fixing data quality issues."
   ]
  },
  {
   "cell_type": "markdown",
   "id": "a2316c83",
   "metadata": {},
   "source": [
    "Save the intermediate cleaned dataset."
   ]
  },
  {
   "cell_type": "code",
   "execution_count": 10,
   "id": "62fc2c4c",
   "metadata": {},
   "outputs": [],
   "source": [
    "df.to_csv(\"../data/animal_shelter_cleaned_1ai.csv\")"
   ]
  },
  {
   "cell_type": "markdown",
   "id": "bc46e9f5",
   "metadata": {},
   "source": [
    "### 4. Check for outliers and typographical/data input errors"
   ]
  },
  {
   "cell_type": "code",
   "execution_count": 11,
   "id": "2f35f0dd",
   "metadata": {},
   "outputs": [
    {
     "data": {
      "text/plain": [
       "Index(['Animal ID', 'Name', 'DateTime', 'Date of Birth', 'Animal Type',\n",
       "       'Sex upon Outcome', 'Age upon Outcome', 'Breed', 'Color', 'Outcome'],\n",
       "      dtype='object')"
      ]
     },
     "execution_count": 11,
     "metadata": {},
     "output_type": "execute_result"
    }
   ],
   "source": [
    "df.columns"
   ]
  },
  {
   "cell_type": "markdown",
   "id": "d88f4e61",
   "metadata": {},
   "source": [
    "Since there aren't any numerical predictor features, there is no need to check for numerical outliers."
   ]
  },
  {
   "cell_type": "markdown",
   "id": "e2d35ce7",
   "metadata": {},
   "source": [
    "We can count the unique values in some of our features:"
   ]
  },
  {
   "cell_type": "code",
   "execution_count": 12,
   "id": "d2261321",
   "metadata": {
    "scrolled": false
   },
   "outputs": [
    {
     "name": "stdout",
     "output_type": "stream",
     "text": [
      "--------------------------------------\n",
      "Dog          2884\n",
      "Cat          1878\n",
      "Other         223\n",
      "Bird           14\n",
      "Livestock       1\n",
      "Name: Animal Type, dtype: int64\n",
      "--------------------------------------\n",
      "Neutered Male    1809\n",
      "Spayed Female    1554\n",
      "Intact Female     650\n",
      "Intact Male       630\n",
      "Unknown           356\n",
      "NaN                 1\n",
      "Name: Sex upon Outcome, dtype: int64\n",
      "--------------------------------------\n",
      "1 year       869\n",
      "2 years      787\n",
      "2 months     629\n",
      "3 years      296\n",
      "3 months     227\n",
      "1 month      185\n",
      "4 years      176\n",
      "4 months     174\n",
      "5 years      153\n",
      "5 months     138\n",
      "6 months     109\n",
      "6 years      105\n",
      "7 years      101\n",
      "8 years       94\n",
      "8 months      90\n",
      "2 weeks       88\n",
      "3 weeks       75\n",
      "10 months     73\n",
      "4 weeks       68\n",
      "10 years      63\n",
      "9 months      56\n",
      "7 months      52\n",
      "9 years       50\n",
      "11 months     42\n",
      "12 years      39\n",
      "1 weeks       38\n",
      "11 years      37\n",
      "1 week        28\n",
      "2 days        21\n",
      "13 years      21\n",
      "3 days        20\n",
      "6 days        15\n",
      "15 years      14\n",
      "14 years      12\n",
      "1 day         11\n",
      "4 days        11\n",
      "16 years       8\n",
      "5 days         8\n",
      "5 weeks        4\n",
      "0 years        4\n",
      "17 years       3\n",
      "18 years       3\n",
      "-1 years       2\n",
      "19 years       1\n",
      "Name: Age upon Outcome, dtype: int64\n",
      "--------------------------------------\n",
      "Domestic Shorthair Mix          1199\n",
      "Domestic Shorthair               354\n",
      "Pit Bull Mix                     339\n",
      "Labrador Retriever Mix           301\n",
      "Chihuahua Shorthair Mix          241\n",
      "                                ... \n",
      "Dachshund/Pug                      1\n",
      "Dachshund/Italian Greyhound        1\n",
      "Dachshund/Cocker Spaniel           1\n",
      "Dachshund/Catahoula                1\n",
      "Yorkshire Terrier/Toy Poodle       1\n",
      "Name: Breed, Length: 561, dtype: int64\n",
      "--------------------------------------\n",
      "Black/White     544\n",
      "Black           423\n",
      "Brown Tabby     294\n",
      "Brown           210\n",
      "Brown/White     182\n",
      "               ... \n",
      "Tan/Buff          1\n",
      "Apricot           1\n",
      "Black/Silver      1\n",
      "Tan/Apricot       1\n",
      "Agouti            1\n",
      "Name: Color, Length: 224, dtype: int64\n",
      "--------------------------------------\n",
      "0    4631\n",
      "1     369\n",
      "Name: Outcome, dtype: int64\n"
     ]
    }
   ],
   "source": [
    "for col in [\"Animal Type\", \"Sex upon Outcome\", \"Age upon Outcome\", \"Breed\", \"Color\", \"Outcome\"]:\n",
    "    print(f\"{'-' * 38}\\n{df[col].value_counts(dropna=False)}\")"
   ]
  },
  {
   "cell_type": "markdown",
   "id": "5a9e49da",
   "metadata": {},
   "source": [
    "Among other things, observations that stand out above are: `Age upon Outcome` as `-1 years` and `0 years`."
   ]
  },
  {
   "cell_type": "code",
   "execution_count": 13,
   "id": "ba82d8e8",
   "metadata": {},
   "outputs": [
    {
     "data": {
      "text/html": [
       "<div>\n",
       "<style scoped>\n",
       "    .dataframe tbody tr th:only-of-type {\n",
       "        vertical-align: middle;\n",
       "    }\n",
       "\n",
       "    .dataframe tbody tr th {\n",
       "        vertical-align: top;\n",
       "    }\n",
       "\n",
       "    .dataframe thead th {\n",
       "        text-align: right;\n",
       "    }\n",
       "</style>\n",
       "<table border=\"1\" class=\"dataframe\">\n",
       "  <thead>\n",
       "    <tr style=\"text-align: right;\">\n",
       "      <th></th>\n",
       "      <th>Animal ID</th>\n",
       "      <th>Name</th>\n",
       "      <th>DateTime</th>\n",
       "      <th>Date of Birth</th>\n",
       "      <th>Animal Type</th>\n",
       "      <th>Sex upon Outcome</th>\n",
       "      <th>Age upon Outcome</th>\n",
       "      <th>Breed</th>\n",
       "      <th>Color</th>\n",
       "      <th>Outcome</th>\n",
       "    </tr>\n",
       "  </thead>\n",
       "  <tbody>\n",
       "    <tr>\n",
       "      <th>2452</th>\n",
       "      <td>A687107</td>\n",
       "      <td>Montopolis</td>\n",
       "      <td>2018-02-28 11:18:00</td>\n",
       "      <td>2019-03-17</td>\n",
       "      <td>Dog</td>\n",
       "      <td>Neutered Male</td>\n",
       "      <td>-1 years</td>\n",
       "      <td>Rhod Ridgeback</td>\n",
       "      <td>Red/Brown</td>\n",
       "      <td>0</td>\n",
       "    </tr>\n",
       "    <tr>\n",
       "      <th>2491</th>\n",
       "      <td>A797495</td>\n",
       "      <td>Ace</td>\n",
       "      <td>2019-06-15 12:44:00</td>\n",
       "      <td>2020-12-16</td>\n",
       "      <td>Dog</td>\n",
       "      <td>Neutered Male</td>\n",
       "      <td>-1 years</td>\n",
       "      <td>Cairn Terrier</td>\n",
       "      <td>Black/Tan</td>\n",
       "      <td>0</td>\n",
       "    </tr>\n",
       "    <tr>\n",
       "      <th>2631</th>\n",
       "      <td>A666600</td>\n",
       "      <td>NaN</td>\n",
       "      <td>2013-11-04 14:54:00</td>\n",
       "      <td>2013-11-04</td>\n",
       "      <td>Dog</td>\n",
       "      <td>Intact Male</td>\n",
       "      <td>0 years</td>\n",
       "      <td>Beagle/Chihuahua Shorthair</td>\n",
       "      <td>White</td>\n",
       "      <td>0</td>\n",
       "    </tr>\n",
       "    <tr>\n",
       "      <th>3170</th>\n",
       "      <td>A819590</td>\n",
       "      <td>*85 G Single</td>\n",
       "      <td>2020-07-01 14:53:00</td>\n",
       "      <td>2020-07-01</td>\n",
       "      <td>Cat</td>\n",
       "      <td>Intact Female</td>\n",
       "      <td>0 years</td>\n",
       "      <td>Domestic Shorthair</td>\n",
       "      <td>Gray Tabby</td>\n",
       "      <td>0</td>\n",
       "    </tr>\n",
       "    <tr>\n",
       "      <th>4287</th>\n",
       "      <td>A677463</td>\n",
       "      <td>NaN</td>\n",
       "      <td>2014-04-25 15:17:00</td>\n",
       "      <td>2014-04-25</td>\n",
       "      <td>Cat</td>\n",
       "      <td>Unknown</td>\n",
       "      <td>0 years</td>\n",
       "      <td>Domestic Shorthair Mix</td>\n",
       "      <td>Blue</td>\n",
       "      <td>0</td>\n",
       "    </tr>\n",
       "    <tr>\n",
       "      <th>4683</th>\n",
       "      <td>A795144</td>\n",
       "      <td>NaN</td>\n",
       "      <td>2019-05-16 18:16:00</td>\n",
       "      <td>2019-05-16</td>\n",
       "      <td>Cat</td>\n",
       "      <td>Unknown</td>\n",
       "      <td>0 years</td>\n",
       "      <td>Domestic Shorthair</td>\n",
       "      <td>White/Black</td>\n",
       "      <td>0</td>\n",
       "    </tr>\n",
       "  </tbody>\n",
       "</table>\n",
       "</div>"
      ],
      "text/plain": [
       "     Animal ID          Name            DateTime Date of Birth Animal Type  \\\n",
       "2452   A687107    Montopolis 2018-02-28 11:18:00    2019-03-17         Dog   \n",
       "2491   A797495           Ace 2019-06-15 12:44:00    2020-12-16         Dog   \n",
       "2631   A666600           NaN 2013-11-04 14:54:00    2013-11-04         Dog   \n",
       "3170   A819590  *85 G Single 2020-07-01 14:53:00    2020-07-01         Cat   \n",
       "4287   A677463           NaN 2014-04-25 15:17:00    2014-04-25         Cat   \n",
       "4683   A795144           NaN 2019-05-16 18:16:00    2019-05-16         Cat   \n",
       "\n",
       "     Sex upon Outcome Age upon Outcome                       Breed  \\\n",
       "2452    Neutered Male         -1 years              Rhod Ridgeback   \n",
       "2491    Neutered Male         -1 years               Cairn Terrier   \n",
       "2631      Intact Male          0 years  Beagle/Chihuahua Shorthair   \n",
       "3170    Intact Female          0 years          Domestic Shorthair   \n",
       "4287          Unknown          0 years      Domestic Shorthair Mix   \n",
       "4683          Unknown          0 years          Domestic Shorthair   \n",
       "\n",
       "            Color  Outcome  \n",
       "2452    Red/Brown        0  \n",
       "2491    Black/Tan        0  \n",
       "2631        White        0  \n",
       "3170   Gray Tabby        0  \n",
       "4287         Blue        0  \n",
       "4683  White/Black        0  "
      ]
     },
     "execution_count": 13,
     "metadata": {},
     "output_type": "execute_result"
    }
   ],
   "source": [
    "df[df[\"Age upon Outcome\"].isin([\"-1 years\", \"0 years\"])]"
   ]
  },
  {
   "cell_type": "markdown",
   "id": "fb51575e",
   "metadata": {},
   "source": [
    "- The 2 `-1 years` entries are clearly data input errors, with `Date of Birth > DateTime`. \n",
    "- For the 4 `0 years` entries, the `Date of Birth`, `DateTime` and `Outcome` columns indicate that the animals had a positive outcome on the same day that they were born, so these are not necessarily erroneous observations."
   ]
  },
  {
   "cell_type": "markdown",
   "id": "629043b4",
   "metadata": {},
   "source": [
    "### 5. Check for null values"
   ]
  },
  {
   "cell_type": "code",
   "execution_count": 14,
   "id": "c48deec0",
   "metadata": {
    "scrolled": true
   },
   "outputs": [
    {
     "data": {
      "text/plain": [
       "Animal ID            0.00\n",
       "Name                29.86\n",
       "DateTime             0.00\n",
       "Date of Birth        0.00\n",
       "Animal Type          0.00\n",
       "Sex upon Outcome     0.02\n",
       "Age upon Outcome     0.00\n",
       "Breed                0.00\n",
       "Color                0.00\n",
       "Outcome              0.00\n",
       "dtype: float64"
      ]
     },
     "execution_count": 14,
     "metadata": {},
     "output_type": "execute_result"
    }
   ],
   "source": [
    "100 * (df.isnull().sum()/len(df))"
   ]
  },
  {
   "cell_type": "markdown",
   "id": "f7e38912",
   "metadata": {},
   "source": [
    "We note that that 29.86% of `Name` and 0.02% of `Sex upon Outcome` are missing."
   ]
  },
  {
   "cell_type": "markdown",
   "id": "c8ae7c31",
   "metadata": {},
   "source": [
    "### 6. Data quality plan\n",
    "\n",
    "\n",
    "| Feature | Data type | Issue | Mitigation |\n",
    "| --- | --- | --- | --- |\n",
    "| `Animal ID` | `object` | Too many distinct values (noise). | Drop | \n",
    "| `Name` | `object` | 29.86% missing values. | Convert `Name` to binary feature: 1 if name exists, 0 if not. |\n",
    "| `DateTime` | `datetime64` | Inconsequential; the date/time of recording an observation can be assumed to have no significant impact on the outcome in this scenario. | Drop |\n",
    "| `Date of Birth` | `period[D]` | Duplicate information; the `Age upon Outcome` feature approximately conveys the same thing. | Drop |  \n",
    "| `AnimalType` | `category` | `Bird` (14) and `Livestock` (1) have very low frequency compared to `Cat` (1878) and `Dog` (2884). | `Bird` and `Livestock` can be grouped with the existing `Other` class. |\n",
    "| `Sex upon Outcome` | `category` | 0.02% missing values | Fill in missing values with existing `Unknown` class. |\n",
    "| `Age upon Outcome` | `category` | There are 2 instances of negative age (`-1 years`). There are 4 instances of age as `0 years`. Moreover, units for age are not consistent (days, weeks, months, years, etc.), thereby increasing the total number of categories. | Since the number of instances of negative age is very small (2), we can remove the observations as there is no reliable way of guessing the ages. The 4 entries with `0 years` age can be converted to `0 days` as per our analysis earlier. Regarding the age unit consistency, we can convert all entries to days since that is the smallest observed unit in the dataset. Furthermore, we can convert the days to an interval of days to reduce the number of distinct categories. |\n",
    "| `Breed` | `category` | Too many unique categories (561), including some with very low frequency. | Investigate further and decide how to group multiple breeds together. |\n",
    "| `Color` | `category` | Too many unique categories (224), including some with very low frequency. | Investigate further and decide how to group multiple colors together. |"
   ]
  },
  {
   "cell_type": "markdown",
   "id": "08c56137",
   "metadata": {},
   "source": [
    "### 7. Drop unnecessary features"
   ]
  },
  {
   "cell_type": "code",
   "execution_count": 15,
   "id": "db800294",
   "metadata": {},
   "outputs": [
    {
     "data": {
      "text/html": [
       "<div>\n",
       "<style scoped>\n",
       "    .dataframe tbody tr th:only-of-type {\n",
       "        vertical-align: middle;\n",
       "    }\n",
       "\n",
       "    .dataframe tbody tr th {\n",
       "        vertical-align: top;\n",
       "    }\n",
       "\n",
       "    .dataframe thead th {\n",
       "        text-align: right;\n",
       "    }\n",
       "</style>\n",
       "<table border=\"1\" class=\"dataframe\">\n",
       "  <thead>\n",
       "    <tr style=\"text-align: right;\">\n",
       "      <th></th>\n",
       "      <th>Name</th>\n",
       "      <th>Animal Type</th>\n",
       "      <th>Sex upon Outcome</th>\n",
       "      <th>Age upon Outcome</th>\n",
       "      <th>Breed</th>\n",
       "      <th>Color</th>\n",
       "      <th>Outcome</th>\n",
       "    </tr>\n",
       "  </thead>\n",
       "  <tbody>\n",
       "    <tr>\n",
       "      <th>0</th>\n",
       "      <td>*Chicken</td>\n",
       "      <td>Cat</td>\n",
       "      <td>Spayed Female</td>\n",
       "      <td>4 months</td>\n",
       "      <td>Domestic Shorthair</td>\n",
       "      <td>Blue Tabby/White</td>\n",
       "      <td>0</td>\n",
       "    </tr>\n",
       "    <tr>\n",
       "      <th>1</th>\n",
       "      <td>*Sabrina</td>\n",
       "      <td>Cat</td>\n",
       "      <td>Spayed Female</td>\n",
       "      <td>2 months</td>\n",
       "      <td>Domestic Shorthair Mix</td>\n",
       "      <td>Torbie</td>\n",
       "      <td>0</td>\n",
       "    </tr>\n",
       "    <tr>\n",
       "      <th>2</th>\n",
       "      <td>Oreo</td>\n",
       "      <td>Dog</td>\n",
       "      <td>Neutered Male</td>\n",
       "      <td>7 years</td>\n",
       "      <td>English Springer Spaniel Mix</td>\n",
       "      <td>Black/White</td>\n",
       "      <td>0</td>\n",
       "    </tr>\n",
       "    <tr>\n",
       "      <th>3</th>\n",
       "      <td>Sequoia</td>\n",
       "      <td>Dog</td>\n",
       "      <td>Spayed Female</td>\n",
       "      <td>2 months</td>\n",
       "      <td>Labrador Retriever/Redbone Hound</td>\n",
       "      <td>Red/Black</td>\n",
       "      <td>0</td>\n",
       "    </tr>\n",
       "    <tr>\n",
       "      <th>4</th>\n",
       "      <td>NaN</td>\n",
       "      <td>Cat</td>\n",
       "      <td>Intact Male</td>\n",
       "      <td>1 year</td>\n",
       "      <td>Domestic Shorthair Mix</td>\n",
       "      <td>White/Orange</td>\n",
       "      <td>0</td>\n",
       "    </tr>\n",
       "  </tbody>\n",
       "</table>\n",
       "</div>"
      ],
      "text/plain": [
       "       Name Animal Type Sex upon Outcome Age upon Outcome  \\\n",
       "0  *Chicken         Cat    Spayed Female         4 months   \n",
       "1  *Sabrina         Cat    Spayed Female         2 months   \n",
       "2      Oreo         Dog    Neutered Male          7 years   \n",
       "3   Sequoia         Dog    Spayed Female         2 months   \n",
       "4       NaN         Cat      Intact Male           1 year   \n",
       "\n",
       "                              Breed             Color  Outcome  \n",
       "0                Domestic Shorthair  Blue Tabby/White        0  \n",
       "1            Domestic Shorthair Mix            Torbie        0  \n",
       "2      English Springer Spaniel Mix       Black/White        0  \n",
       "3  Labrador Retriever/Redbone Hound         Red/Black        0  \n",
       "4            Domestic Shorthair Mix      White/Orange        0  "
      ]
     },
     "execution_count": 15,
     "metadata": {},
     "output_type": "execute_result"
    }
   ],
   "source": [
    "df.drop(columns=[\"Animal ID\", \"DateTime\", \"Date of Birth\"], inplace=True)\n",
    "df.head()"
   ]
  },
  {
   "cell_type": "markdown",
   "id": "64fde777",
   "metadata": {},
   "source": [
    "### 8. Deal with `Name`\n",
    "\n",
    "If name is provided, put a value of 1, otherwise 0."
   ]
  },
  {
   "cell_type": "code",
   "execution_count": 16,
   "id": "ad933e7b",
   "metadata": {},
   "outputs": [
    {
     "data": {
      "text/plain": [
       "1    3507\n",
       "0    1493\n",
       "Name: Name, dtype: int64"
      ]
     },
     "execution_count": 16,
     "metadata": {},
     "output_type": "execute_result"
    }
   ],
   "source": [
    "df[\"Name\"].fillna(0, inplace=True)\n",
    "df[\"Name\"] = df[\"Name\"].apply(lambda x: 1 if x else 0).astype(\"uint8\")\n",
    "df[\"Name\"].value_counts()"
   ]
  },
  {
   "cell_type": "code",
   "execution_count": 17,
   "id": "7b7a005e",
   "metadata": {},
   "outputs": [
    {
     "data": {
      "text/plain": [
       "0"
      ]
     },
     "execution_count": 17,
     "metadata": {},
     "output_type": "execute_result"
    }
   ],
   "source": [
    "df[\"Name\"].isnull().sum()  # verify"
   ]
  },
  {
   "cell_type": "markdown",
   "id": "659e101d",
   "metadata": {},
   "source": [
    "### 9. Deal with `AnimalType` \n",
    "\n",
    "Group `Bird` and `Livestock` with `Other`, due to low frequency."
   ]
  },
  {
   "cell_type": "code",
   "execution_count": 18,
   "id": "780b3465",
   "metadata": {},
   "outputs": [
    {
     "data": {
      "text/plain": [
       "Dog      2884\n",
       "Cat      1878\n",
       "Other     238\n",
       "Name: Animal Type, dtype: int64"
      ]
     },
     "execution_count": 18,
     "metadata": {},
     "output_type": "execute_result"
    }
   ],
   "source": [
    "df.loc[df[\"Animal Type\"].isin([\"Bird\", \"Livestock\"]), \"Animal Type\"] = \"Other\"\n",
    "df[\"Animal Type\"] = df[\"Animal Type\"].cat.remove_unused_categories()\n",
    "df[\"Animal Type\"].value_counts()"
   ]
  },
  {
   "cell_type": "markdown",
   "id": "5fc40c0e",
   "metadata": {},
   "source": [
    "### 10. Deal with `Sex upon Outcome`\n",
    "\n",
    "Fill in missing values with `Unknown`."
   ]
  },
  {
   "cell_type": "code",
   "execution_count": 19,
   "id": "fd1efae6",
   "metadata": {},
   "outputs": [
    {
     "data": {
      "text/plain": [
       "Neutered Male    1809\n",
       "Spayed Female    1554\n",
       "Intact Female     650\n",
       "Intact Male       630\n",
       "Unknown           357\n",
       "Name: Sex upon Outcome, dtype: int64"
      ]
     },
     "execution_count": 19,
     "metadata": {},
     "output_type": "execute_result"
    }
   ],
   "source": [
    "df[\"Sex upon Outcome\"].fillna(\"Unknown\", inplace=True)\n",
    "df[\"Sex upon Outcome\"].value_counts()"
   ]
  },
  {
   "cell_type": "code",
   "execution_count": 20,
   "id": "5c40837f",
   "metadata": {},
   "outputs": [
    {
     "data": {
      "text/plain": [
       "0"
      ]
     },
     "execution_count": 20,
     "metadata": {},
     "output_type": "execute_result"
    }
   ],
   "source": [
    "df[\"Sex upon Outcome\"].isnull().sum()  # verify"
   ]
  },
  {
   "cell_type": "markdown",
   "id": "2849dbbc",
   "metadata": {},
   "source": [
    "### 11. Deal with `Age upon Outcome`\n",
    "\n",
    "- Remove observations with `-1 years` as age.\n",
    "- Convert `0 years` to `0 days`.\n",
    "- Convert all age units to days and consequently rename the feature to `Age in Days upon Outcome`.\n",
    "- Group observations into intervals of days."
   ]
  },
  {
   "cell_type": "code",
   "execution_count": 21,
   "id": "45902855",
   "metadata": {},
   "outputs": [],
   "source": [
    "# Remove `-1 years` observations\n",
    "df.drop(df[df[\"Age upon Outcome\"] == \"-1 years\"].index, inplace=True)"
   ]
  },
  {
   "cell_type": "code",
   "execution_count": 22,
   "id": "60461e52",
   "metadata": {},
   "outputs": [],
   "source": [
    "# Convert `0 years` to `0 days`\n",
    "df[\"Age upon Outcome\"] = df[\"Age upon Outcome\"].cat.rename_categories({\"0 years\": \"0 days\"})"
   ]
  },
  {
   "cell_type": "code",
   "execution_count": 23,
   "id": "67b3252e",
   "metadata": {},
   "outputs": [
    {
     "data": {
      "text/html": [
       "<div>\n",
       "<style scoped>\n",
       "    .dataframe tbody tr th:only-of-type {\n",
       "        vertical-align: middle;\n",
       "    }\n",
       "\n",
       "    .dataframe tbody tr th {\n",
       "        vertical-align: top;\n",
       "    }\n",
       "\n",
       "    .dataframe thead th {\n",
       "        text-align: right;\n",
       "    }\n",
       "</style>\n",
       "<table border=\"1\" class=\"dataframe\">\n",
       "  <thead>\n",
       "    <tr style=\"text-align: right;\">\n",
       "      <th></th>\n",
       "      <th>Name</th>\n",
       "      <th>Animal Type</th>\n",
       "      <th>Sex upon Outcome</th>\n",
       "      <th>Age in Days upon Outcome</th>\n",
       "      <th>Breed</th>\n",
       "      <th>Color</th>\n",
       "      <th>Outcome</th>\n",
       "    </tr>\n",
       "  </thead>\n",
       "  <tbody>\n",
       "    <tr>\n",
       "      <th>0</th>\n",
       "      <td>1</td>\n",
       "      <td>Cat</td>\n",
       "      <td>Spayed Female</td>\n",
       "      <td>120</td>\n",
       "      <td>Domestic Shorthair</td>\n",
       "      <td>Blue Tabby/White</td>\n",
       "      <td>0</td>\n",
       "    </tr>\n",
       "    <tr>\n",
       "      <th>1</th>\n",
       "      <td>1</td>\n",
       "      <td>Cat</td>\n",
       "      <td>Spayed Female</td>\n",
       "      <td>60</td>\n",
       "      <td>Domestic Shorthair Mix</td>\n",
       "      <td>Torbie</td>\n",
       "      <td>0</td>\n",
       "    </tr>\n",
       "    <tr>\n",
       "      <th>2</th>\n",
       "      <td>1</td>\n",
       "      <td>Dog</td>\n",
       "      <td>Neutered Male</td>\n",
       "      <td>2555</td>\n",
       "      <td>English Springer Spaniel Mix</td>\n",
       "      <td>Black/White</td>\n",
       "      <td>0</td>\n",
       "    </tr>\n",
       "    <tr>\n",
       "      <th>3</th>\n",
       "      <td>1</td>\n",
       "      <td>Dog</td>\n",
       "      <td>Spayed Female</td>\n",
       "      <td>60</td>\n",
       "      <td>Labrador Retriever/Redbone Hound</td>\n",
       "      <td>Red/Black</td>\n",
       "      <td>0</td>\n",
       "    </tr>\n",
       "    <tr>\n",
       "      <th>4</th>\n",
       "      <td>0</td>\n",
       "      <td>Cat</td>\n",
       "      <td>Intact Male</td>\n",
       "      <td>365</td>\n",
       "      <td>Domestic Shorthair Mix</td>\n",
       "      <td>White/Orange</td>\n",
       "      <td>0</td>\n",
       "    </tr>\n",
       "  </tbody>\n",
       "</table>\n",
       "</div>"
      ],
      "text/plain": [
       "   Name Animal Type Sex upon Outcome  Age in Days upon Outcome  \\\n",
       "0     1         Cat    Spayed Female                       120   \n",
       "1     1         Cat    Spayed Female                        60   \n",
       "2     1         Dog    Neutered Male                      2555   \n",
       "3     1         Dog    Spayed Female                        60   \n",
       "4     0         Cat      Intact Male                       365   \n",
       "\n",
       "                              Breed             Color  Outcome  \n",
       "0                Domestic Shorthair  Blue Tabby/White        0  \n",
       "1            Domestic Shorthair Mix            Torbie        0  \n",
       "2      English Springer Spaniel Mix       Black/White        0  \n",
       "3  Labrador Retriever/Redbone Hound         Red/Black        0  \n",
       "4            Domestic Shorthair Mix      White/Orange        0  "
      ]
     },
     "execution_count": 23,
     "metadata": {},
     "output_type": "execute_result"
    }
   ],
   "source": [
    "# Make age units consistent (approximate: 1 week = 7 days, 1 month = 30 days, 1 year = 365 days)\n",
    "def convert_to_days(age: str) -> int:\n",
    "    n, unit = age.split()\n",
    "    days = int(n)\n",
    "    if \"year\" in unit:\n",
    "        return days * 365\n",
    "    elif \"month\" in unit:\n",
    "        return days * 30\n",
    "    elif \"week\" in unit:\n",
    "        return days * 7\n",
    "    else:\n",
    "        return days\n",
    "\n",
    "\n",
    "df[\"Age upon Outcome\"] = df[\"Age upon Outcome\"].astype(\"object\").apply(convert_to_days).astype(\"int64\")\n",
    "df.rename(columns={\"Age upon Outcome\": \"Age in Days upon Outcome\"}, inplace=True)\n",
    "df.head()"
   ]
  },
  {
   "cell_type": "markdown",
   "id": "12ae54bb",
   "metadata": {},
   "source": [
    "Discretise age into multiple bins. The `qcut` function defines the bins using quantiles based on the distribution of the data, not the actual numeric edges of the bins."
   ]
  },
  {
   "cell_type": "code",
   "execution_count": 24,
   "id": "399ab968",
   "metadata": {},
   "outputs": [
    {
     "data": {
      "text/plain": [
       "(90.0, 365.0]      1603\n",
       "(-0.001, 90.0]     1432\n",
       "(730.0, 6935.0]    1176\n",
       "(365.0, 730.0]      787\n",
       "Name: Age in Days upon Outcome, dtype: int64"
      ]
     },
     "execution_count": 24,
     "metadata": {},
     "output_type": "execute_result"
    }
   ],
   "source": [
    "df[\"Age in Days upon Outcome\"] = pd.qcut(np.array(df[\"Age in Days upon Outcome\"]), q=4)\n",
    "df[\"Age in Days upon Outcome\"].value_counts()"
   ]
  },
  {
   "cell_type": "markdown",
   "id": "824231a8",
   "metadata": {},
   "source": [
    "### 12. Deal with `Breed`\n",
    "\n",
    "Perform an initial inspection of the top 20 most frequent breeds. The goal is to cut down the number of distinct breeds present."
   ]
  },
  {
   "cell_type": "code",
   "execution_count": 25,
   "id": "2d3703ef",
   "metadata": {},
   "outputs": [
    {
     "data": {
      "text/plain": [
       "Domestic Shorthair Mix       1199\n",
       "Domestic Shorthair            354\n",
       "Pit Bull Mix                  339\n",
       "Labrador Retriever Mix        301\n",
       "Chihuahua Shorthair Mix       241\n",
       "German Shepherd Mix           123\n",
       "Domestic Medium Hair Mix      122\n",
       "Australian Cattle Dog Mix      74\n",
       "Domestic Longhair Mix          58\n",
       "Bat Mix                        54\n",
       "German Shepherd                51\n",
       "Labrador Retriever             49\n",
       "Pit Bull                       49\n",
       "Siamese Mix                    48\n",
       "Boxer Mix                      47\n",
       "Dachshund Mix                  46\n",
       "Bat                            45\n",
       "Chihuahua Shorthair            44\n",
       "Border Collie Mix              43\n",
       "Domestic Medium Hair           36\n",
       "Name: Breed, dtype: int64"
      ]
     },
     "execution_count": 25,
     "metadata": {},
     "output_type": "execute_result"
    }
   ],
   "source": [
    "df[\"Breed\"].value_counts()[:20]"
   ]
  },
  {
   "cell_type": "markdown",
   "id": "169200b1",
   "metadata": {},
   "source": [
    "Convert `Breed` from `category` to `object` temporarily to make cleaning easier."
   ]
  },
  {
   "cell_type": "code",
   "execution_count": 26,
   "id": "175aca89",
   "metadata": {},
   "outputs": [],
   "source": [
    "df[\"Breed\"] = df[\"Breed\"].astype(\"object\")"
   ]
  },
  {
   "cell_type": "markdown",
   "id": "b9a42b2d",
   "metadata": {},
   "source": [
    "\"Mix\" breeds are created by breeding the specified breed with another purebred. Here, we can remove the word \"Mix\" from all breeds and group the items in question with the non-\"Mix\" purebred category."
   ]
  },
  {
   "cell_type": "code",
   "execution_count": 27,
   "id": "e0962c8a",
   "metadata": {},
   "outputs": [
    {
     "data": {
      "text/plain": [
       "Domestic Shorthair                       1553\n",
       "Pit Bull                                  388\n",
       "Labrador Retriever                        350\n",
       "Chihuahua Shorthair                       285\n",
       "German Shepherd                           174\n",
       "                                         ... \n",
       "Parson Russell Terrier                      1\n",
       "Australian Cattle Dog/Chinese Sharpei       1\n",
       "Border Collie/Catahoula                     1\n",
       "Labrador Retriever/English Pointer          1\n",
       "Black Mouth Cur/Pit Bull                    1\n",
       "Name: Breed, Length: 465, dtype: int64"
      ]
     },
     "execution_count": 27,
     "metadata": {},
     "output_type": "execute_result"
    }
   ],
   "source": [
    "df[\"Breed\"] = df[\"Breed\"].str.replace(\"Mix\", \"\").str.strip()\n",
    "df[\"Breed\"].value_counts()"
   ]
  },
  {
   "cell_type": "markdown",
   "id": "79d8a1bd",
   "metadata": {},
   "source": [
    "Similarly, we can ignore the coat hair lengths/types of the animals (short, medium, long, wire)."
   ]
  },
  {
   "cell_type": "code",
   "execution_count": 28,
   "id": "df47329e",
   "metadata": {},
   "outputs": [
    {
     "data": {
      "text/plain": [
       "Domestic Shorthair                    1553\n",
       "Chihuahua Shorthair                    285\n",
       "Domestic Medium Hair                   158\n",
       "Domestic Longhair                       70\n",
       "Chihuahua Longhair                      24\n",
       "                                      ... \n",
       "Tibetan Spaniel/Chihuahua Longhair       1\n",
       "Rat Terrier/Chihuahua Longhair           1\n",
       "Border Terrier/Chihuahua Longhair        1\n",
       "Carolina Dog/Chihuahua Shorthair         1\n",
       "Shih Tzu/Dachshund Longhair              1\n",
       "Name: Breed, Length: 62, dtype: int64"
      ]
     },
     "execution_count": 28,
     "metadata": {},
     "output_type": "execute_result"
    }
   ],
   "source": [
    "df[\"Breed\"][df[\"Breed\"].str.lower().str.contains(\"hair\")].value_counts()"
   ]
  },
  {
   "cell_type": "code",
   "execution_count": 29,
   "id": "4fa3a833",
   "metadata": {},
   "outputs": [
    {
     "data": {
      "text/plain": [
       "Series([], Name: Breed, dtype: int64)"
      ]
     },
     "execution_count": 29,
     "metadata": {},
     "output_type": "execute_result"
    }
   ],
   "source": [
    "for hair in [\"Shorthair\", \"Medium Hair\", \"Longhair\", \"Wirehair\", \"Wire Hair\"]:\n",
    "    df[\"Breed\"] = df[\"Breed\"].str.replace(hair, \"\").str.strip()\n",
    "    \n",
    "df[\"Breed\"][df[\"Breed\"].str.lower().str.contains(\"hair\")].value_counts()"
   ]
  },
  {
   "cell_type": "code",
   "execution_count": 30,
   "id": "a4652d1f",
   "metadata": {},
   "outputs": [
    {
     "data": {
      "text/plain": [
       "Domestic                               1781\n",
       "Pit Bull                                388\n",
       "Labrador Retriever                      350\n",
       "Chihuahua                               309\n",
       "German Shepherd                         174\n",
       "                                       ... \n",
       "Great Pyrenees/American Bulldog           1\n",
       "Bull Terrier Miniature                    1\n",
       "Labrador Retriever/Great Dane             1\n",
       "Australian Cattle Dog/Border Collie       1\n",
       "Black Mouth Cur/Pit Bull                  1\n",
       "Name: Breed, Length: 454, dtype: int64"
      ]
     },
     "execution_count": 30,
     "metadata": {},
     "output_type": "execute_result"
    }
   ],
   "source": [
    "df[\"Breed\"].value_counts()"
   ]
  },
  {
   "cell_type": "markdown",
   "id": "60bb8e25",
   "metadata": {},
   "source": [
    "Note, there are several breeds which are a mix of two (Breed A/Breed B). One possible strategy to reduce the number of such entries is to consider the first (Breed A, assumed primary) only."
   ]
  },
  {
   "cell_type": "code",
   "execution_count": 31,
   "id": "a92d5311",
   "metadata": {},
   "outputs": [
    {
     "data": {
      "text/plain": [
       "Domestic              1782\n",
       "Labrador Retriever     436\n",
       "Pit Bull               413\n",
       "Chihuahua              357\n",
       "German Shepherd        197\n",
       "                      ... \n",
       "Pig                      1\n",
       "Abyssinian               1\n",
       "Dove                     1\n",
       "Pharaoh Hound            1\n",
       "Kangal                   1\n",
       "Name: Breed, Length: 188, dtype: int64"
      ]
     },
     "execution_count": 31,
     "metadata": {},
     "output_type": "execute_result"
    }
   ],
   "source": [
    "df[\"Breed\"] = df[\"Breed\"].apply(lambda x: x.split(\"/\")[0].strip())\n",
    "df[\"Breed\"].value_counts()"
   ]
  },
  {
   "cell_type": "markdown",
   "id": "c703cab6",
   "metadata": {},
   "source": [
    "Next, we can group together a few variants of breeds such as \"Pit Bull\", \"Terrier\", etc."
   ]
  },
  {
   "cell_type": "code",
   "execution_count": 32,
   "id": "a110b6bf",
   "metadata": {
    "scrolled": false
   },
   "outputs": [
    {
     "data": {
      "text/plain": [
       "[('Domestic', 1782),\n",
       " ('Retriever', 451),\n",
       " ('Pit Bull', 430),\n",
       " ('Chihuahua', 357),\n",
       " ('Shepherd', 260),\n",
       " ('Terrier', 222),\n",
       " ('Australian Cattle Dog', 100),\n",
       " ('Bat', 99),\n",
       " ('Dachshund', 90),\n",
       " ('Boxer', 68),\n",
       " ('Collie', 64),\n",
       " ('Husky', 59),\n",
       " ('Siamese', 59),\n",
       " ('Hound', 56),\n",
       " ('Poodle', 54),\n",
       " ('Beagle', 50),\n",
       " ('Bulldog', 42),\n",
       " ('Pointer', 40),\n",
       " ('Catahoula', 35),\n",
       " ('Great Pyrenees', 35)]"
      ]
     },
     "execution_count": 32,
     "metadata": {},
     "output_type": "execute_result"
    }
   ],
   "source": [
    "# Check if main type is present in the given feature value, and then replace\n",
    "def group_subtypes(feature: str, main_types: List[str]) -> str:\n",
    "    for main_type in main_types:\n",
    "        if main_type.lower().replace(\" \", \"\") in feature.lower().replace(\" \", \"\"):\n",
    "            return main_type\n",
    "    return feature\n",
    "\n",
    "\n",
    "df[\"Breed\"] = df[\"Breed\"].apply(\n",
    "    lambda x: group_subtypes(\n",
    "        feature=x, \n",
    "        main_types=[\"Pit Bull\", \"Terrier\", \"Retriever\", \"Shepherd\", \n",
    "                    \"Collie\", \"Corgi\", \"Pointer\", \"Poodle\", \"Husky\", \n",
    "                    \"Bulldog\", \"Hound\", \"Mastiff\", \"Spaniel\", \"Pinsch\"]))\n",
    "\n",
    "freq = df[\"Breed\"].value_counts().to_dict()\n",
    "list(freq.items())[:20]"
   ]
  },
  {
   "cell_type": "markdown",
   "id": "88989126",
   "metadata": {},
   "source": [
    "Finally, we group all breeds with frequency in interval [10, 45) as \"Rare\" and [1, 10) as \"Very Rare\"."
   ]
  },
  {
   "cell_type": "code",
   "execution_count": 33,
   "id": "82add637",
   "metadata": {},
   "outputs": [
    {
     "data": {
      "text/plain": [
       "(Domestic                 1782\n",
       " Rare                      534\n",
       " Retriever                 451\n",
       " Pit Bull                  430\n",
       " Chihuahua                 357\n",
       " Very Rare                 263\n",
       " Shepherd                  260\n",
       " Terrier                   222\n",
       " Australian Cattle Dog     100\n",
       " Bat                        99\n",
       " Dachshund                  90\n",
       " Boxer                      68\n",
       " Collie                     64\n",
       " Husky                      59\n",
       " Siamese                    59\n",
       " Hound                      56\n",
       " Poodle                     54\n",
       " Beagle                     50\n",
       " Name: Breed, dtype: int64,\n",
       " 18)"
      ]
     },
     "execution_count": 33,
     "metadata": {},
     "output_type": "execute_result"
    }
   ],
   "source": [
    "def group_rare(breed: str) -> str:\n",
    "    if 10 <= freq[breed] < 45:\n",
    "        return \"Rare\"\n",
    "    elif freq[breed] < 10:\n",
    "        return \"Very Rare\"\n",
    "    else:\n",
    "        return breed\n",
    "\n",
    "\n",
    "df[\"Breed\"] = df[\"Breed\"].apply(group_rare)\n",
    "df[\"Breed\"].value_counts(), df[\"Breed\"].nunique()"
   ]
  },
  {
   "cell_type": "markdown",
   "id": "34e64b7f",
   "metadata": {},
   "source": [
    "Let us proceed with the reduced number of distinct breed categories obtained here."
   ]
  },
  {
   "cell_type": "code",
   "execution_count": 34,
   "id": "ccc9aca1",
   "metadata": {},
   "outputs": [],
   "source": [
    "df[\"Breed\"] = df[\"Breed\"].astype(\"category\")"
   ]
  },
  {
   "cell_type": "markdown",
   "id": "2193a1c9",
   "metadata": {},
   "source": [
    "### 13. Deal with `Color`\n",
    "\n",
    "Similar to `Breed`, we can perform an initial inspection of the top 20 most frequent colors."
   ]
  },
  {
   "cell_type": "code",
   "execution_count": 35,
   "id": "f82af8da",
   "metadata": {},
   "outputs": [
    {
     "data": {
      "text/plain": [
       "Black/White          544\n",
       "Black                423\n",
       "Brown Tabby          294\n",
       "Brown                210\n",
       "Brown/White          182\n",
       "Tan/White            162\n",
       "White                158\n",
       "White/Black          152\n",
       "Blue/White           134\n",
       "Tan                  125\n",
       "Brown Tabby/White    125\n",
       "Tricolor             121\n",
       "Orange Tabby         120\n",
       "Black/Tan            118\n",
       "White/Brown           95\n",
       "Black/Brown           93\n",
       "Tortie                92\n",
       "Brown/Black           85\n",
       "Blue                  85\n",
       "Calico                80\n",
       "Name: Color, dtype: int64"
      ]
     },
     "execution_count": 35,
     "metadata": {},
     "output_type": "execute_result"
    }
   ],
   "source": [
    "df[\"Color\"].value_counts()[:20]"
   ]
  },
  {
   "cell_type": "markdown",
   "id": "7d199aea",
   "metadata": {},
   "source": [
    "Convert `Color` from `category` to `object` temporarily to make cleaning easier."
   ]
  },
  {
   "cell_type": "code",
   "execution_count": 36,
   "id": "f5c081d3",
   "metadata": {},
   "outputs": [],
   "source": [
    "df[\"Color\"] = df[\"Color\"].astype(\"object\")"
   ]
  },
  {
   "cell_type": "markdown",
   "id": "022e8ad8",
   "metadata": {},
   "source": [
    "From the initial examination, we see that a number of animals have color given in the form Color A/Color B. For simplicity, we can assume Color A to be primary and get rid of B."
   ]
  },
  {
   "cell_type": "code",
   "execution_count": 37,
   "id": "41b6aa36",
   "metadata": {},
   "outputs": [
    {
     "data": {
      "text/plain": [
       "Black              1238\n",
       "White               631\n",
       "Brown               515\n",
       "Brown Tabby         425\n",
       "Tan                 357\n",
       "Blue                225\n",
       "Orange Tabby        198\n",
       "Red                 137\n",
       "Tricolor            137\n",
       "Brown Brindle       119\n",
       "Blue Tabby          112\n",
       "Tortie               97\n",
       "Calico               87\n",
       "Chocolate            82\n",
       "Gray                 75\n",
       "Torbie               73\n",
       "Cream Tabby          48\n",
       "Sable                47\n",
       "Fawn                 45\n",
       "Cream                44\n",
       "Yellow               33\n",
       "Lynx Point           33\n",
       "Buff                 28\n",
       "Seal Point           22\n",
       "Blue Merle           21\n",
       "Gray Tabby           19\n",
       "Blue Tick            16\n",
       "Flame Point          13\n",
       "Black Smoke          12\n",
       "Black Brindle        12\n",
       "Black Tabby          11\n",
       "Gold                 10\n",
       "Brown Merle           9\n",
       "Silver Tabby          8\n",
       "Red Merle             8\n",
       "Orange                7\n",
       "Lilac Point           7\n",
       "Silver                6\n",
       "Red Tick              6\n",
       "Tortie Point          5\n",
       "Yellow Brindle        4\n",
       "Brown Tiger           3\n",
       "Calico Point          2\n",
       "Liver                 2\n",
       "Apricot               2\n",
       "Chocolate Point       2\n",
       "Pink                  2\n",
       "Agouti                1\n",
       "Green                 1\n",
       "Blue Point            1\n",
       "Name: Color, dtype: int64"
      ]
     },
     "execution_count": 37,
     "metadata": {},
     "output_type": "execute_result"
    }
   ],
   "source": [
    "df[\"Color\"] = df[\"Color\"].apply(lambda x: x.split(\"/\")[0].strip())\n",
    "df[\"Color\"].value_counts()"
   ]
  },
  {
   "cell_type": "markdown",
   "id": "6043337e",
   "metadata": {},
   "source": [
    "Next, we can remove words like \"Tabby\" and \"Point\"  and also group together several shades of the same base color and also."
   ]
  },
  {
   "cell_type": "code",
   "execution_count": 38,
   "id": "8bbf52a2",
   "metadata": {},
   "outputs": [
    {
     "data": {
      "text/plain": [
       "Black        1273\n",
       "Brown        1071\n",
       "White         631\n",
       "Blue          375\n",
       "Tan           357\n",
       "Orange        205\n",
       "Red           151\n",
       "Tricolor      137\n",
       "Tortie        102\n",
       "Gray           94\n",
       "Cream          92\n",
       "Calico         89\n",
       "Chocolate      84\n",
       "Torbie         73\n",
       "Sable          47\n",
       "Fawn           45\n",
       "Yellow         37\n",
       "Lynx           33\n",
       "Buff           28\n",
       "Seal           22\n",
       "Silver         14\n",
       "Flame          13\n",
       "Gold           10\n",
       "Lilac           7\n",
       "Pink            2\n",
       "Liver           2\n",
       "Apricot         2\n",
       "Agouti          1\n",
       "Green           1\n",
       "Name: Color, dtype: int64"
      ]
     },
     "execution_count": 38,
     "metadata": {},
     "output_type": "execute_result"
    }
   ],
   "source": [
    "for var in [\"Tabby\", \"Point\"]:\n",
    "    df[\"Color\"] = df[\"Color\"].str.replace(var, \"\").str.strip()\n",
    "    \n",
    "df[\"Color\"] = df[\"Color\"].apply(\n",
    "    lambda x: group_subtypes(\n",
    "        feature=x, \n",
    "        main_types=[\"Black\", \"Brown\", \"Blue\", \"Red\", \"Yellow\", \"Orange\"]))\n",
    "\n",
    "df[\"Color\"].value_counts()"
   ]
  },
  {
   "cell_type": "markdown",
   "id": "3c7c0ab1",
   "metadata": {},
   "source": [
    "On doing further research on colors, we can group together similar shades such as \"Sable\" and \"Black\", \"Gold\" and \"Yellow\", \"Lilac\" and \"Pink\", etc."
   ]
  },
  {
   "cell_type": "code",
   "execution_count": 39,
   "id": "e6750e88",
   "metadata": {},
   "outputs": [
    {
     "data": {
      "text/plain": [
       "[('Black', 1320),\n",
       " ('Brown', 1212),\n",
       " ('White', 631),\n",
       " ('Tan', 496),\n",
       " ('Blue', 375),\n",
       " ('Tricolor', 226),\n",
       " ('Orange', 218),\n",
       " ('Red', 151),\n",
       " ('Gray', 109),\n",
       " ('Tortie', 102),\n",
       " ('Yellow', 75),\n",
       " ('Torbie', 73),\n",
       " ('Pink', 9),\n",
       " ('Green', 1)]"
      ]
     },
     "execution_count": 39,
     "metadata": {},
     "output_type": "execute_result"
    }
   ],
   "source": [
    "def replace_color(df: pd.DataFrame, old_color: str, new_color: str) -> None:\n",
    "    df[\"Color\"] = df[\"Color\"].str.replace(old_color, new_color)\n",
    "    \n",
    "    \n",
    "replace_color(df, \"Sable\", \"Black\")\n",
    "replace_color(df, \"Chocolate\", \"Brown\")\n",
    "replace_color(df, \"Lynx\", \"Brown\")\n",
    "replace_color(df, \"Seal\", \"Brown\")\n",
    "replace_color(df, \"Liver\", \"Brown\")\n",
    "replace_color(df, \"Gold\", \"Yellow\")\n",
    "replace_color(df, \"Buff\", \"Yellow\")\n",
    "replace_color(df, \"Lilac\", \"Pink\")\n",
    "replace_color(df, \"Cream\", \"Tan\")\n",
    "replace_color(df, \"Fawn\", \"Tan\")\n",
    "replace_color(df, \"Apricot\", \"Tan\")\n",
    "replace_color(df, \"Silver\", \"Gray\")\n",
    "replace_color(df, \"Agouti\", \"Gray\")\n",
    "replace_color(df, \"Flame\", \"Orange\")\n",
    "replace_color(df, \"Calico\", \"Tricolor\")\n",
    "\n",
    "\n",
    "freq = df[\"Color\"].value_counts().to_dict()\n",
    "list(freq.items())"
   ]
  },
  {
   "cell_type": "markdown",
   "id": "555f3089",
   "metadata": {},
   "source": [
    "Finally, any colors with frequency < 50 can be categorised as \"Other\"."
   ]
  },
  {
   "cell_type": "code",
   "execution_count": 40,
   "id": "8721ab65",
   "metadata": {},
   "outputs": [
    {
     "data": {
      "text/plain": [
       "(Black       1320\n",
       " Brown       1212\n",
       " White        631\n",
       " Tan          496\n",
       " Blue         375\n",
       " Tricolor     226\n",
       " Orange       218\n",
       " Red          151\n",
       " Gray         109\n",
       " Tortie       102\n",
       " Yellow        75\n",
       " Torbie        73\n",
       " Other         10\n",
       " Name: Color, dtype: int64,\n",
       " 13)"
      ]
     },
     "execution_count": 40,
     "metadata": {},
     "output_type": "execute_result"
    }
   ],
   "source": [
    "df[\"Color\"] = df[\"Color\"].apply(lambda x: \"Other\" if freq[x] < 50 else x)\n",
    "df[\"Color\"].value_counts(), df[\"Color\"].nunique()"
   ]
  },
  {
   "cell_type": "markdown",
   "id": "16d4870e",
   "metadata": {},
   "source": [
    "We can proceed with the reduced number of color categories obtained here."
   ]
  },
  {
   "cell_type": "code",
   "execution_count": 41,
   "id": "4c905076",
   "metadata": {},
   "outputs": [],
   "source": [
    "df[\"Color\"] = df[\"Color\"].astype(\"category\")"
   ]
  },
  {
   "cell_type": "markdown",
   "id": "2dcb2191",
   "metadata": {},
   "source": [
    "Reset the DataFrame index and save. No data normalisation is necessary due to the absence of numerical predictor variables."
   ]
  },
  {
   "cell_type": "code",
   "execution_count": 42,
   "id": "26e4fbf6",
   "metadata": {},
   "outputs": [
    {
     "data": {
      "text/html": [
       "<div>\n",
       "<style scoped>\n",
       "    .dataframe tbody tr th:only-of-type {\n",
       "        vertical-align: middle;\n",
       "    }\n",
       "\n",
       "    .dataframe tbody tr th {\n",
       "        vertical-align: top;\n",
       "    }\n",
       "\n",
       "    .dataframe thead th {\n",
       "        text-align: right;\n",
       "    }\n",
       "</style>\n",
       "<table border=\"1\" class=\"dataframe\">\n",
       "  <thead>\n",
       "    <tr style=\"text-align: right;\">\n",
       "      <th></th>\n",
       "      <th>Name</th>\n",
       "      <th>Animal Type</th>\n",
       "      <th>Sex upon Outcome</th>\n",
       "      <th>Age in Days upon Outcome</th>\n",
       "      <th>Breed</th>\n",
       "      <th>Color</th>\n",
       "      <th>Outcome</th>\n",
       "    </tr>\n",
       "  </thead>\n",
       "  <tbody>\n",
       "    <tr>\n",
       "      <th>0</th>\n",
       "      <td>1</td>\n",
       "      <td>Cat</td>\n",
       "      <td>Spayed Female</td>\n",
       "      <td>(90.0, 365.0]</td>\n",
       "      <td>Domestic</td>\n",
       "      <td>Blue</td>\n",
       "      <td>0</td>\n",
       "    </tr>\n",
       "    <tr>\n",
       "      <th>1</th>\n",
       "      <td>1</td>\n",
       "      <td>Cat</td>\n",
       "      <td>Spayed Female</td>\n",
       "      <td>(-0.001, 90.0]</td>\n",
       "      <td>Domestic</td>\n",
       "      <td>Torbie</td>\n",
       "      <td>0</td>\n",
       "    </tr>\n",
       "    <tr>\n",
       "      <th>2</th>\n",
       "      <td>1</td>\n",
       "      <td>Dog</td>\n",
       "      <td>Neutered Male</td>\n",
       "      <td>(730.0, 6935.0]</td>\n",
       "      <td>Rare</td>\n",
       "      <td>Black</td>\n",
       "      <td>0</td>\n",
       "    </tr>\n",
       "    <tr>\n",
       "      <th>3</th>\n",
       "      <td>1</td>\n",
       "      <td>Dog</td>\n",
       "      <td>Spayed Female</td>\n",
       "      <td>(-0.001, 90.0]</td>\n",
       "      <td>Retriever</td>\n",
       "      <td>Red</td>\n",
       "      <td>0</td>\n",
       "    </tr>\n",
       "    <tr>\n",
       "      <th>4</th>\n",
       "      <td>0</td>\n",
       "      <td>Cat</td>\n",
       "      <td>Intact Male</td>\n",
       "      <td>(90.0, 365.0]</td>\n",
       "      <td>Domestic</td>\n",
       "      <td>White</td>\n",
       "      <td>0</td>\n",
       "    </tr>\n",
       "    <tr>\n",
       "      <th>...</th>\n",
       "      <td>...</td>\n",
       "      <td>...</td>\n",
       "      <td>...</td>\n",
       "      <td>...</td>\n",
       "      <td>...</td>\n",
       "      <td>...</td>\n",
       "      <td>...</td>\n",
       "    </tr>\n",
       "    <tr>\n",
       "      <th>4993</th>\n",
       "      <td>1</td>\n",
       "      <td>Cat</td>\n",
       "      <td>Neutered Male</td>\n",
       "      <td>(365.0, 730.0]</td>\n",
       "      <td>Domestic</td>\n",
       "      <td>Orange</td>\n",
       "      <td>0</td>\n",
       "    </tr>\n",
       "    <tr>\n",
       "      <th>4994</th>\n",
       "      <td>0</td>\n",
       "      <td>Cat</td>\n",
       "      <td>Intact Male</td>\n",
       "      <td>(-0.001, 90.0]</td>\n",
       "      <td>Domestic</td>\n",
       "      <td>Brown</td>\n",
       "      <td>0</td>\n",
       "    </tr>\n",
       "    <tr>\n",
       "      <th>4995</th>\n",
       "      <td>0</td>\n",
       "      <td>Dog</td>\n",
       "      <td>Spayed Female</td>\n",
       "      <td>(730.0, 6935.0]</td>\n",
       "      <td>Poodle</td>\n",
       "      <td>Brown</td>\n",
       "      <td>0</td>\n",
       "    </tr>\n",
       "    <tr>\n",
       "      <th>4996</th>\n",
       "      <td>0</td>\n",
       "      <td>Dog</td>\n",
       "      <td>Neutered Male</td>\n",
       "      <td>(-0.001, 90.0]</td>\n",
       "      <td>Retriever</td>\n",
       "      <td>Black</td>\n",
       "      <td>0</td>\n",
       "    </tr>\n",
       "    <tr>\n",
       "      <th>4997</th>\n",
       "      <td>0</td>\n",
       "      <td>Other</td>\n",
       "      <td>Unknown</td>\n",
       "      <td>(-0.001, 90.0]</td>\n",
       "      <td>Bat</td>\n",
       "      <td>Black</td>\n",
       "      <td>1</td>\n",
       "    </tr>\n",
       "  </tbody>\n",
       "</table>\n",
       "<p>4998 rows × 7 columns</p>\n",
       "</div>"
      ],
      "text/plain": [
       "      Name Animal Type Sex upon Outcome Age in Days upon Outcome      Breed  \\\n",
       "0        1         Cat    Spayed Female            (90.0, 365.0]   Domestic   \n",
       "1        1         Cat    Spayed Female           (-0.001, 90.0]   Domestic   \n",
       "2        1         Dog    Neutered Male          (730.0, 6935.0]       Rare   \n",
       "3        1         Dog    Spayed Female           (-0.001, 90.0]  Retriever   \n",
       "4        0         Cat      Intact Male            (90.0, 365.0]   Domestic   \n",
       "...    ...         ...              ...                      ...        ...   \n",
       "4993     1         Cat    Neutered Male           (365.0, 730.0]   Domestic   \n",
       "4994     0         Cat      Intact Male           (-0.001, 90.0]   Domestic   \n",
       "4995     0         Dog    Spayed Female          (730.0, 6935.0]     Poodle   \n",
       "4996     0         Dog    Neutered Male           (-0.001, 90.0]  Retriever   \n",
       "4997     0       Other          Unknown           (-0.001, 90.0]        Bat   \n",
       "\n",
       "       Color  Outcome  \n",
       "0       Blue        0  \n",
       "1     Torbie        0  \n",
       "2      Black        0  \n",
       "3        Red        0  \n",
       "4      White        0  \n",
       "...      ...      ...  \n",
       "4993  Orange        0  \n",
       "4994   Brown        0  \n",
       "4995   Brown        0  \n",
       "4996   Black        0  \n",
       "4997   Black        1  \n",
       "\n",
       "[4998 rows x 7 columns]"
      ]
     },
     "execution_count": 42,
     "metadata": {},
     "output_type": "execute_result"
    }
   ],
   "source": [
    "df.reset_index(inplace=True, drop=True)\n",
    "df.to_csv(\"../data/animal_shelter_cleaned_1aii.csv\")\n",
    "df"
   ]
  },
  {
   "cell_type": "markdown",
   "id": "7b9d758b",
   "metadata": {},
   "source": [
    "## 1B: Feature Selection\n",
    "\n",
    "The second major step after data cleaning is feature selection using filter and wrapper techniques.\n",
    "\n",
    "### 1. Understanding the cleaned dataset"
   ]
  },
  {
   "cell_type": "code",
   "execution_count": 43,
   "id": "9495f7d2",
   "metadata": {},
   "outputs": [
    {
     "name": "stdout",
     "output_type": "stream",
     "text": [
      "<class 'pandas.core.frame.DataFrame'>\n",
      "RangeIndex: 4998 entries, 0 to 4997\n",
      "Data columns (total 7 columns):\n",
      " #   Column                    Non-Null Count  Dtype   \n",
      "---  ------                    --------------  -----   \n",
      " 0   Name                      4998 non-null   uint8   \n",
      " 1   Animal Type               4998 non-null   category\n",
      " 2   Sex upon Outcome          4998 non-null   category\n",
      " 3   Age in Days upon Outcome  4998 non-null   category\n",
      " 4   Breed                     4998 non-null   category\n",
      " 5   Color                     4998 non-null   category\n",
      " 6   Outcome                   4998 non-null   uint8   \n",
      "dtypes: category(5), uint8(2)\n",
      "memory usage: 36.2 KB\n"
     ]
    }
   ],
   "source": [
    "df.info()"
   ]
  },
  {
   "cell_type": "markdown",
   "id": "e0cd8249",
   "metadata": {},
   "source": [
    "- Target variable: `Outcome`\n",
    "- Predictors: `Name, Animal Type, Sex upon Outcome, Age in Days upon Outcome, Breed, Color`"
   ]
  },
  {
   "cell_type": "markdown",
   "id": "d957e485",
   "metadata": {},
   "source": [
    "### 2. Encoding categorical features\n",
    "\n",
    "We must encode some categorical features (`Age in Days upon Outcome`: ordinal; `Animal Type, Sex upon Outcome, Breed, Color`: one-hot) since numerical data is required to fit/evaluate models. Age is ordinal since there is a defined order of the age intervals, unlike the other 4 features being one-hot encoded."
   ]
  },
  {
   "cell_type": "code",
   "execution_count": 44,
   "id": "100d88ec",
   "metadata": {},
   "outputs": [
    {
     "data": {
      "text/plain": [
       "0      (90.0, 365.0]\n",
       "1     (-0.001, 90.0]\n",
       "2    (730.0, 6935.0]\n",
       "3     (-0.001, 90.0]\n",
       "4      (90.0, 365.0]\n",
       "5    (730.0, 6935.0]\n",
       "6     (365.0, 730.0]\n",
       "7    (730.0, 6935.0]\n",
       "8    (730.0, 6935.0]\n",
       "9    (730.0, 6935.0]\n",
       "Name: Age in Days upon Outcome, dtype: category\n",
       "Categories (4, interval[float64, right]): [(-0.001, 90.0] < (90.0, 365.0] < (365.0, 730.0] < (730.0, 6935.0]]"
      ]
     },
     "execution_count": 44,
     "metadata": {},
     "output_type": "execute_result"
    }
   ],
   "source": [
    "df[\"Age in Days upon Outcome\"].head(10)"
   ]
  },
  {
   "cell_type": "code",
   "execution_count": 45,
   "id": "69e44133",
   "metadata": {},
   "outputs": [
    {
     "data": {
      "text/plain": [
       "0    1\n",
       "1    0\n",
       "2    3\n",
       "3    0\n",
       "4    1\n",
       "5    3\n",
       "6    2\n",
       "7    3\n",
       "8    3\n",
       "9    3\n",
       "Name: Age in Days upon Outcome, dtype: int8"
      ]
     },
     "execution_count": 45,
     "metadata": {},
     "output_type": "execute_result"
    }
   ],
   "source": [
    "df[\"Age in Days upon Outcome\"] = df[\"Age in Days upon Outcome\"].cat.codes\n",
    "df[\"Age in Days upon Outcome\"].head(10)"
   ]
  },
  {
   "cell_type": "markdown",
   "id": "c512e67a",
   "metadata": {},
   "source": [
    "The age intervals have been encoded as 0 < 1 < 2 < 3."
   ]
  },
  {
   "cell_type": "code",
   "execution_count": 46,
   "id": "f1859b7b",
   "metadata": {},
   "outputs": [
    {
     "data": {
      "text/html": [
       "<div>\n",
       "<style scoped>\n",
       "    .dataframe tbody tr th:only-of-type {\n",
       "        vertical-align: middle;\n",
       "    }\n",
       "\n",
       "    .dataframe tbody tr th {\n",
       "        vertical-align: top;\n",
       "    }\n",
       "\n",
       "    .dataframe thead th {\n",
       "        text-align: right;\n",
       "    }\n",
       "</style>\n",
       "<table border=\"1\" class=\"dataframe\">\n",
       "  <thead>\n",
       "    <tr style=\"text-align: right;\">\n",
       "      <th></th>\n",
       "      <th>Name</th>\n",
       "      <th>Age in Days upon Outcome</th>\n",
       "      <th>Outcome</th>\n",
       "      <th>Animal Type_Cat</th>\n",
       "      <th>Animal Type_Dog</th>\n",
       "      <th>Animal Type_Other</th>\n",
       "      <th>Sex upon Outcome_Intact Female</th>\n",
       "      <th>Sex upon Outcome_Intact Male</th>\n",
       "      <th>Sex upon Outcome_Neutered Male</th>\n",
       "      <th>Sex upon Outcome_Spayed Female</th>\n",
       "      <th>...</th>\n",
       "      <th>Color_Gray</th>\n",
       "      <th>Color_Orange</th>\n",
       "      <th>Color_Other</th>\n",
       "      <th>Color_Red</th>\n",
       "      <th>Color_Tan</th>\n",
       "      <th>Color_Torbie</th>\n",
       "      <th>Color_Tortie</th>\n",
       "      <th>Color_Tricolor</th>\n",
       "      <th>Color_White</th>\n",
       "      <th>Color_Yellow</th>\n",
       "    </tr>\n",
       "  </thead>\n",
       "  <tbody>\n",
       "    <tr>\n",
       "      <th>0</th>\n",
       "      <td>1</td>\n",
       "      <td>1</td>\n",
       "      <td>0</td>\n",
       "      <td>1</td>\n",
       "      <td>0</td>\n",
       "      <td>0</td>\n",
       "      <td>0</td>\n",
       "      <td>0</td>\n",
       "      <td>0</td>\n",
       "      <td>1</td>\n",
       "      <td>...</td>\n",
       "      <td>0</td>\n",
       "      <td>0</td>\n",
       "      <td>0</td>\n",
       "      <td>0</td>\n",
       "      <td>0</td>\n",
       "      <td>0</td>\n",
       "      <td>0</td>\n",
       "      <td>0</td>\n",
       "      <td>0</td>\n",
       "      <td>0</td>\n",
       "    </tr>\n",
       "    <tr>\n",
       "      <th>1</th>\n",
       "      <td>1</td>\n",
       "      <td>0</td>\n",
       "      <td>0</td>\n",
       "      <td>1</td>\n",
       "      <td>0</td>\n",
       "      <td>0</td>\n",
       "      <td>0</td>\n",
       "      <td>0</td>\n",
       "      <td>0</td>\n",
       "      <td>1</td>\n",
       "      <td>...</td>\n",
       "      <td>0</td>\n",
       "      <td>0</td>\n",
       "      <td>0</td>\n",
       "      <td>0</td>\n",
       "      <td>0</td>\n",
       "      <td>1</td>\n",
       "      <td>0</td>\n",
       "      <td>0</td>\n",
       "      <td>0</td>\n",
       "      <td>0</td>\n",
       "    </tr>\n",
       "    <tr>\n",
       "      <th>2</th>\n",
       "      <td>1</td>\n",
       "      <td>3</td>\n",
       "      <td>0</td>\n",
       "      <td>0</td>\n",
       "      <td>1</td>\n",
       "      <td>0</td>\n",
       "      <td>0</td>\n",
       "      <td>0</td>\n",
       "      <td>1</td>\n",
       "      <td>0</td>\n",
       "      <td>...</td>\n",
       "      <td>0</td>\n",
       "      <td>0</td>\n",
       "      <td>0</td>\n",
       "      <td>0</td>\n",
       "      <td>0</td>\n",
       "      <td>0</td>\n",
       "      <td>0</td>\n",
       "      <td>0</td>\n",
       "      <td>0</td>\n",
       "      <td>0</td>\n",
       "    </tr>\n",
       "    <tr>\n",
       "      <th>3</th>\n",
       "      <td>1</td>\n",
       "      <td>0</td>\n",
       "      <td>0</td>\n",
       "      <td>0</td>\n",
       "      <td>1</td>\n",
       "      <td>0</td>\n",
       "      <td>0</td>\n",
       "      <td>0</td>\n",
       "      <td>0</td>\n",
       "      <td>1</td>\n",
       "      <td>...</td>\n",
       "      <td>0</td>\n",
       "      <td>0</td>\n",
       "      <td>0</td>\n",
       "      <td>1</td>\n",
       "      <td>0</td>\n",
       "      <td>0</td>\n",
       "      <td>0</td>\n",
       "      <td>0</td>\n",
       "      <td>0</td>\n",
       "      <td>0</td>\n",
       "    </tr>\n",
       "    <tr>\n",
       "      <th>4</th>\n",
       "      <td>0</td>\n",
       "      <td>1</td>\n",
       "      <td>0</td>\n",
       "      <td>1</td>\n",
       "      <td>0</td>\n",
       "      <td>0</td>\n",
       "      <td>0</td>\n",
       "      <td>1</td>\n",
       "      <td>0</td>\n",
       "      <td>0</td>\n",
       "      <td>...</td>\n",
       "      <td>0</td>\n",
       "      <td>0</td>\n",
       "      <td>0</td>\n",
       "      <td>0</td>\n",
       "      <td>0</td>\n",
       "      <td>0</td>\n",
       "      <td>0</td>\n",
       "      <td>0</td>\n",
       "      <td>1</td>\n",
       "      <td>0</td>\n",
       "    </tr>\n",
       "  </tbody>\n",
       "</table>\n",
       "<p>5 rows × 42 columns</p>\n",
       "</div>"
      ],
      "text/plain": [
       "   Name  Age in Days upon Outcome  Outcome  Animal Type_Cat  Animal Type_Dog  \\\n",
       "0     1                         1        0                1                0   \n",
       "1     1                         0        0                1                0   \n",
       "2     1                         3        0                0                1   \n",
       "3     1                         0        0                0                1   \n",
       "4     0                         1        0                1                0   \n",
       "\n",
       "   Animal Type_Other  Sex upon Outcome_Intact Female  \\\n",
       "0                  0                               0   \n",
       "1                  0                               0   \n",
       "2                  0                               0   \n",
       "3                  0                               0   \n",
       "4                  0                               0   \n",
       "\n",
       "   Sex upon Outcome_Intact Male  Sex upon Outcome_Neutered Male  \\\n",
       "0                             0                               0   \n",
       "1                             0                               0   \n",
       "2                             0                               1   \n",
       "3                             0                               0   \n",
       "4                             1                               0   \n",
       "\n",
       "   Sex upon Outcome_Spayed Female  ...  Color_Gray  Color_Orange  Color_Other  \\\n",
       "0                               1  ...           0             0            0   \n",
       "1                               1  ...           0             0            0   \n",
       "2                               0  ...           0             0            0   \n",
       "3                               1  ...           0             0            0   \n",
       "4                               0  ...           0             0            0   \n",
       "\n",
       "   Color_Red  Color_Tan  Color_Torbie  Color_Tortie  Color_Tricolor  \\\n",
       "0          0          0             0             0               0   \n",
       "1          0          0             1             0               0   \n",
       "2          0          0             0             0               0   \n",
       "3          1          0             0             0               0   \n",
       "4          0          0             0             0               0   \n",
       "\n",
       "   Color_White  Color_Yellow  \n",
       "0            0             0  \n",
       "1            0             0  \n",
       "2            0             0  \n",
       "3            0             0  \n",
       "4            1             0  \n",
       "\n",
       "[5 rows x 42 columns]"
      ]
     },
     "execution_count": 46,
     "metadata": {},
     "output_type": "execute_result"
    }
   ],
   "source": [
    "categorical_features = [\"Animal Type\", \"Sex upon Outcome\", \"Breed\", \"Color\"]\n",
    "df = pd.concat([df.drop(columns=categorical_features), \n",
    "                pd.get_dummies(df[categorical_features], prefix=categorical_features)],\n",
    "              axis=1)\n",
    "    \n",
    "df.head()"
   ]
  },
  {
   "cell_type": "code",
   "execution_count": 47,
   "id": "9c55ee21",
   "metadata": {},
   "outputs": [
    {
     "data": {
      "text/plain": [
       "(4998, 42)"
      ]
     },
     "execution_count": 47,
     "metadata": {},
     "output_type": "execute_result"
    }
   ],
   "source": [
    "df.shape"
   ]
  },
  {
   "cell_type": "markdown",
   "id": "a26d220c",
   "metadata": {},
   "source": [
    "The encoded dataframe above has:\n",
    "- 4998 observations\n",
    "- 41 predictor variables\n",
    "- 1 target variable"
   ]
  },
  {
   "cell_type": "markdown",
   "id": "2200c575",
   "metadata": {},
   "source": [
    "### 3. Train-test split\n",
    "\n",
    "To avoid data peeking, we must split the dataset into train and test sets, and only use the training data for feature selection and model fitting. The test set will only be used for evaluation after the best model has been selected."
   ]
  },
  {
   "cell_type": "code",
   "execution_count": 48,
   "id": "75518a40",
   "metadata": {},
   "outputs": [],
   "source": [
    "X = df.drop(\"Outcome\", axis=1)\n",
    "y = df[\"Outcome\"]"
   ]
  },
  {
   "cell_type": "code",
   "execution_count": 49,
   "id": "4a5d021a",
   "metadata": {},
   "outputs": [
    {
     "data": {
      "text/plain": [
       "0    4629\n",
       "1     369\n",
       "Name: Outcome, dtype: int64"
      ]
     },
     "execution_count": 49,
     "metadata": {},
     "output_type": "execute_result"
    }
   ],
   "source": [
    "y.value_counts()"
   ]
  },
  {
   "cell_type": "markdown",
   "id": "541455d5",
   "metadata": {},
   "source": [
    "- By default, 25% of the observations are set aside for testing.\n",
    "- Integral `random_state` ensures reproducible results.\n",
    "- Setting `stratify=y` maintains the target class imbalance when doing the split."
   ]
  },
  {
   "cell_type": "code",
   "execution_count": 50,
   "id": "708c595e",
   "metadata": {},
   "outputs": [
    {
     "data": {
      "text/html": [
       "<div>\n",
       "<style scoped>\n",
       "    .dataframe tbody tr th:only-of-type {\n",
       "        vertical-align: middle;\n",
       "    }\n",
       "\n",
       "    .dataframe tbody tr th {\n",
       "        vertical-align: top;\n",
       "    }\n",
       "\n",
       "    .dataframe thead th {\n",
       "        text-align: right;\n",
       "    }\n",
       "</style>\n",
       "<table border=\"1\" class=\"dataframe\">\n",
       "  <thead>\n",
       "    <tr style=\"text-align: right;\">\n",
       "      <th></th>\n",
       "      <th>Name</th>\n",
       "      <th>Age in Days upon Outcome</th>\n",
       "      <th>Animal Type_Cat</th>\n",
       "      <th>Animal Type_Dog</th>\n",
       "      <th>Animal Type_Other</th>\n",
       "      <th>Sex upon Outcome_Intact Female</th>\n",
       "      <th>Sex upon Outcome_Intact Male</th>\n",
       "      <th>Sex upon Outcome_Neutered Male</th>\n",
       "      <th>Sex upon Outcome_Spayed Female</th>\n",
       "      <th>Sex upon Outcome_Unknown</th>\n",
       "      <th>...</th>\n",
       "      <th>Color_Gray</th>\n",
       "      <th>Color_Orange</th>\n",
       "      <th>Color_Other</th>\n",
       "      <th>Color_Red</th>\n",
       "      <th>Color_Tan</th>\n",
       "      <th>Color_Torbie</th>\n",
       "      <th>Color_Tortie</th>\n",
       "      <th>Color_Tricolor</th>\n",
       "      <th>Color_White</th>\n",
       "      <th>Color_Yellow</th>\n",
       "    </tr>\n",
       "  </thead>\n",
       "  <tbody>\n",
       "    <tr>\n",
       "      <th>4530</th>\n",
       "      <td>1</td>\n",
       "      <td>1</td>\n",
       "      <td>0</td>\n",
       "      <td>1</td>\n",
       "      <td>0</td>\n",
       "      <td>0</td>\n",
       "      <td>0</td>\n",
       "      <td>1</td>\n",
       "      <td>0</td>\n",
       "      <td>0</td>\n",
       "      <td>...</td>\n",
       "      <td>0</td>\n",
       "      <td>0</td>\n",
       "      <td>0</td>\n",
       "      <td>0</td>\n",
       "      <td>0</td>\n",
       "      <td>0</td>\n",
       "      <td>0</td>\n",
       "      <td>0</td>\n",
       "      <td>1</td>\n",
       "      <td>0</td>\n",
       "    </tr>\n",
       "    <tr>\n",
       "      <th>2191</th>\n",
       "      <td>1</td>\n",
       "      <td>1</td>\n",
       "      <td>0</td>\n",
       "      <td>1</td>\n",
       "      <td>0</td>\n",
       "      <td>0</td>\n",
       "      <td>0</td>\n",
       "      <td>0</td>\n",
       "      <td>1</td>\n",
       "      <td>0</td>\n",
       "      <td>...</td>\n",
       "      <td>0</td>\n",
       "      <td>0</td>\n",
       "      <td>0</td>\n",
       "      <td>0</td>\n",
       "      <td>0</td>\n",
       "      <td>0</td>\n",
       "      <td>0</td>\n",
       "      <td>0</td>\n",
       "      <td>0</td>\n",
       "      <td>0</td>\n",
       "    </tr>\n",
       "    <tr>\n",
       "      <th>3913</th>\n",
       "      <td>1</td>\n",
       "      <td>1</td>\n",
       "      <td>1</td>\n",
       "      <td>0</td>\n",
       "      <td>0</td>\n",
       "      <td>0</td>\n",
       "      <td>0</td>\n",
       "      <td>0</td>\n",
       "      <td>1</td>\n",
       "      <td>0</td>\n",
       "      <td>...</td>\n",
       "      <td>0</td>\n",
       "      <td>0</td>\n",
       "      <td>0</td>\n",
       "      <td>0</td>\n",
       "      <td>0</td>\n",
       "      <td>0</td>\n",
       "      <td>0</td>\n",
       "      <td>0</td>\n",
       "      <td>0</td>\n",
       "      <td>0</td>\n",
       "    </tr>\n",
       "    <tr>\n",
       "      <th>4857</th>\n",
       "      <td>1</td>\n",
       "      <td>1</td>\n",
       "      <td>0</td>\n",
       "      <td>1</td>\n",
       "      <td>0</td>\n",
       "      <td>0</td>\n",
       "      <td>0</td>\n",
       "      <td>0</td>\n",
       "      <td>1</td>\n",
       "      <td>0</td>\n",
       "      <td>...</td>\n",
       "      <td>0</td>\n",
       "      <td>0</td>\n",
       "      <td>0</td>\n",
       "      <td>0</td>\n",
       "      <td>0</td>\n",
       "      <td>0</td>\n",
       "      <td>0</td>\n",
       "      <td>0</td>\n",
       "      <td>0</td>\n",
       "      <td>0</td>\n",
       "    </tr>\n",
       "    <tr>\n",
       "      <th>4956</th>\n",
       "      <td>1</td>\n",
       "      <td>1</td>\n",
       "      <td>0</td>\n",
       "      <td>1</td>\n",
       "      <td>0</td>\n",
       "      <td>0</td>\n",
       "      <td>0</td>\n",
       "      <td>0</td>\n",
       "      <td>1</td>\n",
       "      <td>0</td>\n",
       "      <td>...</td>\n",
       "      <td>0</td>\n",
       "      <td>0</td>\n",
       "      <td>0</td>\n",
       "      <td>0</td>\n",
       "      <td>0</td>\n",
       "      <td>0</td>\n",
       "      <td>0</td>\n",
       "      <td>0</td>\n",
       "      <td>0</td>\n",
       "      <td>0</td>\n",
       "    </tr>\n",
       "  </tbody>\n",
       "</table>\n",
       "<p>5 rows × 41 columns</p>\n",
       "</div>"
      ],
      "text/plain": [
       "      Name  Age in Days upon Outcome  Animal Type_Cat  Animal Type_Dog  \\\n",
       "4530     1                         1                0                1   \n",
       "2191     1                         1                0                1   \n",
       "3913     1                         1                1                0   \n",
       "4857     1                         1                0                1   \n",
       "4956     1                         1                0                1   \n",
       "\n",
       "      Animal Type_Other  Sex upon Outcome_Intact Female  \\\n",
       "4530                  0                               0   \n",
       "2191                  0                               0   \n",
       "3913                  0                               0   \n",
       "4857                  0                               0   \n",
       "4956                  0                               0   \n",
       "\n",
       "      Sex upon Outcome_Intact Male  Sex upon Outcome_Neutered Male  \\\n",
       "4530                             0                               1   \n",
       "2191                             0                               0   \n",
       "3913                             0                               0   \n",
       "4857                             0                               0   \n",
       "4956                             0                               0   \n",
       "\n",
       "      Sex upon Outcome_Spayed Female  Sex upon Outcome_Unknown  ...  \\\n",
       "4530                               0                         0  ...   \n",
       "2191                               1                         0  ...   \n",
       "3913                               1                         0  ...   \n",
       "4857                               1                         0  ...   \n",
       "4956                               1                         0  ...   \n",
       "\n",
       "      Color_Gray  Color_Orange  Color_Other  Color_Red  Color_Tan  \\\n",
       "4530           0             0            0          0          0   \n",
       "2191           0             0            0          0          0   \n",
       "3913           0             0            0          0          0   \n",
       "4857           0             0            0          0          0   \n",
       "4956           0             0            0          0          0   \n",
       "\n",
       "      Color_Torbie  Color_Tortie  Color_Tricolor  Color_White  Color_Yellow  \n",
       "4530             0             0               0            1             0  \n",
       "2191             0             0               0            0             0  \n",
       "3913             0             0               0            0             0  \n",
       "4857             0             0               0            0             0  \n",
       "4956             0             0               0            0             0  \n",
       "\n",
       "[5 rows x 41 columns]"
      ]
     },
     "execution_count": 50,
     "metadata": {},
     "output_type": "execute_result"
    }
   ],
   "source": [
    "X_train, X_test, y_train, y_test = train_test_split(X, y, random_state=0, stratify=y) \n",
    "X_train.head()"
   ]
  },
  {
   "cell_type": "code",
   "execution_count": 51,
   "id": "1a05e515",
   "metadata": {},
   "outputs": [
    {
     "data": {
      "text/plain": [
       "4530    0\n",
       "2191    0\n",
       "3913    0\n",
       "4857    0\n",
       "4956    0\n",
       "Name: Outcome, dtype: uint8"
      ]
     },
     "execution_count": 51,
     "metadata": {},
     "output_type": "execute_result"
    }
   ],
   "source": [
    "y_train.head()"
   ]
  },
  {
   "cell_type": "markdown",
   "id": "a6b31a22",
   "metadata": {},
   "source": [
    "### 4. Selection with Filters \n",
    "\n",
    "- Filter techniques for feature selection rank the features based on some predictiveness score (e.g. information gain, Gini index, chi-square statistic, relief algorithm, etc.). \n",
    "- Information gain (called mutual information when used for classification tasks) and Gini index are the most common when performing information theoretic analysis.\n",
    "- Mutual information measures the amount of dependency between two random variables and is based on entropy - a value of 0 indicates variables are completely independent. \n",
    "- We select mutual entropy/mutual information/information gain as the criterion for our filter technique for feature selection because it generally yields better results than Breiman's Gini index, although it is more computationally expensive than the latter.\n",
    "- Setting an integral value for `random_state` guarantees reproducible results."
   ]
  },
  {
   "cell_type": "code",
   "execution_count": 52,
   "id": "e7772110",
   "metadata": {},
   "outputs": [],
   "source": [
    "i_scores = mutual_info_classif(X_train, y_train, random_state=0)\n",
    "features_ig = pd.DataFrame(i_scores,index = X_train.columns, columns =[\"I-Gain\"])\n",
    "features_ig.sort_values(by=[\"I-Gain\"], ascending=False, inplace=True)"
   ]
  },
  {
   "cell_type": "markdown",
   "id": "4df24747",
   "metadata": {},
   "source": [
    "We can now plot the features with non-zero information gain in descending order."
   ]
  },
  {
   "cell_type": "code",
   "execution_count": 53,
   "id": "58961896",
   "metadata": {},
   "outputs": [
    {
     "data": {
      "image/png": "[encoded data removed]",
      "text/plain": [
       "<Figure size 1080x864 with 1 Axes>"
      ]
     },
     "metadata": {
      "needs_background": "light"
     },
     "output_type": "display_data"
    }
   ],
   "source": [
    "plt.figure(figsize=(15, 12))\n",
    "f = features_ig[features_ig[\"I-Gain\"] > 0]\n",
    "sns.barplot(x=\"I-Gain\", y=f.index, data=f, color=\"teal\")\n",
    "plt.xlabel(\"Information Gain\", fontsize=18)\n",
    "plt.show()"
   ]
  },
  {
   "cell_type": "code",
   "execution_count": 54,
   "id": "737ec948",
   "metadata": {},
   "outputs": [
    {
     "name": "stdout",
     "output_type": "stream",
     "text": [
      "Features selected by filter technique:\n"
     ]
    },
    {
     "data": {
      "text/plain": [
       "(['Animal Type_Other',\n",
       "  'Sex upon Outcome_Unknown',\n",
       "  'Breed_Bat',\n",
       "  'Name',\n",
       "  'Sex upon Outcome_Spayed Female',\n",
       "  'Animal Type_Dog',\n",
       "  'Breed_Poodle',\n",
       "  'Sex upon Outcome_Neutered Male',\n",
       "  'Breed_Shepherd',\n",
       "  'Animal Type_Cat'],\n",
       " 10)"
      ]
     },
     "execution_count": 54,
     "metadata": {},
     "output_type": "execute_result"
    }
   ],
   "source": [
    "# Select top 10 features ranked by I-Gain\n",
    "print(\"Features selected by filter technique:\")\n",
    "top_10_features_filter = list(features_ig[:10].index)\n",
    "top_10_features_filter, len(top_10_features_filter)"
   ]
  },
  {
   "cell_type": "markdown",
   "id": "419bc6a9",
   "metadata": {},
   "source": [
    "### 5. Selection with Wrappers\n",
    "\n",
    "Wrapper techniques, although more computationally expensive than filters, are good at dealing with issues such as the lack of model bias and feature dependencies. The classifier is inherently part of the selection algorithm."
   ]
  },
  {
   "cell_type": "code",
   "execution_count": 55,
   "id": "33688a12",
   "metadata": {},
   "outputs": [
    {
     "data": {
      "text/plain": [
       "0    3471\n",
       "1     277\n",
       "Name: Outcome, dtype: int64"
      ]
     },
     "execution_count": 55,
     "metadata": {},
     "output_type": "execute_result"
    }
   ],
   "source": [
    "y_train.value_counts()"
   ]
  },
  {
   "cell_type": "markdown",
   "id": "37b9ab67",
   "metadata": {},
   "source": [
    "- Due to the high target class imbalance, we will use F1 as the scoring metric for the sequential feature selector wrapper technique (that chooses a subset by adding/removing one feature at a time).\n",
    "- With `k_features` as `\"best\"` instead of an integer, the feature selector will return the feature subset with the best cross-validation performance.\n",
    "- A `cv` value of 10 implies 10-fold cross validation, where the score (based on selected metric) is computed 10 consecutive times (with different splits each time). \n",
    "- A value of `n_jobs = -1` forces the algorithm to use all available CPUs and generally provides a speed-up. "
   ]
  },
  {
   "cell_type": "code",
   "execution_count": 56,
   "id": "13e18bb3",
   "metadata": {},
   "outputs": [],
   "source": [
    "# Perform forward/backward sequential search with a given classifier\n",
    "def sequential_fs(clf: Union[DecisionTreeClassifier, GaussianNB, SVC, KNeighborsClassifier], \n",
    "                  forward: bool, \n",
    "                  k: Union[int, str] = \"best\", \n",
    "                  scoring: str = \"f1\", \n",
    "                  cv: int = 10,\n",
    "                  n_jobs: int = -1,\n",
    "                  figsize: Tuple[int, int] = (12, 6)) -> pd.DataFrame:\n",
    "    # Apply wrapper with cross-validation and measure execution time\n",
    "    t1 = time.time()\n",
    "    sfs = SFS(clf, k_features=k, forward=forward, scoring=scoring, cv=cv, n_jobs=n_jobs)\n",
    "    sfs = sfs.fit(X_train, y_train, custom_feature_names=X_train.columns)\n",
    "    t2 = time.time()\n",
    "    \n",
    "    dct = pd.DataFrame.from_dict(sfs.get_metric_dict()).T\n",
    "    mini, maxi = min(dct[\"avg_score\"]), max(dct[\"avg_score\"])\n",
    "\n",
    "    # Plot\n",
    "    plot_sfs(sfs.get_metric_dict(), ylabel=scoring, figsize=figsize)\n",
    "    plt.ylim([mini * 0.9, maxi * 1.1])\n",
    "    plt.title(f\"Sequential {'Forward' if forward else 'Backward'} Selection ({clf})\", fontsize=16)\n",
    "    plt.grid()\n",
    "    plt.show()\n",
    "    \n",
    "    # \"Best\" feature subset\n",
    "    subset = dct.loc[dct[\"avg_score\"] == maxi, \"feature_names\"].sort_index().iloc[0]\n",
    "    \n",
    "    # Display results\n",
    "    print(f\"Time taken to fit SFS: {t2 - t1:.3f} seconds\")\n",
    "    print(f\"Scoring: {scoring}\")\n",
    "    print(f\"Smallest feature subset (size = {len(subset)}) with max. score ({maxi}):\")\n",
    "    pprint(subset)\n",
    "    \n",
    "    print(\"\\nTop 5 feature subsets in descending order of average score and ascending order of size:\")\n",
    "    return {\n",
    "        \"sfs\": sfs,\n",
    "        \"subset\": list(subset),\n",
    "        \"avg_score\": maxi,\n",
    "        \"top5\": dct.rename_axis(\"#\").sort_values(by=[\"avg_score\", \"#\"], ascending=[False, True]).head()\n",
    "    }\n",
    "\n",
    "\n",
    "# Dictionary to store results for multiple classifiers\n",
    "sfs = defaultdict(dict)"
   ]
  },
  {
   "cell_type": "markdown",
   "id": "7442b5e3",
   "metadata": {},
   "source": [
    "#### i. Decision Tree Classifier"
   ]
  },
  {
   "cell_type": "code",
   "execution_count": 57,
   "id": "6718716d",
   "metadata": {
    "scrolled": false
   },
   "outputs": [
    {
     "data": {
      "image/png": "[encoded data removed]",
      "text/plain": [
       "<Figure size 864x432 with 1 Axes>"
      ]
     },
     "metadata": {
      "needs_background": "light"
     },
     "output_type": "display_data"
    },
    {
     "name": "stdout",
     "output_type": "stream",
     "text": [
      "Time taken to fit SFS: 7.536 seconds\n",
      "Scoring: f1\n",
      "Smallest feature subset (size = 17) with max. score (0.613577131139243):\n",
      "('Name',\n",
      " 'Age in Days upon Outcome',\n",
      " 'Animal Type_Cat',\n",
      " 'Animal Type_Dog',\n",
      " 'Animal Type_Other',\n",
      " 'Sex upon Outcome_Intact Male',\n",
      " 'Sex upon Outcome_Unknown',\n",
      " 'Breed_Australian Cattle Dog',\n",
      " 'Breed_Beagle',\n",
      " 'Breed_Boxer',\n",
      " 'Breed_Chihuahua',\n",
      " 'Breed_Collie',\n",
      " 'Breed_Hound',\n",
      " 'Breed_Pit Bull',\n",
      " 'Breed_Poodle',\n",
      " 'Breed_Rare',\n",
      " 'Color_Orange')\n",
      "\n",
      "Top 5 feature subsets in descending order of average score and ascending order of size:\n"
     ]
    },
    {
     "data": {
      "text/html": [
       "<div>\n",
       "<style scoped>\n",
       "    .dataframe tbody tr th:only-of-type {\n",
       "        vertical-align: middle;\n",
       "    }\n",
       "\n",
       "    .dataframe tbody tr th {\n",
       "        vertical-align: top;\n",
       "    }\n",
       "\n",
       "    .dataframe thead th {\n",
       "        text-align: right;\n",
       "    }\n",
       "</style>\n",
       "<table border=\"1\" class=\"dataframe\">\n",
       "  <thead>\n",
       "    <tr style=\"text-align: right;\">\n",
       "      <th></th>\n",
       "      <th>feature_idx</th>\n",
       "      <th>cv_scores</th>\n",
       "      <th>avg_score</th>\n",
       "      <th>feature_names</th>\n",
       "      <th>ci_bound</th>\n",
       "      <th>std_dev</th>\n",
       "      <th>std_err</th>\n",
       "    </tr>\n",
       "    <tr>\n",
       "      <th>#</th>\n",
       "      <th></th>\n",
       "      <th></th>\n",
       "      <th></th>\n",
       "      <th></th>\n",
       "      <th></th>\n",
       "      <th></th>\n",
       "      <th></th>\n",
       "    </tr>\n",
       "  </thead>\n",
       "  <tbody>\n",
       "    <tr>\n",
       "      <th>17</th>\n",
       "      <td>(0, 1, 2, 3, 4, 6, 9, 10, 12, 13, 14, 15, 18, ...</td>\n",
       "      <td>[0.8163265306122449, 0.7346938775510204, 0.5, ...</td>\n",
       "      <td>0.613577</td>\n",
       "      <td>(Name, Age in Days upon Outcome, Animal Type_C...</td>\n",
       "      <td>0.078468</td>\n",
       "      <td>0.105651</td>\n",
       "      <td>0.035217</td>\n",
       "    </tr>\n",
       "    <tr>\n",
       "      <th>19</th>\n",
       "      <td>(0, 1, 2, 3, 4, 6, 9, 10, 12, 13, 14, 15, 16, ...</td>\n",
       "      <td>[0.8163265306122449, 0.7346938775510204, 0.5, ...</td>\n",
       "      <td>0.613577</td>\n",
       "      <td>(Name, Age in Days upon Outcome, Animal Type_C...</td>\n",
       "      <td>0.078468</td>\n",
       "      <td>0.105651</td>\n",
       "      <td>0.035217</td>\n",
       "    </tr>\n",
       "    <tr>\n",
       "      <th>22</th>\n",
       "      <td>(0, 1, 2, 3, 4, 6, 9, 10, 12, 13, 14, 15, 16, ...</td>\n",
       "      <td>[0.8163265306122449, 0.7346938775510204, 0.5, ...</td>\n",
       "      <td>0.613577</td>\n",
       "      <td>(Name, Age in Days upon Outcome, Animal Type_C...</td>\n",
       "      <td>0.078468</td>\n",
       "      <td>0.105651</td>\n",
       "      <td>0.035217</td>\n",
       "    </tr>\n",
       "    <tr>\n",
       "      <th>20</th>\n",
       "      <td>(0, 1, 2, 3, 4, 6, 9, 10, 12, 13, 14, 15, 16, ...</td>\n",
       "      <td>[0.8163265306122449, 0.7346938775510204, 0.5, ...</td>\n",
       "      <td>0.612423</td>\n",
       "      <td>(Name, Age in Days upon Outcome, Animal Type_C...</td>\n",
       "      <td>0.079733</td>\n",
       "      <td>0.107354</td>\n",
       "      <td>0.035785</td>\n",
       "    </tr>\n",
       "    <tr>\n",
       "      <th>21</th>\n",
       "      <td>(0, 1, 2, 3, 4, 6, 9, 10, 12, 13, 14, 15, 16, ...</td>\n",
       "      <td>[0.8163265306122449, 0.7346938775510204, 0.5, ...</td>\n",
       "      <td>0.612423</td>\n",
       "      <td>(Name, Age in Days upon Outcome, Animal Type_C...</td>\n",
       "      <td>0.079733</td>\n",
       "      <td>0.107354</td>\n",
       "      <td>0.035785</td>\n",
       "    </tr>\n",
       "  </tbody>\n",
       "</table>\n",
       "</div>"
      ],
      "text/plain": [
       "                                          feature_idx  \\\n",
       "#                                                       \n",
       "17  (0, 1, 2, 3, 4, 6, 9, 10, 12, 13, 14, 15, 18, ...   \n",
       "19  (0, 1, 2, 3, 4, 6, 9, 10, 12, 13, 14, 15, 16, ...   \n",
       "22  (0, 1, 2, 3, 4, 6, 9, 10, 12, 13, 14, 15, 16, ...   \n",
       "20  (0, 1, 2, 3, 4, 6, 9, 10, 12, 13, 14, 15, 16, ...   \n",
       "21  (0, 1, 2, 3, 4, 6, 9, 10, 12, 13, 14, 15, 16, ...   \n",
       "\n",
       "                                            cv_scores avg_score  \\\n",
       "#                                                                 \n",
       "17  [0.8163265306122449, 0.7346938775510204, 0.5, ...  0.613577   \n",
       "19  [0.8163265306122449, 0.7346938775510204, 0.5, ...  0.613577   \n",
       "22  [0.8163265306122449, 0.7346938775510204, 0.5, ...  0.613577   \n",
       "20  [0.8163265306122449, 0.7346938775510204, 0.5, ...  0.612423   \n",
       "21  [0.8163265306122449, 0.7346938775510204, 0.5, ...  0.612423   \n",
       "\n",
       "                                        feature_names  ci_bound   std_dev  \\\n",
       "#                                                                           \n",
       "17  (Name, Age in Days upon Outcome, Animal Type_C...  0.078468  0.105651   \n",
       "19  (Name, Age in Days upon Outcome, Animal Type_C...  0.078468  0.105651   \n",
       "22  (Name, Age in Days upon Outcome, Animal Type_C...  0.078468  0.105651   \n",
       "20  (Name, Age in Days upon Outcome, Animal Type_C...  0.079733  0.107354   \n",
       "21  (Name, Age in Days upon Outcome, Animal Type_C...  0.079733  0.107354   \n",
       "\n",
       "     std_err  \n",
       "#             \n",
       "17  0.035217  \n",
       "19  0.035217  \n",
       "22  0.035217  \n",
       "20  0.035785  \n",
       "21  0.035785  "
      ]
     },
     "execution_count": 57,
     "metadata": {},
     "output_type": "execute_result"
    }
   ],
   "source": [
    "dt = DecisionTreeClassifier(criterion=\"entropy\")\n",
    "clf_name = dt.__class__.__name__\n",
    "sfs[clf_name][\"forward\"] = sequential_fs(dt, forward=True)\n",
    "sfs[clf_name][\"forward\"][\"top5\"]"
   ]
  },
  {
   "cell_type": "code",
   "execution_count": 58,
   "id": "96271b75",
   "metadata": {
    "scrolled": false
   },
   "outputs": [
    {
     "data": {
      "image/png": "[encoded data removed]",
      "text/plain": [
       "<Figure size 864x432 with 1 Axes>"
      ]
     },
     "metadata": {
      "needs_background": "light"
     },
     "output_type": "display_data"
    },
    {
     "name": "stdout",
     "output_type": "stream",
     "text": [
      "Time taken to fit SFS: 10.343 seconds\n",
      "Scoring: f1\n",
      "Smallest feature subset (size = 17) with max. score (0.6244344171822142):\n",
      "('Name',\n",
      " 'Age in Days upon Outcome',\n",
      " 'Animal Type_Other',\n",
      " 'Sex upon Outcome_Intact Female',\n",
      " 'Sex upon Outcome_Neutered Male',\n",
      " 'Sex upon Outcome_Spayed Female',\n",
      " 'Sex upon Outcome_Unknown',\n",
      " 'Breed_Boxer',\n",
      " 'Breed_Chihuahua',\n",
      " 'Breed_Pit Bull',\n",
      " 'Breed_Rare',\n",
      " 'Breed_Very Rare',\n",
      " 'Color_Blue',\n",
      " 'Color_Brown',\n",
      " 'Color_Gray',\n",
      " 'Color_Orange',\n",
      " 'Color_Yellow')\n",
      "\n",
      "Top 5 feature subsets in descending order of average score and ascending order of size:\n"
     ]
    },
    {
     "data": {
      "text/html": [
       "<div>\n",
       "<style scoped>\n",
       "    .dataframe tbody tr th:only-of-type {\n",
       "        vertical-align: middle;\n",
       "    }\n",
       "\n",
       "    .dataframe tbody tr th {\n",
       "        vertical-align: top;\n",
       "    }\n",
       "\n",
       "    .dataframe thead th {\n",
       "        text-align: right;\n",
       "    }\n",
       "</style>\n",
       "<table border=\"1\" class=\"dataframe\">\n",
       "  <thead>\n",
       "    <tr style=\"text-align: right;\">\n",
       "      <th></th>\n",
       "      <th>feature_idx</th>\n",
       "      <th>cv_scores</th>\n",
       "      <th>avg_score</th>\n",
       "      <th>feature_names</th>\n",
       "      <th>ci_bound</th>\n",
       "      <th>std_dev</th>\n",
       "      <th>std_err</th>\n",
       "    </tr>\n",
       "    <tr>\n",
       "      <th>#</th>\n",
       "      <th></th>\n",
       "      <th></th>\n",
       "      <th></th>\n",
       "      <th></th>\n",
       "      <th></th>\n",
       "      <th></th>\n",
       "      <th></th>\n",
       "    </tr>\n",
       "  </thead>\n",
       "  <tbody>\n",
       "    <tr>\n",
       "      <th>17</th>\n",
       "      <td>(0, 1, 4, 5, 7, 8, 9, 13, 14, 20, 22, 27, 29, ...</td>\n",
       "      <td>[0.782608695652174, 0.7200000000000001, 0.5531...</td>\n",
       "      <td>0.624434</td>\n",
       "      <td>(Name, Age in Days upon Outcome, Animal Type_O...</td>\n",
       "      <td>0.060523</td>\n",
       "      <td>0.081489</td>\n",
       "      <td>0.027163</td>\n",
       "    </tr>\n",
       "    <tr>\n",
       "      <th>13</th>\n",
       "      <td>(0, 1, 4, 5, 7, 8, 9, 20, 22, 27, 29, 30, 32)</td>\n",
       "      <td>[0.782608695652174, 0.7083333333333333, 0.5531...</td>\n",
       "      <td>0.623021</td>\n",
       "      <td>(Name, Age in Days upon Outcome, Animal Type_O...</td>\n",
       "      <td>0.056473</td>\n",
       "      <td>0.076036</td>\n",
       "      <td>0.025345</td>\n",
       "    </tr>\n",
       "    <tr>\n",
       "      <th>15</th>\n",
       "      <td>(0, 1, 4, 5, 7, 8, 9, 13, 20, 22, 27, 29, 30, ...</td>\n",
       "      <td>[0.782608695652174, 0.7200000000000001, 0.5217...</td>\n",
       "      <td>0.621432</td>\n",
       "      <td>(Name, Age in Days upon Outcome, Animal Type_O...</td>\n",
       "      <td>0.063192</td>\n",
       "      <td>0.085083</td>\n",
       "      <td>0.028361</td>\n",
       "    </tr>\n",
       "    <tr>\n",
       "      <th>14</th>\n",
       "      <td>(0, 1, 4, 5, 7, 8, 9, 20, 22, 27, 29, 30, 31, 32)</td>\n",
       "      <td>[0.782608695652174, 0.7200000000000001, 0.5217...</td>\n",
       "      <td>0.621424</td>\n",
       "      <td>(Name, Age in Days upon Outcome, Animal Type_O...</td>\n",
       "      <td>0.063477</td>\n",
       "      <td>0.085466</td>\n",
       "      <td>0.028489</td>\n",
       "    </tr>\n",
       "    <tr>\n",
       "      <th>18</th>\n",
       "      <td>(0, 1, 4, 5, 7, 8, 9, 13, 14, 20, 22, 27, 29, ...</td>\n",
       "      <td>[0.782608695652174, 0.7058823529411765, 0.5957...</td>\n",
       "      <td>0.620966</td>\n",
       "      <td>(Name, Age in Days upon Outcome, Animal Type_O...</td>\n",
       "      <td>0.061047</td>\n",
       "      <td>0.082195</td>\n",
       "      <td>0.027398</td>\n",
       "    </tr>\n",
       "  </tbody>\n",
       "</table>\n",
       "</div>"
      ],
      "text/plain": [
       "                                          feature_idx  \\\n",
       "#                                                       \n",
       "17  (0, 1, 4, 5, 7, 8, 9, 13, 14, 20, 22, 27, 29, ...   \n",
       "13      (0, 1, 4, 5, 7, 8, 9, 20, 22, 27, 29, 30, 32)   \n",
       "15  (0, 1, 4, 5, 7, 8, 9, 13, 20, 22, 27, 29, 30, ...   \n",
       "14  (0, 1, 4, 5, 7, 8, 9, 20, 22, 27, 29, 30, 31, 32)   \n",
       "18  (0, 1, 4, 5, 7, 8, 9, 13, 14, 20, 22, 27, 29, ...   \n",
       "\n",
       "                                            cv_scores avg_score  \\\n",
       "#                                                                 \n",
       "17  [0.782608695652174, 0.7200000000000001, 0.5531...  0.624434   \n",
       "13  [0.782608695652174, 0.7083333333333333, 0.5531...  0.623021   \n",
       "15  [0.782608695652174, 0.7200000000000001, 0.5217...  0.621432   \n",
       "14  [0.782608695652174, 0.7200000000000001, 0.5217...  0.621424   \n",
       "18  [0.782608695652174, 0.7058823529411765, 0.5957...  0.620966   \n",
       "\n",
       "                                        feature_names  ci_bound   std_dev  \\\n",
       "#                                                                           \n",
       "17  (Name, Age in Days upon Outcome, Animal Type_O...  0.060523  0.081489   \n",
       "13  (Name, Age in Days upon Outcome, Animal Type_O...  0.056473  0.076036   \n",
       "15  (Name, Age in Days upon Outcome, Animal Type_O...  0.063192  0.085083   \n",
       "14  (Name, Age in Days upon Outcome, Animal Type_O...  0.063477  0.085466   \n",
       "18  (Name, Age in Days upon Outcome, Animal Type_O...  0.061047  0.082195   \n",
       "\n",
       "     std_err  \n",
       "#             \n",
       "17  0.027163  \n",
       "13  0.025345  \n",
       "15  0.028361  \n",
       "14  0.028489  \n",
       "18  0.027398  "
      ]
     },
     "execution_count": 58,
     "metadata": {},
     "output_type": "execute_result"
    }
   ],
   "source": [
    "sfs[clf_name][\"backward\"] = sequential_fs(dt, forward=False)\n",
    "sfs[clf_name][\"backward\"][\"top5\"]"
   ]
  },
  {
   "cell_type": "markdown",
   "id": "be963176",
   "metadata": {},
   "source": [
    "#### ii. Naive Bayes Classifier"
   ]
  },
  {
   "cell_type": "code",
   "execution_count": 59,
   "id": "81c9a0a1",
   "metadata": {},
   "outputs": [
    {
     "data": {
      "image/png": "[encoded data removed]",
      "text/plain": [
       "<Figure size 864x432 with 1 Axes>"
      ]
     },
     "metadata": {
      "needs_background": "light"
     },
     "output_type": "display_data"
    },
    {
     "name": "stdout",
     "output_type": "stream",
     "text": [
      "Time taken to fit SFS: 3.619 seconds\n",
      "Scoring: f1\n",
      "Smallest feature subset (size = 3) with max. score (0.5640204124324624):\n",
      "('Animal Type_Other', 'Breed_Bat', 'Color_Red')\n",
      "\n",
      "Top 5 feature subsets in descending order of average score and ascending order of size:\n"
     ]
    },
    {
     "data": {
      "text/html": [
       "<div>\n",
       "<style scoped>\n",
       "    .dataframe tbody tr th:only-of-type {\n",
       "        vertical-align: middle;\n",
       "    }\n",
       "\n",
       "    .dataframe tbody tr th {\n",
       "        vertical-align: top;\n",
       "    }\n",
       "\n",
       "    .dataframe thead th {\n",
       "        text-align: right;\n",
       "    }\n",
       "</style>\n",
       "<table border=\"1\" class=\"dataframe\">\n",
       "  <thead>\n",
       "    <tr style=\"text-align: right;\">\n",
       "      <th></th>\n",
       "      <th>feature_idx</th>\n",
       "      <th>cv_scores</th>\n",
       "      <th>avg_score</th>\n",
       "      <th>feature_names</th>\n",
       "      <th>ci_bound</th>\n",
       "      <th>std_dev</th>\n",
       "      <th>std_err</th>\n",
       "    </tr>\n",
       "    <tr>\n",
       "      <th>#</th>\n",
       "      <th></th>\n",
       "      <th></th>\n",
       "      <th></th>\n",
       "      <th></th>\n",
       "      <th></th>\n",
       "      <th></th>\n",
       "      <th></th>\n",
       "    </tr>\n",
       "  </thead>\n",
       "  <tbody>\n",
       "    <tr>\n",
       "      <th>3</th>\n",
       "      <td>(4, 11, 34)</td>\n",
       "      <td>[0.7999999999999999, 0.6122448979591837, 0.478...</td>\n",
       "      <td>0.56402</td>\n",
       "      <td>(Animal Type_Other, Breed_Bat, Color_Red)</td>\n",
       "      <td>0.072526</td>\n",
       "      <td>0.09765</td>\n",
       "      <td>0.03255</td>\n",
       "    </tr>\n",
       "    <tr>\n",
       "      <th>4</th>\n",
       "      <td>(0, 4, 11, 34)</td>\n",
       "      <td>[0.7999999999999999, 0.6122448979591837, 0.478...</td>\n",
       "      <td>0.56402</td>\n",
       "      <td>(Name, Animal Type_Other, Breed_Bat, Color_Red)</td>\n",
       "      <td>0.072526</td>\n",
       "      <td>0.09765</td>\n",
       "      <td>0.03255</td>\n",
       "    </tr>\n",
       "    <tr>\n",
       "      <th>5</th>\n",
       "      <td>(0, 1, 4, 11, 34)</td>\n",
       "      <td>[0.7999999999999999, 0.6122448979591837, 0.478...</td>\n",
       "      <td>0.56402</td>\n",
       "      <td>(Name, Age in Days upon Outcome, Animal Type_O...</td>\n",
       "      <td>0.072526</td>\n",
       "      <td>0.09765</td>\n",
       "      <td>0.03255</td>\n",
       "    </tr>\n",
       "    <tr>\n",
       "      <th>6</th>\n",
       "      <td>(0, 1, 2, 4, 11, 34)</td>\n",
       "      <td>[0.7999999999999999, 0.6122448979591837, 0.478...</td>\n",
       "      <td>0.56402</td>\n",
       "      <td>(Name, Age in Days upon Outcome, Animal Type_C...</td>\n",
       "      <td>0.072526</td>\n",
       "      <td>0.09765</td>\n",
       "      <td>0.03255</td>\n",
       "    </tr>\n",
       "    <tr>\n",
       "      <th>7</th>\n",
       "      <td>(0, 1, 2, 3, 4, 11, 34)</td>\n",
       "      <td>[0.7999999999999999, 0.6122448979591837, 0.478...</td>\n",
       "      <td>0.56402</td>\n",
       "      <td>(Name, Age in Days upon Outcome, Animal Type_C...</td>\n",
       "      <td>0.072526</td>\n",
       "      <td>0.09765</td>\n",
       "      <td>0.03255</td>\n",
       "    </tr>\n",
       "  </tbody>\n",
       "</table>\n",
       "</div>"
      ],
      "text/plain": [
       "               feature_idx                                          cv_scores  \\\n",
       "#                                                                               \n",
       "3              (4, 11, 34)  [0.7999999999999999, 0.6122448979591837, 0.478...   \n",
       "4           (0, 4, 11, 34)  [0.7999999999999999, 0.6122448979591837, 0.478...   \n",
       "5        (0, 1, 4, 11, 34)  [0.7999999999999999, 0.6122448979591837, 0.478...   \n",
       "6     (0, 1, 2, 4, 11, 34)  [0.7999999999999999, 0.6122448979591837, 0.478...   \n",
       "7  (0, 1, 2, 3, 4, 11, 34)  [0.7999999999999999, 0.6122448979591837, 0.478...   \n",
       "\n",
       "  avg_score                                      feature_names  ci_bound  \\\n",
       "#                                                                          \n",
       "3   0.56402          (Animal Type_Other, Breed_Bat, Color_Red)  0.072526   \n",
       "4   0.56402    (Name, Animal Type_Other, Breed_Bat, Color_Red)  0.072526   \n",
       "5   0.56402  (Name, Age in Days upon Outcome, Animal Type_O...  0.072526   \n",
       "6   0.56402  (Name, Age in Days upon Outcome, Animal Type_C...  0.072526   \n",
       "7   0.56402  (Name, Age in Days upon Outcome, Animal Type_C...  0.072526   \n",
       "\n",
       "   std_dev  std_err  \n",
       "#                    \n",
       "3  0.09765  0.03255  \n",
       "4  0.09765  0.03255  \n",
       "5  0.09765  0.03255  \n",
       "6  0.09765  0.03255  \n",
       "7  0.09765  0.03255  "
      ]
     },
     "execution_count": 59,
     "metadata": {},
     "output_type": "execute_result"
    }
   ],
   "source": [
    "gnb = GaussianNB()\n",
    "clf_name = gnb.__class__.__name__\n",
    "sfs[clf_name][\"forward\"] = sequential_fs(gnb, forward=True)\n",
    "sfs[clf_name][\"forward\"][\"top5\"]"
   ]
  },
  {
   "cell_type": "code",
   "execution_count": 60,
   "id": "162a36cd",
   "metadata": {},
   "outputs": [
    {
     "data": {
      "image/png": "[encoded data removed]",
      "text/plain": [
       "<Figure size 864x432 with 1 Axes>"
      ]
     },
     "metadata": {
      "needs_background": "light"
     },
     "output_type": "display_data"
    },
    {
     "name": "stdout",
     "output_type": "stream",
     "text": [
      "Time taken to fit SFS: 4.164 seconds\n",
      "Scoring: f1\n",
      "Smallest feature subset (size = 3) with max. score (0.5640204124324624):\n",
      "('Animal Type_Other', 'Breed_Bat', 'Color_Red')\n",
      "\n",
      "Top 5 feature subsets in descending order of average score and ascending order of size:\n"
     ]
    },
    {
     "data": {
      "text/html": [
       "<div>\n",
       "<style scoped>\n",
       "    .dataframe tbody tr th:only-of-type {\n",
       "        vertical-align: middle;\n",
       "    }\n",
       "\n",
       "    .dataframe tbody tr th {\n",
       "        vertical-align: top;\n",
       "    }\n",
       "\n",
       "    .dataframe thead th {\n",
       "        text-align: right;\n",
       "    }\n",
       "</style>\n",
       "<table border=\"1\" class=\"dataframe\">\n",
       "  <thead>\n",
       "    <tr style=\"text-align: right;\">\n",
       "      <th></th>\n",
       "      <th>feature_idx</th>\n",
       "      <th>cv_scores</th>\n",
       "      <th>avg_score</th>\n",
       "      <th>feature_names</th>\n",
       "      <th>ci_bound</th>\n",
       "      <th>std_dev</th>\n",
       "      <th>std_err</th>\n",
       "    </tr>\n",
       "    <tr>\n",
       "      <th>#</th>\n",
       "      <th></th>\n",
       "      <th></th>\n",
       "      <th></th>\n",
       "      <th></th>\n",
       "      <th></th>\n",
       "      <th></th>\n",
       "      <th></th>\n",
       "    </tr>\n",
       "  </thead>\n",
       "  <tbody>\n",
       "    <tr>\n",
       "      <th>3</th>\n",
       "      <td>(4, 11, 34)</td>\n",
       "      <td>[0.7999999999999999, 0.6122448979591837, 0.478...</td>\n",
       "      <td>0.56402</td>\n",
       "      <td>(Animal Type_Other, Breed_Bat, Color_Red)</td>\n",
       "      <td>0.072526</td>\n",
       "      <td>0.09765</td>\n",
       "      <td>0.03255</td>\n",
       "    </tr>\n",
       "    <tr>\n",
       "      <th>4</th>\n",
       "      <td>(0, 4, 11, 34)</td>\n",
       "      <td>[0.7999999999999999, 0.6122448979591837, 0.478...</td>\n",
       "      <td>0.56402</td>\n",
       "      <td>(Name, Animal Type_Other, Breed_Bat, Color_Red)</td>\n",
       "      <td>0.072526</td>\n",
       "      <td>0.09765</td>\n",
       "      <td>0.03255</td>\n",
       "    </tr>\n",
       "    <tr>\n",
       "      <th>5</th>\n",
       "      <td>(0, 1, 4, 11, 34)</td>\n",
       "      <td>[0.7999999999999999, 0.6122448979591837, 0.478...</td>\n",
       "      <td>0.56402</td>\n",
       "      <td>(Name, Age in Days upon Outcome, Animal Type_O...</td>\n",
       "      <td>0.072526</td>\n",
       "      <td>0.09765</td>\n",
       "      <td>0.03255</td>\n",
       "    </tr>\n",
       "    <tr>\n",
       "      <th>6</th>\n",
       "      <td>(0, 1, 2, 4, 11, 34)</td>\n",
       "      <td>[0.7999999999999999, 0.6122448979591837, 0.478...</td>\n",
       "      <td>0.56402</td>\n",
       "      <td>(Name, Age in Days upon Outcome, Animal Type_C...</td>\n",
       "      <td>0.072526</td>\n",
       "      <td>0.09765</td>\n",
       "      <td>0.03255</td>\n",
       "    </tr>\n",
       "    <tr>\n",
       "      <th>7</th>\n",
       "      <td>(0, 1, 2, 3, 4, 11, 34)</td>\n",
       "      <td>[0.7999999999999999, 0.6122448979591837, 0.478...</td>\n",
       "      <td>0.56402</td>\n",
       "      <td>(Name, Age in Days upon Outcome, Animal Type_C...</td>\n",
       "      <td>0.072526</td>\n",
       "      <td>0.09765</td>\n",
       "      <td>0.03255</td>\n",
       "    </tr>\n",
       "  </tbody>\n",
       "</table>\n",
       "</div>"
      ],
      "text/plain": [
       "               feature_idx                                          cv_scores  \\\n",
       "#                                                                               \n",
       "3              (4, 11, 34)  [0.7999999999999999, 0.6122448979591837, 0.478...   \n",
       "4           (0, 4, 11, 34)  [0.7999999999999999, 0.6122448979591837, 0.478...   \n",
       "5        (0, 1, 4, 11, 34)  [0.7999999999999999, 0.6122448979591837, 0.478...   \n",
       "6     (0, 1, 2, 4, 11, 34)  [0.7999999999999999, 0.6122448979591837, 0.478...   \n",
       "7  (0, 1, 2, 3, 4, 11, 34)  [0.7999999999999999, 0.6122448979591837, 0.478...   \n",
       "\n",
       "  avg_score                                      feature_names  ci_bound  \\\n",
       "#                                                                          \n",
       "3   0.56402          (Animal Type_Other, Breed_Bat, Color_Red)  0.072526   \n",
       "4   0.56402    (Name, Animal Type_Other, Breed_Bat, Color_Red)  0.072526   \n",
       "5   0.56402  (Name, Age in Days upon Outcome, Animal Type_O...  0.072526   \n",
       "6   0.56402  (Name, Age in Days upon Outcome, Animal Type_C...  0.072526   \n",
       "7   0.56402  (Name, Age in Days upon Outcome, Animal Type_C...  0.072526   \n",
       "\n",
       "   std_dev  std_err  \n",
       "#                    \n",
       "3  0.09765  0.03255  \n",
       "4  0.09765  0.03255  \n",
       "5  0.09765  0.03255  \n",
       "6  0.09765  0.03255  \n",
       "7  0.09765  0.03255  "
      ]
     },
     "execution_count": 60,
     "metadata": {},
     "output_type": "execute_result"
    }
   ],
   "source": [
    "sfs[clf_name][\"backward\"] = sequential_fs(gnb, forward=False)\n",
    "sfs[clf_name][\"backward\"][\"top5\"]"
   ]
  },
  {
   "cell_type": "markdown",
   "id": "22d5a9a3",
   "metadata": {},
   "source": [
    "#### iii. SVM (Support Vector Machine) Classifier"
   ]
  },
  {
   "cell_type": "code",
   "execution_count": 61,
   "id": "c4e28c9e",
   "metadata": {},
   "outputs": [
    {
     "data": {
      "image/png": "[encoded data removed]",
      "text/plain": [
       "<Figure size 864x432 with 1 Axes>"
      ]
     },
     "metadata": {
      "needs_background": "light"
     },
     "output_type": "display_data"
    },
    {
     "name": "stdout",
     "output_type": "stream",
     "text": [
      "Time taken to fit SFS: 86.304 seconds\n",
      "Scoring: f1\n",
      "Smallest feature subset (size = 20) with max. score (0.5940966496414545):\n",
      "('Name',\n",
      " 'Age in Days upon Outcome',\n",
      " 'Animal Type_Cat',\n",
      " 'Animal Type_Dog',\n",
      " 'Animal Type_Other',\n",
      " 'Sex upon Outcome_Intact Female',\n",
      " 'Sex upon Outcome_Intact Male',\n",
      " 'Sex upon Outcome_Neutered Male',\n",
      " 'Sex upon Outcome_Spayed Female',\n",
      " 'Breed_Australian Cattle Dog',\n",
      " 'Breed_Bat',\n",
      " 'Breed_Beagle',\n",
      " 'Breed_Boxer',\n",
      " 'Breed_Chihuahua',\n",
      " 'Breed_Collie',\n",
      " 'Breed_Domestic',\n",
      " 'Breed_Husky',\n",
      " 'Color_Gray',\n",
      " 'Color_Red',\n",
      " 'Color_Tricolor')\n",
      "\n",
      "Top 5 feature subsets in descending order of average score and ascending order of size:\n"
     ]
    },
    {
     "data": {
      "text/html": [
       "<div>\n",
       "<style scoped>\n",
       "    .dataframe tbody tr th:only-of-type {\n",
       "        vertical-align: middle;\n",
       "    }\n",
       "\n",
       "    .dataframe tbody tr th {\n",
       "        vertical-align: top;\n",
       "    }\n",
       "\n",
       "    .dataframe thead th {\n",
       "        text-align: right;\n",
       "    }\n",
       "</style>\n",
       "<table border=\"1\" class=\"dataframe\">\n",
       "  <thead>\n",
       "    <tr style=\"text-align: right;\">\n",
       "      <th></th>\n",
       "      <th>feature_idx</th>\n",
       "      <th>cv_scores</th>\n",
       "      <th>avg_score</th>\n",
       "      <th>feature_names</th>\n",
       "      <th>ci_bound</th>\n",
       "      <th>std_dev</th>\n",
       "      <th>std_err</th>\n",
       "    </tr>\n",
       "    <tr>\n",
       "      <th>#</th>\n",
       "      <th></th>\n",
       "      <th></th>\n",
       "      <th></th>\n",
       "      <th></th>\n",
       "      <th></th>\n",
       "      <th></th>\n",
       "      <th></th>\n",
       "    </tr>\n",
       "  </thead>\n",
       "  <tbody>\n",
       "    <tr>\n",
       "      <th>20</th>\n",
       "      <td>(0, 1, 2, 3, 4, 5, 6, 7, 8, 10, 11, 12, 13, 14...</td>\n",
       "      <td>[0.8163265306122449, 0.6666666666666667, 0.511...</td>\n",
       "      <td>0.594097</td>\n",
       "      <td>(Name, Age in Days upon Outcome, Animal Type_C...</td>\n",
       "      <td>0.073856</td>\n",
       "      <td>0.099441</td>\n",
       "      <td>0.033147</td>\n",
       "    </tr>\n",
       "    <tr>\n",
       "      <th>35</th>\n",
       "      <td>(0, 1, 2, 3, 4, 5, 6, 7, 8, 10, 11, 12, 13, 14...</td>\n",
       "      <td>[0.8163265306122449, 0.6666666666666667, 0.511...</td>\n",
       "      <td>0.593998</td>\n",
       "      <td>(Name, Age in Days upon Outcome, Animal Type_C...</td>\n",
       "      <td>0.072797</td>\n",
       "      <td>0.098015</td>\n",
       "      <td>0.032672</td>\n",
       "    </tr>\n",
       "    <tr>\n",
       "      <th>36</th>\n",
       "      <td>(0, 1, 2, 3, 4, 5, 6, 7, 8, 10, 11, 12, 13, 14...</td>\n",
       "      <td>[0.8163265306122449, 0.6666666666666667, 0.511...</td>\n",
       "      <td>0.593998</td>\n",
       "      <td>(Name, Age in Days upon Outcome, Animal Type_C...</td>\n",
       "      <td>0.072797</td>\n",
       "      <td>0.098015</td>\n",
       "      <td>0.032672</td>\n",
       "    </tr>\n",
       "    <tr>\n",
       "      <th>37</th>\n",
       "      <td>(0, 1, 2, 3, 4, 5, 6, 7, 8, 10, 11, 12, 13, 14...</td>\n",
       "      <td>[0.8163265306122449, 0.6666666666666667, 0.511...</td>\n",
       "      <td>0.593998</td>\n",
       "      <td>(Name, Age in Days upon Outcome, Animal Type_C...</td>\n",
       "      <td>0.072797</td>\n",
       "      <td>0.098015</td>\n",
       "      <td>0.032672</td>\n",
       "    </tr>\n",
       "    <tr>\n",
       "      <th>21</th>\n",
       "      <td>(0, 1, 2, 3, 4, 5, 6, 7, 8, 10, 11, 12, 13, 14...</td>\n",
       "      <td>[0.8163265306122449, 0.6666666666666667, 0.523...</td>\n",
       "      <td>0.593985</td>\n",
       "      <td>(Name, Age in Days upon Outcome, Animal Type_C...</td>\n",
       "      <td>0.07278</td>\n",
       "      <td>0.097993</td>\n",
       "      <td>0.032664</td>\n",
       "    </tr>\n",
       "  </tbody>\n",
       "</table>\n",
       "</div>"
      ],
      "text/plain": [
       "                                          feature_idx  \\\n",
       "#                                                       \n",
       "20  (0, 1, 2, 3, 4, 5, 6, 7, 8, 10, 11, 12, 13, 14...   \n",
       "35  (0, 1, 2, 3, 4, 5, 6, 7, 8, 10, 11, 12, 13, 14...   \n",
       "36  (0, 1, 2, 3, 4, 5, 6, 7, 8, 10, 11, 12, 13, 14...   \n",
       "37  (0, 1, 2, 3, 4, 5, 6, 7, 8, 10, 11, 12, 13, 14...   \n",
       "21  (0, 1, 2, 3, 4, 5, 6, 7, 8, 10, 11, 12, 13, 14...   \n",
       "\n",
       "                                            cv_scores avg_score  \\\n",
       "#                                                                 \n",
       "20  [0.8163265306122449, 0.6666666666666667, 0.511...  0.594097   \n",
       "35  [0.8163265306122449, 0.6666666666666667, 0.511...  0.593998   \n",
       "36  [0.8163265306122449, 0.6666666666666667, 0.511...  0.593998   \n",
       "37  [0.8163265306122449, 0.6666666666666667, 0.511...  0.593998   \n",
       "21  [0.8163265306122449, 0.6666666666666667, 0.523...  0.593985   \n",
       "\n",
       "                                        feature_names  ci_bound   std_dev  \\\n",
       "#                                                                           \n",
       "20  (Name, Age in Days upon Outcome, Animal Type_C...  0.073856  0.099441   \n",
       "35  (Name, Age in Days upon Outcome, Animal Type_C...  0.072797  0.098015   \n",
       "36  (Name, Age in Days upon Outcome, Animal Type_C...  0.072797  0.098015   \n",
       "37  (Name, Age in Days upon Outcome, Animal Type_C...  0.072797  0.098015   \n",
       "21  (Name, Age in Days upon Outcome, Animal Type_C...   0.07278  0.097993   \n",
       "\n",
       "     std_err  \n",
       "#             \n",
       "20  0.033147  \n",
       "35  0.032672  \n",
       "36  0.032672  \n",
       "37  0.032672  \n",
       "21  0.032664  "
      ]
     },
     "execution_count": 61,
     "metadata": {},
     "output_type": "execute_result"
    }
   ],
   "source": [
    "svm = SVC()\n",
    "clf_name = svm.__class__.__name__\n",
    "sfs[clf_name][\"forward\"] = sequential_fs(svm, forward=True)\n",
    "sfs[clf_name][\"forward\"][\"top5\"]"
   ]
  },
  {
   "cell_type": "code",
   "execution_count": 62,
   "id": "a0a7d70e",
   "metadata": {},
   "outputs": [
    {
     "data": {
      "image/png": "[encoded data removed]",
      "text/plain": [
       "<Figure size 864x432 with 1 Axes>"
      ]
     },
     "metadata": {
      "needs_background": "light"
     },
     "output_type": "display_data"
    },
    {
     "name": "stdout",
     "output_type": "stream",
     "text": [
      "Time taken to fit SFS: 148.685 seconds\n",
      "Scoring: f1\n",
      "Smallest feature subset (size = 9) with max. score (0.5968141648660857):\n",
      "('Name',\n",
      " 'Age in Days upon Outcome',\n",
      " 'Animal Type_Other',\n",
      " 'Sex upon Outcome_Intact Female',\n",
      " 'Sex upon Outcome_Intact Male',\n",
      " 'Color_Black',\n",
      " 'Color_Brown',\n",
      " 'Color_Gray',\n",
      " 'Color_Other')\n",
      "\n",
      "Top 5 feature subsets in descending order of average score and ascending order of size:\n"
     ]
    },
    {
     "data": {
      "text/html": [
       "<div>\n",
       "<style scoped>\n",
       "    .dataframe tbody tr th:only-of-type {\n",
       "        vertical-align: middle;\n",
       "    }\n",
       "\n",
       "    .dataframe tbody tr th {\n",
       "        vertical-align: top;\n",
       "    }\n",
       "\n",
       "    .dataframe thead th {\n",
       "        text-align: right;\n",
       "    }\n",
       "</style>\n",
       "<table border=\"1\" class=\"dataframe\">\n",
       "  <thead>\n",
       "    <tr style=\"text-align: right;\">\n",
       "      <th></th>\n",
       "      <th>feature_idx</th>\n",
       "      <th>cv_scores</th>\n",
       "      <th>avg_score</th>\n",
       "      <th>feature_names</th>\n",
       "      <th>ci_bound</th>\n",
       "      <th>std_dev</th>\n",
       "      <th>std_err</th>\n",
       "    </tr>\n",
       "    <tr>\n",
       "      <th>#</th>\n",
       "      <th></th>\n",
       "      <th></th>\n",
       "      <th></th>\n",
       "      <th></th>\n",
       "      <th></th>\n",
       "      <th></th>\n",
       "      <th></th>\n",
       "    </tr>\n",
       "  </thead>\n",
       "  <tbody>\n",
       "    <tr>\n",
       "      <th>9</th>\n",
       "      <td>(0, 1, 4, 5, 6, 28, 30, 31, 33)</td>\n",
       "      <td>[0.8163265306122449, 0.6666666666666667, 0.511...</td>\n",
       "      <td>0.596814</td>\n",
       "      <td>(Name, Age in Days upon Outcome, Animal Type_O...</td>\n",
       "      <td>0.072972</td>\n",
       "      <td>0.09825</td>\n",
       "      <td>0.03275</td>\n",
       "    </tr>\n",
       "    <tr>\n",
       "      <th>10</th>\n",
       "      <td>(0, 1, 4, 5, 6, 8, 28, 30, 31, 33)</td>\n",
       "      <td>[0.8163265306122449, 0.6666666666666667, 0.511...</td>\n",
       "      <td>0.596814</td>\n",
       "      <td>(Name, Age in Days upon Outcome, Animal Type_O...</td>\n",
       "      <td>0.072972</td>\n",
       "      <td>0.09825</td>\n",
       "      <td>0.03275</td>\n",
       "    </tr>\n",
       "    <tr>\n",
       "      <th>11</th>\n",
       "      <td>(0, 1, 2, 4, 5, 6, 8, 28, 30, 31, 33)</td>\n",
       "      <td>[0.8163265306122449, 0.6666666666666667, 0.511...</td>\n",
       "      <td>0.596814</td>\n",
       "      <td>(Name, Age in Days upon Outcome, Animal Type_C...</td>\n",
       "      <td>0.072972</td>\n",
       "      <td>0.09825</td>\n",
       "      <td>0.03275</td>\n",
       "    </tr>\n",
       "    <tr>\n",
       "      <th>12</th>\n",
       "      <td>(0, 1, 2, 4, 5, 6, 8, 10, 28, 30, 31, 33)</td>\n",
       "      <td>[0.8163265306122449, 0.6666666666666667, 0.511...</td>\n",
       "      <td>0.596814</td>\n",
       "      <td>(Name, Age in Days upon Outcome, Animal Type_C...</td>\n",
       "      <td>0.072972</td>\n",
       "      <td>0.09825</td>\n",
       "      <td>0.03275</td>\n",
       "    </tr>\n",
       "    <tr>\n",
       "      <th>13</th>\n",
       "      <td>(0, 1, 2, 4, 5, 6, 8, 10, 12, 28, 30, 31, 33)</td>\n",
       "      <td>[0.8163265306122449, 0.6666666666666667, 0.511...</td>\n",
       "      <td>0.596814</td>\n",
       "      <td>(Name, Age in Days upon Outcome, Animal Type_C...</td>\n",
       "      <td>0.072972</td>\n",
       "      <td>0.09825</td>\n",
       "      <td>0.03275</td>\n",
       "    </tr>\n",
       "  </tbody>\n",
       "</table>\n",
       "</div>"
      ],
      "text/plain": [
       "                                      feature_idx  \\\n",
       "#                                                   \n",
       "9                 (0, 1, 4, 5, 6, 28, 30, 31, 33)   \n",
       "10             (0, 1, 4, 5, 6, 8, 28, 30, 31, 33)   \n",
       "11          (0, 1, 2, 4, 5, 6, 8, 28, 30, 31, 33)   \n",
       "12      (0, 1, 2, 4, 5, 6, 8, 10, 28, 30, 31, 33)   \n",
       "13  (0, 1, 2, 4, 5, 6, 8, 10, 12, 28, 30, 31, 33)   \n",
       "\n",
       "                                            cv_scores avg_score  \\\n",
       "#                                                                 \n",
       "9   [0.8163265306122449, 0.6666666666666667, 0.511...  0.596814   \n",
       "10  [0.8163265306122449, 0.6666666666666667, 0.511...  0.596814   \n",
       "11  [0.8163265306122449, 0.6666666666666667, 0.511...  0.596814   \n",
       "12  [0.8163265306122449, 0.6666666666666667, 0.511...  0.596814   \n",
       "13  [0.8163265306122449, 0.6666666666666667, 0.511...  0.596814   \n",
       "\n",
       "                                        feature_names  ci_bound  std_dev  \\\n",
       "#                                                                          \n",
       "9   (Name, Age in Days upon Outcome, Animal Type_O...  0.072972  0.09825   \n",
       "10  (Name, Age in Days upon Outcome, Animal Type_O...  0.072972  0.09825   \n",
       "11  (Name, Age in Days upon Outcome, Animal Type_C...  0.072972  0.09825   \n",
       "12  (Name, Age in Days upon Outcome, Animal Type_C...  0.072972  0.09825   \n",
       "13  (Name, Age in Days upon Outcome, Animal Type_C...  0.072972  0.09825   \n",
       "\n",
       "    std_err  \n",
       "#            \n",
       "9   0.03275  \n",
       "10  0.03275  \n",
       "11  0.03275  \n",
       "12  0.03275  \n",
       "13  0.03275  "
      ]
     },
     "execution_count": 62,
     "metadata": {},
     "output_type": "execute_result"
    }
   ],
   "source": [
    "sfs[clf_name][\"backward\"] = sequential_fs(svm, forward=False)\n",
    "sfs[clf_name][\"backward\"][\"top5\"]"
   ]
  },
  {
   "cell_type": "markdown",
   "id": "d4a53ed6",
   "metadata": {},
   "source": [
    "#### iv. k-NN (K-Nearest Neighbours) Classifier"
   ]
  },
  {
   "cell_type": "code",
   "execution_count": 63,
   "id": "fcbeedfe",
   "metadata": {},
   "outputs": [
    {
     "data": {
      "image/png": "[encoded data removed]",
      "text/plain": [
       "<Figure size 864x432 with 1 Axes>"
      ]
     },
     "metadata": {
      "needs_background": "light"
     },
     "output_type": "display_data"
    },
    {
     "name": "stdout",
     "output_type": "stream",
     "text": [
      "Time taken to fit SFS: 32.430 seconds\n",
      "Scoring: f1\n",
      "Smallest feature subset (size = 24) with max. score (0.6277571642694647):\n",
      "('Name',\n",
      " 'Age in Days upon Outcome',\n",
      " 'Animal Type_Cat',\n",
      " 'Animal Type_Other',\n",
      " 'Sex upon Outcome_Neutered Male',\n",
      " 'Sex upon Outcome_Spayed Female',\n",
      " 'Breed_Beagle',\n",
      " 'Breed_Boxer',\n",
      " 'Breed_Chihuahua',\n",
      " 'Breed_Collie',\n",
      " 'Breed_Domestic',\n",
      " 'Breed_Hound',\n",
      " 'Breed_Husky',\n",
      " 'Breed_Poodle',\n",
      " 'Breed_Rare',\n",
      " 'Breed_Retriever',\n",
      " 'Breed_Shepherd',\n",
      " 'Breed_Terrier',\n",
      " 'Breed_Very Rare',\n",
      " 'Color_Gray',\n",
      " 'Color_Other',\n",
      " 'Color_Red',\n",
      " 'Color_Tricolor',\n",
      " 'Color_White')\n",
      "\n",
      "Top 5 feature subsets in descending order of average score and ascending order of size:\n"
     ]
    },
    {
     "data": {
      "text/html": [
       "<div>\n",
       "<style scoped>\n",
       "    .dataframe tbody tr th:only-of-type {\n",
       "        vertical-align: middle;\n",
       "    }\n",
       "\n",
       "    .dataframe tbody tr th {\n",
       "        vertical-align: top;\n",
       "    }\n",
       "\n",
       "    .dataframe thead th {\n",
       "        text-align: right;\n",
       "    }\n",
       "</style>\n",
       "<table border=\"1\" class=\"dataframe\">\n",
       "  <thead>\n",
       "    <tr style=\"text-align: right;\">\n",
       "      <th></th>\n",
       "      <th>feature_idx</th>\n",
       "      <th>cv_scores</th>\n",
       "      <th>avg_score</th>\n",
       "      <th>feature_names</th>\n",
       "      <th>ci_bound</th>\n",
       "      <th>std_dev</th>\n",
       "      <th>std_err</th>\n",
       "    </tr>\n",
       "    <tr>\n",
       "      <th>#</th>\n",
       "      <th></th>\n",
       "      <th></th>\n",
       "      <th></th>\n",
       "      <th></th>\n",
       "      <th></th>\n",
       "      <th></th>\n",
       "      <th></th>\n",
       "    </tr>\n",
       "  </thead>\n",
       "  <tbody>\n",
       "    <tr>\n",
       "      <th>24</th>\n",
       "      <td>(0, 1, 2, 4, 7, 8, 12, 13, 14, 15, 17, 18, 19,...</td>\n",
       "      <td>[0.7659574468085106, 0.6530612244897959, 0.622...</td>\n",
       "      <td>0.627757</td>\n",
       "      <td>(Name, Age in Days upon Outcome, Animal Type_C...</td>\n",
       "      <td>0.052299</td>\n",
       "      <td>0.070416</td>\n",
       "      <td>0.023472</td>\n",
       "    </tr>\n",
       "    <tr>\n",
       "      <th>28</th>\n",
       "      <td>(0, 1, 2, 4, 7, 8, 12, 13, 14, 15, 16, 17, 18,...</td>\n",
       "      <td>[0.7346938775510203, 0.6530612244897959, 0.622...</td>\n",
       "      <td>0.626364</td>\n",
       "      <td>(Name, Age in Days upon Outcome, Animal Type_C...</td>\n",
       "      <td>0.039282</td>\n",
       "      <td>0.052889</td>\n",
       "      <td>0.01763</td>\n",
       "    </tr>\n",
       "    <tr>\n",
       "      <th>27</th>\n",
       "      <td>(0, 1, 2, 4, 7, 8, 12, 13, 14, 15, 16, 17, 18,...</td>\n",
       "      <td>[0.7659574468085106, 0.6956521739130435, 0.604...</td>\n",
       "      <td>0.623596</td>\n",
       "      <td>(Name, Age in Days upon Outcome, Animal Type_C...</td>\n",
       "      <td>0.052324</td>\n",
       "      <td>0.07045</td>\n",
       "      <td>0.023483</td>\n",
       "    </tr>\n",
       "    <tr>\n",
       "      <th>14</th>\n",
       "      <td>(0, 1, 2, 4, 7, 8, 18, 19, 23, 24, 27, 33, 38,...</td>\n",
       "      <td>[0.7659574468085106, 0.6808510638297872, 0.565...</td>\n",
       "      <td>0.62187</td>\n",
       "      <td>(Name, Age in Days upon Outcome, Animal Type_C...</td>\n",
       "      <td>0.054764</td>\n",
       "      <td>0.073735</td>\n",
       "      <td>0.024578</td>\n",
       "    </tr>\n",
       "    <tr>\n",
       "      <th>15</th>\n",
       "      <td>(0, 1, 2, 4, 7, 8, 12, 18, 19, 23, 24, 27, 33,...</td>\n",
       "      <td>[0.7659574468085106, 0.6808510638297872, 0.565...</td>\n",
       "      <td>0.62187</td>\n",
       "      <td>(Name, Age in Days upon Outcome, Animal Type_C...</td>\n",
       "      <td>0.054764</td>\n",
       "      <td>0.073735</td>\n",
       "      <td>0.024578</td>\n",
       "    </tr>\n",
       "  </tbody>\n",
       "</table>\n",
       "</div>"
      ],
      "text/plain": [
       "                                          feature_idx  \\\n",
       "#                                                       \n",
       "24  (0, 1, 2, 4, 7, 8, 12, 13, 14, 15, 17, 18, 19,...   \n",
       "28  (0, 1, 2, 4, 7, 8, 12, 13, 14, 15, 16, 17, 18,...   \n",
       "27  (0, 1, 2, 4, 7, 8, 12, 13, 14, 15, 16, 17, 18,...   \n",
       "14  (0, 1, 2, 4, 7, 8, 18, 19, 23, 24, 27, 33, 38,...   \n",
       "15  (0, 1, 2, 4, 7, 8, 12, 18, 19, 23, 24, 27, 33,...   \n",
       "\n",
       "                                            cv_scores avg_score  \\\n",
       "#                                                                 \n",
       "24  [0.7659574468085106, 0.6530612244897959, 0.622...  0.627757   \n",
       "28  [0.7346938775510203, 0.6530612244897959, 0.622...  0.626364   \n",
       "27  [0.7659574468085106, 0.6956521739130435, 0.604...  0.623596   \n",
       "14  [0.7659574468085106, 0.6808510638297872, 0.565...   0.62187   \n",
       "15  [0.7659574468085106, 0.6808510638297872, 0.565...   0.62187   \n",
       "\n",
       "                                        feature_names  ci_bound   std_dev  \\\n",
       "#                                                                           \n",
       "24  (Name, Age in Days upon Outcome, Animal Type_C...  0.052299  0.070416   \n",
       "28  (Name, Age in Days upon Outcome, Animal Type_C...  0.039282  0.052889   \n",
       "27  (Name, Age in Days upon Outcome, Animal Type_C...  0.052324   0.07045   \n",
       "14  (Name, Age in Days upon Outcome, Animal Type_C...  0.054764  0.073735   \n",
       "15  (Name, Age in Days upon Outcome, Animal Type_C...  0.054764  0.073735   \n",
       "\n",
       "     std_err  \n",
       "#             \n",
       "24  0.023472  \n",
       "28   0.01763  \n",
       "27  0.023483  \n",
       "14  0.024578  \n",
       "15  0.024578  "
      ]
     },
     "execution_count": 63,
     "metadata": {},
     "output_type": "execute_result"
    }
   ],
   "source": [
    "knn = KNeighborsClassifier() \n",
    "clf_name = knn.__class__.__name__\n",
    "sfs[clf_name][\"forward\"] = sequential_fs(knn, forward=True)\n",
    "sfs[clf_name][\"forward\"][\"top5\"]"
   ]
  },
  {
   "cell_type": "code",
   "execution_count": 64,
   "id": "7f4aad12",
   "metadata": {},
   "outputs": [
    {
     "data": {
      "image/png": "[encoded data removed]",
      "text/plain": [
       "<Figure size 864x432 with 1 Axes>"
      ]
     },
     "metadata": {
      "needs_background": "light"
     },
     "output_type": "display_data"
    },
    {
     "name": "stdout",
     "output_type": "stream",
     "text": [
      "Time taken to fit SFS: 46.430 seconds\n",
      "Scoring: f1\n",
      "Smallest feature subset (size = 21) with max. score (0.6235119541220221):\n",
      "('Name',\n",
      " 'Age in Days upon Outcome',\n",
      " 'Animal Type_Other',\n",
      " 'Sex upon Outcome_Intact Female',\n",
      " 'Sex upon Outcome_Neutered Male',\n",
      " 'Sex upon Outcome_Spayed Female',\n",
      " 'Sex upon Outcome_Unknown',\n",
      " 'Breed_Australian Cattle Dog',\n",
      " 'Breed_Bat',\n",
      " 'Breed_Beagle',\n",
      " 'Breed_Chihuahua',\n",
      " 'Breed_Dachshund',\n",
      " 'Breed_Domestic',\n",
      " 'Breed_Husky',\n",
      " 'Breed_Pit Bull',\n",
      " 'Breed_Retriever',\n",
      " 'Breed_Siamese',\n",
      " 'Color_Brown',\n",
      " 'Color_Gray',\n",
      " 'Color_Orange',\n",
      " 'Color_Tricolor')\n",
      "\n",
      "Top 5 feature subsets in descending order of average score and ascending order of size:\n"
     ]
    },
    {
     "data": {
      "text/html": [
       "<div>\n",
       "<style scoped>\n",
       "    .dataframe tbody tr th:only-of-type {\n",
       "        vertical-align: middle;\n",
       "    }\n",
       "\n",
       "    .dataframe tbody tr th {\n",
       "        vertical-align: top;\n",
       "    }\n",
       "\n",
       "    .dataframe thead th {\n",
       "        text-align: right;\n",
       "    }\n",
       "</style>\n",
       "<table border=\"1\" class=\"dataframe\">\n",
       "  <thead>\n",
       "    <tr style=\"text-align: right;\">\n",
       "      <th></th>\n",
       "      <th>feature_idx</th>\n",
       "      <th>cv_scores</th>\n",
       "      <th>avg_score</th>\n",
       "      <th>feature_names</th>\n",
       "      <th>ci_bound</th>\n",
       "      <th>std_dev</th>\n",
       "      <th>std_err</th>\n",
       "    </tr>\n",
       "    <tr>\n",
       "      <th>#</th>\n",
       "      <th></th>\n",
       "      <th></th>\n",
       "      <th></th>\n",
       "      <th></th>\n",
       "      <th></th>\n",
       "      <th></th>\n",
       "      <th></th>\n",
       "    </tr>\n",
       "  </thead>\n",
       "  <tbody>\n",
       "    <tr>\n",
       "      <th>21</th>\n",
       "      <td>(0, 1, 4, 5, 7, 8, 9, 10, 11, 12, 14, 16, 17, ...</td>\n",
       "      <td>[0.7999999999999999, 0.7450980392156864, 0.523...</td>\n",
       "      <td>0.623512</td>\n",
       "      <td>(Name, Age in Days upon Outcome, Animal Type_O...</td>\n",
       "      <td>0.066884</td>\n",
       "      <td>0.090054</td>\n",
       "      <td>0.030018</td>\n",
       "    </tr>\n",
       "    <tr>\n",
       "      <th>23</th>\n",
       "      <td>(0, 1, 4, 5, 7, 8, 9, 10, 11, 12, 14, 16, 17, ...</td>\n",
       "      <td>[0.7843137254901961, 0.76, 0.5238095238095237,...</td>\n",
       "      <td>0.622849</td>\n",
       "      <td>(Name, Age in Days upon Outcome, Animal Type_O...</td>\n",
       "      <td>0.067032</td>\n",
       "      <td>0.090253</td>\n",
       "      <td>0.030084</td>\n",
       "    </tr>\n",
       "    <tr>\n",
       "      <th>31</th>\n",
       "      <td>(0, 1, 2, 3, 4, 5, 7, 8, 9, 10, 11, 12, 13, 14...</td>\n",
       "      <td>[0.7999999999999999, 0.6938775510204083, 0.487...</td>\n",
       "      <td>0.622786</td>\n",
       "      <td>(Name, Age in Days upon Outcome, Animal Type_C...</td>\n",
       "      <td>0.069049</td>\n",
       "      <td>0.092969</td>\n",
       "      <td>0.03099</td>\n",
       "    </tr>\n",
       "    <tr>\n",
       "      <th>13</th>\n",
       "      <td>(0, 1, 4, 7, 8, 9, 11, 14, 17, 20, 23, 25, 32)</td>\n",
       "      <td>[0.7843137254901961, 0.6938775510204083, 0.536...</td>\n",
       "      <td>0.6226</td>\n",
       "      <td>(Name, Age in Days upon Outcome, Animal Type_O...</td>\n",
       "      <td>0.059476</td>\n",
       "      <td>0.080079</td>\n",
       "      <td>0.026693</td>\n",
       "    </tr>\n",
       "    <tr>\n",
       "      <th>14</th>\n",
       "      <td>(0, 1, 4, 7, 8, 9, 11, 14, 16, 17, 20, 23, 25,...</td>\n",
       "      <td>[0.7843137254901961, 0.6938775510204083, 0.536...</td>\n",
       "      <td>0.6226</td>\n",
       "      <td>(Name, Age in Days upon Outcome, Animal Type_O...</td>\n",
       "      <td>0.059476</td>\n",
       "      <td>0.080079</td>\n",
       "      <td>0.026693</td>\n",
       "    </tr>\n",
       "  </tbody>\n",
       "</table>\n",
       "</div>"
      ],
      "text/plain": [
       "                                          feature_idx  \\\n",
       "#                                                       \n",
       "21  (0, 1, 4, 5, 7, 8, 9, 10, 11, 12, 14, 16, 17, ...   \n",
       "23  (0, 1, 4, 5, 7, 8, 9, 10, 11, 12, 14, 16, 17, ...   \n",
       "31  (0, 1, 2, 3, 4, 5, 7, 8, 9, 10, 11, 12, 13, 14...   \n",
       "13     (0, 1, 4, 7, 8, 9, 11, 14, 17, 20, 23, 25, 32)   \n",
       "14  (0, 1, 4, 7, 8, 9, 11, 14, 16, 17, 20, 23, 25,...   \n",
       "\n",
       "                                            cv_scores avg_score  \\\n",
       "#                                                                 \n",
       "21  [0.7999999999999999, 0.7450980392156864, 0.523...  0.623512   \n",
       "23  [0.7843137254901961, 0.76, 0.5238095238095237,...  0.622849   \n",
       "31  [0.7999999999999999, 0.6938775510204083, 0.487...  0.622786   \n",
       "13  [0.7843137254901961, 0.6938775510204083, 0.536...    0.6226   \n",
       "14  [0.7843137254901961, 0.6938775510204083, 0.536...    0.6226   \n",
       "\n",
       "                                        feature_names  ci_bound   std_dev  \\\n",
       "#                                                                           \n",
       "21  (Name, Age in Days upon Outcome, Animal Type_O...  0.066884  0.090054   \n",
       "23  (Name, Age in Days upon Outcome, Animal Type_O...  0.067032  0.090253   \n",
       "31  (Name, Age in Days upon Outcome, Animal Type_C...  0.069049  0.092969   \n",
       "13  (Name, Age in Days upon Outcome, Animal Type_O...  0.059476  0.080079   \n",
       "14  (Name, Age in Days upon Outcome, Animal Type_O...  0.059476  0.080079   \n",
       "\n",
       "     std_err  \n",
       "#             \n",
       "21  0.030018  \n",
       "23  0.030084  \n",
       "31   0.03099  \n",
       "13  0.026693  \n",
       "14  0.026693  "
      ]
     },
     "execution_count": 64,
     "metadata": {},
     "output_type": "execute_result"
    }
   ],
   "source": [
    "sfs[clf_name][\"backward\"] = sequential_fs(knn, forward=False)\n",
    "sfs[clf_name][\"backward\"][\"top5\"]"
   ]
  },
  {
   "cell_type": "markdown",
   "id": "2d8a578f",
   "metadata": {},
   "source": [
    "### 6. Insights\n",
    "\n",
    "Optimal feature subset using filter technique based on mutual information criterion:"
   ]
  },
  {
   "cell_type": "code",
   "execution_count": 65,
   "id": "83a5e057",
   "metadata": {},
   "outputs": [
    {
     "data": {
      "text/plain": [
       "['Animal Type_Other',\n",
       " 'Sex upon Outcome_Unknown',\n",
       " 'Breed_Bat',\n",
       " 'Name',\n",
       " 'Sex upon Outcome_Spayed Female',\n",
       " 'Animal Type_Dog',\n",
       " 'Breed_Poodle',\n",
       " 'Sex upon Outcome_Neutered Male',\n",
       " 'Breed_Shepherd',\n",
       " 'Animal Type_Cat']"
      ]
     },
     "execution_count": 65,
     "metadata": {},
     "output_type": "execute_result"
    }
   ],
   "source": [
    "filter_subset = top_10_features_filter\n",
    "filter_subset"
   ]
  },
  {
   "cell_type": "markdown",
   "id": "4c21385e",
   "metadata": {},
   "source": [
    "For the sequential search wrapper technique, we can select the better of forward and backward SFS average scores for each of the 4 classifiers.\n",
    "\n",
    "- It is possible that forward and backward SFS sometimes find the same feature subset.\n",
    "- Although not always the case, backward SFS (more computationally expensive) yields better results than the forward counterpart."
   ]
  },
  {
   "cell_type": "code",
   "execution_count": 66,
   "id": "a5b991f3",
   "metadata": {},
   "outputs": [
    {
     "name": "stdout",
     "output_type": "stream",
     "text": [
      "DecisionTreeClassifier\n",
      "\n",
      "Forward SFS avg. score: 0.613577131139243\n",
      "Backward SFS avg. score: 0.6244344171822142\n",
      "Better: backward\n",
      "-----\n",
      "\n",
      "GaussianNB\n",
      "\n",
      "Forward SFS avg. score: 0.5640204124324624\n",
      "Backward SFS avg. score: 0.5640204124324624\n",
      "Better: forward\n",
      "-----\n",
      "\n",
      "SVC\n",
      "\n",
      "Forward SFS avg. score: 0.5940966496414545\n",
      "Backward SFS avg. score: 0.5968141648660857\n",
      "Better: backward\n",
      "-----\n",
      "\n",
      "KNeighborsClassifier\n",
      "\n",
      "Forward SFS avg. score: 0.6277571642694647\n",
      "Backward SFS avg. score: 0.6235119541220221\n",
      "Better: forward\n",
      "-----\n",
      "\n"
     ]
    }
   ],
   "source": [
    "wrapper_subsets = {}\n",
    "\n",
    "for clf_name in sfs:\n",
    "    print(f\"{clf_name}\\n\")\n",
    "    f_score = sfs[clf_name][\"forward\"][\"avg_score\"]\n",
    "    b_score = sfs[clf_name][\"backward\"][\"avg_score\"]\n",
    "    print(f\"Forward SFS avg. score: {f_score}\")\n",
    "    print(f\"Backward SFS avg. score: {b_score}\")\n",
    "    \n",
    "    better = \"forward\" if f_score >= b_score else \"backward\"\n",
    "    wrapper_subsets[clf_name] = sfs[clf_name][better][\"subset\"]\n",
    "    print(f\"Better: {better}\\n-----\\n\")"
   ]
  },
  {
   "cell_type": "markdown",
   "id": "0892a807",
   "metadata": {},
   "source": [
    "- As expected, feature selection with filters is much faster than wrappers.\n",
    "- On average, sequential search (wrapper) using SVM takes the longest time of all the classifiers.\n",
    "- Decision Tree and k-NN classifiers yield very similar average scores."
   ]
  },
  {
   "cell_type": "code",
   "execution_count": 67,
   "id": "1b9a1722",
   "metadata": {},
   "outputs": [
    {
     "name": "stdout",
     "output_type": "stream",
     "text": [
      "{'DecisionTreeClassifier': ['Name',\n",
      "                            'Age in Days upon Outcome',\n",
      "                            'Animal Type_Other',\n",
      "                            'Sex upon Outcome_Intact Female',\n",
      "                            'Sex upon Outcome_Neutered Male',\n",
      "                            'Sex upon Outcome_Spayed Female',\n",
      "                            'Sex upon Outcome_Unknown',\n",
      "                            'Breed_Boxer',\n",
      "                            'Breed_Chihuahua',\n",
      "                            'Breed_Pit Bull',\n",
      "                            'Breed_Rare',\n",
      "                            'Breed_Very Rare',\n",
      "                            'Color_Blue',\n",
      "                            'Color_Brown',\n",
      "                            'Color_Gray',\n",
      "                            'Color_Orange',\n",
      "                            'Color_Yellow'],\n",
      " 'GaussianNB': ['Animal Type_Other', 'Breed_Bat', 'Color_Red'],\n",
      " 'KNeighborsClassifier': ['Name',\n",
      "                          'Age in Days upon Outcome',\n",
      "                          'Animal Type_Cat',\n",
      "                          'Animal Type_Other',\n",
      "                          'Sex upon Outcome_Neutered Male',\n",
      "                          'Sex upon Outcome_Spayed Female',\n",
      "                          'Breed_Beagle',\n",
      "                          'Breed_Boxer',\n",
      "                          'Breed_Chihuahua',\n",
      "                          'Breed_Collie',\n",
      "                          'Breed_Domestic',\n",
      "                          'Breed_Hound',\n",
      "                          'Breed_Husky',\n",
      "                          'Breed_Poodle',\n",
      "                          'Breed_Rare',\n",
      "                          'Breed_Retriever',\n",
      "                          'Breed_Shepherd',\n",
      "                          'Breed_Terrier',\n",
      "                          'Breed_Very Rare',\n",
      "                          'Color_Gray',\n",
      "                          'Color_Other',\n",
      "                          'Color_Red',\n",
      "                          'Color_Tricolor',\n",
      "                          'Color_White'],\n",
      " 'SVC': ['Name',\n",
      "         'Age in Days upon Outcome',\n",
      "         'Animal Type_Other',\n",
      "         'Sex upon Outcome_Intact Female',\n",
      "         'Sex upon Outcome_Intact Male',\n",
      "         'Color_Black',\n",
      "         'Color_Brown',\n",
      "         'Color_Gray',\n",
      "         'Color_Other']}\n"
     ]
    }
   ],
   "source": [
    "pprint(wrapper_subsets)"
   ]
  },
  {
   "cell_type": "markdown",
   "id": "f63cc555",
   "metadata": {},
   "source": [
    "We can count the frequency of occurrence of different features in the subsets returned by filter and wrapper techniques:"
   ]
  },
  {
   "cell_type": "code",
   "execution_count": 68,
   "id": "f42cff52",
   "metadata": {},
   "outputs": [
    {
     "data": {
      "text/plain": [
       "[('Animal Type_Other', 5),\n",
       " ('Name', 4),\n",
       " ('Sex upon Outcome_Spayed Female', 3),\n",
       " ('Sex upon Outcome_Neutered Male', 3),\n",
       " ('Age in Days upon Outcome', 3),\n",
       " ('Color_Gray', 3),\n",
       " ('Sex upon Outcome_Unknown', 2),\n",
       " ('Breed_Bat', 2),\n",
       " ('Breed_Poodle', 2),\n",
       " ('Breed_Shepherd', 2),\n",
       " ('Animal Type_Cat', 2),\n",
       " ('Sex upon Outcome_Intact Female', 2),\n",
       " ('Breed_Boxer', 2),\n",
       " ('Breed_Chihuahua', 2),\n",
       " ('Breed_Rare', 2),\n",
       " ('Breed_Very Rare', 2),\n",
       " ('Color_Brown', 2),\n",
       " ('Color_Red', 2),\n",
       " ('Color_Other', 2),\n",
       " ('Animal Type_Dog', 1)]"
      ]
     },
     "execution_count": 68,
     "metadata": {},
     "output_type": "execute_result"
    }
   ],
   "source": [
    "freq = Counter(list(itertools.chain(filter_subset, *wrapper_subsets.values())))\n",
    "freq = sorted(freq.items(), key=lambda x: x[1], reverse=True)\n",
    "freq[:20]"
   ]
  },
  {
   "cell_type": "markdown",
   "id": "bb8f7512",
   "metadata": {},
   "source": [
    "- Based on the mutual information (entropy based) criterion, the filter technique suggests that `'Animal Type_Other', 'Sex upon Outcome_Unknown', 'Breed_Bat', 'Name'` are some of the most discriminatory features. These features also appear frequently in some wrapper technique subsets.\n",
    "- We can compute the percentage of negative outcomes for different `Animal Type`, `Sex upon Outcome` and `Breed` categories and look for explanations for the above observations."
   ]
  },
  {
   "cell_type": "code",
   "execution_count": 69,
   "id": "3c094dc1",
   "metadata": {},
   "outputs": [
    {
     "name": "stdout",
     "output_type": "stream",
     "text": [
      "Percentage negative outcome (1) by Animal Type:\n",
      "\n",
      "3.40%\t| Animal Type_Dog\n",
      "5.19%\t| Animal Type_Cat\n",
      "70.81%\t| Animal Type_Other\n"
     ]
    }
   ],
   "source": [
    "def neg_outcome_perc(feature: str) -> None:\n",
    "    seen = {}\n",
    "    print(f\"Percentage negative outcome (1) by {feature}:\\n\")\n",
    "    for cat in [col for col in df.columns if f\"{feature}_\" in col]:\n",
    "        counts = y_train[X_train[X_train[cat] == 1].index].value_counts()\n",
    "        num = counts.loc[1] if 1 in counts.index else 0\n",
    "        seen[cat] = 100 * num/(sum(counts))\n",
    "    for k, v in sorted(seen.items(), key=lambda x: x[1]):\n",
    "        print(f\"{v:.2f}%\\t| {k}\")\n",
    "    \n",
    "        \n",
    "neg_outcome_perc(\"Animal Type\")"
   ]
  },
  {
   "cell_type": "markdown",
   "id": "b8d2573e",
   "metadata": {},
   "source": [
    "- As expected, dogs and cats are far more common as pets (likely to be adopted/returned to owner), and hence have a negligible chance of negative outcome (class = 1) compared to other types of animals."
   ]
  },
  {
   "cell_type": "code",
   "execution_count": 70,
   "id": "e3b79a2b",
   "metadata": {},
   "outputs": [
    {
     "name": "stdout",
     "output_type": "stream",
     "text": [
      "Percentage negative outcome (1) by Breed:\n",
      "\n",
      "0.00%\t| Breed_Dachshund\n",
      "0.00%\t| Breed_Husky\n",
      "1.45%\t| Breed_Retriever\n",
      "1.87%\t| Breed_Chihuahua\n",
      "2.04%\t| Breed_Collie\n",
      "2.33%\t| Breed_Beagle\n",
      "2.34%\t| Breed_Terrier\n",
      "2.70%\t| Breed_Hound\n",
      "3.85%\t| Breed_Boxer\n",
      "5.00%\t| Breed_Poodle\n",
      "5.13%\t| Breed_Siamese\n",
      "5.15%\t| Breed_Domestic\n",
      "5.32%\t| Breed_Shepherd\n",
      "6.85%\t| Breed_Australian Cattle Dog\n",
      "7.88%\t| Breed_Pit Bull\n",
      "11.68%\t| Breed_Very Rare\n",
      "11.89%\t| Breed_Rare\n",
      "100.00%\t| Breed_Bat\n"
     ]
    }
   ],
   "source": [
    "neg_outcome_perc(\"Breed\")"
   ]
  },
  {
   "cell_type": "markdown",
   "id": "6858a245",
   "metadata": {},
   "source": [
    "- In the given dataset, bats are noted as `Animal Type_Other` with `Breed_Bat`. 100% of bats at the animal shelter are shown to face a negative outcome.\n",
    "- In Texas, bats, by law, are defined as high-risk animals for rabies and touching a bat for any reason is not allowed (Animal Control must be called if a bat is found).\n",
    "- Furthermore, domestic animals exposed to a rabid bat require a series of rabies vaccination boosters and a quarantine period, and in some instances euthanasia if necessary."
   ]
  },
  {
   "cell_type": "code",
   "execution_count": 71,
   "id": "7aa12095",
   "metadata": {},
   "outputs": [
    {
     "name": "stdout",
     "output_type": "stream",
     "text": [
      "Percentage negative outcome (1) by Sex upon Outcome:\n",
      "\n",
      "1.62%\t| Sex upon Outcome_Spayed Female\n",
      "2.88%\t| Sex upon Outcome_Neutered Male\n",
      "8.18%\t| Sex upon Outcome_Intact Female\n",
      "9.32%\t| Sex upon Outcome_Intact Male\n",
      "50.00%\t| Sex upon Outcome_Unknown\n"
     ]
    }
   ],
   "source": [
    "neg_outcome_perc(\"Sex upon Outcome\")"
   ]
  },
  {
   "cell_type": "markdown",
   "id": "aec61379",
   "metadata": {},
   "source": [
    "- Animals with a recorded negative outcome are far more likely to have sex marked as unknown, and the importance of this feature is highlighted by feature selection techniques."
   ]
  },
  {
   "cell_type": "code",
   "execution_count": 72,
   "id": "88e63123",
   "metadata": {},
   "outputs": [
    {
     "data": {
      "text/plain": [
       "0    2536\n",
       "1      62\n",
       "Name: Outcome, dtype: int64"
      ]
     },
     "execution_count": 72,
     "metadata": {},
     "output_type": "execute_result"
    }
   ],
   "source": [
    "# Name is present\n",
    "y_train[X_train[X_train[\"Name\"] == 1].index].value_counts()"
   ]
  },
  {
   "cell_type": "code",
   "execution_count": 73,
   "id": "8873e54c",
   "metadata": {},
   "outputs": [
    {
     "data": {
      "text/plain": [
       "0    935\n",
       "1    215\n",
       "Name: Outcome, dtype: int64"
      ]
     },
     "execution_count": 73,
     "metadata": {},
     "output_type": "execute_result"
    }
   ],
   "source": [
    "# Name is absent\n",
    "y_train[X_train[X_train[\"Name\"] == 0].index].value_counts()"
   ]
  },
  {
   "cell_type": "markdown",
   "id": "5f37225b",
   "metadata": {},
   "source": [
    "- With regards to `Name`, it appears that an animal with a name is far more likely to have a positive outcome (2536:62) than without (935:215). This is plausible, since a named animal has a high chance of being a pet which can be returned to its owner.\n",
    "- Actions to improve the adoption/return rate of animals:\n",
    "  - Consider putting up fewer animals of similar kind up for adoption at any given time. When given too many choices, it makes it difficult for adopters to make a decision.\n",
    "  - Groom the animals to make them more appealing, since appearance plays an important role in influencing a positive outcome."
   ]
  },
  {
   "cell_type": "markdown",
   "id": "21088ddf",
   "metadata": {},
   "source": [
    "## 1C: Modelling and Evaluation\n",
    "\n",
    "With the discriminating features selected, we can proceed with model building and evaluation. The cleaned dataset had already been split into training (75%) and testing (25%) sets before the feature selection process."
   ]
  },
  {
   "cell_type": "code",
   "execution_count": 74,
   "id": "81aa8537",
   "metadata": {},
   "outputs": [
    {
     "data": {
      "text/plain": [
       "0    3471\n",
       "1     277\n",
       "Name: Outcome, dtype: int64"
      ]
     },
     "execution_count": 74,
     "metadata": {},
     "output_type": "execute_result"
    }
   ],
   "source": [
    "y_train.value_counts()"
   ]
  },
  {
   "cell_type": "markdown",
   "id": "5c68f084",
   "metadata": {},
   "source": [
    "- The training set target class only has 277 instances of negative outcome (minority class = 1) and 3471 positives (majority class = 0).\n",
    "- For such kinds of data, it doesn't make sense to rely on classification accuracy/error as a metric, as the model will be biased towards the majority class.\n",
    "- A *confusion matrix* summarises every classifier's performance by revealing the True Positives, True Negatives, False Positives and False Negatives. Some measures based on these values include: precision, recall (sensitivity), specificity (True Negative rate), etc.\n",
    "- As described earlier, the primary metric to be used for scoring here is **`f1`** due to the **high imbalance in the target class**.\n",
    "- The F1 measure is the harmonic mean of precision and recall. In the given scenario, the **cost of False Positive** (predicted class = 1, actual class = 0) is greater than that of False Negative (predicted = 0, actual = 1), since it is not desirable to predict a bad outcome (death) for an animal that could be adopted/returned to owner.\n",
    "- When working on problems with imbalanced datasets where detecting positives is more important than detecting negatives, F1 is more suitable than other balanced evaluation measures like balanced accuracy."
   ]
  },
  {
   "cell_type": "markdown",
   "id": "e884f13d",
   "metadata": {},
   "source": [
    "Below, we store the different training and test sets for the 4 classifiers based on the highest scoring feature subsets selected by the wrapper technique (sequential search). Only the appropriate feature subsets will be used for different classifiers during hyperparameter optimisation and model evaluation."
   ]
  },
  {
   "cell_type": "code",
   "execution_count": 75,
   "id": "681ef4ec",
   "metadata": {},
   "outputs": [],
   "source": [
    "X_train_sub, X_test_sub = {}, {}\n",
    "for clf in [dt, gnb, svm, knn]:\n",
    "    clf_name = clf.__class__.__name__\n",
    "    X_train_sub[clf_name] = X_train[wrapper_subsets[clf_name]]\n",
    "    X_test_sub[clf_name] = X_test[wrapper_subsets[clf_name]]"
   ]
  },
  {
   "cell_type": "markdown",
   "id": "63a0a018",
   "metadata": {},
   "source": [
    "### 1. Classifier/hyperparameter tuning\n",
    "\n",
    "The \"best\" arguments (called hyperparameters) used when training classifiers can be found using a systematic trial and error approach. All searches use a 10-fold **cross-validation** where in each of 10 experiments, 9 \"folds\" are used for training and 1 for testing. This is preferable to a naive hold-out strategy as it increases the generalisation capabilities of a model by reducing the chances of overfitting.\n",
    "\n",
    "During the entire process of tuning hyperparameters, no access to the testing data set is granted. Model parameters are optimised solely using the training set (the split was done after encoding categorical features and before applying filter/wrapper feature selection).\n",
    "\n",
    "#### i. Decision Tree\n",
    "\n",
    "- `max_depth` refers to the maximum depth of the tree.\n",
    "- `min_samples_leaf`  is minimum number of samples required to be at a leaf node.\n",
    "- `GridSearchCV` is used here to optimise the Decision Tree hyperparameters using a stratified (by default) 10-fold cross-validated grid-search over a parameter grid."
   ]
  },
  {
   "cell_type": "code",
   "execution_count": 76,
   "id": "16502496",
   "metadata": {
    "scrolled": false
   },
   "outputs": [
    {
     "name": "stdout",
     "output_type": "stream",
     "text": [
      "Best: DecisionTreeClassifier(criterion='entropy')\n",
      "Average F1: 0.615\n"
     ]
    }
   ],
   "source": [
    "param_grid = {\n",
    "    \"max_depth\": [None, 2, 5, 7],\n",
    "    \"min_samples_leaf\": [1, 2, 3, 5, 10]\n",
    "}\n",
    "clf_name = dt.__class__.__name__\n",
    "dt_grid = GridSearchCV(dt, param_grid, scoring=\"f1\", cv=10)\n",
    "dt_grid.fit(X_train_sub[clf_name], y_train)\n",
    "dt_best = dt_grid.best_estimator_\n",
    "\n",
    "print(f\"Best: {dt_best}\")\n",
    "print(f\"Average F1: {dt_grid.best_score_:.3f}\")"
   ]
  },
  {
   "cell_type": "markdown",
   "id": "7e628d23",
   "metadata": {},
   "source": [
    "#### ii. Naive Bayes\n",
    "\n",
    "3 different Naive Bayes algorithms can be tried:\n",
    "- Gaussian: standard Naive Bayes where the likelihood of the features is assumed to be Gaussian.\n",
    "- Bernoulli: assumes that the data that is distributed according to multivariate Bernoulli distributions.\n",
    "- Multinomial: naive Bayes algorithm for multinomially distributed data."
   ]
  },
  {
   "cell_type": "code",
   "execution_count": 77,
   "id": "64c35639",
   "metadata": {},
   "outputs": [],
   "source": [
    "cv_strat = StratifiedKFold(n_splits=10, shuffle=True, random_state=0)"
   ]
  },
  {
   "cell_type": "code",
   "execution_count": 78,
   "id": "163a4545",
   "metadata": {},
   "outputs": [
    {
     "name": "stdout",
     "output_type": "stream",
     "text": [
      "GaussianNB()\n",
      "StratifiedKFold(n_splits=10, random_state=0, shuffle=True)\n",
      "Average F1: 0.564 +/- 0.095\n",
      "-----\n",
      "BernoulliNB()\n",
      "StratifiedKFold(n_splits=10, random_state=0, shuffle=True)\n",
      "Average F1: 0.564 +/- 0.095\n",
      "-----\n",
      "MultinomialNB()\n",
      "StratifiedKFold(n_splits=10, random_state=0, shuffle=True)\n",
      "Average F1: 0.414 +/- 0.061\n",
      "-----\n",
      "Best: GaussianNB()\n"
     ]
    }
   ],
   "source": [
    "nb_best, max_score = None, 0\n",
    "clf_name = gnb.__class__.__name__\n",
    "for nb in [GaussianNB(), BernoulliNB(), MultinomialNB()]:\n",
    "    scores = cross_val_score(nb, X_train_sub[clf_name], y_train, cv=cv_strat, scoring=\"f1\", n_jobs=-1)\n",
    "    mean = scores.mean()\n",
    "    if mean > max_score:\n",
    "        max_score = mean\n",
    "        nb_best = nb\n",
    "    print(f\"{nb}\\n{cv_strat}\\nAverage F1: {mean:.3f} +/- {scores.std():.3f}\\n-----\")\n",
    "print(f\"Best: {nb_best}\")"
   ]
  },
  {
   "cell_type": "markdown",
   "id": "b554b17b",
   "metadata": {},
   "source": [
    "#### iii. SVM\n",
    "\n",
    "We can experiment with different types of kernel functions which are used to transform the data without actually applying them (\"kernel trick\"):\n",
    "- `rbf`: Radial Basis Function\n",
    "- `linear`: `x.x'`.\n",
    "- `sigmoid`: `tanh(1 + x.x')`\n",
    "- `poly`: polynomial `(1 + x.x')^t`"
   ]
  },
  {
   "cell_type": "code",
   "execution_count": 79,
   "id": "3dc1e7f0",
   "metadata": {},
   "outputs": [
    {
     "name": "stdout",
     "output_type": "stream",
     "text": [
      "SVC()\n",
      "StratifiedKFold(n_splits=10, random_state=0, shuffle=True)\n",
      "Average F1: 0.582 +/- 0.086\n",
      "-----\n",
      "SVC(kernel='linear')\n",
      "StratifiedKFold(n_splits=10, random_state=0, shuffle=True)\n",
      "Average F1: 0.559 +/- 0.090\n",
      "-----\n",
      "SVC(kernel='sigmoid')\n",
      "StratifiedKFold(n_splits=10, random_state=0, shuffle=True)\n",
      "Average F1: 0.319 +/- 0.127\n",
      "-----\n",
      "SVC(kernel='poly')\n",
      "StratifiedKFold(n_splits=10, random_state=0, shuffle=True)\n",
      "Average F1: 0.588 +/- 0.102\n",
      "-----\n",
      "Best: SVC(kernel='poly')\n"
     ]
    }
   ],
   "source": [
    "svm_best, max_score = None, 0\n",
    "clf_name = svm.__class__.__name__\n",
    "for kernel in [\"rbf\", \"linear\", \"sigmoid\", \"poly\"]:\n",
    "    clf = SVC(kernel=kernel)\n",
    "    scores = cross_val_score(clf, X_train_sub[clf_name], y_train, cv=cv_strat, scoring=\"f1\", n_jobs=-1)\n",
    "    mean = scores.mean()\n",
    "    if mean > max_score:\n",
    "        max_score = mean\n",
    "        svm_best = clf\n",
    "    print(f\"{clf}\\n{cv_strat}\\nAverage F1: {mean:.3f} +/- {scores.std():.3f}\\n-----\")\n",
    "print(f\"Best: {svm_best}\")"
   ]
  },
  {
   "cell_type": "markdown",
   "id": "f0c8af47",
   "metadata": {},
   "source": [
    "#### iv. k-NN\n",
    "\n",
    "A number of different nearest neighbour values can be tried:"
   ]
  },
  {
   "cell_type": "code",
   "execution_count": 80,
   "id": "bbd57b4c",
   "metadata": {},
   "outputs": [
    {
     "name": "stdout",
     "output_type": "stream",
     "text": [
      "KNeighborsClassifier(n_neighbors=2)\n",
      "StratifiedKFold(n_splits=10, random_state=0, shuffle=True)\n",
      "Average F1: 0.574 +/- 0.095\n",
      "-----\n",
      "KNeighborsClassifier()\n",
      "StratifiedKFold(n_splits=10, random_state=0, shuffle=True)\n",
      "Average F1: 0.596 +/- 0.096\n",
      "-----\n",
      "KNeighborsClassifier(n_neighbors=10)\n",
      "StratifiedKFold(n_splits=10, random_state=0, shuffle=True)\n",
      "Average F1: 0.578 +/- 0.098\n",
      "-----\n",
      "KNeighborsClassifier(n_neighbors=12)\n",
      "StratifiedKFold(n_splits=10, random_state=0, shuffle=True)\n",
      "Average F1: 0.578 +/- 0.103\n",
      "-----\n",
      "KNeighborsClassifier(n_neighbors=15)\n",
      "StratifiedKFold(n_splits=10, random_state=0, shuffle=True)\n",
      "Average F1: 0.597 +/- 0.094\n",
      "-----\n",
      "Best: KNeighborsClassifier(n_neighbors=15)\n"
     ]
    }
   ],
   "source": [
    "knn_best, max_score = None, 0\n",
    "clf_name = knn.__class__.__name__\n",
    "for n in [2, 5, 10, 12, 15]:\n",
    "    clf = KNeighborsClassifier(n_neighbors=n)\n",
    "    ts = cross_val_score(clf, X_train_sub[clf_name], y_train, cv=cv_strat, scoring=\"f1\", n_jobs=-1)\n",
    "    mean = ts.mean()\n",
    "    if mean > max_score:\n",
    "        max_score = mean\n",
    "        knn_best = clf\n",
    "    print(f\"{clf}\\n{cv_strat}\\nAverage F1: {mean:.3f} +/- {ts.std():.3f}\\n-----\")\n",
    "print(f\"Best: {knn_best}\")    "
   ]
  },
  {
   "cell_type": "markdown",
   "id": "b8343dd3",
   "metadata": {},
   "source": [
    "### 2. Evaluation of best classifiers\n",
    "\n",
    "Based on the parameter setting optimisation above, the best classifiers can now be evaluated."
   ]
  },
  {
   "cell_type": "code",
   "execution_count": 81,
   "id": "d0e6d25d",
   "metadata": {},
   "outputs": [
    {
     "data": {
      "text/plain": [
       "[DecisionTreeClassifier(criterion='entropy'),\n",
       " GaussianNB(),\n",
       " SVC(kernel='poly'),\n",
       " KNeighborsClassifier(n_neighbors=15)]"
      ]
     },
     "execution_count": 81,
     "metadata": {},
     "output_type": "execute_result"
    }
   ],
   "source": [
    "best_clfs = [dt_best, nb_best, svm_best, knn_best]\n",
    "best_clfs"
   ]
  },
  {
   "cell_type": "markdown",
   "id": "80e941d4",
   "metadata": {},
   "source": [
    "First, we can plot confusion matrices for each of the classifiers for preliminary evaluation, finally using the test data set for the first time to check the performance on unseen data."
   ]
  },
  {
   "cell_type": "code",
   "execution_count": 82,
   "id": "958dc8c8",
   "metadata": {},
   "outputs": [
    {
     "data": {
      "image/png": "[encoded data removed]",
      "text/plain": [
       "<Figure size 864x864 with 8 Axes>"
      ]
     },
     "metadata": {
      "needs_background": "light"
     },
     "output_type": "display_data"
    }
   ],
   "source": [
    "fig, ax = plt.subplots(2, 2, figsize=(12, 12))\n",
    "i, j = 0, 0\n",
    "for clf in best_clfs:\n",
    "    clf_name = clf.__class__.__name__\n",
    "    clf.fit(X_train_sub[clf_name], y_train)\n",
    "    disp = ConfusionMatrixDisplay.from_estimator(clf, X_test_sub[clf_name], y_test, ax=ax[i][j])\n",
    "    disp.ax_.set_title(f\"Confusion Matrix: {clf_name}\")    \n",
    "    j += 1\n",
    "    if j == 2:\n",
    "        i += 1\n",
    "        j = 0"
   ]
  },
  {
   "cell_type": "markdown",
   "id": "963e329d",
   "metadata": {},
   "source": [
    "The `DecisionTreeClassifier` has the highest number of True Positives (42) of all 4 models."
   ]
  },
  {
   "cell_type": "markdown",
   "id": "d5dfa77d",
   "metadata": {},
   "source": [
    "Next, we can perform 10-fold stratified cross-validation for a more robust evaluation. As mentioned earlier, this has the following advantages:\n",
    "- Stratification is the process of rearranging the data so as to ensure that each fold is a good representative of the whole.\n",
    "- Cross-validation can flag problems such as selection bias and reduce overfitting chances."
   ]
  },
  {
   "cell_type": "code",
   "execution_count": 83,
   "id": "c0c78ef0",
   "metadata": {},
   "outputs": [
    {
     "name": "stdout",
     "output_type": "stream",
     "text": [
      "DecisionTreeClassifier(criterion='entropy')\n",
      "Average F1: 0.617 +/- 0.057\n",
      "-----\n",
      "GaussianNB()\n",
      "Average F1: 0.560 +/- 0.081\n",
      "-----\n",
      "SVC(kernel='poly')\n",
      "Average F1: 0.587 +/- 0.062\n",
      "-----\n",
      "KNeighborsClassifier(n_neighbors=15)\n",
      "Average F1: 0.607 +/- 0.072\n",
      "-----\n"
     ]
    }
   ],
   "source": [
    "for clf in best_clfs:\n",
    "    clf_name = clf.__class__.__name__\n",
    "    ts = cross_val_score(clf, X[wrapper_subsets[clf_name]], y, cv=cv_strat, n_jobs=-1, scoring=\"f1\")\n",
    "    print(f\"{clf}\\nAverage F1: {ts.mean():.3f} +/- {ts.std():.3f}\\n-----\")"
   ]
  },
  {
   "cell_type": "markdown",
   "id": "4ba69dec",
   "metadata": {},
   "source": [
    "As shown above, the **Decision Tree** classifier (with default hyperparameter values for `max_depth` and `min_samples_leaf`) using the feature subset obtained using sequential search (wrapper) yields the best result (based on average F1 score)."
   ]
  },
  {
   "cell_type": "markdown",
   "id": "633e4f8c",
   "metadata": {},
   "source": [
    "## 1D: ROC Analysis\n",
    "\n",
    "An ROC (Receiver Operating Characteristic) curve plots the **sensitivity versus specificity** for a binary classifier system as its discrimination threshold is varied. First, a dummy classifier must be defined, which acts as a baseline and always predicts the majority class without learning anything from the data."
   ]
  },
  {
   "cell_type": "code",
   "execution_count": 84,
   "id": "caeebcaf",
   "metadata": {},
   "outputs": [
    {
     "name": "stdout",
     "output_type": "stream",
     "text": [
      "DummyClassifier(strategy='most_frequent')\n",
      "Accuracy: 0.926\n",
      "F1: 0.000\n"
     ]
    }
   ],
   "source": [
    "dummy_clf = DummyClassifier(strategy=\"most_frequent\")\n",
    "dummy_clf.fit(X_train, y_train)\n",
    "print(dummy_clf)\n",
    "print(f\"Accuracy: {dummy_clf.score(X_test, y_test):.3f}\")\n",
    "print(f\"F1: {f1_score(y_test, dummy_clf.predict(X_test)):.3f}\")"
   ]
  },
  {
   "cell_type": "markdown",
   "id": "609e4e71",
   "metadata": {},
   "source": [
    "The high accuracy and 0 F1 score reflects the class imbalance issue in the dataset. Next, ROC curves can be plotted for target class = 1 with each of the chosen classifiers. The area under the curve (AUROC/AUC) is used to compare the models, since  in general, higher the AUC, higher is the model's capability of distinguishing between the 1 and 0 target classes."
   ]
  },
  {
   "cell_type": "code",
   "execution_count": 85,
   "id": "06359410",
   "metadata": {},
   "outputs": [
    {
     "data": {
      "image/png": "[encoded data removed]",
      "text/plain": [
       "<Figure size 648x576 with 1 Axes>"
      ]
     },
     "metadata": {
      "needs_background": "light"
     },
     "output_type": "display_data"
    }
   ],
   "source": [
    "disp = RocCurveDisplay.from_estimator(dummy_clf, X_test, y_test, pos_label=1, linestyle=\"--\")\n",
    "for clf in [dt_best, nb_best, svm_best, knn_best]:\n",
    "    clf_name = clf.__class__.__name__\n",
    "    disp = RocCurveDisplay.from_estimator(clf, X_test_sub[clf_name], y_test, pos_label=1, ax=disp.ax_)\n",
    "\n",
    "disp.ax_.grid()\n",
    "disp.figure_.set_size_inches(9, 8)\n",
    "disp.ax_.set_title(\"ROC AUC Curves\", fontsize=14);"
   ]
  },
  {
   "cell_type": "markdown",
   "id": "33d61854",
   "metadata": {},
   "source": [
    "From the ROC curves above, we learn that the `DecisionTreeClassifier` using entropy as criterion has the maximum area under the curve (`AUC`), implying the greatest ability to separate the target classes. The performance is satisfactory, as a score of 0.85 is quite close to perfect score of 1. It is considerably better than the dummy classifier that always predicts the majority class."
   ]
  },
  {
   "cell_type": "markdown",
   "id": "0409b633",
   "metadata": {},
   "source": [
    "## 1E: Discussion of Results\n",
    "\n",
    "The evaluation in both part C and D suggest that the `DecisionTreeClassifier(criterion='entropy')` is best suited for the given classification task on animal shelter data."
   ]
  },
  {
   "cell_type": "code",
   "execution_count": 86,
   "id": "2bcf2832",
   "metadata": {},
   "outputs": [],
   "source": [
    "best_clf = dt_best\n",
    "clf_name = best_clf.__class__.__name__"
   ]
  },
  {
   "cell_type": "code",
   "execution_count": 87,
   "id": "74316018",
   "metadata": {},
   "outputs": [],
   "source": [
    "def evaluate(classifier, X: pd.DataFrame, y: pd.Series) -> None:\n",
    "    res = cross_validate(classifier, X, y, cv=cv_strat, scoring=[\"f1\", \"roc_auc\"], n_jobs=-1)\n",
    "    f1, auc = res[\"test_f1\"], res[\"test_roc_auc\"]\n",
    "    print(f\"{classifier}\\n{cv_strat}\\n\")\n",
    "    print(f\"Average F1: {f1.mean():.3f} +/- {f1.std():.3f}\")\n",
    "    print(f\"Average ROC AUC: {auc.mean():.3f} +/- {auc.std():.3f}\")"
   ]
  },
  {
   "cell_type": "markdown",
   "id": "b4105c2c",
   "metadata": {},
   "source": [
    "We can prove that the performance of the classifier increases after feature selection:"
   ]
  },
  {
   "cell_type": "code",
   "execution_count": 88,
   "id": "a9fff38a",
   "metadata": {},
   "outputs": [
    {
     "name": "stdout",
     "output_type": "stream",
     "text": [
      "DecisionTreeClassifier(criterion='entropy')\n",
      "StratifiedKFold(n_splits=10, random_state=0, shuffle=True)\n",
      "\n",
      "Average F1: 0.571 +/- 0.056\n",
      "Average ROC AUC: 0.774 +/- 0.034\n"
     ]
    }
   ],
   "source": [
    "# original dataset\n",
    "evaluate(best_clf, X, y)"
   ]
  },
  {
   "cell_type": "code",
   "execution_count": 89,
   "id": "e2ba92a8",
   "metadata": {},
   "outputs": [
    {
     "name": "stdout",
     "output_type": "stream",
     "text": [
      "DecisionTreeClassifier(criterion='entropy')\n",
      "StratifiedKFold(n_splits=10, random_state=0, shuffle=True)\n",
      "\n",
      "Average F1: 0.618 +/- 0.057\n",
      "Average ROC AUC: 0.806 +/- 0.045\n"
     ]
    }
   ],
   "source": [
    "# utilise feature subset selection\n",
    "evaluate(best_clf, X[wrapper_subsets[clf_name]], y)"
   ]
  },
  {
   "cell_type": "markdown",
   "id": "8d04754f",
   "metadata": {},
   "source": [
    "Using a familiar stratified 10-fold cross-validation strategy, both the average F1 and ROC AUC scores for the chosen classifier are higher when using the feature subset selected using sequential search (wrapper technique), compared to original dataset with all features."
   ]
  },
  {
   "cell_type": "markdown",
   "id": "5107e50f",
   "metadata": {},
   "source": [
    "- The relative performance of the 4 different classifiers is more or less in line with expectations. Decision trees often perform well on imbalanced datasets as they work by learning a hierarchy of questions which forces both classes to be addressed.\n",
    "- Looking at the average F1 score in part C, the Naive Bayes classifier performed quite poorly. Although Naive Bayes can usually overcome this problem in real-world scenarios, the decreased scores are possibly a result of the basic underlying assumption of conditional independence failing for the given dataset."
   ]
  },
  {
   "cell_type": "markdown",
   "id": "efa32cdb",
   "metadata": {},
   "source": [
    "### Ensemble methods\n",
    "\n",
    "Additionally, we can take a look at ensemble methods for classification, which combine the predictions from multiple base classifiers to improve generalisability and robustness. There are two main types of ensembles: bagging (e.g. Random Forest) and boosting (e.g. AdaBoost, Gradient Tree Boosting).\n",
    "\n",
    "The three ensemble methods mentioned below all use a Decision Tree as the base estimator.\n",
    "\n",
    "- `RandomForestClassifier`: \"fits a number of decision tree classifiers on various sub-samples of the dataset and uses averaging to improve the predictive accuracy and control over-fitting\".\n",
    "- `AdaBoostClassifier`: \"fits a classifier on the original dataset and then fits additional copies of the classifier on the same dataset but where the weights of incorrectly classified instances are adjusted such that subsequent classifiers focus more on difficult cases\".\n",
    "- `GradientBoostingClassifier`: \"additive model in a forward stage-wise fashion; it allows for the optimisation of arbitrary differentiable loss functions\"."
   ]
  },
  {
   "cell_type": "code",
   "execution_count": 90,
   "id": "7f23ac77",
   "metadata": {},
   "outputs": [
    {
     "name": "stdout",
     "output_type": "stream",
     "text": [
      "RandomForestClassifier(criterion='entropy')\n",
      "StratifiedKFold(n_splits=10, random_state=0, shuffle=True)\n",
      "\n",
      "Average F1: 0.580 +/- 0.061\n",
      "Average ROC AUC: 0.843 +/- 0.039\n",
      "\n",
      "-----\n",
      "\n",
      "AdaBoostClassifier(n_estimators=100)\n",
      "StratifiedKFold(n_splits=10, random_state=0, shuffle=True)\n",
      "\n",
      "Average F1: 0.595 +/- 0.056\n",
      "Average ROC AUC: 0.875 +/- 0.037\n",
      "\n",
      "-----\n",
      "\n",
      "GradientBoostingClassifier()\n",
      "StratifiedKFold(n_splits=10, random_state=0, shuffle=True)\n",
      "\n",
      "Average F1: 0.601 +/- 0.055\n",
      "Average ROC AUC: 0.884 +/- 0.032\n",
      "\n",
      "-----\n",
      "\n"
     ]
    }
   ],
   "source": [
    "rf = RandomForestClassifier(criterion=\"entropy\")\n",
    "ab = AdaBoostClassifier(n_estimators=100)\n",
    "gb = GradientBoostingClassifier()\n",
    "\n",
    "for clf in [rf, ab, gb]:\n",
    "    evaluate(clf, X, y)\n",
    "    print(\"\\n-----\\n\")"
   ]
  },
  {
   "cell_type": "markdown",
   "id": "932bde9e",
   "metadata": {},
   "source": [
    "As shown above, the ROC AUC scores for the ensemble methods are higher than those obtained from simple estimators such as Decisiont Trees, Naive Bayes, SVM and k-NN explored earlier."
   ]
  },
  {
   "cell_type": "markdown",
   "id": "a1fc577f",
   "metadata": {},
   "source": [
    "## 2: Machine Learning Concepts"
   ]
  },
  {
   "cell_type": "markdown",
   "id": "3e64b7e9",
   "metadata": {},
   "source": [
    "a) Consider the nightmare situation in which you struggled hard to obtain a very high accuracy (>95%) on your training data for a binary classification task, but when your client ran it on their test data, the accuracy was very low (<50%). This is despite the fact that your dataset is reasonably balanced (majority class < 65%) and you are using a fairly complex learning algorithms with many parameters to fit your dataset. How do you explain this situation? What are the possible causes for this? How can you improve the testing accuracy in this situation? What precautions should you take in your evaluation procedure to avoid this situation?\n",
    "\n",
    "**Ans.**\n",
    "\n",
    "- By definition, this is a case of **overfitting**, as the classification model performs very well on training data but fails to impress on unseen testing data.\n",
    "- Possible reasons:\n",
    "  - Data cleaning and feature subset selection was not performed to an adequate degree, and the classifier learned excessive noise in the dataset, thus reducing generalisation accuracy of the model. \n",
    "  - It might even be the case that there were more features than observations in the data, and/or the size of the training data was not sufficiently large, especially relative to the number of predictors.\n",
    "  - The selected classification model has high variance. It is important to consider the bias-variance trade-off when selecting an appropriate classifier.\n",
    "  - A simple hold-out strategy was used to split the training and testing data while training the model, which possibly led to an unfortunate split, due to which training and testing data were inherently different.\n",
    "- Improving testing accuracy and taking precautions during evaluation:\n",
    "  - Use a cross-validation strategy (e.g. K-fold) instead of simple train-test splits.\n",
    "  - Consider using ensemble classification techniques which reduce the chances of overfitting by combining a large number of base models.\n",
    "  - Consider the costs of False Positive and False Negative errors and try other appropriate metrics for evaluation, such as precision, recall, F1 score, ROC AUC, and so on, depending on type of data and the goal of classification."
   ]
  },
  {
   "cell_type": "markdown",
   "id": "032e19c7",
   "metadata": {},
   "source": [
    "b) What is the kernel trick in SVM? What is the mathematical reasoning that makes it work? Why is the kernel trick important? Give some examples of the kernels together with the situation when you should use it.\n",
    "\n",
    "**Ans.**\n",
    "\n",
    "- The basic Support Vector Machine (SVM) algorithm is a convex optimisation problem which aims to maximise the margin of a line that perfectly separates two classes in a binary classification problem.\n",
    "- By applying a transformation to input data, an SVM classifier is able to map the points to a higher dimension.\n",
    "- A decision boundary to separate the classes can then be found (hyperplane in the higher dimensional space). This, however, is not the kernel trick.\n",
    "- The problem arises when there are a large number of features in our data, which will drastically increase the computational time/cost to apply the kernel transformation.\n",
    "- The **kernel trick** is that kernel functions have a special mathematical property that a function can take as input the original feature vectors and return the dot product of feature vectors in the higher dimensional space.\n",
    "\n",
    "$$Kernel \\; K(x, x') = \\phi(x) . \\phi(x')$$\n",
    "\n",
    "- If the dot products are known, it is no longer necessary to actually apply the computationally intensive transformations $\\phi(x)$ to the higher dimension!\n",
    "- The trick is important because in real-world scenarios, it is nearly impossible to find linearly separable classes in a classification task. Kernel SVM is able to solve a variety of complex classification tasks where the classes are far from linearly separable, by looking for a maximal margin hyperplane in higher dimensions.\n",
    "- Examples of kernels:\n",
    "\n",
    "| Name | Function | Use Case |\n",
    "| --- | --- | --- |\n",
    "| Linear | `x.x'` | Data is linearly separable, especially with a large number of features (e.g. text classification) | \n",
    "Polynomial | `(1 + x.x')^t`  | Polynomial model with boundary of defined but arbitrary order |\n",
    "| RBF (Radial Basis Function) - default in `scikit-learn` | $e^{- \\gamma ||x - x'||^2}$ | General purpose |\n",
    "| Sigmoid | `tanh (1 + x.x')` | Proxy for neural networks | \n",
    "\n",
    "\n",
    "- Note:\n",
    "  - On trying out different kernels (`rbf, poly, linear, sigmoid` on the Labeled Faces in the Wild (LFW) people dataset (`fetch_lfw_people() in sklearn.datasets`), it turns out that `rbf` is the best option. RBF works well in practice and it is relatively easy to tune.\n",
    "  \n",
    "  ```\n",
    "  param_grid = {'C': [1e3, 5e3, 1e4, 5e4, 1e5],\n",
    "              'gamma': [0.0001, 0.0005, 0.001, 0.005, 0.01, 0.1], \n",
    "              'kernel': ['rbf', 'poly', 'linear', 'sigmoid']\n",
    "             }\n",
    "  clf = GridSearchCV(SVC(class_weight='balanced'), param_grid)\n",
    "  ```\n"
   ]
  },
  {
   "cell_type": "markdown",
   "id": "7a953985",
   "metadata": {},
   "source": [
    "c) What is the curse of dimensionality? Give a mathematical intuition as to why a k-nearest neighbour classifier may struggle on a very high-dimensional data. Give examples of various situations in which you would want to reduce the number of features you consider for classification.\n",
    "\n",
    "**Ans.**\n",
    "\n",
    "- The **curse of dimensionality** is the argument against the false intuition that performance of machine learning algorithms keeps increasing with the number of predictor features available.\n",
    "- In the extreme case where there are more features (columns) than observations (rows), the model will be prone to severe overfitting and will not generalise well for unseen data.\n",
    "- After a certain point, increasing the number of features actually affects the model significantly, as a lot of noise in the dataset is being learned instead of the core/important features.\n",
    "- K-nearest neighbour classifiers perform well with a small number of features. However, when the feature set size increases beyond a certain threshold, the volume of input space increases at an exponential rate (considering each feature to be a dimension in an N-dimensional input space). As k-NN is dependent on computing the distances between points in the feature space, these distances keep increasing in higher dimensions, consequently reducing the performance of a k-NN classifier.\n",
    "- There are a number of scenarios where dimension/feature reduction is desirable:\n",
    "  - Primary reason: the performance of machine learning algorithms often degrades with high dimensionality, apart from the expected increase in computational time.\n",
    "  - A model with a limited number of features is easier to explain to clients, as opposed to a \"black box\" with a large number of features which cannot be interpreted properly.\n",
    "  - Domain-specific costs: when there is a significant financial cost associated with data generation/collection, we cannot afford to run a large number of experiments, and cost-benefit analysis must be performed to optimise the number of features required to build a well-performing classifier subject to budget constraints."
   ]
  },
  {
   "cell_type": "markdown",
   "id": "94b7ea16",
   "metadata": {},
   "source": [
    "d) You are working on a classification task to separate fraudulent transactions from the normal financial transactions. What evaluation measure(s) will you use for this application and why? What measure will you not use for this application and why?\n",
    "\n",
    "**Ans.**\n",
    "\n",
    "- When working on fraud detection tasks, it is important note the inherent **class imbalance** present in the data: the vast majority of transactions are legitimate/normal, and very few are actually fraudulent.\n",
    "- Due to this, a dummy classifier which always predicts the majority class may end up being over 99% accurate. This suggests that *accuracy* (or even the complementary metric: *classification error*) is not a good evaluation metric for such cases.\n",
    "- Instead, we should plot a *Confusion Matrix* which shows the following: TP (True Positive), FN (False Negative), TN (True Negative) and FN (False Negative), and consider alternative metrics like:\n",
    "  - Precision: TP / (TP+FP)\n",
    "  - Recall (Sensitivity): TP / (TP+FN)\n",
    "  - F1 score: 2 * Precision * Recall / (Precision + Recall)\n",
    "- When trying to separate a fraudulent transaction (class = 1) from a normal one (class = 0), the cost of False Negative (wrongly predict a fraudulent transaction to be genuine) is far greater than raising false alarms with False Positive errors. Hence, *recall* is the primary measure that we should consider for the given classification task.\n",
    "- Another interesting metric is the ROC Curve and AUC (area under the ROC curve) that plots the TP rate against the FP rate and is a rank based metric, but can be optimistic under a severe class imbalance."
   ]
  }
 ],
 "metadata": {
  "hide_input": false,
  "kernelspec": {
   "display_name": "Python 3.8.12 64-bit ('comp47490-m1': conda)",
   "language": "python",
   "name": "python3812jvsc74a57bd00e0a815a00115507681d94ff50c5b809f8a73ab40afce1cb11838b2bd0475829"
  },
  "language_info": {
   "codemirror_mode": {
    "name": "ipython",
    "version": 3
   },
   "file_extension": ".py",
   "mimetype": "text/x-python",
   "name": "python",
   "nbconvert_exporter": "python",
   "pygments_lexer": "ipython3",
   "version": "3.8.12"
  },
  "toc": {
   "base_numbering": 1,
   "nav_menu": {},
   "number_sections": false,
   "sideBar": true,
   "skip_h1_title": true,
   "title_cell": "Table of Contents",
   "title_sidebar": "Contents",
   "toc_cell": false,
   "toc_position": {
    "height": "calc(100% - 180px)",
    "left": "10px",
    "top": "150px",
    "width": "337px"
   },
   "toc_section_display": true,
   "toc_window_display": false
  },
  "varInspector": {
   "cols": {
    "lenName": 16,
    "lenType": 16,
    "lenVar": 40
   },
   "kernels_config": {
    "python": {
     "delete_cmd_postfix": "",
     "delete_cmd_prefix": "del ",
     "library": "var_list.py",
     "varRefreshCmd": "print(var_dic_list())"
    },
    "r": {
     "delete_cmd_postfix": ") ",
     "delete_cmd_prefix": "rm(",
     "library": "var_list.r",
     "varRefreshCmd": "cat(var_dic_list()) "
    }
   },
   "types_to_exclude": [
    "module",
    "function",
    "builtin_function_or_method",
    "instance",
    "_Feature"
   ],
   "window_display": false
  }
 },
 "nbformat": 4,
 "nbformat_minor": 5
}
